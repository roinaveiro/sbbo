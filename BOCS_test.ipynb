{
 "cells": [
  {
   "cell_type": "code",
   "execution_count": 1,
   "id": "cbdd9da4",
   "metadata": {},
   "outputs": [],
   "source": [
    "from src.models.bocs.LinReg import LinReg\n",
    "from src.contamination import Contamination\n",
    "import numpy as np"
   ]
  },
  {
   "cell_type": "code",
   "execution_count": 2,
   "id": "4e5e8a06",
   "metadata": {},
   "outputs": [],
   "source": [
    "model = LinReg(nVars=25, order=2)\n",
    "opt_prob = Contamination(n=1000, lamda=0.0001)\n",
    "model.train(opt_prob.X, opt_prob.y)"
   ]
  },
  {
   "cell_type": "code",
   "execution_count": 17,
   "id": "2f271b57",
   "metadata": {},
   "outputs": [
    {
     "data": {
      "text/plain": [
       "2.4957631172397137"
      ]
     },
     "execution_count": 17,
     "metadata": {},
     "output_type": "execute_result"
    }
   ],
   "source": [
    "i=4\n",
    "model.surrogate_model(opt_prob.X[i].reshape(1,-1), model.alpha)"
   ]
  },
  {
   "cell_type": "code",
   "execution_count": 18,
   "id": "2ef34dbe",
   "metadata": {},
   "outputs": [
    {
     "data": {
      "text/plain": [
       "2.6285999999999987"
      ]
     },
     "execution_count": 18,
     "metadata": {},
     "output_type": "execute_result"
    }
   ],
   "source": [
    "opt_prob.y[i]"
   ]
  },
  {
   "cell_type": "code",
   "execution_count": null,
   "id": "70041708",
   "metadata": {},
   "outputs": [],
   "source": []
  }
 ],
 "metadata": {
  "kernelspec": {
   "display_name": "Python 3",
   "language": "python",
   "name": "python3"
  },
  "language_info": {
   "codemirror_mode": {
    "name": "ipython",
    "version": 3
   },
   "file_extension": ".py",
   "mimetype": "text/x-python",
   "name": "python",
   "nbconvert_exporter": "python",
   "pygments_lexer": "ipython3",
   "version": "3.8.16"
  }
 },
 "nbformat": 4,
 "nbformat_minor": 5
}
