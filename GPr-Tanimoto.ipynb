{
 "cells": [
  {
   "cell_type": "code",
   "execution_count": 5,
   "id": "2d879f48",
   "metadata": {},
   "outputs": [],
   "source": [
    "import gpflow\n",
    "from gpflow.mean_functions import Constant\n",
    "from gpflow.utilities import positive, print_summary\n",
    "from gpflow.utilities.ops import broadcasting_elementwise\n",
    "from matplotlib import pyplot as plt\n",
    "import numpy as np\n",
    "import pandas as pd\n",
    "# from rdkit.Chem import AllChem, Descriptors, MolFromSmiles\n",
    "from sklearn.model_selection import train_test_split\n",
    "from sklearn.metrics import r2_score, mean_squared_error, mean_absolute_error\n",
    "from sklearn.preprocessing import StandardScaler\n",
    "import tensorflow as tf\n",
    "\n",
    "from src.contamination import Contamination\n",
    "from src.latin_square import LatinSquare\n",
    "from src.rna import RNA\n",
    "\n",
    "from src.models.GPr import GPr"
   ]
  },
  {
   "cell_type": "code",
   "execution_count": 6,
   "id": "b27b0622",
   "metadata": {},
   "outputs": [],
   "source": [
    "from ngboost import NGBRegressor\n",
    "from ngboost.distns import Exponential, Normal\n",
    "from ngboost.scores import LogScore, CRPScore\n",
    "\n",
    "from ngboost.distns.normal import Normal\n",
    "from sklearn.model_selection import train_test_split\n",
    "from sklearn.metrics import mean_squared_error\n",
    "from sklearn.linear_model import LinearRegression\n",
    "from sklearn.tree import DecisionTreeRegressor\n",
    "from sklearn.ensemble import RandomForestRegressor\n",
    "from sklearn.linear_model import LassoCV\n"
   ]
  },
  {
   "cell_type": "code",
   "execution_count": 30,
   "id": "3bd847a2",
   "metadata": {},
   "outputs": [],
   "source": [
    "class Tanimoto(gpflow.kernels.Kernel):\n",
    "    def __init__(self):\n",
    "        super().__init__()\n",
    "        # We constrain the value of the kernel variance to be positive when it's being optimised\n",
    "        self.variance = gpflow.Parameter(1.0, transform=positive())\n",
    "\n",
    "    def K(self, X, X2=None):\n",
    "        \"\"\"\n",
    "        Compute the Tanimoto kernel matrix σ² * ((<x, y>) / (||x||^2 + ||y||^2 - <x, y>))\n",
    "        :param X: N x D array\n",
    "        :param X2: M x D array. If None, compute the N x N kernel matrix for X.\n",
    "        :return: The kernel matrix of dimension N x M\n",
    "        \"\"\"\n",
    "        if X2 is None:\n",
    "            X2 = X\n",
    "\n",
    "        Xs = tf.reduce_sum(tf.square(X), axis=-1)  # Squared L2-norm of X\n",
    "        X2s = tf.reduce_sum(tf.square(X2), axis=-1)  # Squared L2-norm of X2\n",
    "        outer_product = tf.tensordot(X, X2, [[-1], [-1]])  # outer product of the matrices X and X2\n",
    "\n",
    "        # Analogue of denominator in Tanimoto formula\n",
    "\n",
    "        denominator = -outer_product + broadcasting_elementwise(tf.add, Xs, X2s)\n",
    "\n",
    "        return self.variance * outer_product/denominator\n",
    "\n",
    "    def K_diag(self, X):\n",
    "        \"\"\"\n",
    "        Compute the diagonal of the N x N kernel matrix of X\n",
    "        :param X: N x D array\n",
    "        :return: N x 1 array\n",
    "        \"\"\"\n",
    "        return tf.fill(tf.shape(X)[:-1], tf.squeeze(self.variance))\n",
    "    \n",
    "def transform_data(X_train, y_train, X_test, y_test):\n",
    "    \"\"\"\n",
    "    Apply feature scaling to the data. Return the standardised train and\n",
    "    test sets together with the scaler object for the target values.\n",
    "    :param X_train: input train data\n",
    "    :param y_train: train labels\n",
    "    :param X_test: input test data\n",
    "    :param y_test: test labels\n",
    "    :return: X_train_scaled, y_train_scaled, X_test_scaled, y_test_scaled, y_scaler\n",
    "    \"\"\"\n",
    "\n",
    "    x_scaler = StandardScaler()\n",
    "    X_train_scaled = x_scaler.fit_transform(X_train)\n",
    "    X_test_scaled = x_scaler.transform(X_test)\n",
    "    y_scaler = StandardScaler()\n",
    "    y_train_scaled = y_scaler.fit_transform(y_train)\n",
    "    y_test_scaled = y_scaler.transform(y_test)\n",
    "\n",
    "    return X_train_scaled, y_train_scaled, X_test_scaled, y_test_scaled, y_scaler"
   ]
  },
  {
   "cell_type": "code",
   "execution_count": 31,
   "id": "ae0f9149",
   "metadata": {},
   "outputs": [],
   "source": [
    "#opt = LatinSquare(n=2000)\n",
    "# opt = Contamination(n=300, lamda=0.0001)\n",
    "opt = RNA(n=1000)\n",
    "X = opt.X\n",
    "y = opt.y\n",
    "\n",
    "test_set_size = 0.2"
   ]
  },
  {
   "cell_type": "code",
   "execution_count": 32,
   "id": "bf8f630f",
   "metadata": {},
   "outputs": [],
   "source": [
    "X_train, X_test, y_train, y_test = train_test_split(X, y, test_size=test_set_size, random_state=0)\n",
    "\n",
    "y_train = y_train.reshape(-1, 1)\n",
    "y_test = y_test.reshape(-1, 1)\n",
    "\n",
    "#  We standardise the outputs but leave the inputs unchanged\n",
    "\n",
    "_, y_train, _, y_test, y_scaler = transform_data(X_train, y_train, X_test, y_test)\n",
    "\n",
    "X_train = X_train.astype(np.float64)\n",
    "X_test = X_test.astype(np.float64)\n",
    "\n",
    "k = Tanimoto()\n",
    "# k = gpflow.kernels.Matern32()\n",
    "m = gpflow.models.GPR(data=(X_train, y_train), mean_function=Constant(np.mean(y_train)), kernel=k, noise_variance=0.00001)\n"
   ]
  },
  {
   "cell_type": "code",
   "execution_count": 33,
   "id": "e2cbfa77",
   "metadata": {},
   "outputs": [
    {
     "name": "stdout",
     "output_type": "stream",
     "text": [
      "╒═════════════════════════╤═══════════╤══════════════════╤═════════╤═════════════╤═════════╤═════════╤══════════╕\n",
      "│ name                    │ class     │ transform        │ prior   │ trainable   │ shape   │ dtype   │    value │\n",
      "╞═════════════════════════╪═══════════╪══════════════════╪═════════╪═════════════╪═════════╪═════════╪══════════╡\n",
      "│ GPR.mean_function.c     │ Parameter │ Identity         │         │ True        │ ()      │ float64 │ -0.99722 │\n",
      "├─────────────────────────┼───────────┼──────────────────┼─────────┼─────────────┼─────────┼─────────┼──────────┤\n",
      "│ GPR.kernel.variance     │ Parameter │ Softplus         │         │ True        │ ()      │ float64 │  2.39408 │\n",
      "├─────────────────────────┼───────────┼──────────────────┼─────────┼─────────────┼─────────┼─────────┼──────────┤\n",
      "│ GPR.likelihood.variance │ Parameter │ Softplus + Shift │         │ True        │ ()      │ float64 │  1e-05   │\n",
      "╘═════════════════════════╧═══════════╧══════════════════╧═════════╧═════════════╧═════════╧═════════╧══════════╛\n"
     ]
    }
   ],
   "source": [
    "opt = gpflow.optimizers.Scipy()\n",
    "opt.minimize(m.training_loss, m.trainable_variables)\n",
    "print_summary(m)"
   ]
  },
  {
   "cell_type": "code",
   "execution_count": 34,
   "id": "243655c2",
   "metadata": {},
   "outputs": [],
   "source": [
    "y_pred, y_var = m.predict_f(X_test)\n",
    "y_pred = y_scaler.inverse_transform(y_pred)\n",
    "y_test = y_scaler.inverse_transform(y_test)"
   ]
  },
  {
   "cell_type": "code",
   "execution_count": 35,
   "id": "85c1bf6d",
   "metadata": {},
   "outputs": [
    {
     "data": {
      "text/plain": [
       "array([0.78266168, 0.80261353, 0.8811589 , 0.80032341, 0.87164075,\n",
       "       0.86945012, 0.88038955, 0.87961391, 0.95517094, 0.82554276,\n",
       "       0.85102612, 0.88036474, 0.85239289, 0.85386551, 0.87525606,\n",
       "       0.85984803, 0.88130446, 0.86683995, 0.91083771, 0.8181584 ,\n",
       "       0.80240671, 0.8208098 , 0.8546686 , 0.83895093, 0.82382609,\n",
       "       0.83321954, 0.9537032 , 0.88989384, 0.85284603, 0.84747001,\n",
       "       0.98942819, 0.78036291, 0.85539546, 0.94476962, 0.88246879,\n",
       "       0.9882361 , 0.89834956, 0.84047742, 0.90968119, 0.9432345 ,\n",
       "       0.96294753, 0.78024686, 0.88123101, 0.83376141, 0.86748997,\n",
       "       0.77729689, 0.81022412, 0.82154936, 1.00239886, 0.9725462 ,\n",
       "       0.95437696, 0.93585714, 0.81087595, 0.86235544, 0.96296771,\n",
       "       0.86214374, 0.80105066, 0.85521435, 0.88712169, 0.86021316,\n",
       "       0.8442158 , 0.92316797, 0.87991359, 0.86151994, 0.76644466,\n",
       "       0.9142252 , 0.82623313, 0.82748306, 0.87261106, 0.84458986,\n",
       "       0.8602869 , 0.94794593, 0.8109448 , 0.86647983, 0.91758488,\n",
       "       0.84981561, 0.77176345, 0.78078638, 0.85209804, 0.90034982,\n",
       "       0.84171525, 0.84990754, 0.86475696, 0.89623632, 0.78705968,\n",
       "       1.00440937, 0.96934423, 0.86261907, 0.86822738, 0.83164072,\n",
       "       0.90781237, 0.90941417, 0.84799021, 0.91022033, 0.89362308,\n",
       "       0.8316615 , 0.86110576, 0.83713844, 0.82742833, 0.86639449,\n",
       "       0.97764484, 0.91316077, 0.89763773, 0.8021872 , 0.8083242 ,\n",
       "       0.82313892, 0.88518262, 0.83987065, 0.81921118, 0.89441698,\n",
       "       0.86862008, 0.85204497, 0.84627554, 0.88185316, 0.85360911,\n",
       "       0.91349872, 0.78624038, 0.98032274, 0.84109326, 0.79853865,\n",
       "       0.95603512, 0.84881579, 0.91354349, 0.95296272, 0.81142293,\n",
       "       0.81377707, 0.84439328, 0.88727973, 0.82588024, 0.79827506,\n",
       "       0.88453177, 0.85015559, 0.93375872, 0.86557724, 0.85605946,\n",
       "       0.85063787, 0.75674783, 0.89732811, 0.90302235, 1.02070818,\n",
       "       0.81170919, 0.90135968, 0.83886263, 0.82129443, 0.83623449,\n",
       "       0.91035398, 0.88638665, 0.9711144 , 0.82226861, 0.83322332,\n",
       "       0.83225093, 0.81975137, 0.90032892, 0.87359708, 0.91144889,\n",
       "       0.8748974 , 0.8766748 , 0.90402028, 0.90945396, 0.87275657,\n",
       "       0.94192388, 0.81727818, 0.85494339, 0.85915396, 0.79816157,\n",
       "       0.80580778, 0.96472123, 0.85062425, 0.93100568, 0.82148843,\n",
       "       0.86815537, 0.78815183, 0.94593502, 0.88259538, 0.85458117,\n",
       "       0.85908115, 0.95438742, 0.88123911, 0.84793113, 0.83588133,\n",
       "       0.79378817, 0.80732873, 0.86115167, 0.77062653, 0.8647923 ,\n",
       "       0.95968374, 0.76790954, 0.83999506, 0.87507484, 0.84781579,\n",
       "       0.80178395, 0.87503045, 0.86669787, 0.76683864, 0.87954446,\n",
       "       0.8367312 , 0.8739967 , 0.91722354, 0.85690897, 0.88286576])"
      ]
     },
     "execution_count": 35,
     "metadata": {},
     "output_type": "execute_result"
    }
   ],
   "source": [
    "y_var.numpy().squeeze()"
   ]
  },
  {
   "cell_type": "code",
   "execution_count": 36,
   "id": "2a1814ab",
   "metadata": {},
   "outputs": [
    {
     "data": {
      "text/plain": [
       "array([13.04892292, 10.78615243, 10.72444565, 10.12021463, 12.3453905 ,\n",
       "       11.18856491, 10.3033119 ,  9.98352129, 10.4683996 , 10.04157029,\n",
       "       10.85947566, 11.02867724, 11.32343837,  9.77942099, 10.76820208,\n",
       "       10.11062746, 10.26221325, 10.69199944, 10.7051988 , 11.37148986,\n",
       "        9.67060808, 12.27346714, 10.30369801, 11.2751096 , 11.02930202,\n",
       "       10.68601497, 10.48644965,  9.83057745, 12.43992551, 12.10621746,\n",
       "        9.82731125, 10.71556187, 12.64530996, 11.03653349,  9.63327481,\n",
       "       10.93671539, 12.16348385, 10.82148095, 10.80780047, 10.27564164,\n",
       "       12.6161012 , 12.32822961, 10.36934088, 10.61866317, 11.55418495,\n",
       "       12.65908975, 11.15397315,  9.89441975, 11.74789265, 11.60141024,\n",
       "       10.72892818,  9.9033533 , 10.86715061, 11.25879706, 10.4248625 ,\n",
       "        9.57520916, 11.44463111, 10.88973987, 10.58375976, 10.64099138,\n",
       "       11.30239206, 10.54819336, 10.6269026 , 11.19185527,  9.47700827,\n",
       "       10.31953912, 11.89532539, 10.84459111, 10.68997304, 11.58959448,\n",
       "       11.24492793, 11.56749098, 11.69223205, 11.64790102, 11.22151657,\n",
       "       12.07212865, 11.36312466, 10.71076919, 10.5273669 , 11.69901032,\n",
       "       12.07458739,  9.95060264, 10.96770524, 11.92293511, 15.04593502,\n",
       "       11.57826482, 11.00257507, 11.4027328 , 11.70841635, 11.26012479,\n",
       "       11.26712234, 10.39254778, 10.95443968, 10.5412853 , 11.14646298,\n",
       "       11.7505302 , 11.06381033, 11.03197995, 10.87100971, 10.42238836,\n",
       "       10.86278637, 11.24294572, 12.39902514, 11.20847616, 11.68030017,\n",
       "       10.51172149, 10.71686531, 10.42138399, 10.71641564, 12.66681151,\n",
       "       10.87926096, 10.43789563, 10.7033065 , 10.47514564, 11.41087543,\n",
       "        8.7495928 , 10.68264485, 10.96449522,  9.81250563, 11.02714998,\n",
       "       11.1434744 , 10.99384273, 10.98397263, 10.33584444, 12.15278805,\n",
       "       12.13944638, 10.95157535,  9.59274701, 11.67320004, 10.84029429,\n",
       "       10.9414501 , 10.70758277, 10.78878256, 12.49461873, 10.97269981,\n",
       "       12.45083998, 11.51336858, 12.30642007,  9.91824826, 11.44795804,\n",
       "       10.69570251, 10.40045835,  9.6816806 , 11.26840611, 12.13860034,\n",
       "       11.35949216,  9.24699028, 11.26773891, 10.90626449, 12.06919511,\n",
       "       11.15142157, 12.26929107, 11.1369459 , 11.75971966, 10.75953601,\n",
       "       11.75984707, 10.05760321, 11.32290881,  9.57233367, 12.03495687,\n",
       "       10.82883326, 11.49796455, 10.08652235, 12.57374226, 11.73309321,\n",
       "       10.71605439, 10.8683068 , 10.8612272 , 10.33375499, 11.40634487,\n",
       "       10.83606123, 12.49898833,  9.36120502, 10.68227803, 11.87702548,\n",
       "       13.22207599,  9.71332023, 11.05012833, 11.90874672, 12.48010746,\n",
       "       11.65972286, 10.46217288, 10.46597713, 10.5024663 ,  9.83653106,\n",
       "       11.02972603, 12.84170783, 12.44995644, 11.87337505, 11.49786491,\n",
       "       13.13863695, 10.01104127, 10.75681331, 11.04618617, 11.71138472,\n",
       "       10.9510465 , 12.14805497, 10.28731859, 10.12860618, 10.36714257])"
      ]
     },
     "execution_count": 36,
     "metadata": {},
     "output_type": "execute_result"
    }
   ],
   "source": [
    "y_pred.squeeze()"
   ]
  },
  {
   "cell_type": "code",
   "execution_count": 37,
   "id": "8e00c52a",
   "metadata": {},
   "outputs": [
    {
     "name": "stdout",
     "output_type": "stream",
     "text": [
      "\n",
      "Train RMSE (Standardised): 0.000 nm\n",
      "Train RMSE: 0.000 nm\n",
      "\n",
      "Test R^2: 0.009\n",
      "Test RMSE: 1.792 nm\n",
      "Test MAE: 1.336 nm\n"
     ]
    }
   ],
   "source": [
    "y_pred_train, _ = m.predict_f(X_train)\n",
    "train_rmse_stan = np.sqrt(mean_squared_error(y_train, y_pred_train))\n",
    "train_rmse = np.sqrt(mean_squared_error(y_scaler.inverse_transform(y_train), y_scaler.inverse_transform(y_pred_train)))\n",
    "print(\"\\nTrain RMSE (Standardised): {:.3f} nm\".format(train_rmse_stan))\n",
    "print(\"Train RMSE: {:.3f} nm\".format(train_rmse))\n",
    "\n",
    "\n",
    "# Output R^2, RMSE and MAE on the test set\n",
    "score = r2_score(y_test, y_pred)\n",
    "rmse = np.sqrt(mean_squared_error(y_test, y_pred))\n",
    "mae = mean_absolute_error(y_test, y_pred)\n",
    "\n",
    "print(\"\\nTest R^2: {:.3f}\".format(score))\n",
    "print(\"Test RMSE: {:.3f} nm\".format(rmse))\n",
    "print(\"Test MAE: {:.3f} nm\".format(mae))"
   ]
  },
  {
   "cell_type": "code",
   "execution_count": 24,
   "id": "7fe94675",
   "metadata": {},
   "outputs": [],
   "source": [
    "ranked_confidence_list = np.argsort(y_var, axis=0).flatten()\n",
    "rmse_confidence_list = np.zeros((len(y_test) ))\n",
    "mae_confidence_list = np.zeros((len(y_test) ))\n",
    "\n",
    "for k in range(len(y_test)):\n",
    "\n",
    "    # Construct the RMSE error for each level of confidence\n",
    "\n",
    "    conf = ranked_confidence_list[0:k+1]\n",
    "    rmse = np.sqrt(mean_squared_error(y_test[conf], y_pred[conf]))\n",
    "    rmse_confidence_list[k] = rmse\n",
    "\n",
    "    # Construct the MAE error for each level of confidence\n",
    "\n",
    "    mae = mean_absolute_error(y_test[conf], y_pred[conf])\n",
    "    mae_confidence_list[k] = mae"
   ]
  },
  {
   "cell_type": "code",
   "execution_count": 25,
   "id": "ece933ab",
   "metadata": {},
   "outputs": [
    {
     "data": {
      "text/plain": [
       "array([0.32720557, 0.23349615, 0.28425053, 0.46789571, 0.45803177,\n",
       "       0.41953734, 0.40448906, 0.39195142, 0.38403203, 0.41864875,\n",
       "       0.40127959, 0.38476374, 0.3985938 , 0.38416665, 0.37140984,\n",
       "       0.36127439, 0.3505675 , 0.34473185, 0.34376501, 0.33892446,\n",
       "       0.3311232 , 0.33137435, 0.3488987 , 0.34190943, 0.33554708,\n",
       "       0.32935321, 0.32620114, 0.32163998, 0.31622359, 0.3152653 ,\n",
       "       0.31846924, 0.32091539, 0.32398087, 0.31922162, 0.31650347,\n",
       "       0.31374797, 0.3095397 , 0.31094055, 0.31012004, 0.31179078,\n",
       "       0.3094629 , 0.30595304, 0.30424809, 0.30186017, 0.29939892,\n",
       "       0.29659863, 0.29950446, 0.3074105 , 0.30429667, 0.30123867,\n",
       "       0.29915559, 0.3034244 , 0.30087118, 0.29886285, 0.29682502,\n",
       "       0.29965957, 0.2972244 , 0.29548255, 0.29298284, 0.29054057])"
      ]
     },
     "execution_count": 25,
     "metadata": {},
     "output_type": "execute_result"
    }
   ],
   "source": [
    "rmse_confidence_list"
   ]
  },
  {
   "cell_type": "code",
   "execution_count": null,
   "id": "f56add60",
   "metadata": {},
   "outputs": [],
   "source": []
  }
 ],
 "metadata": {
  "kernelspec": {
   "display_name": "Python 3",
   "language": "python",
   "name": "python3"
  },
  "language_info": {
   "codemirror_mode": {
    "name": "ipython",
    "version": 3
   },
   "file_extension": ".py",
   "mimetype": "text/x-python",
   "name": "python",
   "nbconvert_exporter": "python",
   "pygments_lexer": "ipython3",
   "version": "3.8.16"
  }
 },
 "nbformat": 4,
 "nbformat_minor": 5
}
