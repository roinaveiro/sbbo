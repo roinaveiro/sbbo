{
 "cells": [
  {
   "cell_type": "code",
   "execution_count": 66,
   "id": "fb794f0d",
   "metadata": {},
   "outputs": [
    {
     "name": "stdout",
     "output_type": "stream",
     "text": [
      "-24.8\n"
     ]
    }
   ],
   "source": [
    "from seqfold import fold, dg, dg_cache, dot_bracket\n",
    "\n",
    "\n",
    "print( dg(\"GGGAGGTCGTTACATCTGGGTAACACCGGTACTGATCCGGTGACCTCCC\", temp = 9.1) )\n",
    "#for t in np.arange(0,50):\n",
    "#    # just returns minimum free energy\n",
    "#    print(t.astype(float))\n",
    "#    print( dg(\"GGGAGGTCGTTACATCTGGGTAACACCGGTACTGATCCGGTGACCTCCC\", temp = 1.0) )"
   ]
  },
  {
   "cell_type": "code",
   "execution_count": null,
   "id": "786dcc13",
   "metadata": {},
   "outputs": [],
   "source": []
  }
 ],
 "metadata": {
  "kernelspec": {
   "display_name": "Python 3",
   "language": "python",
   "name": "python3"
  },
  "language_info": {
   "codemirror_mode": {
    "name": "ipython",
    "version": 3
   },
   "file_extension": ".py",
   "mimetype": "text/x-python",
   "name": "python",
   "nbconvert_exporter": "python",
   "pygments_lexer": "ipython3",
   "version": "3.8.16"
  }
 },
 "nbformat": 4,
 "nbformat_minor": 5
}
