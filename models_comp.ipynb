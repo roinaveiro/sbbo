{
 "cells": [
  {
   "cell_type": "code",
   "execution_count": null,
   "id": "b49ac645",
   "metadata": {},
   "outputs": [],
   "source": [
    "import numpy as np\n",
    "import time\n",
    "\n",
    "from src.models.bocs.LinReg import LinReg\n",
    "from src.models.GPr import GPr\n",
    "from ngboost import NGBRegressor\n",
    "from ngboost.distns import LogNormal, Normal, Exponential\n",
    "from ngboost.scores import CRPS, LogScore\n",
    "from xgboost import XGBRegressor\n",
    "\n",
    "# Learners\n",
    "from sklearn.linear_model import LinearRegression\n",
    "from sklearn.tree import DecisionTreeRegressor\n",
    "from sklearn.linear_model import LassoCV\n",
    "from sklearn.ensemble import RandomForestRegressor\n",
    "\n",
    "from src.problems.contamination import Contamination\n",
    "from src.problems.rna import RNA\n",
    "from src.problems.bqp import BQP\n",
    "\n",
    "from sklearn.model_selection import train_test_split\n",
    "from sklearn.metrics import r2_score, mean_squared_error, mean_absolute_error\n",
    "\n"
   ]
  },
  {
   "cell_type": "markdown",
   "id": "8ff9ea34",
   "metadata": {},
   "source": [
    "# Contamination problem"
   ]
  },
  {
   "cell_type": "code",
   "execution_count": null,
   "id": "f45612ab",
   "metadata": {},
   "outputs": [],
   "source": [
    "N = 300\n",
    "opt = Contamination(n=N, lamda=0.0001)\n",
    "X = opt.X\n",
    "y = opt.y\n",
    "test_set_size = 0.2\n",
    "X_train, X_test, y_train, y_test = train_test_split(X, y, test_size=test_set_size, random_state=0)"
   ]
  },
  {
   "cell_type": "markdown",
   "id": "be302e36",
   "metadata": {},
   "source": [
    "## GP"
   ]
  },
  {
   "cell_type": "code",
   "execution_count": null,
   "id": "881a694f",
   "metadata": {},
   "outputs": [],
   "source": [
    "m1 = GPr()\n",
    "m1.fit(X_train, y_train)\n",
    "y_pred = m1.predict(X_test)\n",
    "\n",
    "# Output R^2, RMSE and MAE on the test set\n",
    "score = r2_score(y_test, y_pred)\n",
    "rmse = np.sqrt(mean_squared_error(y_test, y_pred))\n",
    "mae = mean_absolute_error(y_test, y_pred)\n",
    "\n",
    "print(\"\\nTest R^2: {:.3f}\".format(score))\n",
    "print(\"Test RMSE: {:.3f} units\".format(rmse))\n",
    "print(\"Test MAE: {:.3f} units\".format(mae))"
   ]
  },
  {
   "cell_type": "markdown",
   "id": "535e1b54",
   "metadata": {},
   "source": [
    "## BOCS"
   ]
  },
  {
   "cell_type": "code",
   "execution_count": null,
   "id": "ac0ea0da",
   "metadata": {},
   "outputs": [],
   "source": [
    "m2 = LinReg(nVars=25, order=2)\n",
    "m2.fit(X_train, y_train)\n",
    "y_pred = m2.predict(X_test)\n",
    "\n",
    "# Output R^2, RMSE and MAE on the test set\n",
    "score = r2_score(y_test, y_pred)\n",
    "rmse = np.sqrt(mean_squared_error(y_test, y_pred))\n",
    "mae = mean_absolute_error(y_test, y_pred)\n",
    "\n",
    "print(\"\\nTest R^2: {:.3f}\".format(score))\n",
    "print(\"Test RMSE: {:.3f} units\".format(rmse))\n",
    "print(\"Test MAE: {:.3f} units\".format(mae))"
   ]
  },
  {
   "cell_type": "markdown",
   "id": "04ddf322",
   "metadata": {},
   "source": [
    "## NGBoost - LinCV"
   ]
  },
  {
   "cell_type": "code",
   "execution_count": null,
   "id": "c04aad5e",
   "metadata": {
    "scrolled": true
   },
   "outputs": [],
   "source": [
    "learner = LassoCV(cv=5)\n",
    "m3 = NGBRegressor(Base=learner)\n",
    "m3.fit(X_train, y_train)\n",
    "\n",
    "y_pred = m3.predict(X_test)\n",
    "\n",
    "# Output R^2, RMSE and MAE on the test set\n",
    "score = r2_score(y_test, y_pred)\n",
    "rmse = np.sqrt(mean_squared_error(y_test, y_pred))\n",
    "mae = mean_absolute_error(y_test, y_pred)\n",
    "\n",
    "print(\"\\nTest R^2: {:.3f}\".format(score))\n",
    "print(\"Test RMSE: {:.3f} units\".format(rmse))\n",
    "print(\"Test MAE: {:.3f} units\".format(mae))"
   ]
  },
  {
   "cell_type": "markdown",
   "id": "a450b9d2",
   "metadata": {},
   "source": [
    "# RNA problem"
   ]
  },
  {
   "cell_type": "code",
   "execution_count": null,
   "id": "2e25cf97",
   "metadata": {},
   "outputs": [],
   "source": [
    "N = 2000\n",
    "opt = RNA(n=N)\n",
    "X = opt.X\n",
    "y = opt.y\n",
    "test_set_size = 0.2\n",
    "X_train, X_test, y_train, y_test = train_test_split(X, y, test_size=test_set_size, random_state=1)"
   ]
  },
  {
   "cell_type": "markdown",
   "id": "bca2a0d6",
   "metadata": {},
   "source": [
    "## NGBoost - LinCV"
   ]
  },
  {
   "cell_type": "code",
   "execution_count": null,
   "id": "6d1ae518",
   "metadata": {
    "scrolled": true
   },
   "outputs": [],
   "source": [
    "linCV = LassoCV(cv=5)\n",
    "lin = LinearRegression()\n",
    "dec = DecisionTreeRegressor(criterion='friedman_mse', max_depth=5)\n",
    "m3 = NGBRegressor(Base=linCV, learning_rate=0.1, verbose_eval=5, \n",
    "                  n_estimators=50, Dist=Normal, Score=CRPS)\n",
    "m3.fit(X_train, y_train)\n",
    "\n",
    "y_pred = m3.predict(X_test)\n",
    "\n",
    "# Output R^2, RMSE and MAE on the test set\n",
    "score = r2_score(y_test, y_pred)\n",
    "rmse = np.sqrt(mean_squared_error(y_test, y_pred))\n",
    "mae = mean_absolute_error(y_test, y_pred)\n",
    "\n",
    "print(\"\\nTest R^2: {:.3f}\".format(score))\n",
    "print(\"Test RMSE: {:.3f} units\".format(rmse))\n",
    "print(\"Test MAE: {:.3f} units\".format(mae))"
   ]
  },
  {
   "cell_type": "code",
   "execution_count": null,
   "id": "d73afe01",
   "metadata": {},
   "outputs": [],
   "source": [
    "import matplotlib.pyplot as plt\n",
    "plt.scatter(y_test, y_pred)"
   ]
  },
  {
   "cell_type": "markdown",
   "id": "943eab79",
   "metadata": {},
   "source": [
    "## GP"
   ]
  },
  {
   "cell_type": "code",
   "execution_count": null,
   "id": "52ea4d2b",
   "metadata": {},
   "outputs": [],
   "source": [
    "m1 = GPr()\n",
    "m1.fit(X_train, y_train)\n",
    "y_pred = m1.predict(X_test)\n",
    "\n",
    "# Output R^2, RMSE and MAE on the test set\n",
    "score = r2_score(y_test, y_pred)\n",
    "rmse = np.sqrt(mean_squared_error(y_test, y_pred))\n",
    "mae = mean_absolute_error(y_test, y_pred)\n",
    "\n",
    "print(\"\\nTest R^2: {:.3f}\".format(score))\n",
    "print(\"Test RMSE: {:.3f} units\".format(rmse))\n",
    "print(\"Test MAE: {:.3f} units\".format(mae))"
   ]
  },
  {
   "cell_type": "code",
   "execution_count": null,
   "id": "5c25d944",
   "metadata": {},
   "outputs": [],
   "source": [
    "import matplotlib.pyplot as plt\n",
    "plt.scatter(y_test, y_pred)"
   ]
  },
  {
   "cell_type": "markdown",
   "id": "255f6a29",
   "metadata": {},
   "source": [
    "## BOCS"
   ]
  },
  {
   "cell_type": "code",
   "execution_count": null,
   "id": "144444f5",
   "metadata": {},
   "outputs": [],
   "source": [
    "m2 = LinReg(nVars=90, order=2,  nGibbs=500)\n",
    "m2.fit(X_train, y_train)\n",
    "y_pred = m2.predict(X_test)\n",
    "\n",
    "# Output R^2, RMSE and MAE on the test set\n",
    "score = r2_score(y_test, y_pred)\n",
    "rmse = np.sqrt(mean_squared_error(y_test, y_pred))\n",
    "mae = mean_absolute_error(y_test, y_pred)\n",
    "\n",
    "print(\"\\nTest R^2: {:.3f}\".format(score))\n",
    "print(\"Test RMSE: {:.3f} units\".format(rmse))\n",
    "print(\"Test MAE: {:.3f} units\".format(mae))"
   ]
  },
  {
   "cell_type": "markdown",
   "id": "9fd1da51",
   "metadata": {},
   "source": [
    "# BQP problem"
   ]
  },
  {
   "cell_type": "code",
   "execution_count": null,
   "id": "f25ccf94",
   "metadata": {},
   "outputs": [],
   "source": [
    "N = 200\n",
    "opt = BQP(n=N)\n",
    "X = opt.X\n",
    "y = opt.y + 10.0\n",
    "test_set_size = 0.2\n",
    "X_train, X_test, y_train, y_test = train_test_split(X, y, test_size=test_set_size, random_state=0)"
   ]
  },
  {
   "cell_type": "markdown",
   "id": "3b98fea0",
   "metadata": {},
   "source": [
    "## NGBoost - LinCV"
   ]
  },
  {
   "cell_type": "code",
   "execution_count": null,
   "id": "9d4279bb",
   "metadata": {
    "scrolled": true
   },
   "outputs": [],
   "source": [
    "linCV = LassoCV(cv=5)\n",
    "lin = LinearRegression()\n",
    "dec = DecisionTreeRegressor(criterion='friedman_mse', max_depth=5)\n",
    "xgb = XGBRegressor()\n",
    "m3 = NGBRegressor(Base=lin)\n",
    "m3 = NGBRegressor(Base=xgb, learning_rate=0.1, verbose_eval=5, n_estimators=30, Dist=Normal, Score=LogScore)\n",
    "\n",
    "m3.fit(X_train, y_train)\n",
    "\n",
    "y_pred = m3.predict(X_test)\n",
    "\n",
    "# Output R^2, RMSE and MAE on the test set\n",
    "score = r2_score(y_test, y_pred)\n",
    "rmse = np.sqrt(mean_squared_error(y_test, y_pred))\n",
    "mae = mean_absolute_error(y_test, y_pred)\n",
    "\n",
    "print(\"\\nTest R^2: {:.3f}\".format(score))\n",
    "print(\"Test RMSE: {:.3f} units\".format(rmse))\n",
    "print(\"Test MAE: {:.3f} units\".format(mae))"
   ]
  },
  {
   "cell_type": "code",
   "execution_count": null,
   "id": "be8ae474",
   "metadata": {},
   "outputs": [],
   "source": [
    "import matplotlib.pyplot as plt\n",
    "plt.scatter(y_test, y_pred)"
   ]
  },
  {
   "cell_type": "markdown",
   "id": "0f8995ae",
   "metadata": {},
   "source": [
    "## GP"
   ]
  },
  {
   "cell_type": "code",
   "execution_count": null,
   "id": "390899a3",
   "metadata": {},
   "outputs": [],
   "source": [
    "m1 = GPr()\n",
    "m1.fit(X_train, y_train)\n",
    "y_pred = m1.predict(X_test)\n",
    "\n",
    "# Output R^2, RMSE and MAE on the test set\n",
    "score = r2_score(y_test, y_pred)\n",
    "rmse = np.sqrt(mean_squared_error(y_test, y_pred))\n",
    "mae = mean_absolute_error(y_test, y_pred)\n",
    "\n",
    "print(\"\\nTest R^2: {:.3f}\".format(score))\n",
    "print(\"Test RMSE: {:.3f} units\".format(rmse))\n",
    "print(\"Test MAE: {:.3f} units\".format(mae))"
   ]
  },
  {
   "cell_type": "code",
   "execution_count": null,
   "id": "44ad5bc5",
   "metadata": {},
   "outputs": [],
   "source": [
    "import matplotlib.pyplot as plt\n",
    "plt.scatter(y_test, y_pred)"
   ]
  },
  {
   "cell_type": "markdown",
   "id": "abefdd82",
   "metadata": {},
   "source": [
    "## BOCS"
   ]
  },
  {
   "cell_type": "code",
   "execution_count": null,
   "id": "b903eff8",
   "metadata": {},
   "outputs": [],
   "source": [
    "m2 = LinReg(nVars=10, order=2,  nGibbs=500)\n",
    "m2.fit(X_train, y_train)\n",
    "y_pred = m2.predict(X_test)\n",
    "\n",
    "# Output R^2, RMSE and MAE on the test set\n",
    "score = r2_score(y_test, y_pred)\n",
    "rmse = np.sqrt(mean_squared_error(y_test, y_pred))\n",
    "mae = mean_absolute_error(y_test, y_pred)\n",
    "\n",
    "print(\"\\nTest R^2: {:.3f}\".format(score))\n",
    "print(\"Test RMSE: {:.3f} units\".format(rmse))\n",
    "print(\"Test MAE: {:.3f} units\".format(mae))"
   ]
  }
 ],
 "metadata": {
  "kernelspec": {
   "display_name": "Python 3",
   "language": "python",
   "name": "python3"
  },
  "language_info": {
   "codemirror_mode": {
    "name": "ipython",
    "version": 3
   },
   "file_extension": ".py",
   "mimetype": "text/x-python",
   "name": "python",
   "nbconvert_exporter": "python",
   "pygments_lexer": "ipython3",
   "version": "3.8.16"
  }
 },
 "nbformat": 4,
 "nbformat_minor": 5
}
