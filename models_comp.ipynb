{
 "cells": [
  {
   "cell_type": "code",
   "execution_count": 1,
   "id": "b49ac645",
   "metadata": {},
   "outputs": [
    {
     "name": "stderr",
     "output_type": "stream",
     "text": [
      "/Users/roinaveiro/miniconda/envs/tf-sbbo/lib/python3.8/site-packages/gpflow/experimental/utils.py:42: UserWarning: You're calling gpflow.experimental.check_shapes.decorator.check_shapes which is considered *experimental*. Expect: breaking changes, poor documentation, and bugs.\n",
      "  warn(\n",
      "/Users/roinaveiro/miniconda/envs/tf-sbbo/lib/python3.8/site-packages/gpflow/experimental/utils.py:42: UserWarning: You're calling gpflow.experimental.check_shapes.inheritance.inherit_check_shapes which is considered *experimental*. Expect: breaking changes, poor documentation, and bugs.\n",
      "  warn(\n"
     ]
    }
   ],
   "source": [
    "import numpy as np\n",
    "import time\n",
    "\n",
    "from src.models.bocs.LinReg import LinReg\n",
    "from src.models.GPr import GPr\n",
    "from ngboost import NGBRegressor\n",
    "from ngboost.distns import LogNormal, Normal, Exponential\n",
    "from ngboost.scores import CRPS, LogScore\n",
    "from xgboost import XGBRegressor\n",
    "\n",
    "# Learners\n",
    "from sklearn.linear_model import LinearRegression\n",
    "from sklearn.tree import DecisionTreeRegressor\n",
    "from sklearn.linear_model import LassoCV\n",
    "from sklearn.ensemble import RandomForestRegressor\n",
    "\n",
    "from src.problems.contamination import Contamination\n",
    "from src.problems.rna import RNA\n",
    "from src.problems.bqp import BQP\n",
    "from src.problems.latin_square import LatinSquare\n",
    "\n",
    "from sklearn.model_selection import train_test_split\n",
    "from sklearn.metrics import r2_score, mean_squared_error, mean_absolute_error\n",
    "\n"
   ]
  },
  {
   "cell_type": "markdown",
   "id": "8ff9ea34",
   "metadata": {},
   "source": [
    "# Contamination problem"
   ]
  },
  {
   "cell_type": "code",
   "execution_count": null,
   "id": "f45612ab",
   "metadata": {},
   "outputs": [],
   "source": [
    "N = 300\n",
    "opt = Contamination(n=N, lamda=0.0001)\n",
    "X = opt.X\n",
    "y = opt.y\n",
    "test_set_size = 0.2\n",
    "X_train, X_test, y_train, y_test = train_test_split(X, y, test_size=test_set_size, random_state=0)"
   ]
  },
  {
   "cell_type": "markdown",
   "id": "be302e36",
   "metadata": {},
   "source": [
    "## GP"
   ]
  },
  {
   "cell_type": "code",
   "execution_count": null,
   "id": "881a694f",
   "metadata": {},
   "outputs": [],
   "source": [
    "m1 = GPr()\n",
    "m1.fit(X_train, y_train)\n",
    "y_pred = m1.predict(X_test)\n",
    "\n",
    "# Output R^2, RMSE and MAE on the test set\n",
    "score = r2_score(y_test, y_pred)\n",
    "rmse = np.sqrt(mean_squared_error(y_test, y_pred))\n",
    "mae = mean_absolute_error(y_test, y_pred)\n",
    "\n",
    "print(\"\\nTest R^2: {:.3f}\".format(score))\n",
    "print(\"Test RMSE: {:.3f} units\".format(rmse))\n",
    "print(\"Test MAE: {:.3f} units\".format(mae))"
   ]
  },
  {
   "cell_type": "markdown",
   "id": "535e1b54",
   "metadata": {},
   "source": [
    "## BOCS"
   ]
  },
  {
   "cell_type": "code",
   "execution_count": null,
   "id": "ac0ea0da",
   "metadata": {},
   "outputs": [],
   "source": [
    "m2 = LinReg(nVars=25, order=2)\n",
    "m2.fit(X_train, y_train)\n",
    "y_pred = m2.predict(X_test)\n",
    "\n",
    "# Output R^2, RMSE and MAE on the test set\n",
    "score = r2_score(y_test, y_pred)\n",
    "rmse = np.sqrt(mean_squared_error(y_test, y_pred))\n",
    "mae = mean_absolute_error(y_test, y_pred)\n",
    "\n",
    "print(\"\\nTest R^2: {:.3f}\".format(score))\n",
    "print(\"Test RMSE: {:.3f} units\".format(rmse))\n",
    "print(\"Test MAE: {:.3f} units\".format(mae))"
   ]
  },
  {
   "cell_type": "markdown",
   "id": "04ddf322",
   "metadata": {},
   "source": [
    "## NGBoost - LinCV"
   ]
  },
  {
   "cell_type": "code",
   "execution_count": null,
   "id": "c04aad5e",
   "metadata": {
    "scrolled": true
   },
   "outputs": [],
   "source": [
    "learner = LassoCV(cv=5)\n",
    "m3 = NGBRegressor(Base=learner)\n",
    "m3.fit(X_train, y_train)\n",
    "\n",
    "y_pred = m3.predict(X_test)\n",
    "\n",
    "# Output R^2, RMSE and MAE on the test set\n",
    "score = r2_score(y_test, y_pred)\n",
    "rmse = np.sqrt(mean_squared_error(y_test, y_pred))\n",
    "mae = mean_absolute_error(y_test, y_pred)\n",
    "\n",
    "print(\"\\nTest R^2: {:.3f}\".format(score))\n",
    "print(\"Test RMSE: {:.3f} units\".format(rmse))\n",
    "print(\"Test MAE: {:.3f} units\".format(mae))"
   ]
  },
  {
   "cell_type": "markdown",
   "id": "a450b9d2",
   "metadata": {},
   "source": [
    "# RNA problem"
   ]
  },
  {
   "cell_type": "code",
   "execution_count": null,
   "id": "2e25cf97",
   "metadata": {},
   "outputs": [],
   "source": [
    "N = 2000\n",
    "opt = RNA(n=N)\n",
    "X = opt.X\n",
    "y = opt.y\n",
    "test_set_size = 0.2\n",
    "X_train, X_test, y_train, y_test = train_test_split(X, y, test_size=test_set_size, random_state=1)"
   ]
  },
  {
   "cell_type": "markdown",
   "id": "bca2a0d6",
   "metadata": {},
   "source": [
    "## NGBoost - LinCV"
   ]
  },
  {
   "cell_type": "code",
   "execution_count": null,
   "id": "6d1ae518",
   "metadata": {
    "scrolled": true
   },
   "outputs": [],
   "source": [
    "linCV = LassoCV(cv=5)\n",
    "lin = LinearRegression()\n",
    "dec = DecisionTreeRegressor(criterion='friedman_mse', max_depth=5)\n",
    "m3 = NGBRegressor(Base=linCV, learning_rate=0.1, verbose_eval=5, \n",
    "                  n_estimators=50, Dist=Normal, Score=CRPS)\n",
    "m3.fit(X_train, y_train)\n",
    "\n",
    "y_pred = m3.predict(X_test)\n",
    "\n",
    "# Output R^2, RMSE and MAE on the test set\n",
    "score = r2_score(y_test, y_pred)\n",
    "rmse = np.sqrt(mean_squared_error(y_test, y_pred))\n",
    "mae = mean_absolute_error(y_test, y_pred)\n",
    "\n",
    "print(\"\\nTest R^2: {:.3f}\".format(score))\n",
    "print(\"Test RMSE: {:.3f} units\".format(rmse))\n",
    "print(\"Test MAE: {:.3f} units\".format(mae))"
   ]
  },
  {
   "cell_type": "code",
   "execution_count": null,
   "id": "4392678c",
   "metadata": {},
   "outputs": [],
   "source": [
    "import matplotlib.pyplot as plt\n",
    "plt.scatter(y_test, y_pred)"
   ]
  },
  {
   "cell_type": "markdown",
   "id": "943eab79",
   "metadata": {},
   "source": [
    "## GP"
   ]
  },
  {
   "cell_type": "code",
   "execution_count": null,
   "id": "52ea4d2b",
   "metadata": {},
   "outputs": [],
   "source": [
    "m1 = GPr()\n",
    "m1.fit(X_train, y_train)\n",
    "y_pred = m1.predict(X_test)\n",
    "\n",
    "# Output R^2, RMSE and MAE on the test set\n",
    "score = r2_score(y_test, y_pred)\n",
    "rmse = np.sqrt(mean_squared_error(y_test, y_pred))\n",
    "mae = mean_absolute_error(y_test, y_pred)\n",
    "\n",
    "print(\"\\nTest R^2: {:.3f}\".format(score))\n",
    "print(\"Test RMSE: {:.3f} units\".format(rmse))\n",
    "print(\"Test MAE: {:.3f} units\".format(mae))"
   ]
  },
  {
   "cell_type": "code",
   "execution_count": null,
   "id": "8012b89f",
   "metadata": {},
   "outputs": [],
   "source": [
    "import matplotlib.pyplot as plt\n",
    "plt.scatter(y_test, y_pred)"
   ]
  },
  {
   "cell_type": "markdown",
   "id": "255f6a29",
   "metadata": {},
   "source": [
    "## BOCS"
   ]
  },
  {
   "cell_type": "code",
   "execution_count": null,
   "id": "144444f5",
   "metadata": {},
   "outputs": [],
   "source": [
    "m2 = LinReg(nVars=90, order=2,  nGibbs=500)\n",
    "m2.fit(X_train, y_train)\n",
    "y_pred = m2.predict(X_test)\n",
    "\n",
    "# Output R^2, RMSE and MAE on the test set\n",
    "score = r2_score(y_test, y_pred)\n",
    "rmse = np.sqrt(mean_squared_error(y_test, y_pred))\n",
    "mae = mean_absolute_error(y_test, y_pred)\n",
    "\n",
    "print(\"\\nTest R^2: {:.3f}\".format(score))\n",
    "print(\"Test RMSE: {:.3f} units\".format(rmse))\n",
    "print(\"Test MAE: {:.3f} units\".format(mae))"
   ]
  },
  {
   "cell_type": "markdown",
   "id": "e07afefd",
   "metadata": {},
   "source": [
    "# BQP problem"
   ]
  },
  {
   "cell_type": "code",
   "execution_count": null,
   "id": "2e6adaa1",
   "metadata": {},
   "outputs": [],
   "source": [
    "N = 200\n",
    "opt = BQP(n=N)\n",
    "X = opt.X\n",
    "y = opt.y + 10.0\n",
    "test_set_size = 0.2\n",
    "X_train, X_test, y_train, y_test = train_test_split(X, y, test_size=test_set_size, random_state=0)"
   ]
  },
  {
   "cell_type": "markdown",
   "id": "64d2f2aa",
   "metadata": {},
   "source": [
    "## NGBoost - LinCV"
   ]
  },
  {
   "cell_type": "code",
   "execution_count": null,
   "id": "e6a174a4",
   "metadata": {
    "scrolled": true
   },
   "outputs": [],
   "source": [
    "linCV = LassoCV(cv=5)\n",
    "lin = LinearRegression()\n",
    "dec = DecisionTreeRegressor(criterion='friedman_mse', max_depth=5)\n",
    "xgb = XGBRegressor()\n",
    "m3 = NGBRegressor(Base=lin)\n",
    "m3 = NGBRegressor(Base=xgb, learning_rate=0.1, verbose_eval=5, n_estimators=30, Dist=Normal, Score=LogScore)\n",
    "\n",
    "m3.fit(X_train, y_train)\n",
    "\n",
    "y_pred = m3.predict(X_test)\n",
    "\n",
    "# Output R^2, RMSE and MAE on the test set\n",
    "score = r2_score(y_test, y_pred)\n",
    "rmse = np.sqrt(mean_squared_error(y_test, y_pred))\n",
    "mae = mean_absolute_error(y_test, y_pred)\n",
    "\n",
    "print(\"\\nTest R^2: {:.3f}\".format(score))\n",
    "print(\"Test RMSE: {:.3f} units\".format(rmse))\n",
    "print(\"Test MAE: {:.3f} units\".format(mae))"
   ]
  },
  {
   "cell_type": "code",
   "execution_count": null,
   "id": "0cd10544",
   "metadata": {},
   "outputs": [],
   "source": [
    "import matplotlib.pyplot as plt\n",
    "plt.scatter(y_test, y_pred)"
   ]
  },
  {
   "cell_type": "markdown",
   "id": "511b0f50",
   "metadata": {},
   "source": [
    "## GP"
   ]
  },
  {
   "cell_type": "code",
   "execution_count": null,
   "id": "cd472e3a",
   "metadata": {},
   "outputs": [],
   "source": [
    "m1 = GPr()\n",
    "m1.fit(X_train, y_train)\n",
    "y_pred = m1.predict(X_test)\n",
    "\n",
    "# Output R^2, RMSE and MAE on the test set\n",
    "score = r2_score(y_test, y_pred)\n",
    "rmse = np.sqrt(mean_squared_error(y_test, y_pred))\n",
    "mae = mean_absolute_error(y_test, y_pred)\n",
    "\n",
    "print(\"\\nTest R^2: {:.3f}\".format(score))\n",
    "print(\"Test RMSE: {:.3f} units\".format(rmse))\n",
    "print(\"Test MAE: {:.3f} units\".format(mae))"
   ]
  },
  {
   "cell_type": "code",
   "execution_count": null,
   "id": "c9ced37a",
   "metadata": {},
   "outputs": [],
   "source": [
    "import matplotlib.pyplot as plt\n",
    "plt.scatter(y_test, y_pred)"
   ]
  },
  {
   "cell_type": "markdown",
   "id": "4e51efab",
   "metadata": {},
   "source": [
    "## BOCS"
   ]
  },
  {
   "cell_type": "code",
   "execution_count": null,
   "id": "4fc43c71",
   "metadata": {},
   "outputs": [],
   "source": [
    "m2 = LinReg(nVars=10, order=2,  nGibbs=500)\n",
    "m2.fit(X_train, y_train)\n",
    "y_pred = m2.predict(X_test)\n",
    "\n",
    "# Output R^2, RMSE and MAE on the test set\n",
    "score = r2_score(y_test, y_pred)\n",
    "rmse = np.sqrt(mean_squared_error(y_test, y_pred))\n",
    "mae = mean_absolute_error(y_test, y_pred)\n",
    "\n",
    "print(\"\\nTest R^2: {:.3f}\".format(score))\n",
    "print(\"Test RMSE: {:.3f} units\".format(rmse))\n",
    "print(\"Test MAE: {:.3f} units\".format(mae))"
   ]
  },
  {
   "cell_type": "markdown",
   "id": "a710a28c",
   "metadata": {},
   "source": [
    "# Latin Square problem"
   ]
  },
  {
   "cell_type": "code",
   "execution_count": 31,
   "id": "9eebed98",
   "metadata": {
    "scrolled": true
   },
   "outputs": [],
   "source": [
    "N = 1000\n",
    "opt = LatinSquare(n=N)\n",
    "test_set_size = 0.2\n",
    "X = opt.X\n",
    "y = opt.y\n",
    "X_train, X_test, y_train, y_test = train_test_split(X, y, test_size=test_set_size, random_state=0)"
   ]
  },
  {
   "cell_type": "code",
   "execution_count": 32,
   "id": "6a1e507e",
   "metadata": {},
   "outputs": [
    {
     "name": "stdout",
     "output_type": "stream",
     "text": [
      "\n",
      "Test R^2: -0.062\n",
      "Test RMSE: 0.061 units\n",
      "Test MAE: 0.050 units\n"
     ]
    },
    {
     "data": {
      "text/plain": [
       "<matplotlib.collections.PathCollection at 0x28396c6d0>"
      ]
     },
     "execution_count": 32,
     "metadata": {},
     "output_type": "execute_result"
    },
    {
     "data": {
      "image/png": "[encoded data removed]",
      "text/plain": [
       "<Figure size 432x288 with 1 Axes>"
      ]
     },
     "metadata": {
      "needs_background": "light"
     },
     "output_type": "display_data"
    }
   ],
   "source": [
    "xgb = XGBRegressor()\n",
    "xgb.fit(X_train, y_train)\n",
    "\n",
    "y_pred = xgb.predict(X_test)\n",
    "\n",
    "# Output R^2, RMSE and MAE on the test set\n",
    "score = r2_score(y_test, y_pred)\n",
    "rmse = np.sqrt(mean_squared_error(y_test, y_pred))\n",
    "mae = mean_absolute_error(y_test, y_pred)\n",
    "\n",
    "print(\"\\nTest R^2: {:.3f}\".format(score))\n",
    "print(\"Test RMSE: {:.3f} units\".format(rmse))\n",
    "print(\"Test MAE: {:.3f} units\".format(mae))\n",
    "\n",
    "import matplotlib.pyplot as plt\n",
    "plt.scatter(y_test, y_pred)"
   ]
  },
  {
   "cell_type": "markdown",
   "id": "e77a1a2f",
   "metadata": {},
   "source": [
    "## NGBoost - LinCV"
   ]
  },
  {
   "cell_type": "code",
   "execution_count": 33,
   "id": "4650a5a9",
   "metadata": {
    "scrolled": true
   },
   "outputs": [
    {
     "name": "stdout",
     "output_type": "stream",
     "text": [
      "[iter 0] loss=-1.4845 val_loss=0.0000 scale=0.5000 norm=0.2465\n",
      "[iter 5] loss=-1.5363 val_loss=0.0000 scale=0.5000 norm=0.2239\n",
      "[iter 10] loss=-1.5550 val_loss=0.0000 scale=0.5000 norm=0.2202\n",
      "[iter 15] loss=-1.5639 val_loss=0.0000 scale=0.2500 norm=0.1109\n",
      "[iter 20] loss=-1.5662 val_loss=0.0000 scale=0.2500 norm=0.1111\n",
      "[iter 25] loss=-1.5674 val_loss=0.0000 scale=0.0625 norm=0.0278\n",
      "\n",
      "Test R^2: -0.101\n",
      "Test RMSE: 0.062 units\n",
      "Test MAE: 0.050 units\n"
     ]
    }
   ],
   "source": [
    "linCV = LassoCV(cv=5)\n",
    "lin = LinearRegression()\n",
    "dec = DecisionTreeRegressor(criterion='friedman_mse', max_depth=5)\n",
    "xgb = XGBRegressor()\n",
    "m3 = NGBRegressor(Base=lin)\n",
    "m3 = NGBRegressor(Base=lin, learning_rate=0.1, verbose_eval=5, n_estimators=30, Dist=Normal, Score=LogScore)\n",
    "\n",
    "m3.fit(X_train, y_train)\n",
    "\n",
    "y_pred = m3.predict(X_test)\n",
    "\n",
    "# Output R^2, RMSE and MAE on the test set\n",
    "score = r2_score(y_test, y_pred)\n",
    "rmse = np.sqrt(mean_squared_error(y_test, y_pred))\n",
    "mae = mean_absolute_error(y_test, y_pred)\n",
    "\n",
    "print(\"\\nTest R^2: {:.3f}\".format(score))\n",
    "print(\"Test RMSE: {:.3f} units\".format(rmse))\n",
    "print(\"Test MAE: {:.3f} units\".format(mae))"
   ]
  },
  {
   "cell_type": "code",
   "execution_count": 34,
   "id": "fa4aec16",
   "metadata": {},
   "outputs": [
    {
     "data": {
      "text/plain": [
       "<matplotlib.collections.PathCollection at 0x283ad6760>"
      ]
     },
     "execution_count": 34,
     "metadata": {},
     "output_type": "execute_result"
    },
    {
     "data": {
      "image/png": "[encoded data removed]",
      "text/plain": [
       "<Figure size 432x288 with 1 Axes>"
      ]
     },
     "metadata": {
      "needs_background": "light"
     },
     "output_type": "display_data"
    }
   ],
   "source": [
    "import matplotlib.pyplot as plt\n",
    "plt.scatter(y_test, y_pred)"
   ]
  },
  {
   "cell_type": "markdown",
   "id": "dd34687d",
   "metadata": {},
   "source": [
    "## GP"
   ]
  },
  {
   "cell_type": "code",
   "execution_count": 35,
   "id": "22896ac0",
   "metadata": {},
   "outputs": [
    {
     "name": "stdout",
     "output_type": "stream",
     "text": [
      "\n",
      "Test R^2: 0.035\n",
      "Test RMSE: 0.058 units\n",
      "Test MAE: 0.047 units\n"
     ]
    }
   ],
   "source": [
    "m1 = GPr()\n",
    "m1.fit(X_train, y_train)\n",
    "y_pred = m1.predict(X_test)\n",
    "\n",
    "# Output R^2, RMSE and MAE on the test set\n",
    "score = r2_score(y_test, y_pred)\n",
    "rmse = np.sqrt(mean_squared_error(y_test, y_pred))\n",
    "mae = mean_absolute_error(y_test, y_pred)\n",
    "\n",
    "print(\"\\nTest R^2: {:.3f}\".format(score))\n",
    "print(\"Test RMSE: {:.3f} units\".format(rmse))\n",
    "print(\"Test MAE: {:.3f} units\".format(mae))"
   ]
  },
  {
   "cell_type": "code",
   "execution_count": 36,
   "id": "3e955ab0",
   "metadata": {},
   "outputs": [
    {
     "data": {
      "text/plain": [
       "<matplotlib.collections.PathCollection at 0x28390be20>"
      ]
     },
     "execution_count": 36,
     "metadata": {},
     "output_type": "execute_result"
    },
    {
     "data": {
      "image/png": "[encoded data removed]",
      "text/plain": [
       "<Figure size 432x288 with 1 Axes>"
      ]
     },
     "metadata": {
      "needs_background": "light"
     },
     "output_type": "display_data"
    }
   ],
   "source": [
    "import matplotlib.pyplot as plt\n",
    "plt.scatter(y_test, y_pred)"
   ]
  },
  {
   "cell_type": "markdown",
   "id": "a9f0d499",
   "metadata": {},
   "source": [
    "## BOCS"
   ]
  },
  {
   "cell_type": "code",
   "execution_count": null,
   "id": "9e1a9893",
   "metadata": {},
   "outputs": [],
   "source": [
    "m2 = LinReg(nVars=10, order=2,  nGibbs=500)\n",
    "m2.fit(X_train, y_train)\n",
    "y_pred = m2.predict(X_test)\n",
    "\n",
    "# Output R^2, RMSE and MAE on the test set\n",
    "score = r2_score(y_test, y_pred)\n",
    "rmse = np.sqrt(mean_squared_error(y_test, y_pred))\n",
    "mae = mean_absolute_error(y_test, y_pred)\n",
    "\n",
    "print(\"\\nTest R^2: {:.3f}\".format(score))\n",
    "print(\"Test RMSE: {:.3f} units\".format(rmse))\n",
    "print(\"Test MAE: {:.3f} units\".format(mae))"
   ]
  }
 ],
 "metadata": {
  "kernelspec": {
   "display_name": "Python 3",
   "language": "python",
   "name": "python3"
  },
  "language_info": {
   "codemirror_mode": {
    "name": "ipython",
    "version": 3
   },
   "file_extension": ".py",
   "mimetype": "text/x-python",
   "name": "python",
   "nbconvert_exporter": "python",
   "pygments_lexer": "ipython3",
   "version": "3.8.16"
  }
 },
 "nbformat": 4,
 "nbformat_minor": 5
}
