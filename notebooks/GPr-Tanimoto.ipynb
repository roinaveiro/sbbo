{
 "cells": [
  {
   "cell_type": "code",
   "execution_count": 4,
   "id": "2d879f48",
   "metadata": {},
   "outputs": [],
   "source": [
    "import sys\n",
    "\n",
    "# setting path\n",
    "sys.path.append('..')\n",
    "\n",
    "import gpflow\n",
    "from gpflow.mean_functions import Constant\n",
    "from gpflow.utilities import positive, print_summary\n",
    "from gpflow.utilities.ops import broadcasting_elementwise\n",
    "from matplotlib import pyplot as plt\n",
    "import numpy as np\n",
    "import pandas as pd\n",
    "# from rdkit.Chem import AllChem, Descriptors, MolFromSmiles\n",
    "from sklearn.model_selection import train_test_split\n",
    "from sklearn.metrics import r2_score, mean_squared_error, mean_absolute_error\n",
    "from sklearn.preprocessing import StandardScaler\n",
    "import tensorflow as tf\n",
    "\n",
    "from src.problems.contamination import Contamination\n",
    "\n",
    "from src.models.GPr import GPr"
   ]
  },
  {
   "cell_type": "code",
   "execution_count": 5,
   "id": "b27b0622",
   "metadata": {},
   "outputs": [],
   "source": [
    "from ngboost import NGBRegressor\n",
    "from ngboost.distns import Exponential, Normal\n",
    "from ngboost.scores import LogScore, CRPScore\n",
    "\n",
    "from ngboost.distns.normal import Normal\n",
    "from sklearn.model_selection import train_test_split\n",
    "from sklearn.metrics import mean_squared_error\n",
    "from sklearn.linear_model import LinearRegression\n",
    "from sklearn.tree import DecisionTreeRegressor\n",
    "from sklearn.ensemble import RandomForestRegressor\n",
    "from sklearn.linear_model import LassoCV\n"
   ]
  },
  {
   "cell_type": "code",
   "execution_count": 6,
   "id": "3bd847a2",
   "metadata": {},
   "outputs": [],
   "source": [
    "class Tanimoto(gpflow.kernels.Kernel):\n",
    "    def __init__(self):\n",
    "        super().__init__()\n",
    "        # We constrain the value of the kernel variance to be positive when it's being optimised\n",
    "        self.variance = gpflow.Parameter(1.0, transform=positive())\n",
    "\n",
    "    def K(self, X, X2=None):\n",
    "        \"\"\"\n",
    "        Compute the Tanimoto kernel matrix σ² * ((<x, y>) / (||x||^2 + ||y||^2 - <x, y>))\n",
    "        :param X: N x D array\n",
    "        :param X2: M x D array. If None, compute the N x N kernel matrix for X.\n",
    "        :return: The kernel matrix of dimension N x M\n",
    "        \"\"\"\n",
    "        if X2 is None:\n",
    "            X2 = X\n",
    "\n",
    "        Xs = tf.reduce_sum(tf.square(X), axis=-1)  # Squared L2-norm of X\n",
    "        X2s = tf.reduce_sum(tf.square(X2), axis=-1)  # Squared L2-norm of X2\n",
    "        outer_product = tf.tensordot(X, X2, [[-1], [-1]])  # outer product of the matrices X and X2\n",
    "\n",
    "        # Analogue of denominator in Tanimoto formula\n",
    "\n",
    "        denominator = -outer_product + broadcasting_elementwise(tf.add, Xs, X2s)\n",
    "\n",
    "        return self.variance * outer_product/denominator\n",
    "\n",
    "    def K_diag(self, X):\n",
    "        \"\"\"\n",
    "        Compute the diagonal of the N x N kernel matrix of X\n",
    "        :param X: N x D array\n",
    "        :return: N x 1 array\n",
    "        \"\"\"\n",
    "        return tf.fill(tf.shape(X)[:-1], tf.squeeze(self.variance))\n",
    "    \n",
    "def transform_data(X_train, y_train, X_test, y_test):\n",
    "    \"\"\"\n",
    "    Apply feature scaling to the data. Return the standardised train and\n",
    "    test sets together with the scaler object for the target values.\n",
    "    :param X_train: input train data\n",
    "    :param y_train: train labels\n",
    "    :param X_test: input test data\n",
    "    :param y_test: test labels\n",
    "    :return: X_train_scaled, y_train_scaled, X_test_scaled, y_test_scaled, y_scaler\n",
    "    \"\"\"\n",
    "\n",
    "    x_scaler = StandardScaler()\n",
    "    X_train_scaled = x_scaler.fit_transform(X_train)\n",
    "    X_test_scaled = x_scaler.transform(X_test)\n",
    "    y_scaler = StandardScaler()\n",
    "    y_train_scaled = y_scaler.fit_transform(y_train)\n",
    "    y_test_scaled = y_scaler.transform(y_test)\n",
    "\n",
    "    return X_train_scaled, y_train_scaled, X_test_scaled, y_test_scaled, y_scaler"
   ]
  },
  {
   "cell_type": "code",
   "execution_count": 7,
   "id": "ae0f9149",
   "metadata": {},
   "outputs": [],
   "source": [
    "#opt = LatinSquare(n=2000)\n",
    "opt = Contamination(n=300, lamda=0.0001)\n",
    "#opt = RNA(n=1000)\n",
    "X = opt.X\n",
    "y = opt.y\n",
    "\n",
    "test_set_size = 0.2"
   ]
  },
  {
   "cell_type": "code",
   "execution_count": 8,
   "id": "bf8f630f",
   "metadata": {},
   "outputs": [
    {
     "name": "stderr",
     "output_type": "stream",
     "text": [
      "/Users/roinaveiro/miniconda/envs/tf-sbbo/lib/python3.8/site-packages/gpflow/experimental/utils.py:42: UserWarning: You're calling gpflow.experimental.check_shapes.checker.ShapeChecker.__init__ which is considered *experimental*. Expect: breaking changes, poor documentation, and bugs.\n",
      "  warn(\n"
     ]
    }
   ],
   "source": [
    "X_train, X_test, y_train, y_test = train_test_split(X, y, test_size=test_set_size, random_state=0)\n",
    "\n",
    "y_train = y_train.reshape(-1, 1)\n",
    "y_test = y_test.reshape(-1, 1)\n",
    "\n",
    "#  We standardise the outputs but leave the inputs unchanged\n",
    "\n",
    "_, y_train, _, y_test, y_scaler = transform_data(X_train, y_train, X_test, y_test)\n",
    "\n",
    "X_train = X_train.astype(np.float64)\n",
    "X_test = X_test.astype(np.float64)\n",
    "\n",
    "k = Tanimoto()\n",
    "# k = gpflow.kernels.Matern32()\n",
    "m = gpflow.models.GPR(data=(X_train, y_train), mean_function=Constant(np.mean(y_train)), kernel=k, noise_variance=0.00001)\n"
   ]
  },
  {
   "cell_type": "code",
   "execution_count": 9,
   "id": "e2cbfa77",
   "metadata": {},
   "outputs": [
    {
     "name": "stdout",
     "output_type": "stream",
     "text": [
      "╒═════════════════════════╤═══════════╤══════════════════╤═════════╤═════════════╤═════════╤═════════╤══════════╕\n",
      "│ name                    │ class     │ transform        │ prior   │ trainable   │ shape   │ dtype   │    value │\n",
      "╞═════════════════════════╪═══════════╪══════════════════╪═════════╪═════════════╪═════════╪═════════╪══════════╡\n",
      "│ GPR.mean_function.c     │ Parameter │ Identity         │         │ True        │ ()      │ float64 │ -1.99929 │\n",
      "├─────────────────────────┼───────────┼──────────────────┼─────────┼─────────────┼─────────┼─────────┼──────────┤\n",
      "│ GPR.kernel.variance     │ Parameter │ Softplus         │         │ True        │ ()      │ float64 │  1.38255 │\n",
      "├─────────────────────────┼───────────┼──────────────────┼─────────┼─────────────┼─────────┼─────────┼──────────┤\n",
      "│ GPR.likelihood.variance │ Parameter │ Softplus + Shift │         │ True        │ ()      │ float64 │  1e-05   │\n",
      "╘═════════════════════════╧═══════════╧══════════════════╧═════════╧═════════════╧═════════╧═════════╧══════════╛\n"
     ]
    }
   ],
   "source": [
    "opt = gpflow.optimizers.Scipy()\n",
    "opt.minimize(m.training_loss, m.trainable_variables)\n",
    "print_summary(m)"
   ]
  },
  {
   "cell_type": "code",
   "execution_count": 10,
   "id": "243655c2",
   "metadata": {},
   "outputs": [],
   "source": [
    "y_pred, y_var = m.predict_f(X_test)\n",
    "y_pred = y_scaler.inverse_transform(y_pred)\n",
    "y_test = y_scaler.inverse_transform(y_test)"
   ]
  },
  {
   "cell_type": "code",
   "execution_count": 11,
   "id": "85c1bf6d",
   "metadata": {},
   "outputs": [
    {
     "data": {
      "text/plain": [
       "array([0.22587494, 0.1708074 , 0.25952579, 0.33254053, 0.14409313,\n",
       "       0.1493773 , 0.13667641, 0.29051033, 0.23346279, 0.16590711,\n",
       "       0.20972049, 0.23950956, 0.13632295, 0.26533296, 0.21963229,\n",
       "       0.34603636, 0.27542341, 0.30040972, 0.23712465, 0.21432362,\n",
       "       0.21840488, 0.25260913, 0.24233801, 0.41038211, 0.21873178,\n",
       "       0.16572218, 0.41038804, 0.34170634, 0.2470014 , 0.55108049,\n",
       "       0.30722127, 0.13718738, 0.26806452, 0.2363754 , 0.22523546,\n",
       "       0.2920417 , 0.23386242, 0.16815049, 0.25804624, 0.17710842,\n",
       "       0.26158086, 0.22834955, 0.23436548, 0.22887403, 0.19974295,\n",
       "       0.28369395, 0.3178551 , 0.17353304, 0.18249934, 0.22070993,\n",
       "       0.23568114, 0.29275369, 0.23351748, 0.24431235, 0.25330477,\n",
       "       0.3078553 , 0.15243122, 0.17431809, 0.3058442 , 0.13559306])"
      ]
     },
     "execution_count": 11,
     "metadata": {},
     "output_type": "execute_result"
    }
   ],
   "source": [
    "y_var.numpy().squeeze()"
   ]
  },
  {
   "cell_type": "code",
   "execution_count": 12,
   "id": "2a1814ab",
   "metadata": {},
   "outputs": [
    {
     "data": {
      "text/plain": [
       "array([2.08532888, 1.58121579, 1.26577635, 1.25628659, 2.42111972,\n",
       "       2.19640902, 2.11635179, 1.47317274, 2.35196782, 2.25910744,\n",
       "       1.5530987 , 2.28084458, 1.8698689 , 1.79382864, 2.63140134,\n",
       "       1.70618536, 1.36715512, 1.79262783, 1.71686647, 1.81982096,\n",
       "       2.08328323, 1.88364934, 1.83580796, 1.60651648, 2.56643173,\n",
       "       2.04126112, 1.30397476, 1.33041619, 1.36195368, 1.22789421,\n",
       "       1.21974222, 2.06583614, 1.42961076, 2.54806534, 1.69784336,\n",
       "       1.50389702, 2.31761608, 2.06486642, 1.45547914, 2.2624965 ,\n",
       "       2.07315237, 2.21878874, 2.38627162, 2.6134526 , 2.18238926,\n",
       "       0.98716891, 1.67042866, 2.07844642, 2.34199227, 1.52713945,\n",
       "       1.61006416, 1.48754988, 1.6751959 , 2.31216076, 2.30277411,\n",
       "       1.4064771 , 3.01780297, 2.66489568, 1.71932443, 2.55281461])"
      ]
     },
     "execution_count": 12,
     "metadata": {},
     "output_type": "execute_result"
    }
   ],
   "source": [
    "y_pred.squeeze()"
   ]
  },
  {
   "cell_type": "code",
   "execution_count": 13,
   "id": "8e00c52a",
   "metadata": {},
   "outputs": [
    {
     "name": "stdout",
     "output_type": "stream",
     "text": [
      "\n",
      "Train RMSE (Standardised): 0.000 nm\n",
      "Train RMSE: 0.000 nm\n",
      "\n",
      "Test R^2: 0.776\n",
      "Test RMSE: 0.268 nm\n",
      "Test MAE: 0.221 nm\n"
     ]
    }
   ],
   "source": [
    "y_pred_train, _ = m.predict_f(X_train)\n",
    "train_rmse_stan = np.sqrt(mean_squared_error(y_train, y_pred_train))\n",
    "train_rmse = np.sqrt(mean_squared_error(y_scaler.inverse_transform(y_train), y_scaler.inverse_transform(y_pred_train)))\n",
    "print(\"\\nTrain RMSE (Standardised): {:.3f} nm\".format(train_rmse_stan))\n",
    "print(\"Train RMSE: {:.3f} nm\".format(train_rmse))\n",
    "\n",
    "\n",
    "# Output R^2, RMSE and MAE on the test set\n",
    "score = r2_score(y_test, y_pred)\n",
    "rmse = np.sqrt(mean_squared_error(y_test, y_pred))\n",
    "mae = mean_absolute_error(y_test, y_pred)\n",
    "\n",
    "print(\"\\nTest R^2: {:.3f}\".format(score))\n",
    "print(\"Test RMSE: {:.3f} nm\".format(rmse))\n",
    "print(\"Test MAE: {:.3f} nm\".format(mae))"
   ]
  },
  {
   "cell_type": "code",
   "execution_count": 16,
   "id": "47ce2ff0",
   "metadata": {},
   "outputs": [
    {
     "name": "stdout",
     "output_type": "stream",
     "text": [
      "[0.         0.03596491 0.03859649 0.0745614  0.09385965 0.07982456\n",
      " 0.06578947 0.08508772 0.0377193  0.09035088 0.10964912 0.1122807\n",
      " 0.08157895 0.10087719 0.10350877 0.07280702 0.05877193 0.06140351\n",
      " 0.01403509 0.        ]\n"
     ]
    }
   ],
   "source": [
    "from src.uncertainty_metrics import *\n",
    "\n",
    "scorer = CVPPDiagram()\n",
    "qs, Cqs = scorer.compute(y_test, y_pred, y_var, num_bins=20)\n",
    "print(np.abs(qs - Cqs))"
   ]
  },
  {
   "cell_type": "code",
   "execution_count": 19,
   "id": "999bd085",
   "metadata": {},
   "outputs": [
    {
     "data": {
      "text/plain": [
       "0.06951754385964909"
      ]
     },
     "execution_count": 19,
     "metadata": {},
     "output_type": "execute_result"
    }
   ],
   "source": [
    "scorer = AbsoluteMiscalibrationArea()\n",
    "scorer.compute(y_test, y_pred, y_var, num_bins=20)"
   ]
  },
  {
   "cell_type": "code",
   "execution_count": 14,
   "id": "7fe94675",
   "metadata": {},
   "outputs": [],
   "source": [
    "ranked_confidence_list = np.argsort(y_var, axis=0).flatten()\n",
    "rmse_confidence_list = np.zeros((len(y_test) ))\n",
    "mae_confidence_list = np.zeros((len(y_test) ))\n",
    "\n",
    "for k in range(len(y_test)):\n",
    "\n",
    "    # Construct the RMSE error for each level of confidence\n",
    "\n",
    "    conf = ranked_confidence_list[0:k+1]\n",
    "    rmse = np.sqrt(mean_squared_error(y_test[conf], y_pred[conf]))\n",
    "    rmse_confidence_list[k] = rmse\n",
    "\n",
    "    # Construct the MAE error for each level of confidence\n",
    "\n",
    "    mae = mean_absolute_error(y_test[conf], y_pred[conf])\n",
    "    mae_confidence_list[k] = mae"
   ]
  },
  {
   "cell_type": "code",
   "execution_count": 15,
   "id": "ece933ab",
   "metadata": {},
   "outputs": [
    {
     "data": {
      "text/plain": [
       "array([0.11441461, 0.10220833, 0.09321951, 0.1146317 , 0.10630901,\n",
       "       0.09855597, 0.09395783, 0.08789417, 0.12717055, 0.1289115 ,\n",
       "       0.1283693 , 0.16278254, 0.15716836, 0.18146192, 0.17606891,\n",
       "       0.17127728, 0.17910408, 0.18605616, 0.18453797, 0.20694798,\n",
       "       0.20258442, 0.20545297, 0.20226216, 0.19814388, 0.19782797,\n",
       "       0.19937011, 0.20609066, 0.2061123 , 0.20305561, 0.21402193,\n",
       "       0.21180551, 0.21276202, 0.21716206, 0.22229577, 0.23046299,\n",
       "       0.23964034, 0.24192108, 0.24633989, 0.24560935, 0.24348357,\n",
       "       0.25130603, 0.25269561, 0.2529903 , 0.25497804, 0.25278138,\n",
       "       0.26017293, 0.25824793, 0.25651985, 0.25775545, 0.25537782,\n",
       "       0.26736983, 0.26484245, 0.26549744, 0.2650699 , 0.26280532,\n",
       "       0.26260627, 0.26092598, 0.25875897, 0.25659667, 0.26827485])"
      ]
     },
     "execution_count": 15,
     "metadata": {},
     "output_type": "execute_result"
    }
   ],
   "source": [
    "rmse_confidence_list"
   ]
  },
  {
   "cell_type": "code",
   "execution_count": null,
   "id": "f56add60",
   "metadata": {},
   "outputs": [],
   "source": []
  }
 ],
 "metadata": {
  "kernelspec": {
   "display_name": "Python 3",
   "language": "python",
   "name": "python3"
  },
  "language_info": {
   "codemirror_mode": {
    "name": "ipython",
    "version": 3
   },
   "file_extension": ".py",
   "mimetype": "text/x-python",
   "name": "python",
   "nbconvert_exporter": "python",
   "pygments_lexer": "ipython3",
   "version": "3.8.16"
  }
 },
 "nbformat": 4,
 "nbformat_minor": 5
}
