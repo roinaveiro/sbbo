{
 "cells": [
  {
   "cell_type": "code",
   "execution_count": 1,
   "id": "b49ac645",
   "metadata": {},
   "outputs": [
    {
     "name": "stderr",
     "output_type": "stream",
     "text": [
      "/Users/roinaveiro/miniconda/envs/tf-sbbo/lib/python3.8/site-packages/gpflow/experimental/utils.py:42: UserWarning: You're calling gpflow.experimental.check_shapes.decorator.check_shapes which is considered *experimental*. Expect: breaking changes, poor documentation, and bugs.\n",
      "  warn(\n",
      "/Users/roinaveiro/miniconda/envs/tf-sbbo/lib/python3.8/site-packages/gpflow/experimental/utils.py:42: UserWarning: You're calling gpflow.experimental.check_shapes.inheritance.inherit_check_shapes which is considered *experimental*. Expect: breaking changes, poor documentation, and bugs.\n",
      "  warn(\n"
     ]
    }
   ],
   "source": [
    "import sys\n",
    "\n",
    "# setting path\n",
    "sys.path.append('..')\n",
    "\n",
    "import numpy as np\n",
    "import time\n",
    "\n",
    "from src.models.bocs.LinReg import LinReg\n",
    "from src.models.GPr import GPr\n",
    "from ngboost import NGBRegressor\n",
    "from ngboost.distns import LogNormal, Normal, Exponential\n",
    "from ngboost.scores import CRPS, LogScore\n",
    "from xgboost import XGBRegressor\n",
    "\n",
    "# Learners\n",
    "from sklearn.linear_model import LinearRegression\n",
    "from sklearn.tree import DecisionTreeRegressor\n",
    "from sklearn.linear_model import LassoCV\n",
    "from sklearn.ensemble import RandomForestRegressor\n",
    "\n",
    "from src.problems.contamination import Contamination\n",
    "from src.problems.rna import RNA\n",
    "from src.problems.bqp import BQP\n",
    "from src.problems.latin_square import LatinSquare\n",
    "\n",
    "from src.sbbo_mh import MHSBBO\n",
    "from src.sbbo_gibbs import GibbsSBBO\n",
    "\n",
    "from sklearn.model_selection import train_test_split\n",
    "from sklearn.metrics import r2_score, mean_squared_error, mean_absolute_error\n",
    "\n",
    "from src.uncertainty_metrics import *\n"
   ]
  },
  {
   "cell_type": "markdown",
   "id": "96180d48",
   "metadata": {},
   "source": [
    "# Convergence"
   ]
  },
  {
   "cell_type": "code",
   "execution_count": 5,
   "id": "55489a88",
   "metadata": {},
   "outputs": [],
   "source": [
    "N = 300\n",
    "opt_prob = Contamination(n=N, lamda=0.0001)"
   ]
  },
  {
   "cell_type": "code",
   "execution_count": 6,
   "id": "e8bd8f74",
   "metadata": {},
   "outputs": [
    {
     "name": "stdout",
     "output_type": "stream",
     "text": [
      "Percentage completed: 0.0\n",
      "Current quality 0.0004927044992769406\n",
      "Percentage completed: 2.0\n",
      "Current quality 0.00037717882530556373\n",
      "Percentage completed: 4.0\n",
      "Current quality 0.00014167249994176417\n",
      "Percentage completed: 6.0\n",
      "Current quality 0.0008532427308264776\n",
      "Percentage completed: 8.0\n",
      "Current quality 0.0003152277636411921\n",
      "Percentage completed: 10.0\n",
      "Current quality 0.0009677616207491266\n",
      "Percentage completed: 12.0\n",
      "Current quality 0.00013263715153432292\n",
      "Percentage completed: 14.0\n",
      "Current quality 0.0009069131298656309\n",
      "Percentage completed: 16.0\n",
      "Current quality 0.00044589379746500017\n",
      "Percentage completed: 18.0\n",
      "Current quality 0.00091622727600338\n",
      "Percentage completed: 20.0\n",
      "Current quality 0.001307649922692299\n",
      "Percentage completed: 22.0\n",
      "Current quality 0.000669535375621461\n",
      "Percentage completed: 24.0\n",
      "Current quality 0.0018638016053107588\n",
      "Percentage completed: 26.0\n",
      "Current quality 0.0007443510869948557\n",
      "Percentage completed: 28.0\n",
      "Current quality 0.001347549952087706\n",
      "Percentage completed: 30.0\n",
      "Current quality 0.002917049809467303\n",
      "Percentage completed: 32.0\n",
      "Current quality 0.0026195686822982653\n",
      "Percentage completed: 34.0\n",
      "Current quality 0.002953688784800263\n",
      "Percentage completed: 36.0\n",
      "Current quality 0.00123797605297761\n",
      "Percentage completed: 38.0\n",
      "Current quality 0.0016169044189960735\n",
      "Percentage completed: 40.0\n",
      "Current quality 0.003671601508690746\n",
      "Percentage completed: 42.0\n",
      "Current quality 0.00944013631093265\n",
      "Percentage completed: 44.0\n",
      "Current quality 0.01058782188869052\n",
      "Percentage completed: 46.0\n",
      "Current quality 0.0072779112906853505\n",
      "Percentage completed: 48.0\n",
      "Current quality 0.01568208909675178\n",
      "Percentage completed: 50.0\n",
      "Current quality 0.018296690945303506\n",
      "Percentage completed: 52.0\n",
      "Current quality 0.028524657464737514\n",
      "Percentage completed: 54.0\n",
      "Current quality 0.06525591582034568\n",
      "Percentage completed: 56.0\n",
      "Current quality 0.1231759451860029\n",
      "Percentage completed: 58.0\n",
      "Current quality 0.25264004623318154\n",
      "Percentage completed: 60.0\n",
      "Current quality 0.24060817793871103\n",
      "Percentage completed: 62.0\n",
      "Current quality 0.27923220837228174\n",
      "Percentage completed: 64.0\n",
      "Current quality 0.3019804195735395\n",
      "Percentage completed: 66.0\n",
      "Current quality 0.2950286513705571\n",
      "Percentage completed: 68.0\n",
      "Current quality 0.3121019374587178\n",
      "Percentage completed: 70.0\n",
      "Current quality 0.30683705071334855\n",
      "Percentage completed: 72.0\n",
      "Current quality 0.3000272264874802\n",
      "Percentage completed: 74.0\n",
      "Current quality 0.3045752800009471\n",
      "Percentage completed: 76.0\n",
      "Current quality 0.28723601267314125\n",
      "Percentage completed: 78.0\n",
      "Current quality 0.29697420445535044\n",
      "Percentage completed: 80.0\n",
      "Current quality 0.28248141498098017\n",
      "Percentage completed: 82.0\n",
      "Current quality 0.29952616985128044\n",
      "Percentage completed: 84.0\n",
      "Current quality 0.3021358290869924\n",
      "Percentage completed: 86.0\n",
      "Current quality 0.30808163589649235\n",
      "Percentage completed: 88.0\n",
      "Current quality 0.30381837566344777\n",
      "Percentage completed: 90.0\n",
      "Current quality 0.281773354541955\n",
      "Percentage completed: 92.0\n",
      "Current quality 0.30273774131646053\n",
      "Percentage completed: 94.0\n",
      "Current quality 0.31413206281232375\n",
      "Percentage completed: 96.0\n",
      "Current quality 0.30569950569702664\n",
      "Percentage completed: 98.0\n",
      "Current quality 0.3021573409594844\n"
     ]
    }
   ],
   "source": [
    "params = {}\n",
    "params[\"cooling_schedule\"] = np.arange(50, 5000, 100)\n",
    "params[\"burnin\"] = 0.8\n",
    "params[\"modal\"]  = False\n",
    "params[\"af\"] = \"EI\"\n",
    "\n",
    "learner = GPr()\n",
    "params[\"model\"] = learner\n",
    "\n",
    "search = GibbsSBBO(opt_prob, params)\n",
    "\n",
    "df = search.compute_trace()"
   ]
  },
  {
   "cell_type": "code",
   "execution_count": 4,
   "id": "7cbb45c9",
   "metadata": {},
   "outputs": [
    {
     "data": {
      "text/plain": [
       "array([  50,  150,  250,  350,  450,  550,  650,  750,  850,  950, 1050,\n",
       "       1150, 1250, 1350, 1450, 1550, 1650, 1750, 1850, 1950, 2050, 2150,\n",
       "       2250, 2350, 2450, 2550, 2650, 2750, 2850, 2950, 3050, 3150, 3250,\n",
       "       3350, 3450, 3550, 3650, 3750, 3850, 3950, 4050, 4150, 4250, 4350,\n",
       "       4450, 4550, 4650, 4750, 4850, 4950])"
      ]
     },
     "execution_count": 4,
     "metadata": {},
     "output_type": "execute_result"
    }
   ],
   "source": [
    "params[\"cooling_schedule\"]"
   ]
  },
  {
   "cell_type": "code",
   "execution_count": 4,
   "id": "0984167a",
   "metadata": {},
   "outputs": [
    {
     "name": "stdout",
     "output_type": "stream",
     "text": [
      "Percentage completed: 0.0\n",
      "Current quality 0.00010000000000000003\n",
      "Percentage completed: 2.0\n",
      "Current quality 0.0008373081850017461\n",
      "Percentage completed: 4.0\n",
      "Current quality 0.0007238683309546754\n",
      "Percentage completed: 6.0\n",
      "Current quality 0.0009593384946248947\n",
      "Percentage completed: 8.0\n",
      "Current quality 0.017413168261668915\n"
     ]
    },
    {
     "name": "stderr",
     "output_type": "stream",
     "text": [
      "/Users/roinaveiro/Library/CloudStorage/OneDrive-CUNEF/CUNEF/research/sbbo/notebooks/../src/sbbo_mh.py:70: RuntimeWarning: overflow encountered in exp\n",
      "  prob =  np.exp(H*value - H*value_old)\n"
     ]
    },
    {
     "name": "stdout",
     "output_type": "stream",
     "text": [
      "Percentage completed: 10.0\n",
      "Current quality 0.15012614043491204\n",
      "Percentage completed: 12.0\n",
      "Current quality 0.1491037768993202\n",
      "Percentage completed: 14.0\n",
      "Current quality 0.15084986999888628\n"
     ]
    },
    {
     "name": "stderr",
     "output_type": "stream",
     "text": [
      "/Users/roinaveiro/Library/CloudStorage/OneDrive-CUNEF/CUNEF/research/sbbo/notebooks/../src/sbbo_mh.py:70: RuntimeWarning: overflow encountered in exp\n",
      "  prob =  np.exp(H*value - H*value_old)\n"
     ]
    },
    {
     "name": "stdout",
     "output_type": "stream",
     "text": [
      "Percentage completed: 16.0\n",
      "Current quality 0.23241758897152376\n",
      "Percentage completed: 18.0\n",
      "Current quality 0.2315423642503831\n"
     ]
    },
    {
     "ename": "KeyboardInterrupt",
     "evalue": "",
     "output_type": "error",
     "traceback": [
      "\u001b[0;31m---------------------------------------------------------------------------\u001b[0m",
      "\u001b[0;31mKeyboardInterrupt\u001b[0m                         Traceback (most recent call last)",
      "Cell \u001b[0;32mIn[4], line 12\u001b[0m\n\u001b[1;32m      8\u001b[0m params[\u001b[38;5;124m\"\u001b[39m\u001b[38;5;124mmodel\u001b[39m\u001b[38;5;124m\"\u001b[39m] \u001b[38;5;241m=\u001b[39m learner\n\u001b[1;32m     10\u001b[0m search \u001b[38;5;241m=\u001b[39m MHSBBO(opt_prob, params)\n\u001b[0;32m---> 12\u001b[0m df \u001b[38;5;241m=\u001b[39m \u001b[43msearch\u001b[49m\u001b[38;5;241;43m.\u001b[39;49m\u001b[43mcompute_trace\u001b[49m\u001b[43m(\u001b[49m\u001b[43m)\u001b[49m\n",
      "File \u001b[0;32m~/Library/CloudStorage/OneDrive-CUNEF/CUNEF/research/sbbo/notebooks/../src/sbbo_mh.py:141\u001b[0m, in \u001b[0;36mMHSBBO.compute_trace\u001b[0;34m(self)\u001b[0m\n\u001b[1;32m    138\u001b[0m         \u001b[38;5;28mprint\u001b[39m(\u001b[38;5;124m\"\u001b[39m\u001b[38;5;124mCurrent quality\u001b[39m\u001b[38;5;124m\"\u001b[39m, quality)\n\u001b[1;32m    139\u001b[0m         \u001b[38;5;66;03m#print(np.mean(y_sample))\u001b[39;00m\n\u001b[0;32m--> 141\u001b[0m     z_init, y_sample, value \u001b[38;5;241m=\u001b[39m \u001b[38;5;28;43mself\u001b[39;49m\u001b[38;5;241;43m.\u001b[39;49m\u001b[43mupdate_all\u001b[49m\u001b[43m(\u001b[49m\u001b[43mi\u001b[49m\u001b[43m,\u001b[49m\u001b[43m \u001b[49m\u001b[43mtemp\u001b[49m\u001b[43m,\u001b[49m\u001b[43m \u001b[49m\u001b[43mz_init\u001b[49m\u001b[43m,\u001b[49m\u001b[43m \u001b[49m\u001b[43my_sample\u001b[49m\u001b[43m,\u001b[49m\u001b[43m \u001b[49m\u001b[43mvalue\u001b[49m\u001b[43m)\u001b[49m\n\u001b[1;32m    143\u001b[0m df \u001b[38;5;241m=\u001b[39m pd\u001b[38;5;241m.\u001b[39mDataFrame({\u001b[38;5;124m\"\u001b[39m\u001b[38;5;124mIteration\u001b[39m\u001b[38;5;124m\"\u001b[39m : iters, \u001b[38;5;124m\"\u001b[39m\u001b[38;5;124mTemperature\u001b[39m\u001b[38;5;124m\"\u001b[39m: temps, \u001b[38;5;124m\"\u001b[39m\u001b[38;5;124mEU\u001b[39m\u001b[38;5;124m\"\u001b[39m: eus})\n\u001b[1;32m    145\u001b[0m \u001b[38;5;28;01mreturn\u001b[39;00m df\n",
      "File \u001b[0;32m~/Library/CloudStorage/OneDrive-CUNEF/CUNEF/research/sbbo/notebooks/../src/sbbo_mh.py:85\u001b[0m, in \u001b[0;36mMHSBBO.update_all\u001b[0;34m(self, i, temp, z_init, y_sample, value)\u001b[0m\n\u001b[1;32m     81\u001b[0m \u001b[38;5;28;01mdef\u001b[39;00m \u001b[38;5;21mupdate_all\u001b[39m(\u001b[38;5;28mself\u001b[39m, i, temp, z_init, y_sample, value):\n\u001b[1;32m     82\u001b[0m \n\u001b[1;32m     83\u001b[0m     \u001b[38;5;66;03m# Update z\u001b[39;00m\n\u001b[1;32m     84\u001b[0m     \u001b[38;5;28;01mfor\u001b[39;00m idx \u001b[38;5;129;01min\u001b[39;00m \u001b[38;5;28mrange\u001b[39m(\u001b[38;5;28mself\u001b[39m\u001b[38;5;241m.\u001b[39mco_problem\u001b[38;5;241m.\u001b[39mncov):\n\u001b[0;32m---> 85\u001b[0m         z_init, y_sample, value \u001b[38;5;241m=\u001b[39m \u001b[38;5;28;43mself\u001b[39;49m\u001b[38;5;241;43m.\u001b[39;49m\u001b[43mmetropolis_step\u001b[49m\u001b[43m(\u001b[49m\u001b[43mtemp\u001b[49m\u001b[43m,\u001b[49m\u001b[43m \u001b[49m\u001b[43mvalue\u001b[49m\u001b[43m,\u001b[49m\u001b[43m \u001b[49m\u001b[43my_sample\u001b[49m\u001b[43m,\u001b[49m\u001b[43m \u001b[49m\u001b[43mz_init\u001b[49m\u001b[43m)\u001b[49m\n\u001b[1;32m     87\u001b[0m     \u001b[38;5;28mself\u001b[39m\u001b[38;5;241m.\u001b[39mz_samples[i, ] \u001b[38;5;241m=\u001b[39m z_init\n\u001b[1;32m     89\u001b[0m     \u001b[38;5;28;01mreturn\u001b[39;00m z_init, y_sample, value\n",
      "File \u001b[0;32m~/Library/CloudStorage/OneDrive-CUNEF/CUNEF/research/sbbo/notebooks/../src/sbbo_mh.py:65\u001b[0m, in \u001b[0;36mMHSBBO.metropolis_step\u001b[0;34m(self, H, value_old, y_sample_old, z_old)\u001b[0m\n\u001b[1;32m     62\u001b[0m idx_new \u001b[38;5;241m=\u001b[39m np\u001b[38;5;241m.\u001b[39mrandom\u001b[38;5;241m.\u001b[39mchoice( np\u001b[38;5;241m.\u001b[39marange(Z_candidates\u001b[38;5;241m.\u001b[39mshape[\u001b[38;5;241m0\u001b[39m]) )\n\u001b[1;32m     63\u001b[0m z_new \u001b[38;5;241m=\u001b[39m Z_candidates[idx_new]\n\u001b[0;32m---> 65\u001b[0m y_sample \u001b[38;5;241m=\u001b[39m \u001b[43mpreds\u001b[49m\u001b[43m[\u001b[49m\u001b[43midx_new\u001b[49m\u001b[43m]\u001b[49m\u001b[38;5;241;43m.\u001b[39;49m\u001b[43msample\u001b[49m\u001b[43m(\u001b[49m\u001b[43mH\u001b[49m\u001b[43m)\u001b[49m\n\u001b[1;32m     67\u001b[0m value \u001b[38;5;241m=\u001b[39m \u001b[38;5;28mself\u001b[39m\u001b[38;5;241m.\u001b[39mutility(y_sample, z_new, flag\u001b[38;5;241m=\u001b[39m\u001b[38;5;28mself\u001b[39m\u001b[38;5;241m.\u001b[39maf) \u001b[38;5;66;03m# Watch out, parallel!\u001b[39;00m\n\u001b[1;32m     68\u001b[0m value \u001b[38;5;241m=\u001b[39m np\u001b[38;5;241m.\u001b[39msum(np\u001b[38;5;241m.\u001b[39mlog(value))   \n",
      "File \u001b[0;32m~/miniconda/envs/tf-sbbo/lib/python3.8/site-packages/ngboost/distns/normal.py:76\u001b[0m, in \u001b[0;36mNormal.sample\u001b[0;34m(self, m)\u001b[0m\n\u001b[1;32m     75\u001b[0m \u001b[38;5;28;01mdef\u001b[39;00m \u001b[38;5;21msample\u001b[39m(\u001b[38;5;28mself\u001b[39m, m):\n\u001b[0;32m---> 76\u001b[0m     \u001b[38;5;28;01mreturn\u001b[39;00m np\u001b[38;5;241m.\u001b[39marray([\u001b[38;5;28mself\u001b[39m\u001b[38;5;241m.\u001b[39mrvs() \u001b[38;5;28;01mfor\u001b[39;00m i \u001b[38;5;129;01min\u001b[39;00m \u001b[38;5;28mrange\u001b[39m(m)])\n",
      "File \u001b[0;32m~/miniconda/envs/tf-sbbo/lib/python3.8/site-packages/ngboost/distns/normal.py:76\u001b[0m, in \u001b[0;36m<listcomp>\u001b[0;34m(.0)\u001b[0m\n\u001b[1;32m     75\u001b[0m \u001b[38;5;28;01mdef\u001b[39;00m \u001b[38;5;21msample\u001b[39m(\u001b[38;5;28mself\u001b[39m, m):\n\u001b[0;32m---> 76\u001b[0m     \u001b[38;5;28;01mreturn\u001b[39;00m np\u001b[38;5;241m.\u001b[39marray([\u001b[38;5;28;43mself\u001b[39;49m\u001b[38;5;241;43m.\u001b[39;49m\u001b[43mrvs\u001b[49m() \u001b[38;5;28;01mfor\u001b[39;00m i \u001b[38;5;129;01min\u001b[39;00m \u001b[38;5;28mrange\u001b[39m(m)])\n",
      "File \u001b[0;32m~/miniconda/envs/tf-sbbo/lib/python3.8/site-packages/ngboost/distns/normal.py:81\u001b[0m, in \u001b[0;36mNormal.__getattr__\u001b[0;34m(self, name)\u001b[0m\n\u001b[1;32m     78\u001b[0m \u001b[38;5;28;01mdef\u001b[39;00m \u001b[38;5;21m__getattr__\u001b[39m(\n\u001b[1;32m     79\u001b[0m     \u001b[38;5;28mself\u001b[39m, name\n\u001b[1;32m     80\u001b[0m ):  \u001b[38;5;66;03m# gives us Normal.mean() required for RegressionDist.predict()\u001b[39;00m\n\u001b[0;32m---> 81\u001b[0m     \u001b[38;5;28;01mif\u001b[39;00m name \u001b[38;5;129;01min\u001b[39;00m \u001b[38;5;28;43mdir\u001b[39;49m\u001b[43m(\u001b[49m\u001b[38;5;28;43mself\u001b[39;49m\u001b[38;5;241;43m.\u001b[39;49m\u001b[43mdist\u001b[49m\u001b[43m)\u001b[49m:\n\u001b[1;32m     82\u001b[0m         \u001b[38;5;28;01mreturn\u001b[39;00m \u001b[38;5;28mgetattr\u001b[39m(\u001b[38;5;28mself\u001b[39m\u001b[38;5;241m.\u001b[39mdist, name)\n\u001b[1;32m     83\u001b[0m     \u001b[38;5;28;01mreturn\u001b[39;00m \u001b[38;5;28;01mNone\u001b[39;00m\n",
      "\u001b[0;31mKeyboardInterrupt\u001b[0m: "
     ]
    }
   ],
   "source": [
    "params = {}\n",
    "params[\"cooling_schedule\"] = np.arange(50, 5000, 100)\n",
    "params[\"burnin\"] = 0.8\n",
    "params[\"modal\"]  = False\n",
    "params[\"af\"] = \"EI\"\n",
    "\n",
    "learner = GPr()\n",
    "params[\"model\"] = learner\n",
    "\n",
    "search = MHSBBO(opt_prob, params)\n",
    "\n",
    "df = search.compute_trace()"
   ]
  }
 ],
 "metadata": {
  "kernelspec": {
   "display_name": "Python 3",
   "language": "python",
   "name": "python3"
  },
  "language_info": {
   "codemirror_mode": {
    "name": "ipython",
    "version": 3
   },
   "file_extension": ".py",
   "mimetype": "text/x-python",
   "name": "python",
   "nbconvert_exporter": "python",
   "pygments_lexer": "ipython3",
   "version": "3.8.16"
  }
 },
 "nbformat": 4,
 "nbformat_minor": 5
}
