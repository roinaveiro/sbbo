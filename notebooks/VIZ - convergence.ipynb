{
 "cells": [
  {
   "cell_type": "code",
   "execution_count": 1,
   "id": "b49ac645",
   "metadata": {},
   "outputs": [],
   "source": [
    "import sys\n",
    "\n",
    "# setting path\n",
    "sys.path.append('..')\n",
    "\n",
    "import numpy as np\n",
    "import time\n",
    "\n",
    "from src.models.bocs.LinReg import LinReg\n",
    "from src.models.GPr import GPr\n",
    "from ngboost import NGBRegressor\n",
    "from ngboost.distns import LogNormal, Normal, Exponential\n",
    "from ngboost.scores import CRPS, LogScore\n",
    "#from xgboost import XGBRegressor\n",
    "\n",
    "# Learners\n",
    "from sklearn.linear_model import LinearRegression\n",
    "from sklearn.tree import DecisionTreeRegressor\n",
    "from sklearn.linear_model import LassoCV\n",
    "from sklearn.ensemble import RandomForestRegressor\n",
    "\n",
    "from src.problems.contamination import Contamination\n",
    "from src.problems.rna import pRNA\n",
    "from src.problems.bqp import BQP\n",
    "from src.problems.latin_square import LatinSquare\n",
    "\n",
    "from src.sbbo_mh import MHSBBO\n",
    "from src.sbbo_gibbs import GibbsSBBO\n",
    "\n",
    "from sklearn.model_selection import train_test_split\n",
    "from sklearn.metrics import r2_score, mean_squared_error, mean_absolute_error\n",
    "\n",
    "from src.uncertainty_metrics import *\n"
   ]
  },
  {
   "cell_type": "markdown",
   "id": "96180d48",
   "metadata": {},
   "source": [
    "# Convergence"
   ]
  },
  {
   "cell_type": "code",
   "execution_count": 28,
   "id": "55489a88",
   "metadata": {},
   "outputs": [],
   "source": [
    "N = 100\n",
    "# opt_prob = Contamination(n=N, lamda=0.0001, random_seed=305)\n",
    "opt_prob = pRNA(n = N, random_seed=4948)"
   ]
  },
  {
   "cell_type": "code",
   "execution_count": 29,
   "id": "61ea112b",
   "metadata": {},
   "outputs": [
    {
     "data": {
      "text/plain": [
       "19.9"
      ]
     },
     "execution_count": 29,
     "metadata": {},
     "output_type": "execute_result"
    }
   ],
   "source": [
    "opt_prob.y.max()"
   ]
  },
  {
   "cell_type": "code",
   "execution_count": null,
   "id": "8c98cf3a",
   "metadata": {},
   "outputs": [
    {
     "name": "stdout",
     "output_type": "stream",
     "text": [
      "Percentage completed: 0.0\n",
      "Current quality 0.00010000000000000003\n",
      "Percentage completed: 2.5\n",
      "Current quality 0.00010000000000000003\n",
      "Percentage completed: 5.0\n",
      "Current quality 0.00010000000000000003\n",
      "Percentage completed: 7.5\n",
      "Current quality 0.00010000000000000003\n",
      "Percentage completed: 10.0\n",
      "Current quality 0.00010000000000000003\n",
      "Percentage completed: 12.5\n",
      "Current quality 0.00010000000000000003\n",
      "Percentage completed: 15.0\n",
      "Current quality 0.00010000000000000003\n",
      "Percentage completed: 17.5\n",
      "Current quality 0.0011573760695593566\n",
      "Percentage completed: 20.0\n",
      "Current quality 0.05635345236053678\n"
     ]
    },
    {
     "name": "stderr",
     "output_type": "stream",
     "text": [
      "/Users/roinaveiro/Library/CloudStorage/OneDrive-CUNEF/CUNEF/research/sbbo/src/sbbo_mh.py:69: RuntimeWarning: overflow encountered in exp\n",
      "  prob =  np.exp(H*value - H*value_old)\n"
     ]
    },
    {
     "name": "stdout",
     "output_type": "stream",
     "text": [
      "Percentage completed: 22.5\n",
      "Current quality 0.08680740209119012\n"
     ]
    },
    {
     "name": "stderr",
     "output_type": "stream",
     "text": [
      "/Users/roinaveiro/Library/CloudStorage/OneDrive-CUNEF/CUNEF/research/sbbo/src/sbbo_mh.py:69: RuntimeWarning: overflow encountered in exp\n",
      "  prob =  np.exp(H*value - H*value_old)\n"
     ]
    },
    {
     "name": "stdout",
     "output_type": "stream",
     "text": [
      "Percentage completed: 25.0\n",
      "Current quality 0.2716844873831224\n"
     ]
    },
    {
     "name": "stderr",
     "output_type": "stream",
     "text": [
      "/Users/roinaveiro/Library/CloudStorage/OneDrive-CUNEF/CUNEF/research/sbbo/src/sbbo_mh.py:69: RuntimeWarning: overflow encountered in exp\n",
      "  prob =  np.exp(H*value - H*value_old)\n",
      "/Users/roinaveiro/Library/CloudStorage/OneDrive-CUNEF/CUNEF/research/sbbo/src/sbbo_mh.py:69: RuntimeWarning: overflow encountered in exp\n",
      "  prob =  np.exp(H*value - H*value_old)\n"
     ]
    },
    {
     "name": "stdout",
     "output_type": "stream",
     "text": [
      "Percentage completed: 27.5\n",
      "Current quality 0.37476411520663955\n"
     ]
    },
    {
     "name": "stderr",
     "output_type": "stream",
     "text": [
      "/Users/roinaveiro/Library/CloudStorage/OneDrive-CUNEF/CUNEF/research/sbbo/src/sbbo_mh.py:69: RuntimeWarning: overflow encountered in exp\n",
      "  prob =  np.exp(H*value - H*value_old)\n"
     ]
    }
   ],
   "source": [
    "params = {}\n",
    "params[\"cooling_schedule\"] = np.arange(1, 10000, 250)\n",
    "params[\"burnin\"] = 0.8\n",
    "params[\"modal\"]  = False\n",
    "params[\"af\"] = \"EI\"\n",
    "\n",
    "learner = GPr()\n",
    "params[\"model\"] = learner\n",
    "\n",
    "search = MHSBBO(opt_prob, params)\n",
    "\n",
    "df = search.compute_trace()"
   ]
  },
  {
   "cell_type": "code",
   "execution_count": 3,
   "id": "e8bd8f74",
   "metadata": {},
   "outputs": [
    {
     "name": "stdout",
     "output_type": "stream",
     "text": [
      "Metal device set to: Apple M2\n"
     ]
    },
    {
     "name": "stderr",
     "output_type": "stream",
     "text": [
      "2023-04-24 17:50:40.771902: W tensorflow/tsl/platform/profile_utils/cpu_utils.cc:128] Failed to get CPU frequency: 0 Hz\n"
     ]
    },
    {
     "name": "stdout",
     "output_type": "stream",
     "text": [
      "Percentage completed: 0.0\n",
      "Current quality 0.00047795571988172434\n",
      "Percentage completed: 2.0\n",
      "Current quality 0.0005281187257763737\n",
      "Percentage completed: 4.0\n",
      "Current quality 0.0003034810594441391\n",
      "Percentage completed: 6.0\n",
      "Current quality 0.00014548696931971578\n",
      "Percentage completed: 8.0\n",
      "Current quality 0.0005159787888688252\n",
      "Percentage completed: 10.0\n",
      "Current quality 0.0007764440419674932\n",
      "Percentage completed: 12.0\n",
      "Current quality 0.0004301892830938827\n",
      "Percentage completed: 14.0\n",
      "Current quality 0.0003329563457533577\n",
      "Percentage completed: 16.0\n",
      "Current quality 0.00016303697078963415\n",
      "Percentage completed: 18.0\n",
      "Current quality 0.00010000000000000003\n",
      "Percentage completed: 20.0\n",
      "Current quality 0.00010000000000000003\n",
      "Percentage completed: 22.0\n",
      "Current quality 0.00022464109626239634\n",
      "Percentage completed: 24.0\n",
      "Current quality 0.0006813091354488262\n",
      "Percentage completed: 26.0\n",
      "Current quality 0.0017511817883695674\n",
      "Percentage completed: 28.0\n",
      "Current quality 0.0006674413987000119\n",
      "Percentage completed: 30.0\n",
      "Current quality 0.000867102597507428\n",
      "Percentage completed: 32.0\n",
      "Current quality 0.00022094677368113185\n",
      "Percentage completed: 34.0\n",
      "Current quality 0.0010867889201911158\n",
      "Percentage completed: 36.0\n",
      "Current quality 0.0008676379819303827\n",
      "Percentage completed: 38.0\n",
      "Current quality 0.0009418229129618581\n",
      "Percentage completed: 40.0\n",
      "Current quality 0.0013303042716884294\n",
      "Percentage completed: 42.0\n",
      "Current quality 0.001104254273310943\n",
      "Percentage completed: 44.0\n",
      "Current quality 0.0007976040162160969\n",
      "Percentage completed: 46.0\n",
      "Current quality 0.0005150270469459953\n",
      "Percentage completed: 48.0\n",
      "Current quality 0.001128644420490424\n",
      "Percentage completed: 50.0\n",
      "Current quality 0.000839522089166863\n",
      "Percentage completed: 52.0\n",
      "Current quality 0.001156048440047158\n",
      "Percentage completed: 54.0\n",
      "Current quality 0.001072401927811198\n",
      "Percentage completed: 56.0\n",
      "Current quality 0.0001528174893262923\n",
      "Percentage completed: 58.0\n",
      "Current quality 0.001841023925968487\n",
      "Percentage completed: 60.0\n",
      "Current quality 0.0011319484342006518\n",
      "Percentage completed: 62.0\n",
      "Current quality 0.002315078154415587\n",
      "Percentage completed: 64.0\n",
      "Current quality 0.0004491102092891943\n",
      "Percentage completed: 66.0\n",
      "Current quality 0.0008747732099221286\n",
      "Percentage completed: 68.0\n",
      "Current quality 0.0002852142944017382\n",
      "Percentage completed: 70.0\n",
      "Current quality 0.0013341990191244768\n",
      "Percentage completed: 72.0\n",
      "Current quality 0.0013389246636472808\n",
      "Percentage completed: 74.0\n",
      "Current quality 0.0018167645381485815\n",
      "Percentage completed: 76.0\n",
      "Current quality 0.0016073326469373745\n",
      "Percentage completed: 78.0\n",
      "Current quality 0.015795483428509904\n",
      "Percentage completed: 80.0\n",
      "Current quality 0.01567140652437489\n",
      "Percentage completed: 82.0\n",
      "Current quality 0.025101112980194316\n",
      "Percentage completed: 84.0\n",
      "Current quality 0.031098283632280573\n",
      "Percentage completed: 86.0\n",
      "Current quality 0.06154142873023042\n",
      "Percentage completed: 88.0\n",
      "Current quality 0.090330671619605\n",
      "Percentage completed: 90.0\n",
      "Current quality 0.2016840808009024\n",
      "Percentage completed: 92.0\n",
      "Current quality 0.2592915264121532\n",
      "Percentage completed: 94.0\n",
      "Current quality 0.3400048566448847\n",
      "Percentage completed: 96.0\n",
      "Current quality 0.3311736921025838\n",
      "Percentage completed: 98.0\n",
      "Current quality 0.3672195228197419\n"
     ]
    }
   ],
   "source": [
    "params = {}\n",
    "params[\"cooling_schedule\"] = np.arange(50, 5000, 100)\n",
    "params[\"burnin\"] = 0.8\n",
    "params[\"modal\"]  = False\n",
    "params[\"af\"] = \"EI\"\n",
    "\n",
    "learner = GPr()\n",
    "params[\"model\"] = learner\n",
    "\n",
    "search = GibbsSBBO(opt_prob, params)\n",
    "\n",
    "df = search.compute_trace()"
   ]
  },
  {
   "cell_type": "code",
   "execution_count": 4,
   "id": "7cbb45c9",
   "metadata": {},
   "outputs": [
    {
     "data": {
      "text/plain": [
       "array([  50,  150,  250,  350,  450,  550,  650,  750,  850,  950, 1050,\n",
       "       1150, 1250, 1350, 1450, 1550, 1650, 1750, 1850, 1950, 2050, 2150,\n",
       "       2250, 2350, 2450, 2550, 2650, 2750, 2850, 2950, 3050, 3150, 3250,\n",
       "       3350, 3450, 3550, 3650, 3750, 3850, 3950, 4050, 4150, 4250, 4350,\n",
       "       4450, 4550, 4650, 4750, 4850, 4950])"
      ]
     },
     "execution_count": 4,
     "metadata": {},
     "output_type": "execute_result"
    }
   ],
   "source": [
    "params[\"cooling_schedule\"]"
   ]
  },
  {
   "cell_type": "code",
   "execution_count": null,
   "id": "46e2ee4e",
   "metadata": {},
   "outputs": [],
   "source": []
  }
 ],
 "metadata": {
  "kernelspec": {
   "display_name": "Python 3 (ipykernel)",
   "language": "python",
   "name": "python3"
  },
  "language_info": {
   "codemirror_mode": {
    "name": "ipython",
    "version": 3
   },
   "file_extension": ".py",
   "mimetype": "text/x-python",
   "name": "python",
   "nbconvert_exporter": "python",
   "pygments_lexer": "ipython3",
   "version": "3.10.10"
  }
 },
 "nbformat": 4,
 "nbformat_minor": 5
}
