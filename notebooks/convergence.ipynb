{
 "cells": [
  {
   "cell_type": "code",
   "execution_count": null,
   "id": "b49ac645",
   "metadata": {},
   "outputs": [],
   "source": [
    "import sys\n",
    "\n",
    "# setting path\n",
    "sys.path.append('..')\n",
    "\n",
    "import numpy as np\n",
    "import pandas as pd\n",
    "import time\n",
    "\n",
    "from src.models.bocs.LinReg import LinReg\n",
    "from src.models.GPr import GPr\n",
    "from ngboost import NGBRegressor\n",
    "from ngboost.distns import LogNormal, Normal, Exponential\n",
    "from ngboost.scores import CRPS, LogScore\n",
    "#from xgboost import XGBRegressor\n",
    "\n",
    "# Learners\n",
    "from sklearn.linear_model import LinearRegression\n",
    "from sklearn.tree import DecisionTreeRegressor\n",
    "from sklearn.linear_model import LassoCV\n",
    "from sklearn.ensemble import RandomForestRegressor\n",
    "\n",
    "from src.problems.contamination import Contamination\n",
    "from src.problems.rna import pRNA\n",
    "from src.problems.bqp import BQP\n",
    "from src.problems.latin_square import LatinSquare\n",
    "\n",
    "from src.sbbo_mh import MHSBBO\n",
    "from src.sbbo_gibbs import GibbsSBBO\n",
    "\n",
    "from sklearn.model_selection import train_test_split\n",
    "from sklearn.metrics import r2_score, mean_squared_error, mean_absolute_error\n",
    "\n",
    "from src.uncertainty_metrics import *\n"
   ]
  },
  {
   "cell_type": "markdown",
   "id": "96180d48",
   "metadata": {},
   "source": [
    "# Convergence"
   ]
  },
  {
   "cell_type": "code",
   "execution_count": null,
   "id": "55489a88",
   "metadata": {},
   "outputs": [],
   "source": [
    "opt_prob = Contamination(n=100, lamda=0.0001, random_seed=305)"
   ]
  },
  {
   "cell_type": "code",
   "execution_count": null,
   "id": "e8bd8f74",
   "metadata": {},
   "outputs": [],
   "source": [
    "N=39 # Number of repetitions\n",
    "params = {}\n",
    "params[\"cooling_schedule\"] = np.arange(100, 500, 10)\n",
    "params[\"burnin\"] = 0.8\n",
    "params[\"modal\"]  = True\n",
    "params[\"af\"] = \"EI\"\n",
    "\n",
    "learner = GPr()\n",
    "params[\"model\"] = learner\n",
    "\n",
    "search = MHSBBO(opt_prob, params)\n",
    "\n",
    "df_def = search.compute_trace()\n",
    "df_def[\"Exp\"] = 0\n",
    "\n",
    "for i in range(N):\n",
    "    \n",
    "    params = {}\n",
    "    params[\"cooling_schedule\"] = np.arange(100, 1000, 10)\n",
    "    params[\"burnin\"] = 0.8\n",
    "    params[\"modal\"]  = True\n",
    "    params[\"af\"] = \"EI\"\n",
    "\n",
    "    learner = GPr()\n",
    "    params[\"model\"] = learner\n",
    "\n",
    "    search = MHSBBO(opt_prob, params)\n",
    "\n",
    "    df = search.compute_trace()\n",
    "    df[\"Exp\"] = i+1\n",
    "    df_def = pd.concat([df_def, df])"
   ]
  },
  {
   "cell_type": "code",
   "execution_count": null,
   "id": "f7d95bd7",
   "metadata": {},
   "outputs": [],
   "source": [
    "df_def"
   ]
  },
  {
   "cell_type": "code",
   "execution_count": null,
   "id": "7cbb45c9",
   "metadata": {},
   "outputs": [],
   "source": [
    "df_def.to_csv(\"convergence.csv\", index=False)"
   ]
  },
  {
   "cell_type": "code",
   "execution_count": null,
   "id": "fe24e4fd",
   "metadata": {},
   "outputs": [],
   "source": []
  }
 ],
 "metadata": {
  "kernelspec": {
   "display_name": "Python 3 (ipykernel)",
   "language": "python",
   "name": "python3"
  },
  "language_info": {
   "codemirror_mode": {
    "name": "ipython",
    "version": 3
   },
   "file_extension": ".py",
   "mimetype": "text/x-python",
   "name": "python",
   "nbconvert_exporter": "python",
   "pygments_lexer": "ipython3",
   "version": "3.11.5"
  }
 },
 "nbformat": 4,
 "nbformat_minor": 5
}
