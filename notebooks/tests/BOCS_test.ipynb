{
 "cells": [
  {
   "cell_type": "code",
   "execution_count": 1,
   "id": "cbdd9da4",
   "metadata": {},
   "outputs": [],
   "source": [
    "from src.models.bocs.LinReg import LinReg\n",
    "from src.contamination import Contamination\n",
    "from sklearn.model_selection import train_test_split\n",
    "from sklearn.metrics import r2_score, mean_squared_error, mean_absolute_error\n",
    "import numpy as np\n",
    "import time\n",
    "from src.rna import RNA"
   ]
  },
  {
   "cell_type": "code",
   "execution_count": 2,
   "id": "4e5e8a06",
   "metadata": {},
   "outputs": [
    {
     "name": "stdout",
     "output_type": "stream",
     "text": [
      "Attempt Gibbs 1\n",
      "Iter Gibbs 0\n",
      "Iter Gibbs 100\n",
      "Iter Gibbs 200\n",
      "Iter Gibbs 300\n",
      "Iter Gibbs 400\n",
      "Iter Gibbs 500\n",
      "Iter Gibbs 600\n",
      "Iter Gibbs 700\n",
      "Iter Gibbs 800\n",
      "Iter Gibbs 900\n",
      "Iter Gibbs 1000\n",
      "Iter Gibbs 1100\n",
      "Iter Gibbs 1200\n",
      "Iter Gibbs 1300\n",
      "Iter Gibbs 1400\n",
      "Iter Gibbs 1500\n",
      "Iter Gibbs 1600\n",
      "Iter Gibbs 1700\n",
      "Iter Gibbs 1800\n",
      "Iter Gibbs 1900\n"
     ]
    }
   ],
   "source": [
    "# opt_prob = Contamination(n=200, lamda=0.0001)\n",
    "opt_prob = RNA(n=25)\n",
    "model = LinReg(nVars=60, order=2)\n",
    "\n",
    "X = opt_prob.X\n",
    "y = opt_prob.y\n",
    "\n",
    "X_train, X_test, y_train, y_test = train_test_split(X, y, test_size=0.2, random_state=0)\n",
    "\n",
    "model.fit(X_train, y_train)"
   ]
  },
  {
   "cell_type": "code",
   "execution_count": 3,
   "id": "89555f8a",
   "metadata": {},
   "outputs": [
    {
     "data": {
      "text/plain": [
       "array([15.6, 12.8, 11.2, 17.1, 10.8,  9.5,  9.4, 10.4, 12.5,  8.8,  8.9,\n",
       "       12.1, 10.8, 10.2, 10.1, 10.7, 10.2, 10.9, 11.7, 12.4, 10.2, 10.7,\n",
       "       12.4, 12.6, 13.3])"
      ]
     },
     "execution_count": 3,
     "metadata": {},
     "output_type": "execute_result"
    }
   ],
   "source": [
    "opt_prob.y"
   ]
  },
  {
   "cell_type": "code",
   "execution_count": 4,
   "id": "bd42ff08",
   "metadata": {
    "scrolled": true
   },
   "outputs": [
    {
     "name": "stdout",
     "output_type": "stream",
     "text": [
      "\n",
      "Test R^2: -0.315\n",
      "Test RMSE: 1.263 nm\n",
      "Test MAE: 1.090 nm\n"
     ]
    }
   ],
   "source": [
    "y_pred= model.predict(X_test)\n",
    "\n",
    "# Output R^2, RMSE and MAE on the test set\n",
    "score = r2_score(y_test, y_pred)\n",
    "rmse = np.sqrt(mean_squared_error(y_test, y_pred))\n",
    "mae = mean_absolute_error(y_test, y_pred)\n",
    "\n",
    "print(\"\\nTest R^2: {:.3f}\".format(score))\n",
    "print(\"Test RMSE: {:.3f} nm\".format(rmse))\n",
    "print(\"Test MAE: {:.3f} nm\".format(mae))"
   ]
  },
  {
   "cell_type": "code",
   "execution_count": 6,
   "id": "05bc0fdc",
   "metadata": {},
   "outputs": [
    {
     "data": {
      "text/plain": [
       "46.0"
      ]
     },
     "execution_count": 6,
     "metadata": {},
     "output_type": "execute_result"
    }
   ],
   "source": [
    "np.floor(325/7)"
   ]
  },
  {
   "cell_type": "code",
   "execution_count": null,
   "id": "2f271b57",
   "metadata": {},
   "outputs": [],
   "source": [
    "i=4\n",
    "model.surrogate_model(opt_prob.X[i].reshape(1,-1), model.alpha)"
   ]
  },
  {
   "cell_type": "code",
   "execution_count": null,
   "id": "2ef34dbe",
   "metadata": {},
   "outputs": [],
   "source": [
    "opt_prob.y[i]"
   ]
  },
  {
   "cell_type": "code",
   "execution_count": null,
   "id": "70041708",
   "metadata": {},
   "outputs": [],
   "source": []
  }
 ],
 "metadata": {
  "kernelspec": {
   "display_name": "Python 3",
   "language": "python",
   "name": "python3"
  },
  "language_info": {
   "codemirror_mode": {
    "name": "ipython",
    "version": 3
   },
   "file_extension": ".py",
   "mimetype": "text/x-python",
   "name": "python",
   "nbconvert_exporter": "python",
   "pygments_lexer": "ipython3",
   "version": "3.8.16"
  }
 },
 "nbformat": 4,
 "nbformat_minor": 5
}
