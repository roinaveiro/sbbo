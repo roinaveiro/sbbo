{
 "cells": [
  {
   "cell_type": "code",
   "execution_count": 1,
   "id": "b49ac645",
   "metadata": {},
   "outputs": [],
   "source": [
    "import numpy as np\n",
    "import time\n",
    "\n",
    "#import seaborn as sns\n",
    "\n",
    "from src.models.bocs.LinReg import LinReg\n",
    "from src.models.GPr import GPr\n",
    "from ngboost import NGBRegressor\n",
    "from ngboost.distns import LogNormal, Normal, Exponential\n",
    "from ngboost.scores import CRPS, LogScore\n",
    "#from xgboost import XGBRegressor\n",
    "\n",
    "# Learners\n",
    "from sklearn.linear_model import LinearRegression\n",
    "from sklearn.tree import DecisionTreeRegressor\n",
    "from sklearn.linear_model import LassoCV\n",
    "from sklearn.ensemble import RandomForestRegressor\n",
    "\n",
    "from src.problems.contamination import Contamination\n",
    "from src.problems.rna import pRNA\n",
    "from src.problems.bqp import BQP\n",
    "from src.problems.latin_square import LatinSquare\n",
    "\n",
    "from sklearn.model_selection import train_test_split\n",
    "from sklearn.metrics import r2_score, mean_squared_error, mean_absolute_error\n",
    "\n",
    "from src.models.bnn.bnn_engine import *\n"
   ]
  },
  {
   "cell_type": "markdown",
   "id": "8ff9ea34",
   "metadata": {},
   "source": [
    "# Contamination problem"
   ]
  },
  {
   "cell_type": "code",
   "execution_count": 2,
   "id": "f45612ab",
   "metadata": {},
   "outputs": [],
   "source": [
    "N = 300\n",
    "opt = Contamination(n=N, lamda=0.0001)\n",
    "X = opt.X\n",
    "y = opt.y\n",
    "test_set_size = 0.2\n",
    "X_train, X_test, y_train, y_test = train_test_split(X, y, test_size=test_set_size, random_state=0)\n",
    "X_train = X_train.astype(float)\n",
    "X_test = X_test.astype(float)"
   ]
  },
  {
   "cell_type": "markdown",
   "id": "ccd36df7",
   "metadata": {},
   "source": [
    "# BNN"
   ]
  },
  {
   "cell_type": "code",
   "execution_count": 10,
   "id": "999a3730",
   "metadata": {},
   "outputs": [],
   "source": [
    "hp = default_hp()\n",
    "hp.lr = 1e-3\n",
    "hp.patience = 100\n",
    "hp.batch_size = 32\n",
    "hp.epochs = 2000\n",
    "model = BNN_engine.from_hparams(hp)"
   ]
  },
  {
   "cell_type": "code",
   "execution_count": 11,
   "id": "e21e0a3e",
   "metadata": {},
   "outputs": [
    {
     "name": "stderr",
     "output_type": "stream",
     "text": [
      "  0%|                                                                                                                                                                                  | 0/2000 [00:00<?, ?it/s]/Users/roinaveiro/miniconda3/envs/tf-sbbo/lib/python3.10/site-packages/tensorflow_probability/python/layers/util.py:95: UserWarning: `layer.add_variable` is deprecated and will be removed in a future version. Please use the `layer.add_weight()` method instead.\n",
      "  loc = add_variable_fn(\n",
      "/Users/roinaveiro/miniconda3/envs/tf-sbbo/lib/python3.10/site-packages/tensorflow_probability/python/layers/util.py:105: UserWarning: `layer.add_variable` is deprecated and will be removed in a future version. Please use the `layer.add_weight()` method instead.\n",
      "  untransformed_scale = add_variable_fn(\n",
      " 12%|████████████                                                                                            | 231/2000 [00:53<06:50,  4.31it/s, train_R^2=0.803, train_loss=1.99, val_R^2=0.675, val_loss=2.05]"
     ]
    },
    {
     "name": "stdout",
     "output_type": "stream",
     "text": [
      "Restoring checkpoint at step 131 with best value at 0.712\n",
      "Early stopped at 131 with val_R^2=0.712\n"
     ]
    },
    {
     "name": "stderr",
     "output_type": "stream",
     "text": [
      "\n"
     ]
    }
   ],
   "source": [
    "model.train(X_train, y_train, X_test, y_test, hp, verbose=True)"
   ]
  },
  {
   "cell_type": "code",
   "execution_count": 12,
   "id": "bb4fd203",
   "metadata": {},
   "outputs": [
    {
     "data": {
      "text/plain": [
       "array([[1.8098211, 1.8098211, 1.8098211, ..., 1.8098211, 1.8098211,\n",
       "        1.8098211],\n",
       "       [1.9436257, 1.9436257, 1.9436257, ..., 1.9436257, 1.9436257,\n",
       "        1.9436257],\n",
       "       [1.1977806, 1.1977806, 1.1977806, ..., 1.1977806, 1.1977806,\n",
       "        1.1977806],\n",
       "       ...,\n",
       "       [2.5172346, 2.5172346, 2.5172346, ..., 2.5172346, 2.5172346,\n",
       "        2.5172346],\n",
       "       [1.4124476, 1.4124476, 1.4124476, ..., 1.4124476, 1.4124476,\n",
       "        1.4124476],\n",
       "       [2.5517585, 2.5517585, 2.5517585, ..., 2.5517585, 2.5517585,\n",
       "        2.5517585]], dtype=float32)"
      ]
     },
     "execution_count": 12,
     "metadata": {},
     "output_type": "execute_result"
    }
   ],
   "source": [
    "model.predict(X_test)"
   ]
  },
  {
   "cell_type": "code",
   "execution_count": 6,
   "id": "706356cb",
   "metadata": {},
   "outputs": [
    {
     "data": {
      "text/plain": [
       "<Axes: >"
      ]
     },
     "execution_count": 6,
     "metadata": {},
     "output_type": "execute_result"
    },
    {
     "data": {
      "image/png": "[encoded data removed]",
      "text/plain": [
       "<Figure size 640x480 with 1 Axes>"
      ]
     },
     "metadata": {},
     "output_type": "display_data"
    }
   ],
   "source": [
    "sns.scatterplot(x=y_test, y=y_mu)"
   ]
  },
  {
   "cell_type": "markdown",
   "id": "be302e36",
   "metadata": {},
   "source": [
    "## GP"
   ]
  },
  {
   "cell_type": "code",
   "execution_count": 12,
   "id": "881a694f",
   "metadata": {},
   "outputs": [
    {
     "name": "stdout",
     "output_type": "stream",
     "text": [
      "\n",
      "Test R^2: 1.000\n",
      "Test RMSE: 0.000 units\n",
      "Test MAE: 0.000 units\n"
     ]
    }
   ],
   "source": [
    "m1 = GPr()\n",
    "m1.fit(X_train, y_train)\n",
    "y_pred = m1.predict(X_test)\n",
    "\n",
    "# Output R^2, RMSE and MAE on the test set\n",
    "score = r2_score(y_test, y_pred)\n",
    "rmse = np.sqrt(mean_squared_error(y_test, y_pred))\n",
    "mae = mean_absolute_error(y_test, y_pred)\n",
    "\n",
    "print(\"\\nTest R^2: {:.3f}\".format(score))\n",
    "print(\"Test RMSE: {:.3f} units\".format(rmse))\n",
    "print(\"Test MAE: {:.3f} units\".format(mae))"
   ]
  },
  {
   "cell_type": "markdown",
   "id": "535e1b54",
   "metadata": {},
   "source": [
    "## BOCS"
   ]
  },
  {
   "cell_type": "code",
   "execution_count": 8,
   "id": "ac0ea0da",
   "metadata": {},
   "outputs": [
    {
     "name": "stdout",
     "output_type": "stream",
     "text": [
      "Attempt Gibbs 1\n",
      "Iter Gibbs 0\n",
      "Iter Gibbs 100\n",
      "Iter Gibbs 200\n",
      "Iter Gibbs 300\n",
      "Iter Gibbs 400\n",
      "Iter Gibbs 500\n",
      "Iter Gibbs 600\n",
      "Iter Gibbs 700\n",
      "Iter Gibbs 800\n",
      "Iter Gibbs 900\n",
      "Iter Gibbs 1000\n",
      "Iter Gibbs 1100\n",
      "Iter Gibbs 1200\n",
      "Iter Gibbs 1300\n",
      "Iter Gibbs 1400\n",
      "Iter Gibbs 1500\n",
      "Iter Gibbs 1600\n",
      "Iter Gibbs 1700\n",
      "Iter Gibbs 1800\n",
      "Iter Gibbs 1900\n",
      "\n",
      "Test R^2: 0.719\n",
      "Test RMSE: 0.327 units\n",
      "Test MAE: 0.266 units\n"
     ]
    }
   ],
   "source": [
    "m2 = LinReg(nVars=25, order=2)\n",
    "m2.fit(X_train, y_train)\n",
    "y_pred = m2.predict(X_test)\n",
    "\n",
    "# Output R^2, RMSE and MAE on the test set\n",
    "score = r2_score(y_test, y_pred)\n",
    "rmse = np.sqrt(mean_squared_error(y_test, y_pred))\n",
    "mae = mean_absolute_error(y_test, y_pred)\n",
    "\n",
    "print(\"\\nTest R^2: {:.3f}\".format(score))\n",
    "print(\"Test RMSE: {:.3f} units\".format(rmse))\n",
    "print(\"Test MAE: {:.3f} units\".format(mae))"
   ]
  },
  {
   "cell_type": "code",
   "execution_count": 11,
   "id": "b60d1769",
   "metadata": {},
   "outputs": [
    {
     "data": {
      "text/plain": [
       "(40, 2000)"
      ]
     },
     "execution_count": 11,
     "metadata": {},
     "output_type": "execute_result"
    }
   ],
   "source": [
    "res = m2.sample_pred(X_test)\n",
    "res.shape"
   ]
  },
  {
   "cell_type": "markdown",
   "id": "04ddf322",
   "metadata": {},
   "source": [
    "## NGBoost - LinCV"
   ]
  },
  {
   "cell_type": "code",
   "execution_count": null,
   "id": "c04aad5e",
   "metadata": {
    "scrolled": true
   },
   "outputs": [],
   "source": [
    "learner = LassoCV(cv=5)\n",
    "m3 = NGBRegressor(Base=learner)\n",
    "m3.fit(X_train, y_train)\n",
    "\n",
    "y_pred = m3.predict(X_test)\n",
    "\n",
    "# Output R^2, RMSE and MAE on the test set\n",
    "score = r2_score(y_test, y_pred)\n",
    "rmse = np.sqrt(mean_squared_error(y_test, y_pred))\n",
    "mae = mean_absolute_error(y_test, y_pred)\n",
    "\n",
    "print(\"\\nTest R^2: {:.3f}\".format(score))\n",
    "print(\"Test RMSE: {:.3f} units\".format(rmse))\n",
    "print(\"Test MAE: {:.3f} units\".format(mae))"
   ]
  },
  {
   "cell_type": "markdown",
   "id": "a450b9d2",
   "metadata": {},
   "source": [
    "# RNA problem"
   ]
  },
  {
   "cell_type": "code",
   "execution_count": 2,
   "id": "2e25cf97",
   "metadata": {},
   "outputs": [],
   "source": [
    "from sklearn.preprocessing import StandardScaler\n",
    "scaler = StandardScaler()\n",
    "N = 20\n",
    "opt = pRNA(n=N)\n",
    "X = opt.X\n",
    "y = opt.y\n",
    "test_set_size = 0.2\n",
    "X_train, X_test, y_train, y_test = train_test_split(X, y, test_size=test_set_size, random_state=1)"
   ]
  },
  {
   "cell_type": "code",
   "execution_count": 3,
   "id": "ef9f4cdd",
   "metadata": {},
   "outputs": [
    {
     "data": {
      "text/plain": [
       "<Axes: ylabel='Count'>"
      ]
     },
     "execution_count": 3,
     "metadata": {},
     "output_type": "execute_result"
    },
    {
     "data": {
      "image/png": "[encoded data removed]",
      "text/plain": [
       "<Figure size 640x480 with 1 Axes>"
      ]
     },
     "metadata": {},
     "output_type": "display_data"
    }
   ],
   "source": [
    "import seaborn as sns\n",
    "sns.histplot(y_train)"
   ]
  },
  {
   "cell_type": "markdown",
   "id": "6db21e41",
   "metadata": {},
   "source": [
    "# BNN"
   ]
  },
  {
   "cell_type": "code",
   "execution_count": 15,
   "id": "2fc5e182",
   "metadata": {},
   "outputs": [
    {
     "name": "stderr",
     "output_type": "stream",
     "text": [
      "  0%|                                                  | 0/2000 [00:00<?, ?it/s]/Users/roinaveiro/miniconda3/envs/tf-sbbo/lib/python3.10/site-packages/tensorflow_probability/python/layers/util.py:95: UserWarning: `layer.add_variable` is deprecated and will be removed in a future version. Please use the `layer.add_weight()` method instead.\n",
      "  loc = add_variable_fn(\n",
      "/Users/roinaveiro/miniconda3/envs/tf-sbbo/lib/python3.10/site-packages/tensorflow_probability/python/layers/util.py:105: UserWarning: `layer.add_variable` is deprecated and will be removed in a future version. Please use the `layer.add_weight()` method instead.\n",
      "  untransformed_scale = add_variable_fn(\n",
      " 30%|▎| 601/2000 [00:49<01:54, 12.25it/s, train_R^2=0.999, train_loss=21.8, val_"
     ]
    },
    {
     "name": "stdout",
     "output_type": "stream",
     "text": [
      "Restoring checkpoint at step 501 with best value at 0.460\n",
      "Early stopped at 501 with val_R^2=0.460\n"
     ]
    },
    {
     "name": "stderr",
     "output_type": "stream",
     "text": [
      "\n"
     ]
    }
   ],
   "source": [
    "hp = default_hp()\n",
    "hp.lr = 1e-3\n",
    "hp.patience = 100\n",
    "hp.batch_size = 128\n",
    "hp.epochs = 2000\n",
    "hp.batch_size = int(X_train.shape[0])\n",
    "model = BNN_engine.from_hparams(hp)\n",
    "model.train(X_train, y_train, X_test, y_test, hp, verbose=True)"
   ]
  },
  {
   "cell_type": "code",
   "execution_count": 20,
   "id": "75922643",
   "metadata": {},
   "outputs": [
    {
     "data": {
      "text/plain": [
       "<matplotlib.collections.PathCollection at 0x2d52c8a90>"
      ]
     },
     "execution_count": 20,
     "metadata": {},
     "output_type": "execute_result"
    },
    {
     "data": {
      "image/png": "[encoded data removed]",
      "text/plain": [
       "<Figure size 640x480 with 1 Axes>"
      ]
     },
     "metadata": {},
     "output_type": "display_data"
    }
   ],
   "source": [
    "y_pred = model.predict(X_test)\n",
    "import matplotlib.pyplot as plt\n",
    "plt.scatter(y_test, y_pred.mean(axis=1))"
   ]
  },
  {
   "cell_type": "markdown",
   "id": "bca2a0d6",
   "metadata": {},
   "source": [
    "## NGBoost - LinCV"
   ]
  },
  {
   "cell_type": "code",
   "execution_count": 12,
   "id": "6d1ae518",
   "metadata": {
    "scrolled": true
   },
   "outputs": [
    {
     "name": "stdout",
     "output_type": "stream",
     "text": [
      "[iter 0] loss=2.4336 val_loss=2.6130 scale=2.0000 norm=4.5043\n",
      "[iter 5] loss=1.9628 val_loss=2.6384 scale=2.0000 norm=2.7669\n",
      "[iter 10] loss=1.6936 val_loss=2.8314 scale=2.0000 norm=1.8562\n",
      "[iter 15] loss=1.4386 val_loss=3.3869 scale=2.0000 norm=1.3815\n",
      "[iter 20] loss=1.1870 val_loss=4.4861 scale=2.0000 norm=1.1535\n",
      "[iter 25] loss=0.9363 val_loss=6.4579 scale=2.0000 norm=1.0534\n",
      "[iter 30] loss=0.6859 val_loss=9.8360 scale=2.0000 norm=1.0154\n",
      "[iter 35] loss=0.3857 val_loss=18.7983 scale=4.0000 norm=2.0033\n",
      "[iter 40] loss=-0.1144 val_loss=49.9754 scale=4.0000 norm=1.9980\n",
      "[iter 45] loss=-0.6145 val_loss=135.5984 scale=4.0000 norm=1.9991\n",
      "[iter 50] loss=-1.1145 val_loss=369.4943 scale=4.0000 norm=1.9997\n",
      "[iter 55] loss=-1.6145 val_loss=1229.1301 scale=8.0000 norm=3.9998\n",
      "[iter 60] loss=-2.6145 val_loss=9093.0140 scale=8.0000 norm=4.0000\n",
      "[iter 65] loss=-3.6145 val_loss=67206.0554 scale=8.0000 norm=4.0000\n",
      "[iter 70] loss=-4.6145 val_loss=740861.8994 scale=16.0000 norm=8.0000\n",
      "[iter 75] loss=-6.6145 val_loss=40449961.8106 scale=16.0000 norm=8.0000\n",
      "[iter 80] loss=-8.6145 val_loss=2208493233.8799 scale=16.0000 norm=8.0000\n",
      "[iter 85] loss=-10.6145 val_loss=120578942180.7544 scale=16.0000 norm=8.0000\n",
      "[iter 90] loss=-11.8145 val_loss=890929660367.8788 scale=8.0000 norm=3.9999\n",
      "[iter 95] loss=-12.8144 val_loss=6581257350887.5146 scale=8.0000 norm=3.9996\n",
      "\n",
      "Test R^2: 0.106\n",
      "Test RMSE: 2.932 units\n",
      "Test MAE: 2.325 units\n"
     ]
    }
   ],
   "source": [
    "linCV = LassoCV(cv=5)\n",
    "lin = LinearRegression()\n",
    "dec = DecisionTreeRegressor(criterion='friedman_mse', max_depth=5)\n",
    "m3 = NGBRegressor(Base=dec, learning_rate=0.05, verbose_eval=5, \n",
    "                  n_estimators=100, Dist=Normal)\n",
    "m3.fit(X_train, y_train, X_test, y_test)\n",
    "\n",
    "y_pred = m3.predict(X_test)\n",
    "\n",
    "# Output R^2, RMSE and MAE on the test set\n",
    "score = r2_score(y_test, y_pred)\n",
    "rmse = np.sqrt(mean_squared_error(y_test, y_pred))\n",
    "mae = mean_absolute_error(y_test, y_pred)\n",
    "\n",
    "print(\"\\nTest R^2: {:.3f}\".format(score))\n",
    "print(\"Test RMSE: {:.3f} units\".format(rmse))\n",
    "print(\"Test MAE: {:.3f} units\".format(mae))"
   ]
  },
  {
   "cell_type": "code",
   "execution_count": 8,
   "id": "4392678c",
   "metadata": {},
   "outputs": [
    {
     "data": {
      "text/plain": [
       "<matplotlib.collections.PathCollection at 0x16d290370>"
      ]
     },
     "execution_count": 8,
     "metadata": {},
     "output_type": "execute_result"
    },
    {
     "data": {
      "image/png": "[encoded data removed]",
      "text/plain": [
       "<Figure size 640x480 with 1 Axes>"
      ]
     },
     "metadata": {},
     "output_type": "display_data"
    }
   ],
   "source": [
    "import matplotlib.pyplot as plt\n",
    "plt.scatter(y_test, y_pred)"
   ]
  },
  {
   "cell_type": "markdown",
   "id": "943eab79",
   "metadata": {},
   "source": [
    "## GP"
   ]
  },
  {
   "cell_type": "code",
   "execution_count": 4,
   "id": "52ea4d2b",
   "metadata": {},
   "outputs": [
    {
     "name": "stdout",
     "output_type": "stream",
     "text": [
      "Metal device set to: Apple M2\n",
      "\n",
      "Test R^2: 0.150\n",
      "Test RMSE: 2.859 units\n",
      "Test MAE: 2.425 units\n"
     ]
    },
    {
     "name": "stderr",
     "output_type": "stream",
     "text": [
      "2023-05-21 19:37:57.382053: W tensorflow/tsl/platform/profile_utils/cpu_utils.cc:128] Failed to get CPU frequency: 0 Hz\n"
     ]
    }
   ],
   "source": [
    "m1 = GPr()\n",
    "m1.fit(X_train, y_train)\n",
    "y_pred = m1.predict(X_test)\n",
    "\n",
    "# Output R^2, RMSE and MAE on the test set\n",
    "score = r2_score(y_test, y_pred)\n",
    "rmse = np.sqrt(mean_squared_error(y_test, y_pred))\n",
    "mae = mean_absolute_error(y_test, y_pred)\n",
    "\n",
    "print(\"\\nTest R^2: {:.3f}\".format(score))\n",
    "print(\"Test RMSE: {:.3f} units\".format(rmse))\n",
    "print(\"Test MAE: {:.3f} units\".format(mae))"
   ]
  },
  {
   "cell_type": "markdown",
   "id": "255f6a29",
   "metadata": {},
   "source": [
    "## BOCS"
   ]
  },
  {
   "cell_type": "code",
   "execution_count": 9,
   "id": "144444f5",
   "metadata": {},
   "outputs": [
    {
     "name": "stdout",
     "output_type": "stream",
     "text": [
      "(16, 90)\n",
      "Attempt Gibbs 1\n",
      "Iter Gibbs 0\n",
      "Fast Small Sampler\n",
      "n is 16 p is 2642\n",
      "Iter Gibbs 100\n",
      "Fast Small Sampler\n",
      "n is 16 p is 2642\n",
      "Iter Gibbs 200\n",
      "Fast Small Sampler\n",
      "n is 16 p is 2642\n",
      "Iter Gibbs 300\n",
      "Fast Small Sampler\n",
      "n is 16 p is 2642\n",
      "Iter Gibbs 400\n",
      "Fast Small Sampler\n",
      "n is 16 p is 2642\n",
      "Iter Gibbs 500\n",
      "Fast Small Sampler\n",
      "n is 16 p is 2642\n",
      "Iter Gibbs 600\n",
      "Fast Small Sampler\n",
      "n is 16 p is 2642\n",
      "Iter Gibbs 700\n",
      "Fast Small Sampler\n",
      "n is 16 p is 2642\n",
      "Iter Gibbs 800\n",
      "Fast Small Sampler\n",
      "n is 16 p is 2642\n",
      "Iter Gibbs 900\n",
      "Fast Small Sampler\n",
      "n is 16 p is 2642\n",
      "Iter Gibbs 1000\n",
      "Fast Small Sampler\n",
      "n is 16 p is 2642\n",
      "Iter Gibbs 1100\n",
      "Fast Small Sampler\n",
      "n is 16 p is 2642\n",
      "Iter Gibbs 1200\n",
      "Fast Small Sampler\n",
      "n is 16 p is 2642\n",
      "Iter Gibbs 1300\n",
      "Fast Small Sampler\n",
      "n is 16 p is 2642\n",
      "Iter Gibbs 1400\n",
      "Fast Small Sampler\n",
      "n is 16 p is 2642\n",
      "Iter Gibbs 1500\n",
      "Fast Small Sampler\n",
      "n is 16 p is 2642\n",
      "Iter Gibbs 1600\n",
      "Fast Small Sampler\n",
      "n is 16 p is 2642\n",
      "Iter Gibbs 1700\n",
      "Fast Small Sampler\n",
      "n is 16 p is 2642\n",
      "Iter Gibbs 1800\n",
      "Fast Small Sampler\n",
      "n is 16 p is 2642\n",
      "Iter Gibbs 1900\n",
      "Fast Small Sampler\n",
      "n is 16 p is 2642\n",
      "\n",
      "Test R^2: 0.262\n",
      "Test RMSE: 2.664 units\n",
      "Test MAE: 2.305 units\n"
     ]
    }
   ],
   "source": [
    "m2 = LinReg(nVars=90, order=2,  nGibbs=2000)\n",
    "m2.fit(X_train, y_train)\n",
    "y_pred = m2.predict(X_test)\n",
    "\n",
    "# Output R^2, RMSE and MAE on the test set\n",
    "score = r2_score(y_test, y_pred)\n",
    "rmse = np.sqrt(mean_squared_error(y_test, y_pred))\n",
    "mae = mean_absolute_error(y_test, y_pred)\n",
    "\n",
    "print(\"\\nTest R^2: {:.3f}\".format(score))\n",
    "print(\"Test RMSE: {:.3f} units\".format(rmse))\n",
    "print(\"Test MAE: {:.3f} units\".format(mae))"
   ]
  },
  {
   "cell_type": "markdown",
   "id": "e07afefd",
   "metadata": {},
   "source": [
    "# BQP problem"
   ]
  },
  {
   "cell_type": "code",
   "execution_count": null,
   "id": "2e6adaa1",
   "metadata": {},
   "outputs": [],
   "source": [
    "N = 200\n",
    "opt = BQP(n=N)\n",
    "X = opt.X\n",
    "y = opt.y + 10.0\n",
    "test_set_size = 0.2\n",
    "X_train, X_test, y_train, y_test = train_test_split(X, y, test_size=test_set_size, random_state=0)"
   ]
  },
  {
   "cell_type": "markdown",
   "id": "64d2f2aa",
   "metadata": {},
   "source": [
    "## NGBoost - LinCV"
   ]
  },
  {
   "cell_type": "code",
   "execution_count": null,
   "id": "e6a174a4",
   "metadata": {
    "scrolled": true
   },
   "outputs": [],
   "source": [
    "linCV = LassoCV(cv=5)\n",
    "lin = LinearRegression()\n",
    "dec = DecisionTreeRegressor(criterion='friedman_mse', max_depth=5)\n",
    "xgb = XGBRegressor()\n",
    "m3 = NGBRegressor(Base=lin)\n",
    "m3 = NGBRegressor(Base=xgb, learning_rate=0.1, verbose_eval=5, n_estimators=30, Dist=Normal, Score=LogScore)\n",
    "\n",
    "m3.fit(X_train, y_train)\n",
    "\n",
    "y_pred = m3.predict(X_test)\n",
    "\n",
    "# Output R^2, RMSE and MAE on the test set\n",
    "score = r2_score(y_test, y_pred)\n",
    "rmse = np.sqrt(mean_squared_error(y_test, y_pred))\n",
    "mae = mean_absolute_error(y_test, y_pred)\n",
    "\n",
    "print(\"\\nTest R^2: {:.3f}\".format(score))\n",
    "print(\"Test RMSE: {:.3f} units\".format(rmse))\n",
    "print(\"Test MAE: {:.3f} units\".format(mae))"
   ]
  },
  {
   "cell_type": "code",
   "execution_count": null,
   "id": "0cd10544",
   "metadata": {},
   "outputs": [],
   "source": [
    "import matplotlib.pyplot as plt\n",
    "plt.scatter(y_test, y_pred)"
   ]
  },
  {
   "cell_type": "markdown",
   "id": "511b0f50",
   "metadata": {},
   "source": [
    "## GP"
   ]
  },
  {
   "cell_type": "code",
   "execution_count": null,
   "id": "cd472e3a",
   "metadata": {},
   "outputs": [],
   "source": [
    "m1 = GPr()\n",
    "m1.fit(X_train, y_train)\n",
    "y_pred = m1.predict(X_test)\n",
    "\n",
    "# Output R^2, RMSE and MAE on the test set\n",
    "score = r2_score(y_test, y_pred)\n",
    "rmse = np.sqrt(mean_squared_error(y_test, y_pred))\n",
    "mae = mean_absolute_error(y_test, y_pred)\n",
    "\n",
    "print(\"\\nTest R^2: {:.3f}\".format(score))\n",
    "print(\"Test RMSE: {:.3f} units\".format(rmse))\n",
    "print(\"Test MAE: {:.3f} units\".format(mae))"
   ]
  },
  {
   "cell_type": "code",
   "execution_count": null,
   "id": "c9ced37a",
   "metadata": {},
   "outputs": [],
   "source": [
    "import matplotlib.pyplot as plt\n",
    "plt.scatter(y_test, y_pred)"
   ]
  },
  {
   "cell_type": "markdown",
   "id": "4e51efab",
   "metadata": {},
   "source": [
    "## BOCS"
   ]
  },
  {
   "cell_type": "code",
   "execution_count": null,
   "id": "4fc43c71",
   "metadata": {},
   "outputs": [],
   "source": [
    "m2 = LinReg(nVars=10, order=2,  nGibbs=500)\n",
    "m2.fit(X_train, y_train)\n",
    "y_pred = m2.predict(X_test)\n",
    "\n",
    "# Output R^2, RMSE and MAE on the test set\n",
    "score = r2_score(y_test, y_pred)\n",
    "rmse = np.sqrt(mean_squared_error(y_test, y_pred))\n",
    "mae = mean_absolute_error(y_test, y_pred)\n",
    "\n",
    "print(\"\\nTest R^2: {:.3f}\".format(score))\n",
    "print(\"Test RMSE: {:.3f} units\".format(rmse))\n",
    "print(\"Test MAE: {:.3f} units\".format(mae))"
   ]
  },
  {
   "cell_type": "markdown",
   "id": "a710a28c",
   "metadata": {},
   "source": [
    "# Latin Square problem"
   ]
  },
  {
   "cell_type": "code",
   "execution_count": 31,
   "id": "9eebed98",
   "metadata": {
    "scrolled": true
   },
   "outputs": [],
   "source": [
    "N = 1000\n",
    "opt = LatinSquare(n=N)\n",
    "test_set_size = 0.2\n",
    "X = opt.X\n",
    "y = opt.y\n",
    "X_train, X_test, y_train, y_test = train_test_split(X, y, test_size=test_set_size, random_state=0)"
   ]
  },
  {
   "cell_type": "code",
   "execution_count": 32,
   "id": "6a1e507e",
   "metadata": {},
   "outputs": [
    {
     "name": "stdout",
     "output_type": "stream",
     "text": [
      "\n",
      "Test R^2: -0.062\n",
      "Test RMSE: 0.061 units\n",
      "Test MAE: 0.050 units\n"
     ]
    },
    {
     "data": {
      "text/plain": [
       "<matplotlib.collections.PathCollection at 0x28396c6d0>"
      ]
     },
     "execution_count": 32,
     "metadata": {},
     "output_type": "execute_result"
    },
    {
     "data": {
      "image/png": "[encoded data removed]",
      "text/plain": [
       "<Figure size 432x288 with 1 Axes>"
      ]
     },
     "metadata": {
      "needs_background": "light"
     },
     "output_type": "display_data"
    }
   ],
   "source": [
    "xgb = XGBRegressor()\n",
    "xgb.fit(X_train, y_train)\n",
    "\n",
    "y_pred = xgb.predict(X_test)\n",
    "\n",
    "# Output R^2, RMSE and MAE on the test set\n",
    "score = r2_score(y_test, y_pred)\n",
    "rmse = np.sqrt(mean_squared_error(y_test, y_pred))\n",
    "mae = mean_absolute_error(y_test, y_pred)\n",
    "\n",
    "print(\"\\nTest R^2: {:.3f}\".format(score))\n",
    "print(\"Test RMSE: {:.3f} units\".format(rmse))\n",
    "print(\"Test MAE: {:.3f} units\".format(mae))\n",
    "\n",
    "import matplotlib.pyplot as plt\n",
    "plt.scatter(y_test, y_pred)"
   ]
  },
  {
   "cell_type": "markdown",
   "id": "e77a1a2f",
   "metadata": {},
   "source": [
    "## NGBoost - LinCV"
   ]
  },
  {
   "cell_type": "code",
   "execution_count": 33,
   "id": "4650a5a9",
   "metadata": {
    "scrolled": true
   },
   "outputs": [
    {
     "name": "stdout",
     "output_type": "stream",
     "text": [
      "[iter 0] loss=-1.4845 val_loss=0.0000 scale=0.5000 norm=0.2465\n",
      "[iter 5] loss=-1.5363 val_loss=0.0000 scale=0.5000 norm=0.2239\n",
      "[iter 10] loss=-1.5550 val_loss=0.0000 scale=0.5000 norm=0.2202\n",
      "[iter 15] loss=-1.5639 val_loss=0.0000 scale=0.2500 norm=0.1109\n",
      "[iter 20] loss=-1.5662 val_loss=0.0000 scale=0.2500 norm=0.1111\n",
      "[iter 25] loss=-1.5674 val_loss=0.0000 scale=0.0625 norm=0.0278\n",
      "\n",
      "Test R^2: -0.101\n",
      "Test RMSE: 0.062 units\n",
      "Test MAE: 0.050 units\n"
     ]
    }
   ],
   "source": [
    "linCV = LassoCV(cv=5)\n",
    "lin = LinearRegression()\n",
    "dec = DecisionTreeRegressor(criterion='friedman_mse', max_depth=5)\n",
    "xgb = XGBRegressor()\n",
    "m3 = NGBRegressor(Base=lin)\n",
    "m3 = NGBRegressor(Base=lin, learning_rate=0.1, verbose_eval=5, n_estimators=30, Dist=Normal, Score=LogScore)\n",
    "\n",
    "m3.fit(X_train, y_train)\n",
    "\n",
    "y_pred = m3.predict(X_test)\n",
    "\n",
    "# Output R^2, RMSE and MAE on the test set\n",
    "score = r2_score(y_test, y_pred)\n",
    "rmse = np.sqrt(mean_squared_error(y_test, y_pred))\n",
    "mae = mean_absolute_error(y_test, y_pred)\n",
    "\n",
    "print(\"\\nTest R^2: {:.3f}\".format(score))\n",
    "print(\"Test RMSE: {:.3f} units\".format(rmse))\n",
    "print(\"Test MAE: {:.3f} units\".format(mae))"
   ]
  },
  {
   "cell_type": "code",
   "execution_count": 34,
   "id": "fa4aec16",
   "metadata": {},
   "outputs": [
    {
     "data": {
      "text/plain": [
       "<matplotlib.collections.PathCollection at 0x283ad6760>"
      ]
     },
     "execution_count": 34,
     "metadata": {},
     "output_type": "execute_result"
    },
    {
     "data": {
      "image/png": "[encoded data removed]",
      "text/plain": [
       "<Figure size 432x288 with 1 Axes>"
      ]
     },
     "metadata": {
      "needs_background": "light"
     },
     "output_type": "display_data"
    }
   ],
   "source": [
    "import matplotlib.pyplot as plt\n",
    "plt.scatter(y_test, y_pred)"
   ]
  },
  {
   "cell_type": "markdown",
   "id": "dd34687d",
   "metadata": {},
   "source": [
    "## GP"
   ]
  },
  {
   "cell_type": "code",
   "execution_count": 35,
   "id": "22896ac0",
   "metadata": {},
   "outputs": [
    {
     "name": "stdout",
     "output_type": "stream",
     "text": [
      "\n",
      "Test R^2: 0.035\n",
      "Test RMSE: 0.058 units\n",
      "Test MAE: 0.047 units\n"
     ]
    }
   ],
   "source": [
    "m1 = GPr()\n",
    "m1.fit(X_train, y_train)\n",
    "y_pred = m1.predict(X_test)\n",
    "\n",
    "# Output R^2, RMSE and MAE on the test set\n",
    "score = r2_score(y_test, y_pred)\n",
    "rmse = np.sqrt(mean_squared_error(y_test, y_pred))\n",
    "mae = mean_absolute_error(y_test, y_pred)\n",
    "\n",
    "print(\"\\nTest R^2: {:.3f}\".format(score))\n",
    "print(\"Test RMSE: {:.3f} units\".format(rmse))\n",
    "print(\"Test MAE: {:.3f} units\".format(mae))"
   ]
  },
  {
   "cell_type": "code",
   "execution_count": 36,
   "id": "3e955ab0",
   "metadata": {},
   "outputs": [
    {
     "data": {
      "text/plain": [
       "<matplotlib.collections.PathCollection at 0x28390be20>"
      ]
     },
     "execution_count": 36,
     "metadata": {},
     "output_type": "execute_result"
    },
    {
     "data": {
      "image/png": "[encoded data removed]",
      "text/plain": [
       "<Figure size 432x288 with 1 Axes>"
      ]
     },
     "metadata": {
      "needs_background": "light"
     },
     "output_type": "display_data"
    }
   ],
   "source": [
    "import matplotlib.pyplot as plt\n",
    "plt.scatter(y_test, y_pred)"
   ]
  },
  {
   "cell_type": "markdown",
   "id": "a9f0d499",
   "metadata": {},
   "source": [
    "## BOCS"
   ]
  },
  {
   "cell_type": "code",
   "execution_count": null,
   "id": "9e1a9893",
   "metadata": {},
   "outputs": [],
   "source": [
    "m2 = LinReg(nVars=10, order=2,  nGibbs=500)\n",
    "m2.fit(X_train, y_train)\n",
    "y_pred = m2.predict(X_test)\n",
    "\n",
    "# Output R^2, RMSE and MAE on the test set\n",
    "score = r2_score(y_test, y_pred)\n",
    "rmse = np.sqrt(mean_squared_error(y_test, y_pred))\n",
    "mae = mean_absolute_error(y_test, y_pred)\n",
    "\n",
    "print(\"\\nTest R^2: {:.3f}\".format(score))\n",
    "print(\"Test RMSE: {:.3f} units\".format(rmse))\n",
    "print(\"Test MAE: {:.3f} units\".format(mae))"
   ]
  }
 ],
 "metadata": {
  "kernelspec": {
   "display_name": "Python 3 (ipykernel)",
   "language": "python",
   "name": "python3"
  },
  "language_info": {
   "codemirror_mode": {
    "name": "ipython",
    "version": 3
   },
   "file_extension": ".py",
   "mimetype": "text/x-python",
   "name": "python",
   "nbconvert_exporter": "python",
   "pygments_lexer": "ipython3",
   "version": "3.10.10"
  }
 },
 "nbformat": 4,
 "nbformat_minor": 5
}
