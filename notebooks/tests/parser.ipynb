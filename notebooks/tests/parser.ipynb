{
 "cells": [
  {
   "cell_type": "code",
   "execution_count": 1,
   "id": "c3e48ba0",
   "metadata": {},
   "outputs": [],
   "source": [
    "import re\n",
    "import numpy as np\n",
    "import pandas as pd\n",
    "\n",
    "def parse_results(fn):\n",
    "    f = open(fn, 'r')\n",
    "    text = f.read()\n",
    "    f.close()\n",
    "    \n",
    "    # Regular expression pattern\n",
    "    pattern = r\"Best value:\\s*(-?\\d+(?:\\.\\d+)*)((?:,\\s*-?\\d+(?:\\.\\d+)*)*)\"\n",
    "\n",
    "    # Find all matches\n",
    "    matches = re.findall(pattern, text)\n",
    "\n",
    "    # Extract numbers from matches\n",
    "    best_vals = np.array( [float(match[0]) for match in matches] )\n",
    "    \n",
    "    # Regular expression pattern\n",
    "    pattern = r\"Current value:\\s*(-?\\d+(?:\\.\\d+)*)((?:,\\s*-?\\d+(?:\\.\\d+)*)*)\"\n",
    "\n",
    "    # Find all matches\n",
    "    matches = re.findall(pattern, text)\n",
    "\n",
    "    # Extract numbers from matches\n",
    "    curr_vals = np.array( [float(match[0]) for match in matches] )\n",
    "    \n",
    "    \n",
    "    # Regular expression pattern\n",
    "    pattern = r\"Iter:\\s*(-?\\d+(?:\\.\\d+)*)((?:,\\s*-?\\d+(?:\\.\\d+)*)*)\"\n",
    "\n",
    "    # Find all matches\n",
    "    matches = re.findall(pattern, text)\n",
    "\n",
    "    # Extract numbers from matches\n",
    "    iters = np.array( [float(match[0]) for match in matches] )\n",
    "    \n",
    "    df = pd.DataFrame({\"Iter\": iters, \"best_vals\": best_vals, \"current_vals\": curr_vals})\n",
    "    \n",
    "    return df\n",
    "\n",
    "  \n"
   ]
  },
  {
   "cell_type": "code",
   "execution_count": 3,
   "id": "93340404",
   "metadata": {},
   "outputs": [],
   "source": [
    "for i in range(10):\n",
    "    fn = f'../exp_{i}_pRNA_BOCS_oMH_afEI_seed19.out'\n",
    "    df = parse_results(fn)\n",
    "    df = df.iloc[:301]\n",
    "    df.to_csv(f\"../results/pRNA/MH/exp{i}_pRNA_mBOCS_oMH_afEI_seed19.csv\")"
   ]
  },
  {
   "cell_type": "code",
   "execution_count": null,
   "id": "23e522d0",
   "metadata": {},
   "outputs": [],
   "source": []
  }
 ],
 "metadata": {
  "kernelspec": {
   "display_name": "Python 3 (ipykernel)",
   "language": "python",
   "name": "python3"
  },
  "language_info": {
   "codemirror_mode": {
    "name": "ipython",
    "version": 3
   },
   "file_extension": ".py",
   "mimetype": "text/x-python",
   "name": "python",
   "nbconvert_exporter": "python",
   "pygments_lexer": "ipython3",
   "version": "3.10.10"
  }
 },
 "nbformat": 4,
 "nbformat_minor": 5
}
