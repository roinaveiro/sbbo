{
 "cells": [
  {
   "cell_type": "code",
   "execution_count": 61,
   "id": "3f569c3d",
   "metadata": {},
   "outputs": [],
   "source": [
    "import numpy as np\n",
    "import pandas as pd\n",
    "\n",
    "from src.problems.bqp import BQP\n",
    "from src.seed_conf import generate_random_seed_contamination\n"
   ]
  },
  {
   "cell_type": "code",
   "execution_count": 62,
   "id": "109ca8ef",
   "metadata": {},
   "outputs": [
    {
     "name": "stdout",
     "output_type": "stream",
     "text": [
      "Seed 305\n"
     ]
    }
   ],
   "source": [
    "random_seed_config_ = 23\n",
    "random_seed = generate_random_seed_contamination()\n",
    "seed_ = random_seed[random_seed_config_]\n",
    "print(\"Seed\", seed_)\n",
    "# init_seed_ = sorted(random_seed_pair_[case_seed_])[int(random_seed_config_ % 5)]\n",
    "opt_prob = BQP(n=12, random_seed=seed_)"
   ]
  },
  {
   "cell_type": "code",
   "execution_count": 63,
   "id": "8a5dd439",
   "metadata": {},
   "outputs": [],
   "source": [
    "import itertools\n",
    "lst = list(itertools.product([0, 1], repeat=10))\n",
    "all_comb = np.array(lst)"
   ]
  },
  {
   "cell_type": "code",
   "execution_count": 64,
   "id": "9963539a",
   "metadata": {
    "scrolled": true
   },
   "outputs": [
    {
     "name": "stdout",
     "output_type": "stream",
     "text": [
      "0.08830790200123001\n",
      "0.9441606877408069\n",
      "2.2350262920504393\n",
      "2.9019911849399875\n",
      "4.5187698729236825\n",
      "4.834468139426429\n",
      "6.599368820116427\n",
      "7.052786056027756\n",
      "7.111707343952083\n",
      "8.93482309687312\n",
      "10.109955470287888\n",
      "10.552869456788828\n",
      "11.239633938255269\n"
     ]
    }
   ],
   "source": [
    "res = 0.0\n",
    "for i in range(all_comb.shape[0]):\n",
    "    tmp = opt_prob.compute_obj(all_comb[i], scale=False)\n",
    "    if tmp > res:\n",
    "        print(tmp)\n",
    "        res = tmp"
   ]
  }
 ],
 "metadata": {
  "kernelspec": {
   "display_name": "Python 3 (ipykernel)",
   "language": "python",
   "name": "python3"
  },
  "language_info": {
   "codemirror_mode": {
    "name": "ipython",
    "version": 3
   },
   "file_extension": ".py",
   "mimetype": "text/x-python",
   "name": "python",
   "nbconvert_exporter": "python",
   "pygments_lexer": "ipython3",
   "version": "3.11.5"
  }
 },
 "nbformat": 4,
 "nbformat_minor": 5
}
