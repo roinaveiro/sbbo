{
 "cells": [
  {
   "cell_type": "code",
   "execution_count": 3,
   "id": "b49ac645",
   "metadata": {},
   "outputs": [],
   "source": [
    "import sys\n",
    "\n",
    "# setting path\n",
    "sys.path.append('..')\n",
    "\n",
    "import numpy as np\n",
    "import time\n",
    "\n",
    "from src.models.bocs.LinReg import LinReg\n",
    "from src.models.GPr import GPr\n",
    "from ngboost import NGBRegressor\n",
    "from ngboost.distns import LogNormal, Normal, Exponential\n",
    "from ngboost.scores import CRPS, LogScore\n",
    "from xgboost import XGBRegressor\n",
    "\n",
    "# Learners\n",
    "from sklearn.linear_model import LinearRegression\n",
    "from sklearn.tree import DecisionTreeRegressor\n",
    "from sklearn.linear_model import LassoCV\n",
    "from sklearn.ensemble import RandomForestRegressor\n",
    "\n",
    "from src.problems.contamination import Contamination\n",
    "from src.problems.rna import RNA\n",
    "from src.problems.bqp import BQP\n",
    "from src.problems.latin_square import LatinSquare\n",
    "\n",
    "from src.sbbo_mh import MHSBBO\n",
    "\n",
    "from sklearn.model_selection import train_test_split\n",
    "from sklearn.metrics import r2_score, mean_squared_error, mean_absolute_error\n",
    "\n",
    "from src.uncertainty_metrics import *\n"
   ]
  },
  {
   "cell_type": "markdown",
   "id": "96180d48",
   "metadata": {},
   "source": [
    "# Convergence"
   ]
  },
  {
   "cell_type": "code",
   "execution_count": 9,
   "id": "55489a88",
   "metadata": {},
   "outputs": [],
   "source": [
    "N = 300\n",
    "opt_prob = Contamination(n=N, lamda=0.0001)"
   ]
  },
  {
   "cell_type": "code",
   "execution_count": 11,
   "id": "0984167a",
   "metadata": {},
   "outputs": [
    {
     "name": "stdout",
     "output_type": "stream",
     "text": [
      "Percentage completed: 0.0\n",
      "Current quality 0.00012004892231025714\n",
      "Percentage completed: 2.0\n",
      "Current quality 0.00010000000000000003\n",
      "Percentage completed: 4.0\n",
      "Current quality 0.00010000000000000003\n",
      "Percentage completed: 6.0\n",
      "Current quality 0.00010530686527180094\n",
      "Percentage completed: 8.0\n",
      "Current quality 0.0002159919338538509\n",
      "Percentage completed: 10.0\n",
      "Current quality 0.000354004476780882\n",
      "Percentage completed: 12.0\n",
      "Current quality 0.015315916208123205\n",
      "Percentage completed: 14.0\n",
      "Current quality 0.03298491430981363\n",
      "Percentage completed: 16.0\n",
      "Current quality 0.038340892577500306\n",
      "Percentage completed: 18.0\n",
      "Current quality 0.08730819770134113\n"
     ]
    },
    {
     "name": "stderr",
     "output_type": "stream",
     "text": [
      "/Users/roinaveiro/Library/CloudStorage/OneDrive-CUNEF/CUNEF/research/sbbo/notebooks/../src/sbbo_mh.py:70: RuntimeWarning: overflow encountered in exp\n",
      "  prob =  np.exp(H*value - H*value_old)\n"
     ]
    },
    {
     "name": "stdout",
     "output_type": "stream",
     "text": [
      "Percentage completed: 20.0\n",
      "Current quality 0.1640914816210057\n",
      "Percentage completed: 22.0\n",
      "Current quality 0.1733740696258273\n",
      "Percentage completed: 24.0\n",
      "Current quality 0.15772778921885225\n",
      "Percentage completed: 26.0\n",
      "Current quality 0.16353606041463922\n",
      "Percentage completed: 28.0\n",
      "Current quality 0.1629674944504709\n",
      "Percentage completed: 30.0\n",
      "Current quality 0.16680717935393424\n"
     ]
    },
    {
     "name": "stderr",
     "output_type": "stream",
     "text": [
      "/Users/roinaveiro/Library/CloudStorage/OneDrive-CUNEF/CUNEF/research/sbbo/notebooks/../src/sbbo_mh.py:70: RuntimeWarning: overflow encountered in exp\n",
      "  prob =  np.exp(H*value - H*value_old)\n"
     ]
    },
    {
     "name": "stdout",
     "output_type": "stream",
     "text": [
      "Percentage completed: 32.0\n",
      "Current quality 0.3278743091407705\n",
      "Percentage completed: 34.0\n",
      "Current quality 0.3219484965730412\n",
      "Percentage completed: 36.0\n",
      "Current quality 0.32627481106121065\n",
      "Percentage completed: 38.0\n",
      "Current quality 0.32627323763493216\n",
      "Percentage completed: 40.0\n",
      "Current quality 0.33394968809841497\n",
      "Percentage completed: 42.0\n",
      "Current quality 0.32972029378399137\n",
      "Percentage completed: 44.0\n",
      "Current quality 0.35687468931358257\n",
      "Percentage completed: 46.0\n",
      "Current quality 0.34101459612964197\n",
      "Percentage completed: 48.0\n",
      "Current quality 0.3500420919696985\n",
      "Percentage completed: 50.0\n",
      "Current quality 0.3479165594420054\n",
      "Percentage completed: 52.0\n",
      "Current quality 0.3451448524366235\n",
      "Percentage completed: 54.0\n",
      "Current quality 0.3437873294004521\n",
      "Percentage completed: 56.0\n",
      "Current quality 0.36535408087477933\n",
      "Percentage completed: 58.0\n",
      "Current quality 0.3427431707441104\n",
      "Percentage completed: 60.0\n",
      "Current quality 0.34708209854380984\n",
      "Percentage completed: 62.0\n",
      "Current quality 0.34107150822366367\n",
      "Percentage completed: 64.0\n",
      "Current quality 0.35107839006665686\n",
      "Percentage completed: 66.0\n",
      "Current quality 0.3395231099801468\n",
      "Percentage completed: 68.0\n",
      "Current quality 0.34013136817460804\n",
      "Percentage completed: 70.0\n",
      "Current quality 0.34565190021542613\n",
      "Percentage completed: 72.0\n",
      "Current quality 0.3404259967694065\n",
      "Percentage completed: 74.0\n",
      "Current quality 0.3615845379687622\n",
      "Percentage completed: 76.0\n",
      "Current quality 0.3419944920145789\n",
      "Percentage completed: 78.0\n",
      "Current quality 0.33754247146495164\n",
      "Percentage completed: 80.0\n",
      "Current quality 0.3360540059348597\n",
      "Percentage completed: 82.0\n",
      "Current quality 0.3513410387297863\n",
      "Percentage completed: 84.0\n",
      "Current quality 0.3259081490002002\n",
      "Percentage completed: 86.0\n",
      "Current quality 0.3524639855049713\n",
      "Percentage completed: 88.0\n",
      "Current quality 0.3411326767175421\n",
      "Percentage completed: 90.0\n",
      "Current quality 0.3501015866670326\n",
      "Percentage completed: 92.0\n",
      "Current quality 0.33916811840637995\n",
      "Percentage completed: 94.0\n",
      "Current quality 0.358443722515821\n",
      "Percentage completed: 96.0\n",
      "Current quality 0.3487750982617722\n",
      "Percentage completed: 98.0\n",
      "Current quality 0.35045380135538795\n"
     ]
    }
   ],
   "source": [
    "params = {}\n",
    "params[\"cooling_schedule\"] = np.arange(50, 5000, 100)\n",
    "params[\"burnin\"] = 0.8\n",
    "params[\"modal\"]  = False\n",
    "params[\"af\"] = \"EI\"\n",
    "\n",
    "learner = GPr()\n",
    "params[\"model\"] = learner\n",
    "\n",
    "search = MHSBBO(opt_prob, params)\n",
    "\n",
    "df = search.compute_trace()"
   ]
  },
  {
   "cell_type": "markdown",
   "id": "2ff7f02a",
   "metadata": {},
   "source": [
    "# Accuracy"
   ]
  },
  {
   "cell_type": "markdown",
   "id": "8ff9ea34",
   "metadata": {},
   "source": [
    "# Contamination problem"
   ]
  },
  {
   "cell_type": "code",
   "execution_count": 2,
   "id": "f45612ab",
   "metadata": {},
   "outputs": [],
   "source": [
    "N = 50\n",
    "opt = Contamination(n=N, lamda=0.0001)\n",
    "X = opt.X\n",
    "y = opt.y\n",
    "test_set_size = 0.3\n",
    "X_train, X_test, y_train, y_test = train_test_split(X, y, test_size=test_set_size, random_state=0)"
   ]
  },
  {
   "cell_type": "markdown",
   "id": "be302e36",
   "metadata": {},
   "source": [
    "## GP"
   ]
  },
  {
   "cell_type": "code",
   "execution_count": 3,
   "id": "881a694f",
   "metadata": {},
   "outputs": [
    {
     "name": "stderr",
     "output_type": "stream",
     "text": [
      "/Users/roinaveiro/miniconda/envs/tf-sbbo/lib/python3.8/site-packages/gpflow/experimental/utils.py:42: UserWarning: You're calling gpflow.experimental.check_shapes.checker.ShapeChecker.__init__ which is considered *experimental*. Expect: breaking changes, poor documentation, and bugs.\n",
      "  warn(\n"
     ]
    },
    {
     "name": "stdout",
     "output_type": "stream",
     "text": [
      "\n",
      "Test R^2: 0.504\n",
      "Test RMSE: 0.358 units\n",
      "Test MAE: 0.275 units\n"
     ]
    }
   ],
   "source": [
    "m1 = GPr()\n",
    "m1.fit(X_train, y_train)\n",
    "y_pred = m1.predict(X_test)\n",
    "\n",
    "# Output R^2, RMSE and MAE on the test set\n",
    "score = r2_score(y_test, y_pred)\n",
    "rmse = np.sqrt(mean_squared_error(y_test, y_pred))\n",
    "mae = mean_absolute_error(y_test, y_pred)\n",
    "\n",
    "print(\"\\nTest R^2: {:.3f}\".format(score))\n",
    "print(\"Test RMSE: {:.3f} units\".format(rmse))\n",
    "print(\"Test MAE: {:.3f} units\".format(mae))"
   ]
  },
  {
   "cell_type": "code",
   "execution_count": 4,
   "id": "9ba0ee60",
   "metadata": {},
   "outputs": [
    {
     "name": "stdout",
     "output_type": "stream",
     "text": [
      "[0.         0.14736842 0.09473684 0.04210526 0.25614035 0.20350877\n",
      " 0.15087719 0.09824561 0.04561404 0.12631579 0.07368421 0.15438596\n",
      " 0.10175439 0.11578947 0.06315789 0.01052632 0.0245614  0.10526316\n",
      " 0.05263158 0.        ]\n"
     ]
    }
   ],
   "source": [
    "y_pred_d = m1.pred_dist(X_test)\n",
    "scorer = CVPPDiagram()\n",
    "qs, Cqs = scorer.compute(y_test, y_pred_d.mean(), y_pred_d.var, num_bins=20)\n",
    "print(np.abs(qs - Cqs))"
   ]
  },
  {
   "cell_type": "code",
   "execution_count": 5,
   "id": "d5232e04",
   "metadata": {},
   "outputs": [
    {
     "data": {
      "text/plain": [
       "0.09912280701754389"
      ]
     },
     "execution_count": 5,
     "metadata": {},
     "output_type": "execute_result"
    }
   ],
   "source": [
    "scorer = AbsoluteMiscalibrationArea()\n",
    "scorer.compute(y_test, y_pred_d.mean(), y_pred_d.var, num_bins=20)"
   ]
  },
  {
   "cell_type": "code",
   "execution_count": 6,
   "id": "46387466",
   "metadata": {},
   "outputs": [
    {
     "data": {
      "text/plain": [
       "(array([0.        , 0.11111111, 0.22222222, 0.33333333, 0.44444444,\n",
       "        0.55555556, 0.66666667, 0.77777778, 0.88888889, 1.        ]),\n",
       " array([0.        , 0.26666667, 0.46666667, 0.53333333, 0.73333333,\n",
       "        0.8       , 0.86666667, 1.        , 1.        , 1.        ]))"
      ]
     },
     "execution_count": 6,
     "metadata": {},
     "output_type": "execute_result"
    }
   ],
   "source": [
    "scorer = CoveragePlot()\n",
    "scorer.compute(y_test, y_pred_d)"
   ]
  },
  {
   "cell_type": "markdown",
   "id": "535e1b54",
   "metadata": {},
   "source": [
    "## BOCS"
   ]
  },
  {
   "cell_type": "code",
   "execution_count": 7,
   "id": "ac0ea0da",
   "metadata": {},
   "outputs": [
    {
     "name": "stdout",
     "output_type": "stream",
     "text": [
      "Attempt Gibbs 1\n",
      "Iter Gibbs 0\n",
      "Iter Gibbs 100\n",
      "Iter Gibbs 200\n",
      "Iter Gibbs 300\n",
      "Iter Gibbs 400\n",
      "Iter Gibbs 500\n",
      "Iter Gibbs 600\n",
      "Iter Gibbs 700\n",
      "Iter Gibbs 800\n",
      "Iter Gibbs 900\n",
      "Iter Gibbs 1000\n",
      "Iter Gibbs 1100\n",
      "Iter Gibbs 1200\n",
      "Iter Gibbs 1300\n",
      "Iter Gibbs 1400\n",
      "Iter Gibbs 1500\n",
      "Iter Gibbs 1600\n",
      "Iter Gibbs 1700\n",
      "Iter Gibbs 1800\n",
      "Iter Gibbs 1900\n",
      "\n",
      "Test R^2: 0.437\n",
      "Test RMSE: 0.381 units\n",
      "Test MAE: 0.319 units\n"
     ]
    }
   ],
   "source": [
    "m2 = LinReg(nVars=25, order=2)\n",
    "m2.fit(X_train, y_train)\n",
    "y_pred = m2.predict(X_test)\n",
    "\n",
    "# Output R^2, RMSE and MAE on the test set\n",
    "score = r2_score(y_test, y_pred)\n",
    "rmse = np.sqrt(mean_squared_error(y_test, y_pred))\n",
    "mae = mean_absolute_error(y_test, y_pred)\n",
    "\n",
    "print(\"\\nTest R^2: {:.3f}\".format(score))\n",
    "print(\"Test RMSE: {:.3f} units\".format(rmse))\n",
    "print(\"Test MAE: {:.3f} units\".format(mae))"
   ]
  },
  {
   "cell_type": "code",
   "execution_count": 8,
   "id": "5f6c1704",
   "metadata": {},
   "outputs": [
    {
     "data": {
      "text/plain": [
       "(array([0.        , 0.11111111, 0.22222222, 0.33333333, 0.44444444,\n",
       "        0.55555556, 0.66666667, 0.77777778, 0.88888889, 1.        ]),\n",
       " array([0.        , 0.33333333, 0.46666667, 0.53333333, 0.8       ,\n",
       "        0.86666667, 0.86666667, 1.        , 1.        , 1.        ]))"
      ]
     },
     "execution_count": 8,
     "metadata": {},
     "output_type": "execute_result"
    }
   ],
   "source": [
    "scorer = CoveragePlot()\n",
    "scorer.compute(y_test, y_pred_d)"
   ]
  },
  {
   "cell_type": "markdown",
   "id": "04ddf322",
   "metadata": {},
   "source": [
    "## NGBoost - LinCV"
   ]
  },
  {
   "cell_type": "code",
   "execution_count": 9,
   "id": "c04aad5e",
   "metadata": {
    "scrolled": true
   },
   "outputs": [
    {
     "name": "stderr",
     "output_type": "stream",
     "text": [
      "/Users/roinaveiro/miniconda/envs/tf-sbbo/lib/python3.8/site-packages/sklearn/linear_model/_coordinate_descent.py:617: ConvergenceWarning: Objective did not converge. You might want to increase the number of iterations. Duality gap: 0.0009907772148451954, tolerance: 0.0006706648357817989\n",
      "  model = cd_fast.enet_coordinate_descent_gram(\n",
      "/Users/roinaveiro/miniconda/envs/tf-sbbo/lib/python3.8/site-packages/sklearn/linear_model/_coordinate_descent.py:617: ConvergenceWarning: Objective did not converge. You might want to increase the number of iterations. Duality gap: 0.0009539273625311928, tolerance: 0.0006706648357817989\n",
      "  model = cd_fast.enet_coordinate_descent_gram(\n",
      "/Users/roinaveiro/miniconda/envs/tf-sbbo/lib/python3.8/site-packages/sklearn/linear_model/_coordinate_descent.py:617: ConvergenceWarning: Objective did not converge. You might want to increase the number of iterations. Duality gap: 0.0008080263329934834, tolerance: 0.0006706648357817989\n",
      "  model = cd_fast.enet_coordinate_descent_gram(\n",
      "/Users/roinaveiro/miniconda/envs/tf-sbbo/lib/python3.8/site-packages/sklearn/linear_model/_coordinate_descent.py:617: ConvergenceWarning: Objective did not converge. You might want to increase the number of iterations. Duality gap: 0.0007782935466382757, tolerance: 0.0006706648357817989\n",
      "  model = cd_fast.enet_coordinate_descent_gram(\n",
      "/Users/roinaveiro/miniconda/envs/tf-sbbo/lib/python3.8/site-packages/sklearn/linear_model/_coordinate_descent.py:617: ConvergenceWarning: Objective did not converge. You might want to increase the number of iterations. Duality gap: 0.0007434565746691213, tolerance: 0.0006706648357817989\n",
      "  model = cd_fast.enet_coordinate_descent_gram(\n",
      "/Users/roinaveiro/miniconda/envs/tf-sbbo/lib/python3.8/site-packages/sklearn/linear_model/_coordinate_descent.py:617: ConvergenceWarning: Objective did not converge. You might want to increase the number of iterations. Duality gap: 0.0007087265571081858, tolerance: 0.0006706648357817989\n",
      "  model = cd_fast.enet_coordinate_descent_gram(\n",
      "/Users/roinaveiro/miniconda/envs/tf-sbbo/lib/python3.8/site-packages/sklearn/linear_model/_coordinate_descent.py:617: ConvergenceWarning: Objective did not converge. You might want to increase the number of iterations. Duality gap: 0.0006745051154699588, tolerance: 0.0006706648357817989\n",
      "  model = cd_fast.enet_coordinate_descent_gram(\n",
      "/Users/roinaveiro/miniconda/envs/tf-sbbo/lib/python3.8/site-packages/sklearn/linear_model/_coordinate_descent.py:617: ConvergenceWarning: Objective did not converge. You might want to increase the number of iterations. Duality gap: 0.0008799535967789485, tolerance: 0.0006044031953553947\n",
      "  model = cd_fast.enet_coordinate_descent_gram(\n",
      "/Users/roinaveiro/miniconda/envs/tf-sbbo/lib/python3.8/site-packages/sklearn/linear_model/_coordinate_descent.py:617: ConvergenceWarning: Objective did not converge. You might want to increase the number of iterations. Duality gap: 0.0008512359531149816, tolerance: 0.0006044031953553947\n",
      "  model = cd_fast.enet_coordinate_descent_gram(\n",
      "/Users/roinaveiro/miniconda/envs/tf-sbbo/lib/python3.8/site-packages/sklearn/linear_model/_coordinate_descent.py:617: ConvergenceWarning: Objective did not converge. You might want to increase the number of iterations. Duality gap: 0.0008313501739438678, tolerance: 0.0006044031953553947\n",
      "  model = cd_fast.enet_coordinate_descent_gram(\n",
      "/Users/roinaveiro/miniconda/envs/tf-sbbo/lib/python3.8/site-packages/sklearn/linear_model/_coordinate_descent.py:617: ConvergenceWarning: Objective did not converge. You might want to increase the number of iterations. Duality gap: 0.0007205294214551738, tolerance: 0.0006044031953553947\n",
      "  model = cd_fast.enet_coordinate_descent_gram(\n",
      "/Users/roinaveiro/miniconda/envs/tf-sbbo/lib/python3.8/site-packages/sklearn/linear_model/_coordinate_descent.py:617: ConvergenceWarning: Objective did not converge. You might want to increase the number of iterations. Duality gap: 0.0006939560853372884, tolerance: 0.0006044031953553947\n",
      "  model = cd_fast.enet_coordinate_descent_gram(\n",
      "/Users/roinaveiro/miniconda/envs/tf-sbbo/lib/python3.8/site-packages/sklearn/linear_model/_coordinate_descent.py:617: ConvergenceWarning: Objective did not converge. You might want to increase the number of iterations. Duality gap: 0.0006630047442158782, tolerance: 0.0006044031953553947\n",
      "  model = cd_fast.enet_coordinate_descent_gram(\n",
      "/Users/roinaveiro/miniconda/envs/tf-sbbo/lib/python3.8/site-packages/sklearn/linear_model/_coordinate_descent.py:617: ConvergenceWarning: Objective did not converge. You might want to increase the number of iterations. Duality gap: 0.0006321388447846354, tolerance: 0.0006044031953553947\n",
      "  model = cd_fast.enet_coordinate_descent_gram(\n",
      "/Users/roinaveiro/miniconda/envs/tf-sbbo/lib/python3.8/site-packages/sklearn/linear_model/_coordinate_descent.py:617: ConvergenceWarning: Objective did not converge. You might want to increase the number of iterations. Duality gap: 0.0006870929850910645, tolerance: 0.0005467076321105052\n",
      "  model = cd_fast.enet_coordinate_descent_gram(\n",
      "/Users/roinaveiro/miniconda/envs/tf-sbbo/lib/python3.8/site-packages/sklearn/linear_model/_coordinate_descent.py:617: ConvergenceWarning: Objective did not converge. You might want to increase the number of iterations. Duality gap: 0.0007652979347952948, tolerance: 0.0005467076321105052\n",
      "  model = cd_fast.enet_coordinate_descent_gram(\n",
      "/Users/roinaveiro/miniconda/envs/tf-sbbo/lib/python3.8/site-packages/sklearn/linear_model/_coordinate_descent.py:617: ConvergenceWarning: Objective did not converge. You might want to increase the number of iterations. Duality gap: 0.0007433653577381127, tolerance: 0.0005467076321105052\n",
      "  model = cd_fast.enet_coordinate_descent_gram(\n",
      "/Users/roinaveiro/miniconda/envs/tf-sbbo/lib/python3.8/site-packages/sklearn/linear_model/_coordinate_descent.py:617: ConvergenceWarning: Objective did not converge. You might want to increase the number of iterations. Duality gap: 0.0006447614288164205, tolerance: 0.0005467076321105052\n",
      "  model = cd_fast.enet_coordinate_descent_gram(\n",
      "/Users/roinaveiro/miniconda/envs/tf-sbbo/lib/python3.8/site-packages/sklearn/linear_model/_coordinate_descent.py:617: ConvergenceWarning: Objective did not converge. You might want to increase the number of iterations. Duality gap: 0.0006209158183626551, tolerance: 0.0005467076321105052\n",
      "  model = cd_fast.enet_coordinate_descent_gram(\n",
      "/Users/roinaveiro/miniconda/envs/tf-sbbo/lib/python3.8/site-packages/sklearn/linear_model/_coordinate_descent.py:617: ConvergenceWarning: Objective did not converge. You might want to increase the number of iterations. Duality gap: 0.0005933324742156687, tolerance: 0.0005467076321105052\n",
      "  model = cd_fast.enet_coordinate_descent_gram(\n",
      "/Users/roinaveiro/miniconda/envs/tf-sbbo/lib/python3.8/site-packages/sklearn/linear_model/_coordinate_descent.py:617: ConvergenceWarning: Objective did not converge. You might want to increase the number of iterations. Duality gap: 0.0005658153181384851, tolerance: 0.0005467076321105052\n",
      "  model = cd_fast.enet_coordinate_descent_gram(\n",
      "/Users/roinaveiro/miniconda/envs/tf-sbbo/lib/python3.8/site-packages/sklearn/linear_model/_coordinate_descent.py:617: ConvergenceWarning: Objective did not converge. You might want to increase the number of iterations. Duality gap: 0.0007020603418411708, tolerance: 0.0004960396811231299\n",
      "  model = cd_fast.enet_coordinate_descent_gram(\n",
      "/Users/roinaveiro/miniconda/envs/tf-sbbo/lib/python3.8/site-packages/sklearn/linear_model/_coordinate_descent.py:617: ConvergenceWarning: Objective did not converge. You might want to increase the number of iterations. Duality gap: 0.0006888018438626631, tolerance: 0.0004960396811231299\n",
      "  model = cd_fast.enet_coordinate_descent_gram(\n",
      "/Users/roinaveiro/miniconda/envs/tf-sbbo/lib/python3.8/site-packages/sklearn/linear_model/_coordinate_descent.py:617: ConvergenceWarning: Objective did not converge. You might want to increase the number of iterations. Duality gap: 0.0006667944692787531, tolerance: 0.0004960396811231299\n",
      "  model = cd_fast.enet_coordinate_descent_gram(\n",
      "/Users/roinaveiro/miniconda/envs/tf-sbbo/lib/python3.8/site-packages/sklearn/linear_model/_coordinate_descent.py:617: ConvergenceWarning: Objective did not converge. You might want to increase the number of iterations. Duality gap: 0.000578863571741639, tolerance: 0.0004960396811231299\n",
      "  model = cd_fast.enet_coordinate_descent_gram(\n",
      "/Users/roinaveiro/miniconda/envs/tf-sbbo/lib/python3.8/site-packages/sklearn/linear_model/_coordinate_descent.py:617: ConvergenceWarning: Objective did not converge. You might want to increase the number of iterations. Duality gap: 0.0005574096857338118, tolerance: 0.0004960396811231299\n",
      "  model = cd_fast.enet_coordinate_descent_gram(\n",
      "/Users/roinaveiro/miniconda/envs/tf-sbbo/lib/python3.8/site-packages/sklearn/linear_model/_coordinate_descent.py:617: ConvergenceWarning: Objective did not converge. You might want to increase the number of iterations. Duality gap: 0.0005327484678524508, tolerance: 0.0004960396811231299\n",
      "  model = cd_fast.enet_coordinate_descent_gram(\n",
      "/Users/roinaveiro/miniconda/envs/tf-sbbo/lib/python3.8/site-packages/sklearn/linear_model/_coordinate_descent.py:617: ConvergenceWarning: Objective did not converge. You might want to increase the number of iterations. Duality gap: 0.0005081368552906085, tolerance: 0.0004960396811231299\n",
      "  model = cd_fast.enet_coordinate_descent_gram(\n"
     ]
    },
    {
     "name": "stdout",
     "output_type": "stream",
     "text": [
      "[iter 0] loss=0.9623 val_loss=0.0000 scale=2.0000 norm=1.4851\n"
     ]
    },
    {
     "name": "stderr",
     "output_type": "stream",
     "text": [
      "/Users/roinaveiro/miniconda/envs/tf-sbbo/lib/python3.8/site-packages/sklearn/linear_model/_coordinate_descent.py:617: ConvergenceWarning: Objective did not converge. You might want to increase the number of iterations. Duality gap: 0.0006325715651473995, tolerance: 0.00045275309780362893\n",
      "  model = cd_fast.enet_coordinate_descent_gram(\n",
      "/Users/roinaveiro/miniconda/envs/tf-sbbo/lib/python3.8/site-packages/sklearn/linear_model/_coordinate_descent.py:617: ConvergenceWarning: Objective did not converge. You might want to increase the number of iterations. Duality gap: 0.0006207223683556418, tolerance: 0.00045275309780362893\n",
      "  model = cd_fast.enet_coordinate_descent_gram(\n",
      "/Users/roinaveiro/miniconda/envs/tf-sbbo/lib/python3.8/site-packages/sklearn/linear_model/_coordinate_descent.py:617: ConvergenceWarning: Objective did not converge. You might want to increase the number of iterations. Duality gap: 0.0006011066022237888, tolerance: 0.00045275309780362893\n",
      "  model = cd_fast.enet_coordinate_descent_gram(\n",
      "/Users/roinaveiro/miniconda/envs/tf-sbbo/lib/python3.8/site-packages/sklearn/linear_model/_coordinate_descent.py:617: ConvergenceWarning: Objective did not converge. You might want to increase the number of iterations. Duality gap: 0.0005146529389060683, tolerance: 0.00045275309780362893\n",
      "  model = cd_fast.enet_coordinate_descent_gram(\n",
      "/Users/roinaveiro/miniconda/envs/tf-sbbo/lib/python3.8/site-packages/sklearn/linear_model/_coordinate_descent.py:617: ConvergenceWarning: Objective did not converge. You might want to increase the number of iterations. Duality gap: 0.0005027110001483148, tolerance: 0.00045275309780362893\n",
      "  model = cd_fast.enet_coordinate_descent_gram(\n",
      "/Users/roinaveiro/miniconda/envs/tf-sbbo/lib/python3.8/site-packages/sklearn/linear_model/_coordinate_descent.py:617: ConvergenceWarning: Objective did not converge. You might want to increase the number of iterations. Duality gap: 0.00048080240363634896, tolerance: 0.00045275309780362893\n",
      "  model = cd_fast.enet_coordinate_descent_gram(\n",
      "/Users/roinaveiro/miniconda/envs/tf-sbbo/lib/python3.8/site-packages/sklearn/linear_model/_coordinate_descent.py:617: ConvergenceWarning: Objective did not converge. You might want to increase the number of iterations. Duality gap: 0.00045870987568330523, tolerance: 0.00045275309780362893\n",
      "  model = cd_fast.enet_coordinate_descent_gram(\n",
      "/Users/roinaveiro/miniconda/envs/tf-sbbo/lib/python3.8/site-packages/sklearn/linear_model/_coordinate_descent.py:617: ConvergenceWarning: Objective did not converge. You might want to increase the number of iterations. Duality gap: 0.0004842779473390735, tolerance: 0.000414551299080972\n",
      "  model = cd_fast.enet_coordinate_descent_gram(\n",
      "/Users/roinaveiro/miniconda/envs/tf-sbbo/lib/python3.8/site-packages/sklearn/linear_model/_coordinate_descent.py:617: ConvergenceWarning: Objective did not converge. You might want to increase the number of iterations. Duality gap: 0.0005739142001400799, tolerance: 0.000414551299080972\n",
      "  model = cd_fast.enet_coordinate_descent_gram(\n",
      "/Users/roinaveiro/miniconda/envs/tf-sbbo/lib/python3.8/site-packages/sklearn/linear_model/_coordinate_descent.py:617: ConvergenceWarning: Objective did not converge. You might want to increase the number of iterations. Duality gap: 0.0005612074242722365, tolerance: 0.000414551299080972\n",
      "  model = cd_fast.enet_coordinate_descent_gram(\n",
      "/Users/roinaveiro/miniconda/envs/tf-sbbo/lib/python3.8/site-packages/sklearn/linear_model/_coordinate_descent.py:617: ConvergenceWarning: Objective did not converge. You might want to increase the number of iterations. Duality gap: 0.0005436198029414863, tolerance: 0.000414551299080972\n",
      "  model = cd_fast.enet_coordinate_descent_gram(\n",
      "/Users/roinaveiro/miniconda/envs/tf-sbbo/lib/python3.8/site-packages/sklearn/linear_model/_coordinate_descent.py:617: ConvergenceWarning: Objective did not converge. You might want to increase the number of iterations. Duality gap: 0.0005245958160221553, tolerance: 0.000414551299080972\n",
      "  model = cd_fast.enet_coordinate_descent_gram(\n",
      "/Users/roinaveiro/miniconda/envs/tf-sbbo/lib/python3.8/site-packages/sklearn/linear_model/_coordinate_descent.py:617: ConvergenceWarning: Objective did not converge. You might want to increase the number of iterations. Duality gap: 0.00044512802156337905, tolerance: 0.000414551299080972\n",
      "  model = cd_fast.enet_coordinate_descent_gram(\n",
      "/Users/roinaveiro/miniconda/envs/tf-sbbo/lib/python3.8/site-packages/sklearn/linear_model/_coordinate_descent.py:617: ConvergenceWarning: Objective did not converge. You might want to increase the number of iterations. Duality gap: 0.0004544678835883831, tolerance: 0.000414551299080972\n",
      "  model = cd_fast.enet_coordinate_descent_gram(\n",
      "/Users/roinaveiro/miniconda/envs/tf-sbbo/lib/python3.8/site-packages/sklearn/linear_model/_coordinate_descent.py:617: ConvergenceWarning: Objective did not converge. You might want to increase the number of iterations. Duality gap: 0.0004353504645983053, tolerance: 0.000414551299080972\n",
      "  model = cd_fast.enet_coordinate_descent_gram(\n",
      "/Users/roinaveiro/miniconda/envs/tf-sbbo/lib/python3.8/site-packages/sklearn/linear_model/_coordinate_descent.py:617: ConvergenceWarning: Objective did not converge. You might want to increase the number of iterations. Duality gap: 0.0004154702870526883, tolerance: 0.000414551299080972\n",
      "  model = cd_fast.enet_coordinate_descent_gram(\n",
      "/Users/roinaveiro/miniconda/envs/tf-sbbo/lib/python3.8/site-packages/sklearn/linear_model/_coordinate_descent.py:617: ConvergenceWarning: Objective did not converge. You might want to increase the number of iterations. Duality gap: 0.00051786420085842, tolerance: 0.00038038830695754326\n",
      "  model = cd_fast.enet_coordinate_descent_gram(\n",
      "/Users/roinaveiro/miniconda/envs/tf-sbbo/lib/python3.8/site-packages/sklearn/linear_model/_coordinate_descent.py:617: ConvergenceWarning: Objective did not converge. You might want to increase the number of iterations. Duality gap: 0.000508326558341432, tolerance: 0.00038038830695754326\n",
      "  model = cd_fast.enet_coordinate_descent_gram(\n",
      "/Users/roinaveiro/miniconda/envs/tf-sbbo/lib/python3.8/site-packages/sklearn/linear_model/_coordinate_descent.py:617: ConvergenceWarning: Objective did not converge. You might want to increase the number of iterations. Duality gap: 0.0004926488651499916, tolerance: 0.00038038830695754326\n",
      "  model = cd_fast.enet_coordinate_descent_gram(\n",
      "/Users/roinaveiro/miniconda/envs/tf-sbbo/lib/python3.8/site-packages/sklearn/linear_model/_coordinate_descent.py:617: ConvergenceWarning: Objective did not converge. You might want to increase the number of iterations. Duality gap: 0.00047558302753503146, tolerance: 0.00038038830695754326\n",
      "  model = cd_fast.enet_coordinate_descent_gram(\n",
      "/Users/roinaveiro/miniconda/envs/tf-sbbo/lib/python3.8/site-packages/sklearn/linear_model/_coordinate_descent.py:617: ConvergenceWarning: Objective did not converge. You might want to increase the number of iterations. Duality gap: 0.000383889403779869, tolerance: 0.00038038830695754326\n",
      "  model = cd_fast.enet_coordinate_descent_gram(\n",
      "/Users/roinaveiro/miniconda/envs/tf-sbbo/lib/python3.8/site-packages/sklearn/linear_model/_coordinate_descent.py:617: ConvergenceWarning: Objective did not converge. You might want to increase the number of iterations. Duality gap: 0.0004117058390430417, tolerance: 0.00038038830695754326\n",
      "  model = cd_fast.enet_coordinate_descent_gram(\n",
      "/Users/roinaveiro/miniconda/envs/tf-sbbo/lib/python3.8/site-packages/sklearn/linear_model/_coordinate_descent.py:617: ConvergenceWarning: Objective did not converge. You might want to increase the number of iterations. Duality gap: 0.0003950487445139039, tolerance: 0.00038038830695754326\n",
      "  model = cd_fast.enet_coordinate_descent_gram(\n",
      "/Users/roinaveiro/miniconda/envs/tf-sbbo/lib/python3.8/site-packages/sklearn/linear_model/_coordinate_descent.py:617: ConvergenceWarning: Objective did not converge. You might want to increase the number of iterations. Duality gap: 0.0004699264792368263, tolerance: 0.0003497442959888697\n",
      "  model = cd_fast.enet_coordinate_descent_gram(\n",
      "/Users/roinaveiro/miniconda/envs/tf-sbbo/lib/python3.8/site-packages/sklearn/linear_model/_coordinate_descent.py:617: ConvergenceWarning: Objective did not converge. You might want to increase the number of iterations. Duality gap: 0.0004613484949541613, tolerance: 0.0003497442959888697\n",
      "  model = cd_fast.enet_coordinate_descent_gram(\n",
      "/Users/roinaveiro/miniconda/envs/tf-sbbo/lib/python3.8/site-packages/sklearn/linear_model/_coordinate_descent.py:617: ConvergenceWarning: Objective did not converge. You might want to increase the number of iterations. Duality gap: 0.0004473076055816483, tolerance: 0.0003497442959888697\n",
      "  model = cd_fast.enet_coordinate_descent_gram(\n",
      "/Users/roinaveiro/miniconda/envs/tf-sbbo/lib/python3.8/site-packages/sklearn/linear_model/_coordinate_descent.py:617: ConvergenceWarning: Objective did not converge. You might want to increase the number of iterations. Duality gap: 0.0004319766505767042, tolerance: 0.0003497442959888697\n",
      "  model = cd_fast.enet_coordinate_descent_gram(\n",
      "/Users/roinaveiro/miniconda/envs/tf-sbbo/lib/python3.8/site-packages/sklearn/linear_model/_coordinate_descent.py:617: ConvergenceWarning: Objective did not converge. You might want to increase the number of iterations. Duality gap: 0.0003742608741522657, tolerance: 0.0003497442959888697\n",
      "  model = cd_fast.enet_coordinate_descent_gram(\n",
      "/Users/roinaveiro/miniconda/envs/tf-sbbo/lib/python3.8/site-packages/sklearn/linear_model/_coordinate_descent.py:617: ConvergenceWarning: Objective did not converge. You might want to increase the number of iterations. Duality gap: 0.0003592078391226883, tolerance: 0.0003497442959888697\n",
      "  model = cd_fast.enet_coordinate_descent_gram(\n"
     ]
    },
    {
     "name": "stderr",
     "output_type": "stream",
     "text": [
      "/Users/roinaveiro/miniconda/envs/tf-sbbo/lib/python3.8/site-packages/sklearn/linear_model/_coordinate_descent.py:617: ConvergenceWarning: Objective did not converge. You might want to increase the number of iterations. Duality gap: 0.00034678001793675417, tolerance: 0.0003221798582033473\n",
      "  model = cd_fast.enet_coordinate_descent_gram(\n",
      "/Users/roinaveiro/miniconda/envs/tf-sbbo/lib/python3.8/site-packages/sklearn/linear_model/_coordinate_descent.py:617: ConvergenceWarning: Objective did not converge. You might want to increase the number of iterations. Duality gap: 0.0004005637124095962, tolerance: 0.0003221798582033473\n",
      "  model = cd_fast.enet_coordinate_descent_gram(\n",
      "/Users/roinaveiro/miniconda/envs/tf-sbbo/lib/python3.8/site-packages/sklearn/linear_model/_coordinate_descent.py:617: ConvergenceWarning: Objective did not converge. You might want to increase the number of iterations. Duality gap: 0.00041862954122351415, tolerance: 0.0003221798582033473\n",
      "  model = cd_fast.enet_coordinate_descent_gram(\n",
      "/Users/roinaveiro/miniconda/envs/tf-sbbo/lib/python3.8/site-packages/sklearn/linear_model/_coordinate_descent.py:617: ConvergenceWarning: Objective did not converge. You might want to increase the number of iterations. Duality gap: 0.00040682240024980665, tolerance: 0.0003221798582033473\n",
      "  model = cd_fast.enet_coordinate_descent_gram(\n",
      "/Users/roinaveiro/miniconda/envs/tf-sbbo/lib/python3.8/site-packages/sklearn/linear_model/_coordinate_descent.py:617: ConvergenceWarning: Objective did not converge. You might want to increase the number of iterations. Duality gap: 0.0003930579402223744, tolerance: 0.0003221798582033473\n",
      "  model = cd_fast.enet_coordinate_descent_gram(\n",
      "/Users/roinaveiro/miniconda/envs/tf-sbbo/lib/python3.8/site-packages/sklearn/linear_model/_coordinate_descent.py:617: ConvergenceWarning: Objective did not converge. You might want to increase the number of iterations. Duality gap: 0.00034092965800491815, tolerance: 0.0003221798582033473\n",
      "  model = cd_fast.enet_coordinate_descent_gram(\n",
      "/Users/roinaveiro/miniconda/envs/tf-sbbo/lib/python3.8/site-packages/sklearn/linear_model/_coordinate_descent.py:617: ConvergenceWarning: Objective did not converge. You might want to increase the number of iterations. Duality gap: 0.00032721887269959726, tolerance: 0.0003221798582033473\n",
      "  model = cd_fast.enet_coordinate_descent_gram(\n",
      "/Users/roinaveiro/miniconda/envs/tf-sbbo/lib/python3.8/site-packages/sklearn/linear_model/_coordinate_descent.py:617: ConvergenceWarning: Objective did not converge. You might want to increase the number of iterations. Duality gap: 0.00038076735526348937, tolerance: 0.0002975687362606499\n",
      "  model = cd_fast.enet_coordinate_descent_gram(\n",
      "/Users/roinaveiro/miniconda/envs/tf-sbbo/lib/python3.8/site-packages/sklearn/linear_model/_coordinate_descent.py:617: ConvergenceWarning: Objective did not converge. You might want to increase the number of iterations. Duality gap: 0.0003795141618730957, tolerance: 0.0002975687362606499\n",
      "  model = cd_fast.enet_coordinate_descent_gram(\n",
      "/Users/roinaveiro/miniconda/envs/tf-sbbo/lib/python3.8/site-packages/sklearn/linear_model/_coordinate_descent.py:617: ConvergenceWarning: Objective did not converge. You might want to increase the number of iterations. Duality gap: 0.00037092187852205694, tolerance: 0.0002975687362606499\n",
      "  model = cd_fast.enet_coordinate_descent_gram(\n",
      "/Users/roinaveiro/miniconda/envs/tf-sbbo/lib/python3.8/site-packages/sklearn/linear_model/_coordinate_descent.py:617: ConvergenceWarning: Objective did not converge. You might want to increase the number of iterations. Duality gap: 0.0003585809060089318, tolerance: 0.0002975687362606499\n",
      "  model = cd_fast.enet_coordinate_descent_gram(\n",
      "/Users/roinaveiro/miniconda/envs/tf-sbbo/lib/python3.8/site-packages/sklearn/linear_model/_coordinate_descent.py:617: ConvergenceWarning: Objective did not converge. You might want to increase the number of iterations. Duality gap: 0.000311411412774909, tolerance: 0.0002975687362606499\n",
      "  model = cd_fast.enet_coordinate_descent_gram(\n",
      "/Users/roinaveiro/miniconda/envs/tf-sbbo/lib/python3.8/site-packages/sklearn/linear_model/_coordinate_descent.py:617: ConvergenceWarning: Objective did not converge. You might want to increase the number of iterations. Duality gap: 0.0002988973388505789, tolerance: 0.0002975687362606499\n",
      "  model = cd_fast.enet_coordinate_descent_gram(\n",
      "/Users/roinaveiro/miniconda/envs/tf-sbbo/lib/python3.8/site-packages/sklearn/linear_model/_coordinate_descent.py:617: ConvergenceWarning: Objective did not converge. You might want to increase the number of iterations. Duality gap: 0.00036771385933331846, tolerance: 0.0002753022943047535\n",
      "  model = cd_fast.enet_coordinate_descent_gram(\n",
      "/Users/roinaveiro/miniconda/envs/tf-sbbo/lib/python3.8/site-packages/sklearn/linear_model/_coordinate_descent.py:617: ConvergenceWarning: Objective did not converge. You might want to increase the number of iterations. Duality gap: 0.000346531620602053, tolerance: 0.0002753022943047535\n",
      "  model = cd_fast.enet_coordinate_descent_gram(\n",
      "/Users/roinaveiro/miniconda/envs/tf-sbbo/lib/python3.8/site-packages/sklearn/linear_model/_coordinate_descent.py:617: ConvergenceWarning: Objective did not converge. You might want to increase the number of iterations. Duality gap: 0.00033873488092217574, tolerance: 0.0002753022943047535\n",
      "  model = cd_fast.enet_coordinate_descent_gram(\n",
      "/Users/roinaveiro/miniconda/envs/tf-sbbo/lib/python3.8/site-packages/sklearn/linear_model/_coordinate_descent.py:617: ConvergenceWarning: Objective did not converge. You might want to increase the number of iterations. Duality gap: 0.00032760556878996816, tolerance: 0.0002753022943047535\n",
      "  model = cd_fast.enet_coordinate_descent_gram(\n",
      "/Users/roinaveiro/miniconda/envs/tf-sbbo/lib/python3.8/site-packages/sklearn/linear_model/_coordinate_descent.py:617: ConvergenceWarning: Objective did not converge. You might want to increase the number of iterations. Duality gap: 0.00033648065917568637, tolerance: 0.0002551131101356042\n",
      "  model = cd_fast.enet_coordinate_descent_gram(\n",
      "/Users/roinaveiro/miniconda/envs/tf-sbbo/lib/python3.8/site-packages/sklearn/linear_model/_coordinate_descent.py:617: ConvergenceWarning: Objective did not converge. You might want to increase the number of iterations. Duality gap: 0.0003312589247651543, tolerance: 0.0002551131101356042\n",
      "  model = cd_fast.enet_coordinate_descent_gram(\n",
      "/Users/roinaveiro/miniconda/envs/tf-sbbo/lib/python3.8/site-packages/sklearn/linear_model/_coordinate_descent.py:617: ConvergenceWarning: Objective did not converge. You might want to increase the number of iterations. Duality gap: 0.0002871896810031638, tolerance: 0.0002551131101356042\n",
      "  model = cd_fast.enet_coordinate_descent_gram(\n",
      "/Users/roinaveiro/miniconda/envs/tf-sbbo/lib/python3.8/site-packages/sklearn/linear_model/_coordinate_descent.py:617: ConvergenceWarning: Objective did not converge. You might want to increase the number of iterations. Duality gap: 0.00030885374396905085, tolerance: 0.0002551131101356042\n",
      "  model = cd_fast.enet_coordinate_descent_gram(\n",
      "/Users/roinaveiro/miniconda/envs/tf-sbbo/lib/python3.8/site-packages/sklearn/linear_model/_coordinate_descent.py:617: ConvergenceWarning: Objective did not converge. You might want to increase the number of iterations. Duality gap: 0.0002996781432168527, tolerance: 0.0002551131101356042\n",
      "  model = cd_fast.enet_coordinate_descent_gram(\n",
      "/Users/roinaveiro/miniconda/envs/tf-sbbo/lib/python3.8/site-packages/sklearn/linear_model/_coordinate_descent.py:617: ConvergenceWarning: Objective did not converge. You might want to increase the number of iterations. Duality gap: 0.00030822424777970925, tolerance: 0.00023677016659116125\n",
      "  model = cd_fast.enet_coordinate_descent_gram(\n",
      "/Users/roinaveiro/miniconda/envs/tf-sbbo/lib/python3.8/site-packages/sklearn/linear_model/_coordinate_descent.py:617: ConvergenceWarning: Objective did not converge. You might want to increase the number of iterations. Duality gap: 0.0003035372296719685, tolerance: 0.00023677016659116125\n",
      "  model = cd_fast.enet_coordinate_descent_gram(\n",
      "/Users/roinaveiro/miniconda/envs/tf-sbbo/lib/python3.8/site-packages/sklearn/linear_model/_coordinate_descent.py:617: ConvergenceWarning: Objective did not converge. You might want to increase the number of iterations. Duality gap: 0.0002819609243722154, tolerance: 0.00023677016659116125\n",
      "  model = cd_fast.enet_coordinate_descent_gram(\n",
      "/Users/roinaveiro/miniconda/envs/tf-sbbo/lib/python3.8/site-packages/sklearn/linear_model/_coordinate_descent.py:617: ConvergenceWarning: Objective did not converge. You might want to increase the number of iterations. Duality gap: 0.00027446650806756123, tolerance: 0.00023677016659116125\n",
      "  model = cd_fast.enet_coordinate_descent_gram(\n",
      "/Users/roinaveiro/miniconda/envs/tf-sbbo/lib/python3.8/site-packages/sklearn/linear_model/_coordinate_descent.py:617: ConvergenceWarning: Objective did not converge. You might want to increase the number of iterations. Duality gap: 0.000282717702357993, tolerance: 0.00022010139277132526\n",
      "  model = cd_fast.enet_coordinate_descent_gram(\n",
      "/Users/roinaveiro/miniconda/envs/tf-sbbo/lib/python3.8/site-packages/sklearn/linear_model/_coordinate_descent.py:617: ConvergenceWarning: Objective did not converge. You might want to increase the number of iterations. Duality gap: 0.00027848861871521136, tolerance: 0.00022010139277132526\n",
      "  model = cd_fast.enet_coordinate_descent_gram(\n",
      "/Users/roinaveiro/miniconda/envs/tf-sbbo/lib/python3.8/site-packages/sklearn/linear_model/_coordinate_descent.py:617: ConvergenceWarning: Objective did not converge. You might want to increase the number of iterations. Duality gap: 0.0002585627339663499, tolerance: 0.00022010139277132526\n",
      "  model = cd_fast.enet_coordinate_descent_gram(\n",
      "/Users/roinaveiro/miniconda/envs/tf-sbbo/lib/python3.8/site-packages/sklearn/linear_model/_coordinate_descent.py:617: ConvergenceWarning: Objective did not converge. You might want to increase the number of iterations. Duality gap: 0.0002517220257231556, tolerance: 0.00022010139277132526\n",
      "  model = cd_fast.enet_coordinate_descent_gram(\n",
      "/Users/roinaveiro/miniconda/envs/tf-sbbo/lib/python3.8/site-packages/sklearn/linear_model/_coordinate_descent.py:617: ConvergenceWarning: Objective did not converge. You might want to increase the number of iterations. Duality gap: 0.0002582986176441482, tolerance: 0.00020558301073804277\n",
      "  model = cd_fast.enet_coordinate_descent_gram(\n",
      "/Users/roinaveiro/miniconda/envs/tf-sbbo/lib/python3.8/site-packages/sklearn/linear_model/_coordinate_descent.py:617: ConvergenceWarning: Objective did not converge. You might want to increase the number of iterations. Duality gap: 0.00025669574049819177, tolerance: 0.00020558301073804277\n",
      "  model = cd_fast.enet_coordinate_descent_gram(\n",
      "/Users/roinaveiro/miniconda/envs/tf-sbbo/lib/python3.8/site-packages/sklearn/linear_model/_coordinate_descent.py:617: ConvergenceWarning: Objective did not converge. You might want to increase the number of iterations. Duality gap: 0.00025003568785819663, tolerance: 0.00020558301073804277\n",
      "  model = cd_fast.enet_coordinate_descent_gram(\n",
      "/Users/roinaveiro/miniconda/envs/tf-sbbo/lib/python3.8/site-packages/sklearn/linear_model/_coordinate_descent.py:617: ConvergenceWarning: Objective did not converge. You might want to increase the number of iterations. Duality gap: 0.00023100289874666835, tolerance: 0.00020558301073804277\n",
      "  model = cd_fast.enet_coordinate_descent_gram(\n",
      "/Users/roinaveiro/miniconda/envs/tf-sbbo/lib/python3.8/site-packages/sklearn/linear_model/_coordinate_descent.py:617: ConvergenceWarning: Objective did not converge. You might want to increase the number of iterations. Duality gap: 0.00022239231266341086, tolerance: 0.00019225434674685602\n",
      "  model = cd_fast.enet_coordinate_descent_gram(\n",
      "/Users/roinaveiro/miniconda/envs/tf-sbbo/lib/python3.8/site-packages/sklearn/linear_model/_coordinate_descent.py:617: ConvergenceWarning: Objective did not converge. You might want to increase the number of iterations. Duality gap: 0.00019418630156881056, tolerance: 0.00019225434674685602\n",
      "  model = cd_fast.enet_coordinate_descent_gram(\n",
      "/Users/roinaveiro/miniconda/envs/tf-sbbo/lib/python3.8/site-packages/sklearn/linear_model/_coordinate_descent.py:617: ConvergenceWarning: Objective did not converge. You might want to increase the number of iterations. Duality gap: 0.0002355047140839006, tolerance: 0.00019225434674685602\n",
      "  model = cd_fast.enet_coordinate_descent_gram(\n",
      "/Users/roinaveiro/miniconda/envs/tf-sbbo/lib/python3.8/site-packages/sklearn/linear_model/_coordinate_descent.py:617: ConvergenceWarning: Objective did not converge. You might want to increase the number of iterations. Duality gap: 0.00023079592340397026, tolerance: 0.00019225434674685602\n",
      "  model = cd_fast.enet_coordinate_descent_gram(\n",
      "/Users/roinaveiro/miniconda/envs/tf-sbbo/lib/python3.8/site-packages/sklearn/linear_model/_coordinate_descent.py:617: ConvergenceWarning: Objective did not converge. You might want to increase the number of iterations. Duality gap: 0.0002131546526301653, tolerance: 0.00019225434674685602\n",
      "  model = cd_fast.enet_coordinate_descent_gram(\n"
     ]
    },
    {
     "name": "stderr",
     "output_type": "stream",
     "text": [
      "/Users/roinaveiro/miniconda/envs/tf-sbbo/lib/python3.8/site-packages/sklearn/linear_model/_coordinate_descent.py:617: ConvergenceWarning: Objective did not converge. You might want to increase the number of iterations. Duality gap: 0.0002060019440592864, tolerance: 0.0001801782312778442\n",
      "  model = cd_fast.enet_coordinate_descent_gram(\n",
      "/Users/roinaveiro/miniconda/envs/tf-sbbo/lib/python3.8/site-packages/sklearn/linear_model/_coordinate_descent.py:617: ConvergenceWarning: Objective did not converge. You might want to increase the number of iterations. Duality gap: 0.0002177058071586302, tolerance: 0.0001801782312778442\n",
      "  model = cd_fast.enet_coordinate_descent_gram(\n",
      "/Users/roinaveiro/miniconda/envs/tf-sbbo/lib/python3.8/site-packages/sklearn/linear_model/_coordinate_descent.py:617: ConvergenceWarning: Objective did not converge. You might want to increase the number of iterations. Duality gap: 0.00021346572335573244, tolerance: 0.0001801782312778442\n",
      "  model = cd_fast.enet_coordinate_descent_gram(\n",
      "/Users/roinaveiro/miniconda/envs/tf-sbbo/lib/python3.8/site-packages/sklearn/linear_model/_coordinate_descent.py:617: ConvergenceWarning: Objective did not converge. You might want to increase the number of iterations. Duality gap: 0.0002071949459537259, tolerance: 0.0001801782312778442\n",
      "  model = cd_fast.enet_coordinate_descent_gram(\n",
      "/Users/roinaveiro/miniconda/envs/tf-sbbo/lib/python3.8/site-packages/sklearn/linear_model/_coordinate_descent.py:617: ConvergenceWarning: Objective did not converge. You might want to increase the number of iterations. Duality gap: 0.00019093499594313723, tolerance: 0.0001690544922829056\n",
      "  model = cd_fast.enet_coordinate_descent_gram(\n",
      "/Users/roinaveiro/miniconda/envs/tf-sbbo/lib/python3.8/site-packages/sklearn/linear_model/_coordinate_descent.py:617: ConvergenceWarning: Objective did not converge. You might want to increase the number of iterations. Duality gap: 0.0002014204115366458, tolerance: 0.0001690544922829056\n",
      "  model = cd_fast.enet_coordinate_descent_gram(\n",
      "/Users/roinaveiro/miniconda/envs/tf-sbbo/lib/python3.8/site-packages/sklearn/linear_model/_coordinate_descent.py:617: ConvergenceWarning: Objective did not converge. You might want to increase the number of iterations. Duality gap: 0.00019755562950973804, tolerance: 0.0001690544922829056\n",
      "  model = cd_fast.enet_coordinate_descent_gram(\n",
      "/Users/roinaveiro/miniconda/envs/tf-sbbo/lib/python3.8/site-packages/sklearn/linear_model/_coordinate_descent.py:617: ConvergenceWarning: Objective did not converge. You might want to increase the number of iterations. Duality gap: 0.00019186089957712316, tolerance: 0.0001690544922829056\n",
      "  model = cd_fast.enet_coordinate_descent_gram(\n",
      "/Users/roinaveiro/miniconda/envs/tf-sbbo/lib/python3.8/site-packages/sklearn/linear_model/_coordinate_descent.py:617: ConvergenceWarning: Objective did not converge. You might want to increase the number of iterations. Duality gap: 0.00017708282633172034, tolerance: 0.0001587966373471112\n",
      "  model = cd_fast.enet_coordinate_descent_gram(\n",
      "/Users/roinaveiro/miniconda/envs/tf-sbbo/lib/python3.8/site-packages/sklearn/linear_model/_coordinate_descent.py:617: ConvergenceWarning: Objective did not converge. You might want to increase the number of iterations. Duality gap: 0.0001864498005011983, tolerance: 0.0001587966373471112\n",
      "  model = cd_fast.enet_coordinate_descent_gram(\n",
      "/Users/roinaveiro/miniconda/envs/tf-sbbo/lib/python3.8/site-packages/sklearn/linear_model/_coordinate_descent.py:617: ConvergenceWarning: Objective did not converge. You might want to increase the number of iterations. Duality gap: 0.0001829280200727479, tolerance: 0.0001587966373471112\n",
      "  model = cd_fast.enet_coordinate_descent_gram(\n",
      "/Users/roinaveiro/miniconda/envs/tf-sbbo/lib/python3.8/site-packages/sklearn/linear_model/_coordinate_descent.py:617: ConvergenceWarning: Objective did not converge. You might want to increase the number of iterations. Duality gap: 0.00017776008693082268, tolerance: 0.0001587966373471112\n",
      "  model = cd_fast.enet_coordinate_descent_gram(\n",
      "/Users/roinaveiro/miniconda/envs/tf-sbbo/lib/python3.8/site-packages/sklearn/linear_model/_coordinate_descent.py:617: ConvergenceWarning: Objective did not converge. You might want to increase the number of iterations. Duality gap: 0.00017202447111464014, tolerance: 0.0001587966373471112\n",
      "  model = cd_fast.enet_coordinate_descent_gram(\n",
      "/Users/roinaveiro/miniconda/envs/tf-sbbo/lib/python3.8/site-packages/sklearn/linear_model/_coordinate_descent.py:617: ConvergenceWarning: Objective did not converge. You might want to increase the number of iterations. Duality gap: 0.0001643233427773283, tolerance: 0.00014932740471988831\n",
      "  model = cd_fast.enet_coordinate_descent_gram(\n",
      "/Users/roinaveiro/miniconda/envs/tf-sbbo/lib/python3.8/site-packages/sklearn/linear_model/_coordinate_descent.py:617: ConvergenceWarning: Objective did not converge. You might want to increase the number of iterations. Duality gap: 0.0001623441908906731, tolerance: 0.00014932740471988831\n",
      "  model = cd_fast.enet_coordinate_descent_gram(\n",
      "/Users/roinaveiro/miniconda/envs/tf-sbbo/lib/python3.8/site-packages/sklearn/linear_model/_coordinate_descent.py:617: ConvergenceWarning: Objective did not converge. You might want to increase the number of iterations. Duality gap: 0.00016914956306762763, tolerance: 0.00014932740471988831\n",
      "  model = cd_fast.enet_coordinate_descent_gram(\n",
      "/Users/roinaveiro/miniconda/envs/tf-sbbo/lib/python3.8/site-packages/sklearn/linear_model/_coordinate_descent.py:617: ConvergenceWarning: Objective did not converge. You might want to increase the number of iterations. Duality gap: 0.0001647672853858917, tolerance: 0.00014932740471988831\n",
      "  model = cd_fast.enet_coordinate_descent_gram(\n",
      "/Users/roinaveiro/miniconda/envs/tf-sbbo/lib/python3.8/site-packages/sklearn/linear_model/_coordinate_descent.py:617: ConvergenceWarning: Objective did not converge. You might want to increase the number of iterations. Duality gap: 0.00015954775418886014, tolerance: 0.00014932740471988831\n",
      "  model = cd_fast.enet_coordinate_descent_gram(\n",
      "/Users/roinaveiro/miniconda/envs/tf-sbbo/lib/python3.8/site-packages/sklearn/linear_model/_coordinate_descent.py:617: ConvergenceWarning: Objective did not converge. You might want to increase the number of iterations. Duality gap: 0.00015274195116082856, tolerance: 0.00014072845072047793\n",
      "  model = cd_fast.enet_coordinate_descent_gram(\n",
      "/Users/roinaveiro/miniconda/envs/tf-sbbo/lib/python3.8/site-packages/sklearn/linear_model/_coordinate_descent.py:617: ConvergenceWarning: Objective did not converge. You might want to increase the number of iterations. Duality gap: 0.00014962693869652322, tolerance: 0.00014072845072047793\n",
      "  model = cd_fast.enet_coordinate_descent_gram(\n",
      "/Users/roinaveiro/miniconda/envs/tf-sbbo/lib/python3.8/site-packages/sklearn/linear_model/_coordinate_descent.py:617: ConvergenceWarning: Objective did not converge. You might want to increase the number of iterations. Duality gap: 0.00015665156202060437, tolerance: 0.00014072845072047793\n",
      "  model = cd_fast.enet_coordinate_descent_gram(\n",
      "/Users/roinaveiro/miniconda/envs/tf-sbbo/lib/python3.8/site-packages/sklearn/linear_model/_coordinate_descent.py:617: ConvergenceWarning: Objective did not converge. You might want to increase the number of iterations. Duality gap: 0.00015297872262837187, tolerance: 0.00014072845072047793\n",
      "  model = cd_fast.enet_coordinate_descent_gram(\n",
      "/Users/roinaveiro/miniconda/envs/tf-sbbo/lib/python3.8/site-packages/sklearn/linear_model/_coordinate_descent.py:617: ConvergenceWarning: Objective did not converge. You might want to increase the number of iterations. Duality gap: 0.00014822771304484617, tolerance: 0.00014072845072047793\n",
      "  model = cd_fast.enet_coordinate_descent_gram(\n",
      "/Users/roinaveiro/miniconda/envs/tf-sbbo/lib/python3.8/site-packages/sklearn/linear_model/_coordinate_descent.py:617: ConvergenceWarning: Objective did not converge. You might want to increase the number of iterations. Duality gap: 0.00014309511560717247, tolerance: 0.00014072845072047793\n",
      "  model = cd_fast.enet_coordinate_descent_gram(\n",
      "/Users/roinaveiro/miniconda/envs/tf-sbbo/lib/python3.8/site-packages/sklearn/linear_model/_coordinate_descent.py:617: ConvergenceWarning: Objective did not converge. You might want to increase the number of iterations. Duality gap: 0.00014202447187128264, tolerance: 0.0001327690895200698\n",
      "  model = cd_fast.enet_coordinate_descent_gram(\n",
      "/Users/roinaveiro/miniconda/envs/tf-sbbo/lib/python3.8/site-packages/sklearn/linear_model/_coordinate_descent.py:617: ConvergenceWarning: Objective did not converge. You might want to increase the number of iterations. Duality gap: 0.00013916633188271188, tolerance: 0.0001327690895200698\n",
      "  model = cd_fast.enet_coordinate_descent_gram(\n",
      "/Users/roinaveiro/miniconda/envs/tf-sbbo/lib/python3.8/site-packages/sklearn/linear_model/_coordinate_descent.py:617: ConvergenceWarning: Objective did not converge. You might want to increase the number of iterations. Duality gap: 0.00014547296549977107, tolerance: 0.0001327690895200698\n",
      "  model = cd_fast.enet_coordinate_descent_gram(\n",
      "/Users/roinaveiro/miniconda/envs/tf-sbbo/lib/python3.8/site-packages/sklearn/linear_model/_coordinate_descent.py:617: ConvergenceWarning: Objective did not converge. You might want to increase the number of iterations. Duality gap: 0.0001420943467888014, tolerance: 0.0001327690895200698\n",
      "  model = cd_fast.enet_coordinate_descent_gram(\n",
      "/Users/roinaveiro/miniconda/envs/tf-sbbo/lib/python3.8/site-packages/sklearn/linear_model/_coordinate_descent.py:617: ConvergenceWarning: Objective did not converge. You might want to increase the number of iterations. Duality gap: 0.00013776337666515648, tolerance: 0.0001327690895200698\n",
      "  model = cd_fast.enet_coordinate_descent_gram(\n",
      "/Users/roinaveiro/miniconda/envs/tf-sbbo/lib/python3.8/site-packages/sklearn/linear_model/_coordinate_descent.py:617: ConvergenceWarning: Objective did not converge. You might want to increase the number of iterations. Duality gap: 0.0001330646447909034, tolerance: 0.0001327690895200698\n",
      "  model = cd_fast.enet_coordinate_descent_gram(\n",
      "/Users/roinaveiro/miniconda/envs/tf-sbbo/lib/python3.8/site-packages/sklearn/linear_model/_coordinate_descent.py:617: ConvergenceWarning: Objective did not converge. You might want to increase the number of iterations. Duality gap: 0.00013182010226481244, tolerance: 0.00012539564675854075\n",
      "  model = cd_fast.enet_coordinate_descent_gram(\n",
      "/Users/roinaveiro/miniconda/envs/tf-sbbo/lib/python3.8/site-packages/sklearn/linear_model/_coordinate_descent.py:617: ConvergenceWarning: Objective did not converge. You might want to increase the number of iterations. Duality gap: 0.0001294728214815133, tolerance: 0.00012539564675854075\n",
      "  model = cd_fast.enet_coordinate_descent_gram(\n",
      "/Users/roinaveiro/miniconda/envs/tf-sbbo/lib/python3.8/site-packages/sklearn/linear_model/_coordinate_descent.py:617: ConvergenceWarning: Objective did not converge. You might want to increase the number of iterations. Duality gap: 0.00013512500319973197, tolerance: 0.00012539564675854075\n",
      "  model = cd_fast.enet_coordinate_descent_gram(\n",
      "/Users/roinaveiro/miniconda/envs/tf-sbbo/lib/python3.8/site-packages/sklearn/linear_model/_coordinate_descent.py:617: ConvergenceWarning: Objective did not converge. You might want to increase the number of iterations. Duality gap: 0.00013202377747695282, tolerance: 0.00012539564675854075\n",
      "  model = cd_fast.enet_coordinate_descent_gram(\n",
      "/Users/roinaveiro/miniconda/envs/tf-sbbo/lib/python3.8/site-packages/sklearn/linear_model/_coordinate_descent.py:617: ConvergenceWarning: Objective did not converge. You might want to increase the number of iterations. Duality gap: 0.00012807954222732176, tolerance: 0.00012539564675854075\n",
      "  model = cd_fast.enet_coordinate_descent_gram(\n",
      "/Users/roinaveiro/miniconda/envs/tf-sbbo/lib/python3.8/site-packages/sklearn/linear_model/_coordinate_descent.py:617: ConvergenceWarning: Objective did not converge. You might want to increase the number of iterations. Duality gap: 0.0001203693988653387, tolerance: 0.00011855969369061426\n",
      "  model = cd_fast.enet_coordinate_descent_gram(\n",
      "/Users/roinaveiro/miniconda/envs/tf-sbbo/lib/python3.8/site-packages/sklearn/linear_model/_coordinate_descent.py:617: ConvergenceWarning: Objective did not converge. You might want to increase the number of iterations. Duality gap: 0.00012186755652204839, tolerance: 0.00011855969369061426\n",
      "  model = cd_fast.enet_coordinate_descent_gram(\n",
      "/Users/roinaveiro/miniconda/envs/tf-sbbo/lib/python3.8/site-packages/sklearn/linear_model/_coordinate_descent.py:617: ConvergenceWarning: Objective did not converge. You might want to increase the number of iterations. Duality gap: 0.00012258612242299627, tolerance: 0.00011855969369061426\n",
      "  model = cd_fast.enet_coordinate_descent_gram(\n",
      "/Users/roinaveiro/miniconda/envs/tf-sbbo/lib/python3.8/site-packages/sklearn/linear_model/_coordinate_descent.py:617: ConvergenceWarning: Objective did not converge. You might want to increase the number of iterations. Duality gap: 0.0001191057772050308, tolerance: 0.00011855969369061426\n",
      "  model = cd_fast.enet_coordinate_descent_gram(\n"
     ]
    },
    {
     "name": "stderr",
     "output_type": "stream",
     "text": [
      "/Users/roinaveiro/miniconda/envs/tf-sbbo/lib/python3.8/site-packages/sklearn/linear_model/_coordinate_descent.py:617: ConvergenceWarning: Objective did not converge. You might want to increase the number of iterations. Duality gap: 0.0001140567155711314, tolerance: 0.00011234997778721512\n",
      "  model = cd_fast.enet_coordinate_descent_gram(\n"
     ]
    },
    {
     "name": "stdout",
     "output_type": "stream",
     "text": [
      "[iter 100] loss=0.3797 val_loss=0.0000 scale=2.0000 norm=0.9721\n",
      "[iter 200] loss=0.3378 val_loss=0.0000 scale=2.0000 norm=1.0253\n",
      "[iter 300] loss=0.3370 val_loss=0.0000 scale=2.0000 norm=1.0437\n",
      "[iter 400] loss=0.3370 val_loss=0.0000 scale=2.0000 norm=1.0465\n",
      "== Quitting at iteration / GRAD 483\n",
      "\n",
      "Test R^2: 0.519\n",
      "Test RMSE: 0.352 units\n",
      "Test MAE: 0.286 units\n"
     ]
    }
   ],
   "source": [
    "learner = LassoCV(cv=5)\n",
    "m3 = NGBRegressor(Base=learner)\n",
    "m3.fit(X_train, y_train)\n",
    "\n",
    "y_pred = m3.predict(X_test)\n",
    "\n",
    "# Output R^2, RMSE and MAE on the test set\n",
    "score = r2_score(y_test, y_pred)\n",
    "rmse = np.sqrt(mean_squared_error(y_test, y_pred))\n",
    "mae = mean_absolute_error(y_test, y_pred)\n",
    "\n",
    "print(\"\\nTest R^2: {:.3f}\".format(score))\n",
    "print(\"Test RMSE: {:.3f} units\".format(rmse))\n",
    "print(\"Test MAE: {:.3f} units\".format(mae))"
   ]
  },
  {
   "cell_type": "code",
   "execution_count": 10,
   "id": "f1824a8b",
   "metadata": {},
   "outputs": [
    {
     "name": "stdout",
     "output_type": "stream",
     "text": [
      "[0.         0.05263158 0.03859649 0.09122807 0.07719298 0.00350877\n",
      " 0.08421053 0.09824561 0.04561404 0.05964912 0.00701754 0.04561404\n",
      " 0.03157895 0.08421053 0.07017544 0.05614035 0.04210526 0.03859649\n",
      " 0.01403509 0.        ]\n"
     ]
    }
   ],
   "source": [
    "y_pred_d = m3.pred_dist(X_test)\n",
    "scorer = CVPPDiagram()\n",
    "qs, Cqs = scorer.compute(y_test, y_pred_d.mean(), y_pred_d.std(), num_bins=20)\n",
    "print(np.abs(qs - Cqs))"
   ]
  },
  {
   "cell_type": "code",
   "execution_count": 11,
   "id": "58a92c27",
   "metadata": {},
   "outputs": [
    {
     "data": {
      "text/plain": [
       "0.04978454909202833"
      ]
     },
     "execution_count": 11,
     "metadata": {},
     "output_type": "execute_result"
    }
   ],
   "source": [
    "scorer = AbsoluteMiscalibrationArea()\n",
    "scorer.compute(y_test, y_pred_d.mean(), y_pred_d.std(), num_bins=20)"
   ]
  },
  {
   "cell_type": "code",
   "execution_count": 12,
   "id": "92e0ed19",
   "metadata": {},
   "outputs": [
    {
     "data": {
      "text/plain": [
       "(array([0.        , 0.11111111, 0.22222222, 0.33333333, 0.44444444,\n",
       "        0.55555556, 0.66666667, 0.77777778, 0.88888889, 1.        ]),\n",
       " array([0.        , 0.06666667, 0.26666667, 0.4       , 0.46666667,\n",
       "        0.53333333, 0.6       , 0.73333333, 0.93333333, 1.        ]))"
      ]
     },
     "execution_count": 12,
     "metadata": {},
     "output_type": "execute_result"
    }
   ],
   "source": [
    "scorer = CoveragePlot()\n",
    "scorer.compute(y_test, y_pred_d)"
   ]
  },
  {
   "cell_type": "markdown",
   "id": "e07afefd",
   "metadata": {},
   "source": [
    "# BQP problem"
   ]
  },
  {
   "cell_type": "code",
   "execution_count": null,
   "id": "2e6adaa1",
   "metadata": {},
   "outputs": [],
   "source": [
    "N = 200\n",
    "opt = BQP(n=N)\n",
    "X = opt.X\n",
    "y = opt.y + 10.0\n",
    "test_set_size = 0.2\n",
    "X_train, X_test, y_train, y_test = train_test_split(X, y, test_size=test_set_size, random_state=0)"
   ]
  },
  {
   "cell_type": "markdown",
   "id": "64d2f2aa",
   "metadata": {},
   "source": [
    "## NGBoost - LinCV"
   ]
  },
  {
   "cell_type": "code",
   "execution_count": null,
   "id": "e6a174a4",
   "metadata": {
    "scrolled": true
   },
   "outputs": [],
   "source": [
    "linCV = LassoCV(cv=5)\n",
    "lin = LinearRegression()\n",
    "dec = DecisionTreeRegressor(criterion='friedman_mse', max_depth=5)\n",
    "xgb = XGBRegressor()\n",
    "m3 = NGBRegressor(Base=lin)\n",
    "m3 = NGBRegressor(Base=xgb, learning_rate=0.1, verbose_eval=5, n_estimators=30, Dist=Normal, Score=LogScore)\n",
    "\n",
    "m3.fit(X_train, y_train)\n",
    "\n",
    "y_pred = m3.predict(X_test)\n",
    "\n",
    "# Output R^2, RMSE and MAE on the test set\n",
    "score = r2_score(y_test, y_pred)\n",
    "rmse = np.sqrt(mean_squared_error(y_test, y_pred))\n",
    "mae = mean_absolute_error(y_test, y_pred)\n",
    "\n",
    "print(\"\\nTest R^2: {:.3f}\".format(score))\n",
    "print(\"Test RMSE: {:.3f} units\".format(rmse))\n",
    "print(\"Test MAE: {:.3f} units\".format(mae))"
   ]
  },
  {
   "cell_type": "code",
   "execution_count": null,
   "id": "0cd10544",
   "metadata": {},
   "outputs": [],
   "source": [
    "import matplotlib.pyplot as plt\n",
    "plt.scatter(y_test, y_pred)"
   ]
  },
  {
   "cell_type": "markdown",
   "id": "511b0f50",
   "metadata": {},
   "source": [
    "## GP"
   ]
  },
  {
   "cell_type": "code",
   "execution_count": null,
   "id": "cd472e3a",
   "metadata": {},
   "outputs": [],
   "source": [
    "m1 = GPr()\n",
    "m1.fit(X_train, y_train)\n",
    "y_pred = m1.predict(X_test)\n",
    "\n",
    "# Output R^2, RMSE and MAE on the test set\n",
    "score = r2_score(y_test, y_pred)\n",
    "rmse = np.sqrt(mean_squared_error(y_test, y_pred))\n",
    "mae = mean_absolute_error(y_test, y_pred)\n",
    "\n",
    "print(\"\\nTest R^2: {:.3f}\".format(score))\n",
    "print(\"Test RMSE: {:.3f} units\".format(rmse))\n",
    "print(\"Test MAE: {:.3f} units\".format(mae))"
   ]
  },
  {
   "cell_type": "code",
   "execution_count": null,
   "id": "c9ced37a",
   "metadata": {},
   "outputs": [],
   "source": [
    "import matplotlib.pyplot as plt\n",
    "plt.scatter(y_test, y_pred)"
   ]
  },
  {
   "cell_type": "markdown",
   "id": "4e51efab",
   "metadata": {},
   "source": [
    "## BOCS"
   ]
  },
  {
   "cell_type": "code",
   "execution_count": null,
   "id": "4fc43c71",
   "metadata": {},
   "outputs": [],
   "source": [
    "m2 = LinReg(nVars=10, order=2,  nGibbs=500)\n",
    "m2.fit(X_train, y_train)\n",
    "y_pred = m2.predict(X_test)\n",
    "\n",
    "# Output R^2, RMSE and MAE on the test set\n",
    "score = r2_score(y_test, y_pred)\n",
    "rmse = np.sqrt(mean_squared_error(y_test, y_pred))\n",
    "mae = mean_absolute_error(y_test, y_pred)\n",
    "\n",
    "print(\"\\nTest R^2: {:.3f}\".format(score))\n",
    "print(\"Test RMSE: {:.3f} units\".format(rmse))\n",
    "print(\"Test MAE: {:.3f} units\".format(mae))"
   ]
  },
  {
   "cell_type": "markdown",
   "id": "a710a28c",
   "metadata": {},
   "source": [
    "# Latin Square problem"
   ]
  },
  {
   "cell_type": "code",
   "execution_count": 31,
   "id": "9eebed98",
   "metadata": {
    "scrolled": true
   },
   "outputs": [],
   "source": [
    "N = 1000\n",
    "opt = LatinSquare(n=N)\n",
    "test_set_size = 0.2\n",
    "X = opt.X\n",
    "y = opt.y\n",
    "X_train, X_test, y_train, y_test = train_test_split(X, y, test_size=test_set_size, random_state=0)"
   ]
  },
  {
   "cell_type": "code",
   "execution_count": 32,
   "id": "6a1e507e",
   "metadata": {},
   "outputs": [
    {
     "name": "stdout",
     "output_type": "stream",
     "text": [
      "\n",
      "Test R^2: -0.062\n",
      "Test RMSE: 0.061 units\n",
      "Test MAE: 0.050 units\n"
     ]
    },
    {
     "data": {
      "text/plain": [
       "<matplotlib.collections.PathCollection at 0x28396c6d0>"
      ]
     },
     "execution_count": 32,
     "metadata": {},
     "output_type": "execute_result"
    },
    {
     "data": {
      "image/png": "[encoded data removed]",
      "text/plain": [
       "<Figure size 432x288 with 1 Axes>"
      ]
     },
     "metadata": {
      "needs_background": "light"
     },
     "output_type": "display_data"
    }
   ],
   "source": [
    "xgb = XGBRegressor()\n",
    "xgb.fit(X_train, y_train)\n",
    "\n",
    "y_pred = xgb.predict(X_test)\n",
    "\n",
    "# Output R^2, RMSE and MAE on the test set\n",
    "score = r2_score(y_test, y_pred)\n",
    "rmse = np.sqrt(mean_squared_error(y_test, y_pred))\n",
    "mae = mean_absolute_error(y_test, y_pred)\n",
    "\n",
    "print(\"\\nTest R^2: {:.3f}\".format(score))\n",
    "print(\"Test RMSE: {:.3f} units\".format(rmse))\n",
    "print(\"Test MAE: {:.3f} units\".format(mae))\n",
    "\n",
    "import matplotlib.pyplot as plt\n",
    "plt.scatter(y_test, y_pred)"
   ]
  },
  {
   "cell_type": "markdown",
   "id": "e77a1a2f",
   "metadata": {},
   "source": [
    "## NGBoost - LinCV"
   ]
  },
  {
   "cell_type": "code",
   "execution_count": 33,
   "id": "4650a5a9",
   "metadata": {
    "scrolled": true
   },
   "outputs": [
    {
     "name": "stdout",
     "output_type": "stream",
     "text": [
      "[iter 0] loss=-1.4845 val_loss=0.0000 scale=0.5000 norm=0.2465\n",
      "[iter 5] loss=-1.5363 val_loss=0.0000 scale=0.5000 norm=0.2239\n",
      "[iter 10] loss=-1.5550 val_loss=0.0000 scale=0.5000 norm=0.2202\n",
      "[iter 15] loss=-1.5639 val_loss=0.0000 scale=0.2500 norm=0.1109\n",
      "[iter 20] loss=-1.5662 val_loss=0.0000 scale=0.2500 norm=0.1111\n",
      "[iter 25] loss=-1.5674 val_loss=0.0000 scale=0.0625 norm=0.0278\n",
      "\n",
      "Test R^2: -0.101\n",
      "Test RMSE: 0.062 units\n",
      "Test MAE: 0.050 units\n"
     ]
    }
   ],
   "source": [
    "linCV = LassoCV(cv=5)\n",
    "lin = LinearRegression()\n",
    "dec = DecisionTreeRegressor(criterion='friedman_mse', max_depth=5)\n",
    "xgb = XGBRegressor()\n",
    "m3 = NGBRegressor(Base=lin)\n",
    "m3 = NGBRegressor(Base=lin, learning_rate=0.1, verbose_eval=5, n_estimators=30, Dist=Normal, Score=LogScore)\n",
    "\n",
    "m3.fit(X_train, y_train)\n",
    "\n",
    "y_pred = m3.predict(X_test)\n",
    "\n",
    "# Output R^2, RMSE and MAE on the test set\n",
    "score = r2_score(y_test, y_pred)\n",
    "rmse = np.sqrt(mean_squared_error(y_test, y_pred))\n",
    "mae = mean_absolute_error(y_test, y_pred)\n",
    "\n",
    "print(\"\\nTest R^2: {:.3f}\".format(score))\n",
    "print(\"Test RMSE: {:.3f} units\".format(rmse))\n",
    "print(\"Test MAE: {:.3f} units\".format(mae))"
   ]
  },
  {
   "cell_type": "code",
   "execution_count": 34,
   "id": "fa4aec16",
   "metadata": {},
   "outputs": [
    {
     "data": {
      "text/plain": [
       "<matplotlib.collections.PathCollection at 0x283ad6760>"
      ]
     },
     "execution_count": 34,
     "metadata": {},
     "output_type": "execute_result"
    },
    {
     "data": {
      "image/png": "[encoded data removed]",
      "text/plain": [
       "<Figure size 432x288 with 1 Axes>"
      ]
     },
     "metadata": {
      "needs_background": "light"
     },
     "output_type": "display_data"
    }
   ],
   "source": [
    "import matplotlib.pyplot as plt\n",
    "plt.scatter(y_test, y_pred)"
   ]
  },
  {
   "cell_type": "markdown",
   "id": "dd34687d",
   "metadata": {},
   "source": [
    "## GP"
   ]
  },
  {
   "cell_type": "code",
   "execution_count": 35,
   "id": "22896ac0",
   "metadata": {},
   "outputs": [
    {
     "name": "stdout",
     "output_type": "stream",
     "text": [
      "\n",
      "Test R^2: 0.035\n",
      "Test RMSE: 0.058 units\n",
      "Test MAE: 0.047 units\n"
     ]
    }
   ],
   "source": [
    "m1 = GPr()\n",
    "m1.fit(X_train, y_train)\n",
    "y_pred = m1.predict(X_test)\n",
    "\n",
    "# Output R^2, RMSE and MAE on the test set\n",
    "score = r2_score(y_test, y_pred)\n",
    "rmse = np.sqrt(mean_squared_error(y_test, y_pred))\n",
    "mae = mean_absolute_error(y_test, y_pred)\n",
    "\n",
    "print(\"\\nTest R^2: {:.3f}\".format(score))\n",
    "print(\"Test RMSE: {:.3f} units\".format(rmse))\n",
    "print(\"Test MAE: {:.3f} units\".format(mae))"
   ]
  },
  {
   "cell_type": "code",
   "execution_count": 36,
   "id": "3e955ab0",
   "metadata": {},
   "outputs": [
    {
     "data": {
      "text/plain": [
       "<matplotlib.collections.PathCollection at 0x28390be20>"
      ]
     },
     "execution_count": 36,
     "metadata": {},
     "output_type": "execute_result"
    },
    {
     "data": {
      "image/png": "[encoded data removed]",
      "text/plain": [
       "<Figure size 432x288 with 1 Axes>"
      ]
     },
     "metadata": {
      "needs_background": "light"
     },
     "output_type": "display_data"
    }
   ],
   "source": [
    "import matplotlib.pyplot as plt\n",
    "plt.scatter(y_test, y_pred)"
   ]
  },
  {
   "cell_type": "markdown",
   "id": "a9f0d499",
   "metadata": {},
   "source": [
    "## BOCS"
   ]
  },
  {
   "cell_type": "code",
   "execution_count": null,
   "id": "9e1a9893",
   "metadata": {},
   "outputs": [],
   "source": [
    "m2 = LinReg(nVars=10, order=2,  nGibbs=500)\n",
    "m2.fit(X_train, y_train)\n",
    "y_pred = m2.predict(X_test)\n",
    "\n",
    "# Output R^2, RMSE and MAE on the test set\n",
    "score = r2_score(y_test, y_pred)\n",
    "rmse = np.sqrt(mean_squared_error(y_test, y_pred))\n",
    "mae = mean_absolute_error(y_test, y_pred)\n",
    "\n",
    "print(\"\\nTest R^2: {:.3f}\".format(score))\n",
    "print(\"Test RMSE: {:.3f} units\".format(rmse))\n",
    "print(\"Test MAE: {:.3f} units\".format(mae))"
   ]
  }
 ],
 "metadata": {
  "kernelspec": {
   "display_name": "Python 3",
   "language": "python",
   "name": "python3"
  },
  "language_info": {
   "codemirror_mode": {
    "name": "ipython",
    "version": 3
   },
   "file_extension": ".py",
   "mimetype": "text/x-python",
   "name": "python",
   "nbconvert_exporter": "python",
   "pygments_lexer": "ipython3",
   "version": "3.8.16"
  }
 },
 "nbformat": 4,
 "nbformat_minor": 5
}
