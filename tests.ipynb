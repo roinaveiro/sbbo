{
 "cells": [
  {
   "cell_type": "code",
   "execution_count": 11,
   "id": "94b95637",
   "metadata": {},
   "outputs": [],
   "source": [
    "import numpy as np\n",
    "import pandas as pd\n",
    "\n",
    "from src.contamination import Contamination\n",
    "from src.config import CONTAMINATION_N_STAGES\n",
    "\n",
    "from src.latin_square import LatinSquare\n",
    "from src.sbbo import SBBO\n",
    "from src.sbbo_mh import MHSBBO\n",
    "from src.sbbo_gibbs import GibbsSBBO\n",
    "from ngboost import NGBRegressor\n",
    "from ngboost.distns import Exponential, Normal\n",
    "from ngboost.scores import LogScore, CRPScore\n",
    "\n",
    "from sklearn.model_selection import train_test_split\n",
    "from sklearn.metrics import mean_squared_error\n",
    "from sklearn.linear_model import LinearRegression\n",
    "from sklearn.tree import DecisionTreeRegressor\n",
    "from sklearn.ensemble import RandomForestRegressor\n",
    "from sklearn.linear_model import LassoCV\n"
   ]
  },
  {
   "cell_type": "code",
   "execution_count": 24,
   "id": "794f3b17",
   "metadata": {},
   "outputs": [
    {
     "ename": "TypeError",
     "evalue": "'module' object is not callable",
     "output_type": "error",
     "traceback": [
      "\u001b[0;31m---------------------------------------------------------------------------\u001b[0m",
      "\u001b[0;31mTypeError\u001b[0m                                 Traceback (most recent call last)",
      "Cell \u001b[0;32mIn[24], line 1\u001b[0m\n\u001b[0;32m----> 1\u001b[0m \u001b[43mnp\u001b[49m\u001b[38;5;241;43m.\u001b[39;49m\u001b[43mrandom\u001b[49m\u001b[43m(\u001b[49m\u001b[43m)\u001b[49m\n",
      "\u001b[0;31mTypeError\u001b[0m: 'module' object is not callable"
     ]
    }
   ],
   "source": [
    "np.random()"
   ]
  },
  {
   "cell_type": "code",
   "execution_count": null,
   "id": "de3c6de3",
   "metadata": {},
   "outputs": [],
   "source": []
  },
  {
   "cell_type": "code",
   "execution_count": null,
   "id": "c085b754",
   "metadata": {},
   "outputs": [],
   "source": []
  },
  {
   "cell_type": "code",
   "execution_count": 15,
   "id": "9cb48bab",
   "metadata": {},
   "outputs": [
    {
     "name": "stdout",
     "output_type": "stream",
     "text": [
      "[iter 0] loss=0.1485 val_loss=0.0000 scale=4.0000 norm=1.6709\n",
      "[iter 100] loss=0.0560 val_loss=0.0000 scale=2.0000 norm=0.6088\n",
      "[iter 200] loss=0.0559 val_loss=0.0000 scale=2.0000 norm=0.6094\n",
      "[iter 300] loss=0.0559 val_loss=0.0000 scale=2.0000 norm=0.6095\n",
      "== Quitting at iteration / GRAD 332\n",
      "1.618500000000001\n"
     ]
    },
    {
     "data": {
      "text/plain": [
       "23.3815"
      ]
     },
     "execution_count": 15,
     "metadata": {},
     "output_type": "execute_result"
    }
   ],
   "source": [
    "opt_prob = Contamination(lamda=0.0001, n=5)\n",
    "lin_mod = LinearRegression()\n",
    "dec_tree = DecisionTreeRegressor(criterion='friedman_mse', max_depth=5)\n",
    "rf = RandomForestRegressor()\n",
    "lasso = LassoCV(cv=5, random_state=0)\n",
    "\n",
    "params = {}\n",
    "\n",
    "# params[\"model\"] = NGBRegressor()\n",
    "params[\"model\"] = NGBRegressor(Dist=Normal, Base=lasso)\n",
    "# params[\"model\"] = NGBRegressor(Dist=Normal, Base=dec_tree)\n",
    "params[\"af\"] = 'EI'\n",
    "params[\"cooling_schedule\"] = np.arange(1, 1000, 5)\n",
    "params[\"burnin\"] = 0.1\n",
    "fname = \"results/LS5_mNGBlin_oMH.csv\"\n",
    "method = MHSBBO(opt_prob, params)\n",
    "# method = GibbsSBBO(opt_prob, params)\n",
    "\n",
    "print(method.co_problem.y.max())\n",
    "opt_prob.compute_obj(method.X[method.y.argmax()], scale=False)"
   ]
  },
  {
   "cell_type": "code",
   "execution_count": 16,
   "id": "a99a97c7",
   "metadata": {},
   "outputs": [
    {
     "name": "stdout",
     "output_type": "stream",
     "text": [
      "1.1443917993611497\n",
      "1.6263291244992129\n",
      "1.6263291244992129\n",
      "1.6263291244992129\n",
      "1.6263291244992129\n",
      "1.6263291244992129\n",
      "1.6263291244992129\n",
      "1.6263291244992129\n",
      "1.6263291244992129\n",
      "1.6263291244992129\n",
      "1.6263291244992129\n",
      "1.6263291244992129\n",
      "1.6263291244992129\n",
      "1.6263291244992129\n",
      "1.6263291244992129\n",
      "1.6263291244992129\n",
      "1.6263291244992129\n",
      "1.6263291244992129\n",
      "1.6263291244992129\n",
      "1.6263291244992129\n",
      "1.6263291244992129\n",
      "[iter 0] loss=0.1966 val_loss=0.0000 scale=64.0000 norm=30.8219\n",
      "== Quitting at iteration / GRAD 0\n",
      "Iter: 0\n",
      "#########################################\n",
      "Current value:  23.2716\n",
      "Best value:  23.2716\n",
      "Best X [1. 1. 1. 1. 1. 1. 1. 0. 1. 1. 0. 0. 1. 1. 0. 0. 0. 1. 1. 0. 0. 1. 1. 1.\n",
      " 0.]\n",
      "Dim X (6, 25)\n",
      "Dim y (6,)\n",
      "#########################################\n",
      "1.3586559855574885\n",
      "2.1718929667578135\n",
      "2.1718929667578135\n",
      "2.1718929667578135\n",
      "2.1718929667578135\n",
      "2.1718929667578135\n",
      "2.1718929667578135\n",
      "2.1718929667578135\n",
      "2.1718929667578135\n",
      "2.1718929667578135\n",
      "2.1718929667578135\n",
      "2.1718929667578135\n",
      "2.1718929667578135\n",
      "2.1718929667578135\n"
     ]
    },
    {
     "ename": "KeyboardInterrupt",
     "evalue": "",
     "output_type": "error",
     "traceback": [
      "\u001b[0;31m---------------------------------------------------------------------------\u001b[0m",
      "\u001b[0;31mKeyboardInterrupt\u001b[0m                         Traceback (most recent call last)",
      "Cell \u001b[0;32mIn[16], line 2\u001b[0m\n\u001b[1;32m      1\u001b[0m sbbo \u001b[38;5;241m=\u001b[39m SBBO(opt_prob, method, fname)\n\u001b[0;32m----> 2\u001b[0m \u001b[43msbbo\u001b[49m\u001b[38;5;241;43m.\u001b[39;49m\u001b[43miterate\u001b[49m\u001b[43m(\u001b[49m\u001b[38;5;241;43m5\u001b[39;49m\u001b[43m)\u001b[49m\n",
      "File \u001b[0;32m~/Library/CloudStorage/OneDrive-CUNEF/research/sbbo/src/sbbo.py:53\u001b[0m, in \u001b[0;36mSBBO.iterate\u001b[0;34m(self, n_eval)\u001b[0m\n\u001b[1;32m     49\u001b[0m iters \u001b[38;5;241m=\u001b[39m np\u001b[38;5;241m.\u001b[39marange(n_eval)\n\u001b[1;32m     52\u001b[0m \u001b[38;5;28;01mfor\u001b[39;00m i \u001b[38;5;129;01min\u001b[39;00m \u001b[38;5;28mrange\u001b[39m(n_eval):\n\u001b[0;32m---> 53\u001b[0m     candidate \u001b[38;5;241m=\u001b[39m \u001b[38;5;28;43mself\u001b[39;49m\u001b[38;5;241;43m.\u001b[39;49m\u001b[43mget_candidate\u001b[49m\u001b[43m(\u001b[49m\u001b[43m)\u001b[49m\n\u001b[1;32m     54\u001b[0m     value, value_unscaled \u001b[38;5;241m=\u001b[39m  \u001b[38;5;28mself\u001b[39m\u001b[38;5;241m.\u001b[39mevaluate_candidate(candidate)\n\u001b[1;32m     55\u001b[0m     \u001b[38;5;28mself\u001b[39m\u001b[38;5;241m.\u001b[39mupdate(candidate, value)\n",
      "File \u001b[0;32m~/Library/CloudStorage/OneDrive-CUNEF/research/sbbo/src/sbbo.py:30\u001b[0m, in \u001b[0;36mSBBO.get_candidate\u001b[0;34m(self)\u001b[0m\n\u001b[1;32m     29\u001b[0m \u001b[38;5;28;01mdef\u001b[39;00m \u001b[38;5;21mget_candidate\u001b[39m(\u001b[38;5;28mself\u001b[39m):\n\u001b[0;32m---> 30\u001b[0m     candidate, _ \u001b[38;5;241m=\u001b[39m \u001b[38;5;28;43mself\u001b[39;49m\u001b[38;5;241;43m.\u001b[39;49m\u001b[43msearch_method\u001b[49m\u001b[38;5;241;43m.\u001b[39;49m\u001b[43miterate\u001b[49m\u001b[43m(\u001b[49m\u001b[43m)\u001b[49m\n\u001b[1;32m     31\u001b[0m     \u001b[38;5;28;01mreturn\u001b[39;00m candidate\n",
      "File \u001b[0;32m~/Library/CloudStorage/OneDrive-CUNEF/research/sbbo/src/sbbo_mh.py:103\u001b[0m, in \u001b[0;36mMHSBBO.iterate\u001b[0;34m(self)\u001b[0m\n\u001b[1;32m     96\u001b[0m     \u001b[38;5;28;01mif\u001b[39;00m i\u001b[38;5;241m%\u001b[39m\u001b[38;5;241m10\u001b[39m \u001b[38;5;241m==\u001b[39m \u001b[38;5;241m0\u001b[39m:\n\u001b[1;32m     97\u001b[0m         \u001b[38;5;66;03m#print(\"Percentage completed:\", \u001b[39;00m\n\u001b[1;32m     98\u001b[0m         \u001b[38;5;66;03m#np.round( 100*i/len(self.cooling_schedule), 2) )\u001b[39;00m\n\u001b[1;32m     99\u001b[0m         \u001b[38;5;66;03m#print(\"Current state\", z_init.reshape(5,-1))\u001b[39;00m\n\u001b[1;32m    100\u001b[0m         \u001b[38;5;66;03m#print(\"Current energy\", self.model.predict(self.co_problem.dummify(z_init.reshape(1,-1)) ))\u001b[39;00m\n\u001b[1;32m    101\u001b[0m         \u001b[38;5;28mprint\u001b[39m(np\u001b[38;5;241m.\u001b[39mmean(y_sample))\n\u001b[0;32m--> 103\u001b[0m     z_init, y_sample, value \u001b[38;5;241m=\u001b[39m \u001b[38;5;28;43mself\u001b[39;49m\u001b[38;5;241;43m.\u001b[39;49m\u001b[43mupdate_all\u001b[49m\u001b[43m(\u001b[49m\u001b[43mi\u001b[49m\u001b[43m,\u001b[49m\u001b[43m \u001b[49m\u001b[43mtemp\u001b[49m\u001b[43m,\u001b[49m\u001b[43m \u001b[49m\u001b[43mz_init\u001b[49m\u001b[43m,\u001b[49m\u001b[43m \u001b[49m\u001b[43my_sample\u001b[49m\u001b[43m,\u001b[49m\u001b[43m \u001b[49m\u001b[43mvalue\u001b[49m\u001b[43m)\u001b[49m\n\u001b[1;32m    107\u001b[0m z_star, quality \u001b[38;5;241m=\u001b[39m \u001b[38;5;28mself\u001b[39m\u001b[38;5;241m.\u001b[39mextract_solution()\n\u001b[1;32m    108\u001b[0m z_star_d \u001b[38;5;241m=\u001b[39m \u001b[38;5;28mself\u001b[39m\u001b[38;5;241m.\u001b[39mco_problem\u001b[38;5;241m.\u001b[39mdummify(z_star\u001b[38;5;241m.\u001b[39mreshape(\u001b[38;5;241m1\u001b[39m,\u001b[38;5;241m-\u001b[39m\u001b[38;5;241m1\u001b[39m))\n",
      "File \u001b[0;32m~/Library/CloudStorage/OneDrive-CUNEF/research/sbbo/src/sbbo_mh.py:84\u001b[0m, in \u001b[0;36mMHSBBO.update_all\u001b[0;34m(self, i, temp, z_init, y_sample, value)\u001b[0m\n\u001b[1;32m     80\u001b[0m \u001b[38;5;28;01mdef\u001b[39;00m \u001b[38;5;21mupdate_all\u001b[39m(\u001b[38;5;28mself\u001b[39m, i, temp, z_init, y_sample, value):\n\u001b[1;32m     81\u001b[0m \n\u001b[1;32m     82\u001b[0m     \u001b[38;5;66;03m# Update z\u001b[39;00m\n\u001b[1;32m     83\u001b[0m     \u001b[38;5;28;01mfor\u001b[39;00m idx \u001b[38;5;129;01min\u001b[39;00m \u001b[38;5;28mrange\u001b[39m(\u001b[38;5;28mself\u001b[39m\u001b[38;5;241m.\u001b[39mco_problem\u001b[38;5;241m.\u001b[39mncov):\n\u001b[0;32m---> 84\u001b[0m         z_init, y_sample, value \u001b[38;5;241m=\u001b[39m \u001b[38;5;28;43mself\u001b[39;49m\u001b[38;5;241;43m.\u001b[39;49m\u001b[43mmetropolis_step\u001b[49m\u001b[43m(\u001b[49m\u001b[43mtemp\u001b[49m\u001b[43m,\u001b[49m\u001b[43m \u001b[49m\u001b[43mvalue\u001b[49m\u001b[43m,\u001b[49m\u001b[43m \u001b[49m\u001b[43my_sample\u001b[49m\u001b[43m,\u001b[49m\u001b[43m \u001b[49m\u001b[43mz_init\u001b[49m\u001b[43m)\u001b[49m\n\u001b[1;32m     86\u001b[0m     \u001b[38;5;28mself\u001b[39m\u001b[38;5;241m.\u001b[39mz_samples[i, ] \u001b[38;5;241m=\u001b[39m z_init\n\u001b[1;32m     88\u001b[0m     \u001b[38;5;28;01mreturn\u001b[39;00m z_init, y_sample, value\n",
      "File \u001b[0;32m~/Library/CloudStorage/OneDrive-CUNEF/research/sbbo/src/sbbo_mh.py:64\u001b[0m, in \u001b[0;36mMHSBBO.metropolis_step\u001b[0;34m(self, H, value_old, y_sample_old, z_old)\u001b[0m\n\u001b[1;32m     61\u001b[0m idx_new \u001b[38;5;241m=\u001b[39m np\u001b[38;5;241m.\u001b[39mrandom\u001b[38;5;241m.\u001b[39mchoice( np\u001b[38;5;241m.\u001b[39marange(Z_candidates\u001b[38;5;241m.\u001b[39mshape[\u001b[38;5;241m0\u001b[39m]) )\n\u001b[1;32m     62\u001b[0m z_new \u001b[38;5;241m=\u001b[39m Z_candidates[idx_new]\n\u001b[0;32m---> 64\u001b[0m y_sample \u001b[38;5;241m=\u001b[39m \u001b[43mpreds\u001b[49m\u001b[43m[\u001b[49m\u001b[43midx_new\u001b[49m\u001b[43m]\u001b[49m\u001b[38;5;241;43m.\u001b[39;49m\u001b[43msample\u001b[49m\u001b[43m(\u001b[49m\u001b[43mH\u001b[49m\u001b[43m)\u001b[49m\n\u001b[1;32m     66\u001b[0m value \u001b[38;5;241m=\u001b[39m \u001b[38;5;28mself\u001b[39m\u001b[38;5;241m.\u001b[39mutility(y_sample, z_new, flag\u001b[38;5;241m=\u001b[39m\u001b[38;5;28mself\u001b[39m\u001b[38;5;241m.\u001b[39maf) \u001b[38;5;66;03m# Watch out, parallel!\u001b[39;00m\n\u001b[1;32m     67\u001b[0m value \u001b[38;5;241m=\u001b[39m np\u001b[38;5;241m.\u001b[39msum(np\u001b[38;5;241m.\u001b[39mlog(value))   \n",
      "File \u001b[0;32m~/miniconda/envs/sbbo/lib/python3.11/site-packages/ngboost/distns/normal.py:76\u001b[0m, in \u001b[0;36mNormal.sample\u001b[0;34m(self, m)\u001b[0m\n\u001b[1;32m     75\u001b[0m \u001b[38;5;28;01mdef\u001b[39;00m \u001b[38;5;21msample\u001b[39m(\u001b[38;5;28mself\u001b[39m, m):\n\u001b[0;32m---> 76\u001b[0m     \u001b[38;5;28;01mreturn\u001b[39;00m np\u001b[38;5;241m.\u001b[39marray(\u001b[43m[\u001b[49m\u001b[38;5;28;43mself\u001b[39;49m\u001b[38;5;241;43m.\u001b[39;49m\u001b[43mrvs\u001b[49m\u001b[43m(\u001b[49m\u001b[43m)\u001b[49m\u001b[43m \u001b[49m\u001b[38;5;28;43;01mfor\u001b[39;49;00m\u001b[43m \u001b[49m\u001b[43mi\u001b[49m\u001b[43m \u001b[49m\u001b[38;5;129;43;01min\u001b[39;49;00m\u001b[43m \u001b[49m\u001b[38;5;28;43mrange\u001b[39;49m\u001b[43m(\u001b[49m\u001b[43mm\u001b[49m\u001b[43m)\u001b[49m\u001b[43m]\u001b[49m)\n",
      "File \u001b[0;32m~/miniconda/envs/sbbo/lib/python3.11/site-packages/ngboost/distns/normal.py:76\u001b[0m, in \u001b[0;36m<listcomp>\u001b[0;34m(.0)\u001b[0m\n\u001b[1;32m     75\u001b[0m \u001b[38;5;28;01mdef\u001b[39;00m \u001b[38;5;21msample\u001b[39m(\u001b[38;5;28mself\u001b[39m, m):\n\u001b[0;32m---> 76\u001b[0m     \u001b[38;5;28;01mreturn\u001b[39;00m np\u001b[38;5;241m.\u001b[39marray([\u001b[38;5;28;43mself\u001b[39;49m\u001b[38;5;241;43m.\u001b[39;49m\u001b[43mrvs\u001b[49m() \u001b[38;5;28;01mfor\u001b[39;00m i \u001b[38;5;129;01min\u001b[39;00m \u001b[38;5;28mrange\u001b[39m(m)])\n",
      "File \u001b[0;32m~/miniconda/envs/sbbo/lib/python3.11/site-packages/ngboost/distns/normal.py:81\u001b[0m, in \u001b[0;36mNormal.__getattr__\u001b[0;34m(self, name)\u001b[0m\n\u001b[1;32m     78\u001b[0m \u001b[38;5;28;01mdef\u001b[39;00m \u001b[38;5;21m__getattr__\u001b[39m(\n\u001b[1;32m     79\u001b[0m     \u001b[38;5;28mself\u001b[39m, name\n\u001b[1;32m     80\u001b[0m ):  \u001b[38;5;66;03m# gives us Normal.mean() required for RegressionDist.predict()\u001b[39;00m\n\u001b[0;32m---> 81\u001b[0m     \u001b[38;5;28;01mif\u001b[39;00m name \u001b[38;5;129;01min\u001b[39;00m \u001b[38;5;28;43mdir\u001b[39;49m\u001b[43m(\u001b[49m\u001b[38;5;28;43mself\u001b[39;49m\u001b[38;5;241;43m.\u001b[39;49m\u001b[43mdist\u001b[49m\u001b[43m)\u001b[49m:\n\u001b[1;32m     82\u001b[0m         \u001b[38;5;28;01mreturn\u001b[39;00m \u001b[38;5;28mgetattr\u001b[39m(\u001b[38;5;28mself\u001b[39m\u001b[38;5;241m.\u001b[39mdist, name)\n\u001b[1;32m     83\u001b[0m     \u001b[38;5;28;01mreturn\u001b[39;00m \u001b[38;5;28;01mNone\u001b[39;00m\n",
      "\u001b[0;31mKeyboardInterrupt\u001b[0m: "
     ]
    }
   ],
   "source": [
    "sbbo = SBBO(opt_prob, method, fname)\n",
    "sbbo.iterate(5)"
   ]
  },
  {
   "cell_type": "code",
   "execution_count": 3,
   "id": "66237342",
   "metadata": {},
   "outputs": [
    {
     "name": "stdout",
     "output_type": "stream",
     "text": [
      "[iter 0] loss=-1.8667 val_loss=0.0000 scale=2.0000 norm=0.8185\n",
      "[iter 100] loss=-3.0798 val_loss=0.0000 scale=2.0000 norm=0.9471\n",
      "[iter 200] loss=-4.2110 val_loss=0.0000 scale=4.0000 norm=1.9902\n",
      "[iter 300] loss=-6.2110 val_loss=0.0000 scale=4.0000 norm=1.9998\n",
      "[iter 400] loss=-10.6910 val_loss=0.0000 scale=8.0000 norm=4.0000\n"
     ]
    },
    {
     "data": {
      "text/plain": [
       "0.6252722565777427"
      ]
     },
     "execution_count": 3,
     "metadata": {},
     "output_type": "execute_result"
    }
   ],
   "source": [
    "opt_prob = LatinSquare(n=5)\n",
    "lin_mod = LinearRegression()\n",
    "dec_tree = DecisionTreeRegressor(criterion='friedman_mse', max_depth=5)\n",
    "\n",
    "params = {}\n",
    "\n",
    "# params[\"model\"] = NGBRegressor()\n",
    "params[\"model\"] = NGBRegressor(Dist=Normal, Base=dec_tree)\n",
    "params[\"af\"] = 'avg'\n",
    "params[\"cooling_schedule\"] = np.arange(1, 10000, 1)\n",
    "params[\"burnin\"] = 0.1\n",
    "fname = \"results/LS5_mNGBlin_oMH.csv\"\n",
    "# method = MHSBBO(opt_prob, params)\n",
    "method = GibbsSBBO(opt_prob, params)\n",
    "\n",
    "\n",
    "method.co_problem.y.max()"
   ]
  },
  {
   "cell_type": "code",
   "execution_count": 4,
   "id": "7c45f022",
   "metadata": {},
   "outputs": [
    {
     "name": "stdout",
     "output_type": "stream",
     "text": [
      "0.617530873730509\n",
      "0.6175313250439667\n",
      "0.6175312944290188\n",
      "0.6175313338490406\n",
      "0.617531311851508\n",
      "0.6175312707141138\n",
      "0.6175313408543135\n",
      "0.6175312905137107\n",
      "0.6175313070375592\n",
      "0.6175313197492116\n"
     ]
    },
    {
     "ename": "KeyboardInterrupt",
     "evalue": "",
     "output_type": "error",
     "traceback": [
      "\u001b[0;31m---------------------------------------------------------------------------\u001b[0m",
      "\u001b[0;31mKeyboardInterrupt\u001b[0m                         Traceback (most recent call last)",
      "Cell \u001b[0;32mIn[4], line 1\u001b[0m\n\u001b[0;32m----> 1\u001b[0m \u001b[43mmethod\u001b[49m\u001b[38;5;241;43m.\u001b[39;49m\u001b[43miterate\u001b[49m\u001b[43m(\u001b[49m\u001b[43m)\u001b[49m\n",
      "File \u001b[0;32m~/Library/CloudStorage/OneDrive-CUNEF/research/sbbo/src/sbbo_gibbs.py:108\u001b[0m, in \u001b[0;36mGibbsSBBO.iterate\u001b[0;34m(self)\u001b[0m\n\u001b[1;32m    101\u001b[0m \u001b[38;5;28;01mif\u001b[39;00m i\u001b[38;5;241m%\u001b[39m\u001b[38;5;241m10\u001b[39m \u001b[38;5;241m==\u001b[39m \u001b[38;5;241m0\u001b[39m:\n\u001b[1;32m    102\u001b[0m     \u001b[38;5;66;03m# print(\"Percentage completed:\", \u001b[39;00m\n\u001b[1;32m    103\u001b[0m     \u001b[38;5;66;03m# np.round( 100*i/len(self.cooling_schedule), 2) )\u001b[39;00m\n\u001b[1;32m    104\u001b[0m     \u001b[38;5;66;03m# print(\"Current state\", z_init.reshape(5,-1))\u001b[39;00m\n\u001b[1;32m    105\u001b[0m     \u001b[38;5;66;03m# print(\"Current energy\", self.model.predict(self.co_problem.dummify(z_init.reshape(1,-1)) ))\u001b[39;00m\n\u001b[1;32m    106\u001b[0m     \u001b[38;5;28mprint\u001b[39m(np\u001b[38;5;241m.\u001b[39mmean(y_sample))\n\u001b[0;32m--> 108\u001b[0m z_init, y_sample, value \u001b[38;5;241m=\u001b[39m \u001b[38;5;28;43mself\u001b[39;49m\u001b[38;5;241;43m.\u001b[39;49m\u001b[43mupdate_all\u001b[49m\u001b[43m(\u001b[49m\u001b[43mi\u001b[49m\u001b[43m,\u001b[49m\u001b[43m \u001b[49m\u001b[43mtemp\u001b[49m\u001b[43m,\u001b[49m\u001b[43m \u001b[49m\u001b[43mz_init\u001b[49m\u001b[43m,\u001b[49m\u001b[43m \u001b[49m\u001b[43my_sample\u001b[49m\u001b[43m,\u001b[49m\u001b[43m \u001b[49m\u001b[43mvalue\u001b[49m\u001b[43m)\u001b[49m\n\u001b[1;32m    109\u001b[0m y_sample \u001b[38;5;241m=\u001b[39m np\u001b[38;5;241m.\u001b[39mappend(y_sample, np\u001b[38;5;241m.\u001b[39mrandom\u001b[38;5;241m.\u001b[39mchoice(y_sample, \u001b[38;5;28mself\u001b[39m\u001b[38;5;241m.\u001b[39mstep))\n\u001b[1;32m    110\u001b[0m value \u001b[38;5;241m=\u001b[39m \u001b[38;5;28mself\u001b[39m\u001b[38;5;241m.\u001b[39mutility(y_sample, z_init, \u001b[38;5;28mself\u001b[39m\u001b[38;5;241m.\u001b[39maf)\n",
      "File \u001b[0;32m~/Library/CloudStorage/OneDrive-CUNEF/research/sbbo/src/sbbo_gibbs.py:86\u001b[0m, in \u001b[0;36mGibbsSBBO.update_all\u001b[0;34m(self, i, temp, z_init, y_sample, value)\u001b[0m\n\u001b[1;32m     82\u001b[0m \u001b[38;5;28;01mdef\u001b[39;00m \u001b[38;5;21mupdate_all\u001b[39m(\u001b[38;5;28mself\u001b[39m, i, temp, z_init, y_sample, value):\n\u001b[1;32m     83\u001b[0m \n\u001b[1;32m     84\u001b[0m     \u001b[38;5;66;03m# Update z\u001b[39;00m\n\u001b[1;32m     85\u001b[0m     \u001b[38;5;28;01mfor\u001b[39;00m idx \u001b[38;5;129;01min\u001b[39;00m \u001b[38;5;28mrange\u001b[39m(\u001b[38;5;28mself\u001b[39m\u001b[38;5;241m.\u001b[39mco_problem\u001b[38;5;241m.\u001b[39mncov):\n\u001b[0;32m---> 86\u001b[0m         z_init \u001b[38;5;241m=\u001b[39m \u001b[38;5;28;43mself\u001b[39;49m\u001b[38;5;241;43m.\u001b[39;49m\u001b[43mupdate_z\u001b[49m\u001b[43m(\u001b[49m\u001b[43mz_init\u001b[49m\u001b[43m,\u001b[49m\u001b[43m \u001b[49m\u001b[43midx\u001b[49m\u001b[43m,\u001b[49m\u001b[43m \u001b[49m\u001b[43my_sample\u001b[49m\u001b[43m)\u001b[49m\n\u001b[1;32m     87\u001b[0m         \u001b[38;5;28mself\u001b[39m\u001b[38;5;241m.\u001b[39mz_samples[i, idx] \u001b[38;5;241m=\u001b[39m z_init[idx]\n\u001b[1;32m     88\u001b[0m         z_init \u001b[38;5;241m=\u001b[39m z_init\u001b[38;5;241m.\u001b[39mreshape(\u001b[38;5;241m1\u001b[39m,\u001b[38;5;241m-\u001b[39m\u001b[38;5;241m1\u001b[39m)\n",
      "File \u001b[0;32m~/Library/CloudStorage/OneDrive-CUNEF/research/sbbo/src/sbbo_gibbs.py:69\u001b[0m, in \u001b[0;36mGibbsSBBO.update_z\u001b[0;34m(self, z, idx, y_sample)\u001b[0m\n\u001b[1;32m     67\u001b[0m Z_candidates \u001b[38;5;241m=\u001b[39m \u001b[38;5;28mself\u001b[39m\u001b[38;5;241m.\u001b[39mco_problem\u001b[38;5;241m.\u001b[39mgenerate_candidates_idx(z,idx)\n\u001b[1;32m     68\u001b[0m Z_candidates_d \u001b[38;5;241m=\u001b[39m \u001b[38;5;28mself\u001b[39m\u001b[38;5;241m.\u001b[39mco_problem\u001b[38;5;241m.\u001b[39mdummify(Z_candidates)\n\u001b[0;32m---> 69\u001b[0m preds \u001b[38;5;241m=\u001b[39m \u001b[38;5;28;43mself\u001b[39;49m\u001b[38;5;241;43m.\u001b[39;49m\u001b[43mmodel\u001b[49m\u001b[38;5;241;43m.\u001b[39;49m\u001b[43mpred_dist\u001b[49m\u001b[43m(\u001b[49m\u001b[43mZ_candidates_d\u001b[49m\u001b[43m)\u001b[49m\n\u001b[1;32m     71\u001b[0m energies \u001b[38;5;241m=\u001b[39m np\u001b[38;5;241m.\u001b[39mzeros(Z_candidates\u001b[38;5;241m.\u001b[39mshape[\u001b[38;5;241m0\u001b[39m])\n\u001b[1;32m     73\u001b[0m \u001b[38;5;28;01mfor\u001b[39;00m i \u001b[38;5;129;01min\u001b[39;00m \u001b[38;5;28mrange\u001b[39m(\u001b[38;5;28mlen\u001b[39m(energies)):\n",
      "File \u001b[0;32m~/miniconda/envs/sbbo/lib/python3.11/site-packages/ngboost/ngboost.py:320\u001b[0m, in \u001b[0;36mNGBoost.pred_dist\u001b[0;34m(self, X, max_iter)\u001b[0m\n\u001b[1;32m    318\u001b[0m     dist \u001b[38;5;241m=\u001b[39m \u001b[38;5;28mself\u001b[39m\u001b[38;5;241m.\u001b[39mstaged_pred_dist(X, max_iter\u001b[38;5;241m=\u001b[39mmax_iter)[\u001b[38;5;241m-\u001b[39m\u001b[38;5;241m1\u001b[39m]\n\u001b[1;32m    319\u001b[0m \u001b[38;5;28;01melse\u001b[39;00m:\n\u001b[0;32m--> 320\u001b[0m     params \u001b[38;5;241m=\u001b[39m np\u001b[38;5;241m.\u001b[39masarray(\u001b[38;5;28;43mself\u001b[39;49m\u001b[38;5;241;43m.\u001b[39;49m\u001b[43mpred_param\u001b[49m\u001b[43m(\u001b[49m\u001b[43mX\u001b[49m\u001b[43m,\u001b[49m\u001b[43m \u001b[49m\u001b[43mmax_iter\u001b[49m\u001b[43m)\u001b[49m)\n\u001b[1;32m    321\u001b[0m     dist \u001b[38;5;241m=\u001b[39m \u001b[38;5;28mself\u001b[39m\u001b[38;5;241m.\u001b[39mDist(params\u001b[38;5;241m.\u001b[39mT)\n\u001b[1;32m    322\u001b[0m \u001b[38;5;28;01mreturn\u001b[39;00m dist\n",
      "File \u001b[0;32m~/miniconda/envs/sbbo/lib/python3.11/site-packages/ngboost/ngboost.py:102\u001b[0m, in \u001b[0;36mNGBoost.pred_param\u001b[0;34m(self, X, max_iter)\u001b[0m\n\u001b[1;32m    100\u001b[0m     \u001b[38;5;28;01mif\u001b[39;00m max_iter \u001b[38;5;129;01mand\u001b[39;00m i \u001b[38;5;241m==\u001b[39m max_iter:\n\u001b[1;32m    101\u001b[0m         \u001b[38;5;28;01mbreak\u001b[39;00m\n\u001b[0;32m--> 102\u001b[0m     resids \u001b[38;5;241m=\u001b[39m np\u001b[38;5;241m.\u001b[39marray(\u001b[43m[\u001b[49m\u001b[43mmodel\u001b[49m\u001b[38;5;241;43m.\u001b[39;49m\u001b[43mpredict\u001b[49m\u001b[43m(\u001b[49m\u001b[43mX\u001b[49m\u001b[43m[\u001b[49m\u001b[43m:\u001b[49m\u001b[43m,\u001b[49m\u001b[43m \u001b[49m\u001b[43mcol_idx\u001b[49m\u001b[43m]\u001b[49m\u001b[43m)\u001b[49m\u001b[43m \u001b[49m\u001b[38;5;28;43;01mfor\u001b[39;49;00m\u001b[43m \u001b[49m\u001b[43mmodel\u001b[49m\u001b[43m \u001b[49m\u001b[38;5;129;43;01min\u001b[39;49;00m\u001b[43m \u001b[49m\u001b[43mmodels\u001b[49m\u001b[43m]\u001b[49m)\u001b[38;5;241m.\u001b[39mT\n\u001b[1;32m    103\u001b[0m     params \u001b[38;5;241m-\u001b[39m\u001b[38;5;241m=\u001b[39m \u001b[38;5;28mself\u001b[39m\u001b[38;5;241m.\u001b[39mlearning_rate \u001b[38;5;241m*\u001b[39m resids \u001b[38;5;241m*\u001b[39m s\n\u001b[1;32m    104\u001b[0m \u001b[38;5;28;01mreturn\u001b[39;00m params\n",
      "File \u001b[0;32m~/miniconda/envs/sbbo/lib/python3.11/site-packages/ngboost/ngboost.py:102\u001b[0m, in \u001b[0;36m<listcomp>\u001b[0;34m(.0)\u001b[0m\n\u001b[1;32m    100\u001b[0m     \u001b[38;5;28;01mif\u001b[39;00m max_iter \u001b[38;5;129;01mand\u001b[39;00m i \u001b[38;5;241m==\u001b[39m max_iter:\n\u001b[1;32m    101\u001b[0m         \u001b[38;5;28;01mbreak\u001b[39;00m\n\u001b[0;32m--> 102\u001b[0m     resids \u001b[38;5;241m=\u001b[39m np\u001b[38;5;241m.\u001b[39marray([model\u001b[38;5;241m.\u001b[39mpredict(X[:, col_idx]) \u001b[38;5;28;01mfor\u001b[39;00m model \u001b[38;5;129;01min\u001b[39;00m models])\u001b[38;5;241m.\u001b[39mT\n\u001b[1;32m    103\u001b[0m     params \u001b[38;5;241m-\u001b[39m\u001b[38;5;241m=\u001b[39m \u001b[38;5;28mself\u001b[39m\u001b[38;5;241m.\u001b[39mlearning_rate \u001b[38;5;241m*\u001b[39m resids \u001b[38;5;241m*\u001b[39m s\n\u001b[1;32m    104\u001b[0m \u001b[38;5;28;01mreturn\u001b[39;00m params\n",
      "\u001b[0;31mKeyboardInterrupt\u001b[0m: "
     ]
    }
   ],
   "source": [
    "method.iterate()"
   ]
  },
  {
   "cell_type": "code",
   "execution_count": 3,
   "id": "65b56906",
   "metadata": {},
   "outputs": [
    {
     "name": "stdout",
     "output_type": "stream",
     "text": [
      "0.6123986326361331\n",
      "0.6167634761439365\n"
     ]
    },
    {
     "ename": "KeyboardInterrupt",
     "evalue": "",
     "output_type": "error",
     "traceback": [
      "\u001b[0;31m---------------------------------------------------------------------------\u001b[0m",
      "\u001b[0;31mKeyboardInterrupt\u001b[0m                         Traceback (most recent call last)",
      "Cell \u001b[0;32mIn[3], line 2\u001b[0m\n\u001b[1;32m      1\u001b[0m sbbo \u001b[38;5;241m=\u001b[39m SBBO(opt_prob, method, fname)\n\u001b[0;32m----> 2\u001b[0m \u001b[43msbbo\u001b[49m\u001b[38;5;241;43m.\u001b[39;49m\u001b[43miterate\u001b[49m\u001b[43m(\u001b[49m\u001b[38;5;241;43m5\u001b[39;49m\u001b[43m)\u001b[49m\n",
      "File \u001b[0;32m~/Library/CloudStorage/OneDrive-CUNEF/research/sbbo/src/sbbo.py:53\u001b[0m, in \u001b[0;36mSBBO.iterate\u001b[0;34m(self, n_eval)\u001b[0m\n\u001b[1;32m     49\u001b[0m iters \u001b[38;5;241m=\u001b[39m np\u001b[38;5;241m.\u001b[39marange(n_eval)\n\u001b[1;32m     52\u001b[0m \u001b[38;5;28;01mfor\u001b[39;00m i \u001b[38;5;129;01min\u001b[39;00m \u001b[38;5;28mrange\u001b[39m(n_eval):\n\u001b[0;32m---> 53\u001b[0m     candidate \u001b[38;5;241m=\u001b[39m \u001b[38;5;28;43mself\u001b[39;49m\u001b[38;5;241;43m.\u001b[39;49m\u001b[43mget_candidate\u001b[49m\u001b[43m(\u001b[49m\u001b[43m)\u001b[49m\n\u001b[1;32m     54\u001b[0m     value, value_unscaled \u001b[38;5;241m=\u001b[39m  \u001b[38;5;28mself\u001b[39m\u001b[38;5;241m.\u001b[39mevaluate_candidate(candidate)\n\u001b[1;32m     55\u001b[0m     \u001b[38;5;28mself\u001b[39m\u001b[38;5;241m.\u001b[39mupdate(candidate, value)\n",
      "File \u001b[0;32m~/Library/CloudStorage/OneDrive-CUNEF/research/sbbo/src/sbbo.py:30\u001b[0m, in \u001b[0;36mSBBO.get_candidate\u001b[0;34m(self)\u001b[0m\n\u001b[1;32m     29\u001b[0m \u001b[38;5;28;01mdef\u001b[39;00m \u001b[38;5;21mget_candidate\u001b[39m(\u001b[38;5;28mself\u001b[39m):\n\u001b[0;32m---> 30\u001b[0m     candidate, _ \u001b[38;5;241m=\u001b[39m \u001b[38;5;28;43mself\u001b[39;49m\u001b[38;5;241;43m.\u001b[39;49m\u001b[43msearch_method\u001b[49m\u001b[38;5;241;43m.\u001b[39;49m\u001b[43miterate\u001b[49m\u001b[43m(\u001b[49m\u001b[43m)\u001b[49m\n\u001b[1;32m     31\u001b[0m     \u001b[38;5;28;01mreturn\u001b[39;00m candidate\n",
      "File \u001b[0;32m~/Library/CloudStorage/OneDrive-CUNEF/research/sbbo/src/sbbo_mh.py:103\u001b[0m, in \u001b[0;36mMHSBBO.iterate\u001b[0;34m(self)\u001b[0m\n\u001b[1;32m     96\u001b[0m     \u001b[38;5;28;01mif\u001b[39;00m i\u001b[38;5;241m%\u001b[39m\u001b[38;5;241m10\u001b[39m \u001b[38;5;241m==\u001b[39m \u001b[38;5;241m0\u001b[39m:\n\u001b[1;32m     97\u001b[0m         \u001b[38;5;66;03m#print(\"Percentage completed:\", \u001b[39;00m\n\u001b[1;32m     98\u001b[0m         \u001b[38;5;66;03m#np.round( 100*i/len(self.cooling_schedule), 2) )\u001b[39;00m\n\u001b[1;32m     99\u001b[0m         \u001b[38;5;66;03m#print(\"Current state\", z_init.reshape(5,-1))\u001b[39;00m\n\u001b[1;32m    100\u001b[0m         \u001b[38;5;66;03m#print(\"Current energy\", self.model.predict(self.co_problem.dummify(z_init.reshape(1,-1)) ))\u001b[39;00m\n\u001b[1;32m    101\u001b[0m         \u001b[38;5;28mprint\u001b[39m(np\u001b[38;5;241m.\u001b[39mmean(y_sample))\n\u001b[0;32m--> 103\u001b[0m     z_init, y_sample, value \u001b[38;5;241m=\u001b[39m \u001b[38;5;28;43mself\u001b[39;49m\u001b[38;5;241;43m.\u001b[39;49m\u001b[43mupdate_all\u001b[49m\u001b[43m(\u001b[49m\u001b[43mi\u001b[49m\u001b[43m,\u001b[49m\u001b[43m \u001b[49m\u001b[43mtemp\u001b[49m\u001b[43m,\u001b[49m\u001b[43m \u001b[49m\u001b[43mz_init\u001b[49m\u001b[43m,\u001b[49m\u001b[43m \u001b[49m\u001b[43my_sample\u001b[49m\u001b[43m,\u001b[49m\u001b[43m \u001b[49m\u001b[43mvalue\u001b[49m\u001b[43m)\u001b[49m\n\u001b[1;32m    107\u001b[0m z_star, quality \u001b[38;5;241m=\u001b[39m \u001b[38;5;28mself\u001b[39m\u001b[38;5;241m.\u001b[39mextract_solution()\n\u001b[1;32m    108\u001b[0m z_star_d \u001b[38;5;241m=\u001b[39m \u001b[38;5;28mself\u001b[39m\u001b[38;5;241m.\u001b[39mco_problem\u001b[38;5;241m.\u001b[39mdummify(z_star\u001b[38;5;241m.\u001b[39mreshape(\u001b[38;5;241m1\u001b[39m,\u001b[38;5;241m-\u001b[39m\u001b[38;5;241m1\u001b[39m))\n",
      "File \u001b[0;32m~/Library/CloudStorage/OneDrive-CUNEF/research/sbbo/src/sbbo_mh.py:84\u001b[0m, in \u001b[0;36mMHSBBO.update_all\u001b[0;34m(self, i, temp, z_init, y_sample, value)\u001b[0m\n\u001b[1;32m     80\u001b[0m \u001b[38;5;28;01mdef\u001b[39;00m \u001b[38;5;21mupdate_all\u001b[39m(\u001b[38;5;28mself\u001b[39m, i, temp, z_init, y_sample, value):\n\u001b[1;32m     81\u001b[0m \n\u001b[1;32m     82\u001b[0m     \u001b[38;5;66;03m# Update z\u001b[39;00m\n\u001b[1;32m     83\u001b[0m     \u001b[38;5;28;01mfor\u001b[39;00m idx \u001b[38;5;129;01min\u001b[39;00m \u001b[38;5;28mrange\u001b[39m(\u001b[38;5;28mself\u001b[39m\u001b[38;5;241m.\u001b[39mco_problem\u001b[38;5;241m.\u001b[39mncov):\n\u001b[0;32m---> 84\u001b[0m         z_init, y_sample, value \u001b[38;5;241m=\u001b[39m \u001b[38;5;28;43mself\u001b[39;49m\u001b[38;5;241;43m.\u001b[39;49m\u001b[43mmetropolis_step\u001b[49m\u001b[43m(\u001b[49m\u001b[43mtemp\u001b[49m\u001b[43m,\u001b[49m\u001b[43m \u001b[49m\u001b[43mvalue\u001b[49m\u001b[43m,\u001b[49m\u001b[43m \u001b[49m\u001b[43my_sample\u001b[49m\u001b[43m,\u001b[49m\u001b[43m \u001b[49m\u001b[43mz_init\u001b[49m\u001b[43m)\u001b[49m\n\u001b[1;32m     86\u001b[0m     \u001b[38;5;28mself\u001b[39m\u001b[38;5;241m.\u001b[39mz_samples[i, ] \u001b[38;5;241m=\u001b[39m z_init\n\u001b[1;32m     88\u001b[0m     \u001b[38;5;28;01mreturn\u001b[39;00m z_init, y_sample, value\n",
      "File \u001b[0;32m~/Library/CloudStorage/OneDrive-CUNEF/research/sbbo/src/sbbo_mh.py:64\u001b[0m, in \u001b[0;36mMHSBBO.metropolis_step\u001b[0;34m(self, H, value_old, y_sample_old, z_old)\u001b[0m\n\u001b[1;32m     61\u001b[0m idx_new \u001b[38;5;241m=\u001b[39m np\u001b[38;5;241m.\u001b[39mrandom\u001b[38;5;241m.\u001b[39mchoice( np\u001b[38;5;241m.\u001b[39marange(Z_candidates\u001b[38;5;241m.\u001b[39mshape[\u001b[38;5;241m0\u001b[39m]) )\n\u001b[1;32m     62\u001b[0m z_new \u001b[38;5;241m=\u001b[39m Z_candidates[idx_new]\n\u001b[0;32m---> 64\u001b[0m y_sample \u001b[38;5;241m=\u001b[39m \u001b[43mpreds\u001b[49m\u001b[43m[\u001b[49m\u001b[43midx_new\u001b[49m\u001b[43m]\u001b[49m\u001b[38;5;241;43m.\u001b[39;49m\u001b[43msample\u001b[49m\u001b[43m(\u001b[49m\u001b[43mH\u001b[49m\u001b[43m)\u001b[49m\n\u001b[1;32m     66\u001b[0m value \u001b[38;5;241m=\u001b[39m \u001b[38;5;28mself\u001b[39m\u001b[38;5;241m.\u001b[39mutility(y_sample, z_new, flag\u001b[38;5;241m=\u001b[39m\u001b[38;5;28mself\u001b[39m\u001b[38;5;241m.\u001b[39maf) \u001b[38;5;66;03m# Watch out, parallel!\u001b[39;00m\n\u001b[1;32m     67\u001b[0m value \u001b[38;5;241m=\u001b[39m np\u001b[38;5;241m.\u001b[39msum(np\u001b[38;5;241m.\u001b[39mlog(value))   \n",
      "File \u001b[0;32m~/miniconda/envs/sbbo/lib/python3.11/site-packages/ngboost/distns/normal.py:76\u001b[0m, in \u001b[0;36mNormal.sample\u001b[0;34m(self, m)\u001b[0m\n\u001b[1;32m     75\u001b[0m \u001b[38;5;28;01mdef\u001b[39;00m \u001b[38;5;21msample\u001b[39m(\u001b[38;5;28mself\u001b[39m, m):\n\u001b[0;32m---> 76\u001b[0m     \u001b[38;5;28;01mreturn\u001b[39;00m np\u001b[38;5;241m.\u001b[39marray(\u001b[43m[\u001b[49m\u001b[38;5;28;43mself\u001b[39;49m\u001b[38;5;241;43m.\u001b[39;49m\u001b[43mrvs\u001b[49m\u001b[43m(\u001b[49m\u001b[43m)\u001b[49m\u001b[43m \u001b[49m\u001b[38;5;28;43;01mfor\u001b[39;49;00m\u001b[43m \u001b[49m\u001b[43mi\u001b[49m\u001b[43m \u001b[49m\u001b[38;5;129;43;01min\u001b[39;49;00m\u001b[43m \u001b[49m\u001b[38;5;28;43mrange\u001b[39;49m\u001b[43m(\u001b[49m\u001b[43mm\u001b[49m\u001b[43m)\u001b[49m\u001b[43m]\u001b[49m)\n",
      "File \u001b[0;32m~/miniconda/envs/sbbo/lib/python3.11/site-packages/ngboost/distns/normal.py:76\u001b[0m, in \u001b[0;36m<listcomp>\u001b[0;34m(.0)\u001b[0m\n\u001b[1;32m     75\u001b[0m \u001b[38;5;28;01mdef\u001b[39;00m \u001b[38;5;21msample\u001b[39m(\u001b[38;5;28mself\u001b[39m, m):\n\u001b[0;32m---> 76\u001b[0m     \u001b[38;5;28;01mreturn\u001b[39;00m np\u001b[38;5;241m.\u001b[39marray([\u001b[38;5;28;43mself\u001b[39;49m\u001b[38;5;241;43m.\u001b[39;49m\u001b[43mrvs\u001b[49m\u001b[43m(\u001b[49m\u001b[43m)\u001b[49m \u001b[38;5;28;01mfor\u001b[39;00m i \u001b[38;5;129;01min\u001b[39;00m \u001b[38;5;28mrange\u001b[39m(m)])\n",
      "File \u001b[0;32m~/miniconda/envs/sbbo/lib/python3.11/site-packages/scipy/stats/_distn_infrastructure.py:468\u001b[0m, in \u001b[0;36mrv_frozen.rvs\u001b[0;34m(self, size, random_state)\u001b[0m\n\u001b[1;32m    466\u001b[0m kwds \u001b[38;5;241m=\u001b[39m \u001b[38;5;28mself\u001b[39m\u001b[38;5;241m.\u001b[39mkwds\u001b[38;5;241m.\u001b[39mcopy()\n\u001b[1;32m    467\u001b[0m kwds\u001b[38;5;241m.\u001b[39mupdate({\u001b[38;5;124m'\u001b[39m\u001b[38;5;124msize\u001b[39m\u001b[38;5;124m'\u001b[39m: size, \u001b[38;5;124m'\u001b[39m\u001b[38;5;124mrandom_state\u001b[39m\u001b[38;5;124m'\u001b[39m: random_state})\n\u001b[0;32m--> 468\u001b[0m \u001b[38;5;28;01mreturn\u001b[39;00m \u001b[38;5;28;43mself\u001b[39;49m\u001b[38;5;241;43m.\u001b[39;49m\u001b[43mdist\u001b[49m\u001b[38;5;241;43m.\u001b[39;49m\u001b[43mrvs\u001b[49m\u001b[43m(\u001b[49m\u001b[38;5;241;43m*\u001b[39;49m\u001b[38;5;28;43mself\u001b[39;49m\u001b[38;5;241;43m.\u001b[39;49m\u001b[43margs\u001b[49m\u001b[43m,\u001b[49m\u001b[43m \u001b[49m\u001b[38;5;241;43m*\u001b[39;49m\u001b[38;5;241;43m*\u001b[39;49m\u001b[43mkwds\u001b[49m\u001b[43m)\u001b[49m\n",
      "File \u001b[0;32m~/miniconda/envs/sbbo/lib/python3.11/site-packages/scipy/stats/_distn_infrastructure.py:996\u001b[0m, in \u001b[0;36mrv_generic.rvs\u001b[0;34m(self, *args, **kwds)\u001b[0m\n\u001b[1;32m    992\u001b[0m     \u001b[38;5;28;01mreturn\u001b[39;00m \u001b[38;5;28mself\u001b[39m\u001b[38;5;241m.\u001b[39m_ppf(\u001b[38;5;241m1.0\u001b[39m\u001b[38;5;241m-\u001b[39mq, \u001b[38;5;241m*\u001b[39margs)  \u001b[38;5;66;03m# use correct _ppf for subclasses\u001b[39;00m\n\u001b[1;32m    994\u001b[0m \u001b[38;5;66;03m# These are actually called, and should not be overwritten if you\u001b[39;00m\n\u001b[1;32m    995\u001b[0m \u001b[38;5;66;03m# want to keep error checking.\u001b[39;00m\n\u001b[0;32m--> 996\u001b[0m \u001b[38;5;28;01mdef\u001b[39;00m \u001b[38;5;21mrvs\u001b[39m(\u001b[38;5;28mself\u001b[39m, \u001b[38;5;241m*\u001b[39margs, \u001b[38;5;241m*\u001b[39m\u001b[38;5;241m*\u001b[39mkwds):\n\u001b[1;32m    997\u001b[0m \u001b[38;5;250m    \u001b[39m\u001b[38;5;124;03m\"\"\"Random variates of given type.\u001b[39;00m\n\u001b[1;32m    998\u001b[0m \n\u001b[1;32m    999\u001b[0m \u001b[38;5;124;03m    Parameters\u001b[39;00m\n\u001b[0;32m   (...)\u001b[0m\n\u001b[1;32m   1024\u001b[0m \n\u001b[1;32m   1025\u001b[0m \u001b[38;5;124;03m    \"\"\"\u001b[39;00m\n\u001b[1;32m   1026\u001b[0m     discrete \u001b[38;5;241m=\u001b[39m kwds\u001b[38;5;241m.\u001b[39mpop(\u001b[38;5;124m'\u001b[39m\u001b[38;5;124mdiscrete\u001b[39m\u001b[38;5;124m'\u001b[39m, \u001b[38;5;28;01mNone\u001b[39;00m)\n",
      "\u001b[0;31mKeyboardInterrupt\u001b[0m: "
     ]
    }
   ],
   "source": [
    "sbbo = SBBO(opt_prob, method, fname)\n",
    "sbbo.iterate(5)"
   ]
  },
  {
   "cell_type": "code",
   "execution_count": null,
   "id": "a09e6a0a",
   "metadata": {},
   "outputs": [],
   "source": []
  }
 ],
 "metadata": {
  "kernelspec": {
   "display_name": "Python 3 (ipykernel)",
   "language": "python",
   "name": "python3"
  },
  "language_info": {
   "codemirror_mode": {
    "name": "ipython",
    "version": 3
   },
   "file_extension": ".py",
   "mimetype": "text/x-python",
   "name": "python",
   "nbconvert_exporter": "python",
   "pygments_lexer": "ipython3",
   "version": "3.11.0"
  }
 },
 "nbformat": 4,
 "nbformat_minor": 5
}
