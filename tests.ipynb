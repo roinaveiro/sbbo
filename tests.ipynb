{
 "cells": [
  {
   "cell_type": "code",
   "execution_count": 1,
   "id": "94b95637",
   "metadata": {},
   "outputs": [],
   "source": [
    "import numpy as np\n",
    "import pandas as pd\n",
    "from src.latin_square import LatinSquare\n",
    "from src.sbbo_mh import SBBO\n",
    "from src.sbbo_gibbs import SBBO\n",
    "from ngboost import NGBRegressor\n",
    "\n",
    "from sklearn.model_selection import train_test_split\n",
    "from sklearn.metrics import mean_squared_error"
   ]
  },
  {
   "cell_type": "code",
   "execution_count": 2,
   "id": "66237342",
   "metadata": {},
   "outputs": [
    {
     "name": "stdout",
     "output_type": "stream",
     "text": [
      "[iter 0] loss=-1.4714 val_loss=0.0000 scale=1.0000 norm=0.4937\n",
      "[iter 100] loss=-1.8741 val_loss=0.0000 scale=1.0000 norm=0.3129\n",
      "[iter 200] loss=-2.1548 val_loss=0.0000 scale=1.0000 norm=0.2890\n",
      "[iter 300] loss=-2.4104 val_loss=0.0000 scale=1.0000 norm=0.2741\n",
      "[iter 400] loss=-2.6547 val_loss=0.0000 scale=1.0000 norm=0.2614\n"
     ]
    },
    {
     "data": {
      "text/plain": [
       "0.7247597468371195"
      ]
     },
     "execution_count": 2,
     "metadata": {},
     "output_type": "execute_result"
    }
   ],
   "source": [
    "opt_prob = LatinSquare()\n",
    "ngb = NGBRegressor()\n",
    "BO = SBBO(opt_prob, ngb, np.arange(10, 1000, 1), af='avg')\n",
    "BO.co_problem.y.max()"
   ]
  },
  {
   "cell_type": "code",
   "execution_count": 3,
   "id": "a795d380",
   "metadata": {},
   "outputs": [
    {
     "name": "stdout",
     "output_type": "stream",
     "text": [
      "0.6065186199795084\n",
      "10\n",
      "10\n",
      "0.6052510380641386\n",
      "11\n",
      "11\n",
      "0.6099248509612444\n",
      "12\n",
      "12\n",
      "0.6021787004140916\n",
      "13\n",
      "13\n",
      "0.5920034878823132\n",
      "14\n",
      "14\n",
      "0.5917601968452433\n",
      "15\n",
      "15\n",
      "0.5808509162129776\n",
      "16\n",
      "16\n",
      "0.57446470832373\n",
      "17\n",
      "17\n",
      "0.5728655410904542\n",
      "18\n",
      "18\n",
      "0.5677469610892233\n",
      "19\n",
      "19\n",
      "0.5659364140822869\n",
      "20\n",
      "20\n",
      "0.5643290997289571\n",
      "21\n",
      "21\n",
      "0.5625544055575353\n",
      "22\n",
      "22\n",
      "0.5670388248883232\n",
      "23\n",
      "23\n",
      "0.5745710263621485\n",
      "24\n",
      "24\n",
      "0.5706375832753127\n",
      "25\n",
      "25\n",
      "0.5716012393767971\n",
      "26\n",
      "26\n",
      "0.5746123762158154\n",
      "27\n",
      "27\n",
      "0.5772392206115512\n",
      "28\n",
      "28\n",
      "0.5780551865573496\n",
      "29\n",
      "29\n",
      "0.5836477025848497\n",
      "30\n",
      "30\n",
      "0.5854931674246218\n",
      "31\n",
      "31\n",
      "0.5851283518336521\n",
      "32\n",
      "32\n",
      "0.5855722656938969\n",
      "33\n",
      "33\n",
      "0.5899502386038802\n"
     ]
    },
    {
     "ename": "KeyboardInterrupt",
     "evalue": "",
     "output_type": "error",
     "traceback": [
      "\u001b[0;31m---------------------------------------------------------------------------\u001b[0m",
      "\u001b[0;31mKeyboardInterrupt\u001b[0m                         Traceback (most recent call last)",
      "Cell \u001b[0;32mIn[3], line 1\u001b[0m\n\u001b[0;32m----> 1\u001b[0m a,b,c \u001b[38;5;241m=\u001b[39m \u001b[43mBO\u001b[49m\u001b[38;5;241;43m.\u001b[39;49m\u001b[43miterate\u001b[49m\u001b[43m(\u001b[49m\u001b[43m)\u001b[49m\n",
      "File \u001b[0;32m~/Library/CloudStorage/OneDrive-CUNEF/research/sbbo/src/sbbo_gibbs.py:106\u001b[0m, in \u001b[0;36mSBBO.iterate\u001b[0;34m(self)\u001b[0m\n\u001b[1;32m     99\u001b[0m \u001b[38;5;28;01mif\u001b[39;00m i\u001b[38;5;241m%\u001b[39m\u001b[38;5;241m1\u001b[39m \u001b[38;5;241m==\u001b[39m \u001b[38;5;241m0\u001b[39m:\n\u001b[1;32m    100\u001b[0m     \u001b[38;5;66;03m# print(\"Percentage completed:\", \u001b[39;00m\n\u001b[1;32m    101\u001b[0m     \u001b[38;5;66;03m# np.round( 100*i/len(self.cooling_schedule), 2) )\u001b[39;00m\n\u001b[1;32m    102\u001b[0m     \u001b[38;5;66;03m# print(\"Current state\", z_init.reshape(5,-1))\u001b[39;00m\n\u001b[1;32m    103\u001b[0m     \u001b[38;5;66;03m# print(\"Current energy\", self.model.predict(self.co_problem.dummify(z_init.reshape(1,-1)) ))\u001b[39;00m\n\u001b[1;32m    104\u001b[0m     \u001b[38;5;28mprint\u001b[39m(np\u001b[38;5;241m.\u001b[39mmean(y_sample))\n\u001b[0;32m--> 106\u001b[0m z_init, y_sample, value \u001b[38;5;241m=\u001b[39m \u001b[38;5;28;43mself\u001b[39;49m\u001b[38;5;241;43m.\u001b[39;49m\u001b[43mupdate_all\u001b[49m\u001b[43m(\u001b[49m\u001b[43mi\u001b[49m\u001b[43m,\u001b[49m\u001b[43m \u001b[49m\u001b[43mtemp\u001b[49m\u001b[43m,\u001b[49m\u001b[43m \u001b[49m\u001b[43mz_init\u001b[49m\u001b[43m,\u001b[49m\u001b[43m \u001b[49m\u001b[43my_sample\u001b[49m\u001b[43m,\u001b[49m\u001b[43m \u001b[49m\u001b[43mvalue\u001b[49m\u001b[43m)\u001b[49m\n\u001b[1;32m    107\u001b[0m y_sample \u001b[38;5;241m=\u001b[39m np\u001b[38;5;241m.\u001b[39mappend(y_sample, np\u001b[38;5;241m.\u001b[39mrandom\u001b[38;5;241m.\u001b[39mchoice(y_sample, \u001b[38;5;28mself\u001b[39m\u001b[38;5;241m.\u001b[39mstep))\n\u001b[1;32m    108\u001b[0m value \u001b[38;5;241m=\u001b[39m \u001b[38;5;28mself\u001b[39m\u001b[38;5;241m.\u001b[39mutility(y_sample, z_init)\n",
      "File \u001b[0;32m~/Library/CloudStorage/OneDrive-CUNEF/research/sbbo/src/sbbo_gibbs.py:82\u001b[0m, in \u001b[0;36mSBBO.update_all\u001b[0;34m(self, i, temp, z_init, y_sample, value)\u001b[0m\n\u001b[1;32m     78\u001b[0m \u001b[38;5;28;01mdef\u001b[39;00m \u001b[38;5;21mupdate_all\u001b[39m(\u001b[38;5;28mself\u001b[39m, i, temp, z_init, y_sample, value):\n\u001b[1;32m     79\u001b[0m \n\u001b[1;32m     80\u001b[0m     \u001b[38;5;66;03m# Update z\u001b[39;00m\n\u001b[1;32m     81\u001b[0m     \u001b[38;5;28;01mfor\u001b[39;00m idx \u001b[38;5;129;01min\u001b[39;00m \u001b[38;5;28mrange\u001b[39m(\u001b[38;5;28mself\u001b[39m\u001b[38;5;241m.\u001b[39mco_problem\u001b[38;5;241m.\u001b[39mncov):\n\u001b[0;32m---> 82\u001b[0m         z_init \u001b[38;5;241m=\u001b[39m \u001b[38;5;28;43mself\u001b[39;49m\u001b[38;5;241;43m.\u001b[39;49m\u001b[43mupdate_z\u001b[49m\u001b[43m(\u001b[49m\u001b[43mz_init\u001b[49m\u001b[43m,\u001b[49m\u001b[43m \u001b[49m\u001b[43midx\u001b[49m\u001b[43m,\u001b[49m\u001b[43m \u001b[49m\u001b[43my_sample\u001b[49m\u001b[43m)\u001b[49m\n\u001b[1;32m     83\u001b[0m         \u001b[38;5;28mself\u001b[39m\u001b[38;5;241m.\u001b[39mz_samples[i, idx] \u001b[38;5;241m=\u001b[39m z_init[idx]\n\u001b[1;32m     84\u001b[0m         z_init \u001b[38;5;241m=\u001b[39m z_init\u001b[38;5;241m.\u001b[39mreshape(\u001b[38;5;241m1\u001b[39m,\u001b[38;5;241m-\u001b[39m\u001b[38;5;241m1\u001b[39m)\n",
      "File \u001b[0;32m~/Library/CloudStorage/OneDrive-CUNEF/research/sbbo/src/sbbo_gibbs.py:70\u001b[0m, in \u001b[0;36mSBBO.update_z\u001b[0;34m(self, z, idx, y_sample)\u001b[0m\n\u001b[1;32m     67\u001b[0m energies \u001b[38;5;241m=\u001b[39m np\u001b[38;5;241m.\u001b[39mzeros(Z_candidates\u001b[38;5;241m.\u001b[39mshape[\u001b[38;5;241m0\u001b[39m])\n\u001b[1;32m     69\u001b[0m \u001b[38;5;28;01mfor\u001b[39;00m i \u001b[38;5;129;01min\u001b[39;00m \u001b[38;5;28mrange\u001b[39m(\u001b[38;5;28mlen\u001b[39m(energies)):\n\u001b[0;32m---> 70\u001b[0m     energies[i] \u001b[38;5;241m=\u001b[39m np\u001b[38;5;241m.\u001b[39msum(\u001b[43mpreds\u001b[49m\u001b[43m[\u001b[49m\u001b[43mi\u001b[49m\u001b[43m]\u001b[49m\u001b[38;5;241m.\u001b[39mdist\u001b[38;5;241m.\u001b[39mlogpdf(y_sample)) \u001b[38;5;66;03m# Utilities??\u001b[39;00m\n\u001b[1;32m     72\u001b[0m p \u001b[38;5;241m=\u001b[39m softmax(energies)\n\u001b[1;32m     73\u001b[0m candidate_idx \u001b[38;5;241m=\u001b[39m np\u001b[38;5;241m.\u001b[39mrandom\u001b[38;5;241m.\u001b[39mchoice( np\u001b[38;5;241m.\u001b[39marange(\u001b[38;5;28mlen\u001b[39m(Z_candidates)), p\u001b[38;5;241m=\u001b[39mp )\n",
      "File \u001b[0;32m~/miniconda/envs/sbbo/lib/python3.11/site-packages/ngboost/distns/distn.py:22\u001b[0m, in \u001b[0;36mDistn.__getitem__\u001b[0;34m(self, key)\u001b[0m\n\u001b[1;32m     21\u001b[0m \u001b[38;5;28;01mdef\u001b[39;00m \u001b[38;5;21m__getitem__\u001b[39m(\u001b[38;5;28mself\u001b[39m, key):\n\u001b[0;32m---> 22\u001b[0m     \u001b[38;5;28;01mreturn\u001b[39;00m \u001b[38;5;28;43mself\u001b[39;49m\u001b[38;5;241;43m.\u001b[39;49m\u001b[38;5;18;43m__class__\u001b[39;49m\u001b[43m(\u001b[49m\u001b[38;5;28;43mself\u001b[39;49m\u001b[38;5;241;43m.\u001b[39;49m\u001b[43m_params\u001b[49m\u001b[43m[\u001b[49m\u001b[43m:\u001b[49m\u001b[43m,\u001b[49m\u001b[43m \u001b[49m\u001b[43mkey\u001b[49m\u001b[43m]\u001b[49m\u001b[43m)\u001b[49m\n",
      "File \u001b[0;32m~/miniconda/envs/sbbo/lib/python3.11/site-packages/ngboost/distns/normal.py:69\u001b[0m, in \u001b[0;36mNormal.__init__\u001b[0;34m(self, params)\u001b[0m\n\u001b[1;32m     67\u001b[0m \u001b[38;5;28mself\u001b[39m\u001b[38;5;241m.\u001b[39mscale \u001b[38;5;241m=\u001b[39m np\u001b[38;5;241m.\u001b[39mexp(params[\u001b[38;5;241m1\u001b[39m])\n\u001b[1;32m     68\u001b[0m \u001b[38;5;28mself\u001b[39m\u001b[38;5;241m.\u001b[39mvar \u001b[38;5;241m=\u001b[39m \u001b[38;5;28mself\u001b[39m\u001b[38;5;241m.\u001b[39mscale \u001b[38;5;241m*\u001b[39m\u001b[38;5;241m*\u001b[39m \u001b[38;5;241m2\u001b[39m\n\u001b[0;32m---> 69\u001b[0m \u001b[38;5;28mself\u001b[39m\u001b[38;5;241m.\u001b[39mdist \u001b[38;5;241m=\u001b[39m \u001b[43mdist\u001b[49m\u001b[43m(\u001b[49m\u001b[43mloc\u001b[49m\u001b[38;5;241;43m=\u001b[39;49m\u001b[38;5;28;43mself\u001b[39;49m\u001b[38;5;241;43m.\u001b[39;49m\u001b[43mloc\u001b[49m\u001b[43m,\u001b[49m\u001b[43m \u001b[49m\u001b[43mscale\u001b[49m\u001b[38;5;241;43m=\u001b[39;49m\u001b[38;5;28;43mself\u001b[39;49m\u001b[38;5;241;43m.\u001b[39;49m\u001b[43mscale\u001b[49m\u001b[43m)\u001b[49m\n",
      "File \u001b[0;32m~/miniconda/envs/sbbo/lib/python3.11/site-packages/scipy/stats/_distn_infrastructure.py:829\u001b[0m, in \u001b[0;36mrv_generic.__call__\u001b[0;34m(self, *args, **kwds)\u001b[0m\n\u001b[1;32m    828\u001b[0m \u001b[38;5;28;01mdef\u001b[39;00m \u001b[38;5;21m__call__\u001b[39m(\u001b[38;5;28mself\u001b[39m, \u001b[38;5;241m*\u001b[39margs, \u001b[38;5;241m*\u001b[39m\u001b[38;5;241m*\u001b[39mkwds):\n\u001b[0;32m--> 829\u001b[0m     \u001b[38;5;28;01mreturn\u001b[39;00m \u001b[38;5;28;43mself\u001b[39;49m\u001b[38;5;241;43m.\u001b[39;49m\u001b[43mfreeze\u001b[49m\u001b[43m(\u001b[49m\u001b[38;5;241;43m*\u001b[39;49m\u001b[43margs\u001b[49m\u001b[43m,\u001b[49m\u001b[43m \u001b[49m\u001b[38;5;241;43m*\u001b[39;49m\u001b[38;5;241;43m*\u001b[39;49m\u001b[43mkwds\u001b[49m\u001b[43m)\u001b[49m\n",
      "File \u001b[0;32m~/miniconda/envs/sbbo/lib/python3.11/site-packages/scipy/stats/_distn_infrastructure.py:824\u001b[0m, in \u001b[0;36mrv_generic.freeze\u001b[0;34m(self, *args, **kwds)\u001b[0m\n\u001b[1;32m    809\u001b[0m \u001b[38;5;250m\u001b[39m\u001b[38;5;124;03m\"\"\"Freeze the distribution for the given arguments.\u001b[39;00m\n\u001b[1;32m    810\u001b[0m \n\u001b[1;32m    811\u001b[0m \u001b[38;5;124;03mParameters\u001b[39;00m\n\u001b[0;32m   (...)\u001b[0m\n\u001b[1;32m    821\u001b[0m \n\u001b[1;32m    822\u001b[0m \u001b[38;5;124;03m\"\"\"\u001b[39;00m\n\u001b[1;32m    823\u001b[0m \u001b[38;5;28;01mif\u001b[39;00m \u001b[38;5;28misinstance\u001b[39m(\u001b[38;5;28mself\u001b[39m, rv_continuous):\n\u001b[0;32m--> 824\u001b[0m     \u001b[38;5;28;01mreturn\u001b[39;00m \u001b[43mrv_continuous_frozen\u001b[49m\u001b[43m(\u001b[49m\u001b[38;5;28;43mself\u001b[39;49m\u001b[43m,\u001b[49m\u001b[43m \u001b[49m\u001b[38;5;241;43m*\u001b[39;49m\u001b[43margs\u001b[49m\u001b[43m,\u001b[49m\u001b[43m \u001b[49m\u001b[38;5;241;43m*\u001b[39;49m\u001b[38;5;241;43m*\u001b[39;49m\u001b[43mkwds\u001b[49m\u001b[43m)\u001b[49m\n\u001b[1;32m    825\u001b[0m \u001b[38;5;28;01melse\u001b[39;00m:\n\u001b[1;32m    826\u001b[0m     \u001b[38;5;28;01mreturn\u001b[39;00m rv_discrete_frozen(\u001b[38;5;28mself\u001b[39m, \u001b[38;5;241m*\u001b[39margs, \u001b[38;5;241m*\u001b[39m\u001b[38;5;241m*\u001b[39mkwds)\n",
      "File \u001b[0;32m~/miniconda/envs/sbbo/lib/python3.11/site-packages/scipy/stats/_distn_infrastructure.py:440\u001b[0m, in \u001b[0;36mrv_frozen.__init__\u001b[0;34m(self, dist, *args, **kwds)\u001b[0m\n\u001b[1;32m    437\u001b[0m \u001b[38;5;28mself\u001b[39m\u001b[38;5;241m.\u001b[39mkwds \u001b[38;5;241m=\u001b[39m kwds\n\u001b[1;32m    439\u001b[0m \u001b[38;5;66;03m# create a new instance\u001b[39;00m\n\u001b[0;32m--> 440\u001b[0m \u001b[38;5;28mself\u001b[39m\u001b[38;5;241m.\u001b[39mdist \u001b[38;5;241m=\u001b[39m \u001b[43mdist\u001b[49m\u001b[38;5;241;43m.\u001b[39;49m\u001b[38;5;18;43m__class__\u001b[39;49m\u001b[43m(\u001b[49m\u001b[38;5;241;43m*\u001b[39;49m\u001b[38;5;241;43m*\u001b[39;49m\u001b[43mdist\u001b[49m\u001b[38;5;241;43m.\u001b[39;49m\u001b[43m_updated_ctor_param\u001b[49m\u001b[43m(\u001b[49m\u001b[43m)\u001b[49m\u001b[43m)\u001b[49m\n\u001b[1;32m    442\u001b[0m shapes, _, _ \u001b[38;5;241m=\u001b[39m \u001b[38;5;28mself\u001b[39m\u001b[38;5;241m.\u001b[39mdist\u001b[38;5;241m.\u001b[39m_parse_args(\u001b[38;5;241m*\u001b[39margs, \u001b[38;5;241m*\u001b[39m\u001b[38;5;241m*\u001b[39mkwds)\n\u001b[1;32m    443\u001b[0m \u001b[38;5;28mself\u001b[39m\u001b[38;5;241m.\u001b[39ma, \u001b[38;5;28mself\u001b[39m\u001b[38;5;241m.\u001b[39mb \u001b[38;5;241m=\u001b[39m \u001b[38;5;28mself\u001b[39m\u001b[38;5;241m.\u001b[39mdist\u001b[38;5;241m.\u001b[39m_get_support(\u001b[38;5;241m*\u001b[39mshapes)\n",
      "File \u001b[0;32m~/miniconda/envs/sbbo/lib/python3.11/site-packages/scipy/stats/_distn_infrastructure.py:1936\u001b[0m, in \u001b[0;36mrv_continuous.__init__\u001b[0;34m(self, momtype, a, b, xtol, badvalue, name, longname, shapes, extradoc, seed)\u001b[0m\n\u001b[1;32m   1931\u001b[0m \u001b[38;5;28mself\u001b[39m\u001b[38;5;241m.\u001b[39mextradoc \u001b[38;5;241m=\u001b[39m extradoc\n\u001b[1;32m   1933\u001b[0m \u001b[38;5;28mself\u001b[39m\u001b[38;5;241m.\u001b[39m_construct_argparser(meths_to_inspect\u001b[38;5;241m=\u001b[39m[\u001b[38;5;28mself\u001b[39m\u001b[38;5;241m.\u001b[39m_pdf, \u001b[38;5;28mself\u001b[39m\u001b[38;5;241m.\u001b[39m_cdf],\n\u001b[1;32m   1934\u001b[0m                           locscale_in\u001b[38;5;241m=\u001b[39m\u001b[38;5;124m'\u001b[39m\u001b[38;5;124mloc=0, scale=1\u001b[39m\u001b[38;5;124m'\u001b[39m,\n\u001b[1;32m   1935\u001b[0m                           locscale_out\u001b[38;5;241m=\u001b[39m\u001b[38;5;124m'\u001b[39m\u001b[38;5;124mloc, scale\u001b[39m\u001b[38;5;124m'\u001b[39m)\n\u001b[0;32m-> 1936\u001b[0m \u001b[38;5;28;43mself\u001b[39;49m\u001b[38;5;241;43m.\u001b[39;49m\u001b[43m_attach_methods\u001b[49m\u001b[43m(\u001b[49m\u001b[43m)\u001b[49m\n\u001b[1;32m   1938\u001b[0m \u001b[38;5;28;01mif\u001b[39;00m longname \u001b[38;5;129;01mis\u001b[39;00m \u001b[38;5;28;01mNone\u001b[39;00m:\n\u001b[1;32m   1939\u001b[0m     \u001b[38;5;28;01mif\u001b[39;00m name[\u001b[38;5;241m0\u001b[39m] \u001b[38;5;129;01min\u001b[39;00m [\u001b[38;5;124m'\u001b[39m\u001b[38;5;124maeiouAEIOU\u001b[39m\u001b[38;5;124m'\u001b[39m]:\n",
      "File \u001b[0;32m~/miniconda/envs/sbbo/lib/python3.11/site-packages/scipy/stats/_distn_infrastructure.py:1971\u001b[0m, in \u001b[0;36mrv_continuous._attach_methods\u001b[0;34m(self)\u001b[0m\n\u001b[1;32m   1967\u001b[0m \u001b[38;5;250m\u001b[39m\u001b[38;5;124;03m\"\"\"\u001b[39;00m\n\u001b[1;32m   1968\u001b[0m \u001b[38;5;124;03mAttaches dynamically created methods to the rv_continuous instance.\u001b[39;00m\n\u001b[1;32m   1969\u001b[0m \u001b[38;5;124;03m\"\"\"\u001b[39;00m\n\u001b[1;32m   1970\u001b[0m \u001b[38;5;66;03m# _attach_methods is responsible for calling _attach_argparser_methods\u001b[39;00m\n\u001b[0;32m-> 1971\u001b[0m \u001b[38;5;28;43mself\u001b[39;49m\u001b[38;5;241;43m.\u001b[39;49m\u001b[43m_attach_argparser_methods\u001b[49m\u001b[43m(\u001b[49m\u001b[43m)\u001b[49m\n\u001b[1;32m   1973\u001b[0m \u001b[38;5;66;03m# nin correction\u001b[39;00m\n\u001b[1;32m   1974\u001b[0m \u001b[38;5;28mself\u001b[39m\u001b[38;5;241m.\u001b[39m_ppfvec \u001b[38;5;241m=\u001b[39m vectorize(\u001b[38;5;28mself\u001b[39m\u001b[38;5;241m.\u001b[39m_ppf_single, otypes\u001b[38;5;241m=\u001b[39m\u001b[38;5;124m'\u001b[39m\u001b[38;5;124md\u001b[39m\u001b[38;5;124m'\u001b[39m)\n",
      "File \u001b[0;32m~/miniconda/envs/sbbo/lib/python3.11/site-packages/scipy/stats/_distn_infrastructure.py:669\u001b[0m, in \u001b[0;36mrv_generic._attach_argparser_methods\u001b[0;34m(self)\u001b[0m\n\u001b[1;32m    661\u001b[0m \u001b[38;5;250m\u001b[39m\u001b[38;5;124;03m\"\"\"\u001b[39;00m\n\u001b[1;32m    662\u001b[0m \u001b[38;5;124;03mGenerates the argument-parsing functions dynamically and attaches\u001b[39;00m\n\u001b[1;32m    663\u001b[0m \u001b[38;5;124;03mthem to the instance.\u001b[39;00m\n\u001b[0;32m   (...)\u001b[0m\n\u001b[1;32m    666\u001b[0m \u001b[38;5;124;03mduring unpickling (__setstate__)\u001b[39;00m\n\u001b[1;32m    667\u001b[0m \u001b[38;5;124;03m\"\"\"\u001b[39;00m\n\u001b[1;32m    668\u001b[0m ns \u001b[38;5;241m=\u001b[39m {}\n\u001b[0;32m--> 669\u001b[0m exec(\u001b[38;5;28mself\u001b[39m\u001b[38;5;241m.\u001b[39m_parse_arg_template, ns)\n\u001b[1;32m    670\u001b[0m \u001b[38;5;66;03m# NB: attach to the instance, not class\u001b[39;00m\n\u001b[1;32m    671\u001b[0m \u001b[38;5;28;01mfor\u001b[39;00m name \u001b[38;5;129;01min\u001b[39;00m [\u001b[38;5;124m'\u001b[39m\u001b[38;5;124m_parse_args\u001b[39m\u001b[38;5;124m'\u001b[39m, \u001b[38;5;124m'\u001b[39m\u001b[38;5;124m_parse_args_stats\u001b[39m\u001b[38;5;124m'\u001b[39m, \u001b[38;5;124m'\u001b[39m\u001b[38;5;124m_parse_args_rvs\u001b[39m\u001b[38;5;124m'\u001b[39m]:\n",
      "File \u001b[0;32m<string>:0\u001b[0m\n",
      "\u001b[0;31mKeyboardInterrupt\u001b[0m: "
     ]
    }
   ],
   "source": [
    "a,b,c = BO.iterate()"
   ]
  },
  {
   "cell_type": "code",
   "execution_count": 11,
   "id": "2b80da21",
   "metadata": {},
   "outputs": [
    {
     "data": {
      "text/plain": [
       "array([0.58225179])"
      ]
     },
     "execution_count": 11,
     "metadata": {},
     "output_type": "execute_result"
    }
   ],
   "source": [
    "c"
   ]
  }
 ],
 "metadata": {
  "kernelspec": {
   "display_name": "Python 3 (ipykernel)",
   "language": "python",
   "name": "python3"
  },
  "language_info": {
   "codemirror_mode": {
    "name": "ipython",
    "version": 3
   },
   "file_extension": ".py",
   "mimetype": "text/x-python",
   "name": "python",
   "nbconvert_exporter": "python",
   "pygments_lexer": "ipython3",
   "version": "3.11.0"
  }
 },
 "nbformat": 4,
 "nbformat_minor": 5
}
