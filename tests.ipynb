{
 "cells": [
  {
   "cell_type": "code",
   "execution_count": 1,
   "id": "94b95637",
   "metadata": {},
   "outputs": [],
   "source": [
    "import numpy as np\n",
    "import pandas as pd\n",
    "from src.latin_square import LatinSquare\n",
    "from src.sbbo import SBBO\n",
    "from src.sbbo_mh import MHSBBO\n",
    "from src.sbbo_gibbs import GibbsSBBO\n",
    "from ngboost import NGBRegressor\n",
    "from ngboost.distns import Exponential, Normal\n",
    "from ngboost.scores import LogScore, CRPScore\n",
    "\n",
    "from sklearn.model_selection import train_test_split\n",
    "from sklearn.metrics import mean_squared_error\n",
    "from sklearn.linear_model import LinearRegression\n",
    "from sklearn.tree import DecisionTreeRegressor\n"
   ]
  },
  {
   "cell_type": "code",
   "execution_count": 2,
   "id": "66237342",
   "metadata": {},
   "outputs": [
    {
     "name": "stdout",
     "output_type": "stream",
     "text": [
      "[iter 0] loss=-2.1131 val_loss=0.0000 scale=2.0000 norm=0.6045\n",
      "[iter 100] loss=-3.3044 val_loss=0.0000 scale=2.0000 norm=0.9415\n",
      "[iter 200] loss=-4.3857 val_loss=0.0000 scale=4.0000 norm=1.9880\n",
      "[iter 300] loss=-6.3857 val_loss=0.0000 scale=4.0000 norm=1.9998\n",
      "[iter 400] loss=-10.6457 val_loss=0.0000 scale=8.0000 norm=4.0000\n"
     ]
    },
    {
     "data": {
      "text/plain": [
       "0.6254304868470889"
      ]
     },
     "execution_count": 2,
     "metadata": {},
     "output_type": "execute_result"
    }
   ],
   "source": [
    "opt_prob = LatinSquare(n=5)\n",
    "lin_mod = LinearRegression()\n",
    "dec_tree = DecisionTreeRegressor(criterion='friedman_mse', max_depth=5)\n",
    "\n",
    "params = {}\n",
    "\n",
    "# params[\"model\"] = NGBRegressor()\n",
    "params[\"model\"] = NGBRegressor(Dist=Normal, Base=dec_tree)\n",
    "params[\"af\"] = 'EI'\n",
    "params[\"cooling_schedule\"] = np.arange(1, 1000, 20)\n",
    "params[\"burnin\"] = 0.1\n",
    "fname = \"results/LS5_mNGBlin_oMH.csv\"\n",
    "method = MHSBBO(opt_prob, params)\n",
    "\n",
    "method.co_problem.y.max()"
   ]
  },
  {
   "cell_type": "code",
   "execution_count": 3,
   "id": "65b56906",
   "metadata": {},
   "outputs": [
    {
     "name": "stdout",
     "output_type": "stream",
     "text": [
      "0.6123986326361331\n",
      "0.6167634761439365\n"
     ]
    },
    {
     "ename": "KeyboardInterrupt",
     "evalue": "",
     "output_type": "error",
     "traceback": [
      "\u001b[0;31m---------------------------------------------------------------------------\u001b[0m",
      "\u001b[0;31mKeyboardInterrupt\u001b[0m                         Traceback (most recent call last)",
      "Cell \u001b[0;32mIn[3], line 2\u001b[0m\n\u001b[1;32m      1\u001b[0m sbbo \u001b[38;5;241m=\u001b[39m SBBO(opt_prob, method, fname)\n\u001b[0;32m----> 2\u001b[0m \u001b[43msbbo\u001b[49m\u001b[38;5;241;43m.\u001b[39;49m\u001b[43miterate\u001b[49m\u001b[43m(\u001b[49m\u001b[38;5;241;43m5\u001b[39;49m\u001b[43m)\u001b[49m\n",
      "File \u001b[0;32m~/Library/CloudStorage/OneDrive-CUNEF/research/sbbo/src/sbbo.py:53\u001b[0m, in \u001b[0;36mSBBO.iterate\u001b[0;34m(self, n_eval)\u001b[0m\n\u001b[1;32m     49\u001b[0m iters \u001b[38;5;241m=\u001b[39m np\u001b[38;5;241m.\u001b[39marange(n_eval)\n\u001b[1;32m     52\u001b[0m \u001b[38;5;28;01mfor\u001b[39;00m i \u001b[38;5;129;01min\u001b[39;00m \u001b[38;5;28mrange\u001b[39m(n_eval):\n\u001b[0;32m---> 53\u001b[0m     candidate \u001b[38;5;241m=\u001b[39m \u001b[38;5;28;43mself\u001b[39;49m\u001b[38;5;241;43m.\u001b[39;49m\u001b[43mget_candidate\u001b[49m\u001b[43m(\u001b[49m\u001b[43m)\u001b[49m\n\u001b[1;32m     54\u001b[0m     value, value_unscaled \u001b[38;5;241m=\u001b[39m  \u001b[38;5;28mself\u001b[39m\u001b[38;5;241m.\u001b[39mevaluate_candidate(candidate)\n\u001b[1;32m     55\u001b[0m     \u001b[38;5;28mself\u001b[39m\u001b[38;5;241m.\u001b[39mupdate(candidate, value)\n",
      "File \u001b[0;32m~/Library/CloudStorage/OneDrive-CUNEF/research/sbbo/src/sbbo.py:30\u001b[0m, in \u001b[0;36mSBBO.get_candidate\u001b[0;34m(self)\u001b[0m\n\u001b[1;32m     29\u001b[0m \u001b[38;5;28;01mdef\u001b[39;00m \u001b[38;5;21mget_candidate\u001b[39m(\u001b[38;5;28mself\u001b[39m):\n\u001b[0;32m---> 30\u001b[0m     candidate, _ \u001b[38;5;241m=\u001b[39m \u001b[38;5;28;43mself\u001b[39;49m\u001b[38;5;241;43m.\u001b[39;49m\u001b[43msearch_method\u001b[49m\u001b[38;5;241;43m.\u001b[39;49m\u001b[43miterate\u001b[49m\u001b[43m(\u001b[49m\u001b[43m)\u001b[49m\n\u001b[1;32m     31\u001b[0m     \u001b[38;5;28;01mreturn\u001b[39;00m candidate\n",
      "File \u001b[0;32m~/Library/CloudStorage/OneDrive-CUNEF/research/sbbo/src/sbbo_mh.py:103\u001b[0m, in \u001b[0;36mMHSBBO.iterate\u001b[0;34m(self)\u001b[0m\n\u001b[1;32m     96\u001b[0m     \u001b[38;5;28;01mif\u001b[39;00m i\u001b[38;5;241m%\u001b[39m\u001b[38;5;241m10\u001b[39m \u001b[38;5;241m==\u001b[39m \u001b[38;5;241m0\u001b[39m:\n\u001b[1;32m     97\u001b[0m         \u001b[38;5;66;03m#print(\"Percentage completed:\", \u001b[39;00m\n\u001b[1;32m     98\u001b[0m         \u001b[38;5;66;03m#np.round( 100*i/len(self.cooling_schedule), 2) )\u001b[39;00m\n\u001b[1;32m     99\u001b[0m         \u001b[38;5;66;03m#print(\"Current state\", z_init.reshape(5,-1))\u001b[39;00m\n\u001b[1;32m    100\u001b[0m         \u001b[38;5;66;03m#print(\"Current energy\", self.model.predict(self.co_problem.dummify(z_init.reshape(1,-1)) ))\u001b[39;00m\n\u001b[1;32m    101\u001b[0m         \u001b[38;5;28mprint\u001b[39m(np\u001b[38;5;241m.\u001b[39mmean(y_sample))\n\u001b[0;32m--> 103\u001b[0m     z_init, y_sample, value \u001b[38;5;241m=\u001b[39m \u001b[38;5;28;43mself\u001b[39;49m\u001b[38;5;241;43m.\u001b[39;49m\u001b[43mupdate_all\u001b[49m\u001b[43m(\u001b[49m\u001b[43mi\u001b[49m\u001b[43m,\u001b[49m\u001b[43m \u001b[49m\u001b[43mtemp\u001b[49m\u001b[43m,\u001b[49m\u001b[43m \u001b[49m\u001b[43mz_init\u001b[49m\u001b[43m,\u001b[49m\u001b[43m \u001b[49m\u001b[43my_sample\u001b[49m\u001b[43m,\u001b[49m\u001b[43m \u001b[49m\u001b[43mvalue\u001b[49m\u001b[43m)\u001b[49m\n\u001b[1;32m    107\u001b[0m z_star, quality \u001b[38;5;241m=\u001b[39m \u001b[38;5;28mself\u001b[39m\u001b[38;5;241m.\u001b[39mextract_solution()\n\u001b[1;32m    108\u001b[0m z_star_d \u001b[38;5;241m=\u001b[39m \u001b[38;5;28mself\u001b[39m\u001b[38;5;241m.\u001b[39mco_problem\u001b[38;5;241m.\u001b[39mdummify(z_star\u001b[38;5;241m.\u001b[39mreshape(\u001b[38;5;241m1\u001b[39m,\u001b[38;5;241m-\u001b[39m\u001b[38;5;241m1\u001b[39m))\n",
      "File \u001b[0;32m~/Library/CloudStorage/OneDrive-CUNEF/research/sbbo/src/sbbo_mh.py:84\u001b[0m, in \u001b[0;36mMHSBBO.update_all\u001b[0;34m(self, i, temp, z_init, y_sample, value)\u001b[0m\n\u001b[1;32m     80\u001b[0m \u001b[38;5;28;01mdef\u001b[39;00m \u001b[38;5;21mupdate_all\u001b[39m(\u001b[38;5;28mself\u001b[39m, i, temp, z_init, y_sample, value):\n\u001b[1;32m     81\u001b[0m \n\u001b[1;32m     82\u001b[0m     \u001b[38;5;66;03m# Update z\u001b[39;00m\n\u001b[1;32m     83\u001b[0m     \u001b[38;5;28;01mfor\u001b[39;00m idx \u001b[38;5;129;01min\u001b[39;00m \u001b[38;5;28mrange\u001b[39m(\u001b[38;5;28mself\u001b[39m\u001b[38;5;241m.\u001b[39mco_problem\u001b[38;5;241m.\u001b[39mncov):\n\u001b[0;32m---> 84\u001b[0m         z_init, y_sample, value \u001b[38;5;241m=\u001b[39m \u001b[38;5;28;43mself\u001b[39;49m\u001b[38;5;241;43m.\u001b[39;49m\u001b[43mmetropolis_step\u001b[49m\u001b[43m(\u001b[49m\u001b[43mtemp\u001b[49m\u001b[43m,\u001b[49m\u001b[43m \u001b[49m\u001b[43mvalue\u001b[49m\u001b[43m,\u001b[49m\u001b[43m \u001b[49m\u001b[43my_sample\u001b[49m\u001b[43m,\u001b[49m\u001b[43m \u001b[49m\u001b[43mz_init\u001b[49m\u001b[43m)\u001b[49m\n\u001b[1;32m     86\u001b[0m     \u001b[38;5;28mself\u001b[39m\u001b[38;5;241m.\u001b[39mz_samples[i, ] \u001b[38;5;241m=\u001b[39m z_init\n\u001b[1;32m     88\u001b[0m     \u001b[38;5;28;01mreturn\u001b[39;00m z_init, y_sample, value\n",
      "File \u001b[0;32m~/Library/CloudStorage/OneDrive-CUNEF/research/sbbo/src/sbbo_mh.py:64\u001b[0m, in \u001b[0;36mMHSBBO.metropolis_step\u001b[0;34m(self, H, value_old, y_sample_old, z_old)\u001b[0m\n\u001b[1;32m     61\u001b[0m idx_new \u001b[38;5;241m=\u001b[39m np\u001b[38;5;241m.\u001b[39mrandom\u001b[38;5;241m.\u001b[39mchoice( np\u001b[38;5;241m.\u001b[39marange(Z_candidates\u001b[38;5;241m.\u001b[39mshape[\u001b[38;5;241m0\u001b[39m]) )\n\u001b[1;32m     62\u001b[0m z_new \u001b[38;5;241m=\u001b[39m Z_candidates[idx_new]\n\u001b[0;32m---> 64\u001b[0m y_sample \u001b[38;5;241m=\u001b[39m \u001b[43mpreds\u001b[49m\u001b[43m[\u001b[49m\u001b[43midx_new\u001b[49m\u001b[43m]\u001b[49m\u001b[38;5;241;43m.\u001b[39;49m\u001b[43msample\u001b[49m\u001b[43m(\u001b[49m\u001b[43mH\u001b[49m\u001b[43m)\u001b[49m\n\u001b[1;32m     66\u001b[0m value \u001b[38;5;241m=\u001b[39m \u001b[38;5;28mself\u001b[39m\u001b[38;5;241m.\u001b[39mutility(y_sample, z_new, flag\u001b[38;5;241m=\u001b[39m\u001b[38;5;28mself\u001b[39m\u001b[38;5;241m.\u001b[39maf) \u001b[38;5;66;03m# Watch out, parallel!\u001b[39;00m\n\u001b[1;32m     67\u001b[0m value \u001b[38;5;241m=\u001b[39m np\u001b[38;5;241m.\u001b[39msum(np\u001b[38;5;241m.\u001b[39mlog(value))   \n",
      "File \u001b[0;32m~/miniconda/envs/sbbo/lib/python3.11/site-packages/ngboost/distns/normal.py:76\u001b[0m, in \u001b[0;36mNormal.sample\u001b[0;34m(self, m)\u001b[0m\n\u001b[1;32m     75\u001b[0m \u001b[38;5;28;01mdef\u001b[39;00m \u001b[38;5;21msample\u001b[39m(\u001b[38;5;28mself\u001b[39m, m):\n\u001b[0;32m---> 76\u001b[0m     \u001b[38;5;28;01mreturn\u001b[39;00m np\u001b[38;5;241m.\u001b[39marray(\u001b[43m[\u001b[49m\u001b[38;5;28;43mself\u001b[39;49m\u001b[38;5;241;43m.\u001b[39;49m\u001b[43mrvs\u001b[49m\u001b[43m(\u001b[49m\u001b[43m)\u001b[49m\u001b[43m \u001b[49m\u001b[38;5;28;43;01mfor\u001b[39;49;00m\u001b[43m \u001b[49m\u001b[43mi\u001b[49m\u001b[43m \u001b[49m\u001b[38;5;129;43;01min\u001b[39;49;00m\u001b[43m \u001b[49m\u001b[38;5;28;43mrange\u001b[39;49m\u001b[43m(\u001b[49m\u001b[43mm\u001b[49m\u001b[43m)\u001b[49m\u001b[43m]\u001b[49m)\n",
      "File \u001b[0;32m~/miniconda/envs/sbbo/lib/python3.11/site-packages/ngboost/distns/normal.py:76\u001b[0m, in \u001b[0;36m<listcomp>\u001b[0;34m(.0)\u001b[0m\n\u001b[1;32m     75\u001b[0m \u001b[38;5;28;01mdef\u001b[39;00m \u001b[38;5;21msample\u001b[39m(\u001b[38;5;28mself\u001b[39m, m):\n\u001b[0;32m---> 76\u001b[0m     \u001b[38;5;28;01mreturn\u001b[39;00m np\u001b[38;5;241m.\u001b[39marray([\u001b[38;5;28;43mself\u001b[39;49m\u001b[38;5;241;43m.\u001b[39;49m\u001b[43mrvs\u001b[49m\u001b[43m(\u001b[49m\u001b[43m)\u001b[49m \u001b[38;5;28;01mfor\u001b[39;00m i \u001b[38;5;129;01min\u001b[39;00m \u001b[38;5;28mrange\u001b[39m(m)])\n",
      "File \u001b[0;32m~/miniconda/envs/sbbo/lib/python3.11/site-packages/scipy/stats/_distn_infrastructure.py:468\u001b[0m, in \u001b[0;36mrv_frozen.rvs\u001b[0;34m(self, size, random_state)\u001b[0m\n\u001b[1;32m    466\u001b[0m kwds \u001b[38;5;241m=\u001b[39m \u001b[38;5;28mself\u001b[39m\u001b[38;5;241m.\u001b[39mkwds\u001b[38;5;241m.\u001b[39mcopy()\n\u001b[1;32m    467\u001b[0m kwds\u001b[38;5;241m.\u001b[39mupdate({\u001b[38;5;124m'\u001b[39m\u001b[38;5;124msize\u001b[39m\u001b[38;5;124m'\u001b[39m: size, \u001b[38;5;124m'\u001b[39m\u001b[38;5;124mrandom_state\u001b[39m\u001b[38;5;124m'\u001b[39m: random_state})\n\u001b[0;32m--> 468\u001b[0m \u001b[38;5;28;01mreturn\u001b[39;00m \u001b[38;5;28;43mself\u001b[39;49m\u001b[38;5;241;43m.\u001b[39;49m\u001b[43mdist\u001b[49m\u001b[38;5;241;43m.\u001b[39;49m\u001b[43mrvs\u001b[49m\u001b[43m(\u001b[49m\u001b[38;5;241;43m*\u001b[39;49m\u001b[38;5;28;43mself\u001b[39;49m\u001b[38;5;241;43m.\u001b[39;49m\u001b[43margs\u001b[49m\u001b[43m,\u001b[49m\u001b[43m \u001b[49m\u001b[38;5;241;43m*\u001b[39;49m\u001b[38;5;241;43m*\u001b[39;49m\u001b[43mkwds\u001b[49m\u001b[43m)\u001b[49m\n",
      "File \u001b[0;32m~/miniconda/envs/sbbo/lib/python3.11/site-packages/scipy/stats/_distn_infrastructure.py:996\u001b[0m, in \u001b[0;36mrv_generic.rvs\u001b[0;34m(self, *args, **kwds)\u001b[0m\n\u001b[1;32m    992\u001b[0m     \u001b[38;5;28;01mreturn\u001b[39;00m \u001b[38;5;28mself\u001b[39m\u001b[38;5;241m.\u001b[39m_ppf(\u001b[38;5;241m1.0\u001b[39m\u001b[38;5;241m-\u001b[39mq, \u001b[38;5;241m*\u001b[39margs)  \u001b[38;5;66;03m# use correct _ppf for subclasses\u001b[39;00m\n\u001b[1;32m    994\u001b[0m \u001b[38;5;66;03m# These are actually called, and should not be overwritten if you\u001b[39;00m\n\u001b[1;32m    995\u001b[0m \u001b[38;5;66;03m# want to keep error checking.\u001b[39;00m\n\u001b[0;32m--> 996\u001b[0m \u001b[38;5;28;01mdef\u001b[39;00m \u001b[38;5;21mrvs\u001b[39m(\u001b[38;5;28mself\u001b[39m, \u001b[38;5;241m*\u001b[39margs, \u001b[38;5;241m*\u001b[39m\u001b[38;5;241m*\u001b[39mkwds):\n\u001b[1;32m    997\u001b[0m \u001b[38;5;250m    \u001b[39m\u001b[38;5;124;03m\"\"\"Random variates of given type.\u001b[39;00m\n\u001b[1;32m    998\u001b[0m \n\u001b[1;32m    999\u001b[0m \u001b[38;5;124;03m    Parameters\u001b[39;00m\n\u001b[0;32m   (...)\u001b[0m\n\u001b[1;32m   1024\u001b[0m \n\u001b[1;32m   1025\u001b[0m \u001b[38;5;124;03m    \"\"\"\u001b[39;00m\n\u001b[1;32m   1026\u001b[0m     discrete \u001b[38;5;241m=\u001b[39m kwds\u001b[38;5;241m.\u001b[39mpop(\u001b[38;5;124m'\u001b[39m\u001b[38;5;124mdiscrete\u001b[39m\u001b[38;5;124m'\u001b[39m, \u001b[38;5;28;01mNone\u001b[39;00m)\n",
      "\u001b[0;31mKeyboardInterrupt\u001b[0m: "
     ]
    }
   ],
   "source": [
    "sbbo = SBBO(opt_prob, method, fname)\n",
    "sbbo.iterate(5)"
   ]
  },
  {
   "cell_type": "code",
   "execution_count": null,
   "id": "a09e6a0a",
   "metadata": {},
   "outputs": [],
   "source": []
  }
 ],
 "metadata": {
  "kernelspec": {
   "display_name": "Python 3 (ipykernel)",
   "language": "python",
   "name": "python3"
  },
  "language_info": {
   "codemirror_mode": {
    "name": "ipython",
    "version": 3
   },
   "file_extension": ".py",
   "mimetype": "text/x-python",
   "name": "python",
   "nbconvert_exporter": "python",
   "pygments_lexer": "ipython3",
   "version": "3.11.0"
  }
 },
 "nbformat": 4,
 "nbformat_minor": 5
}
