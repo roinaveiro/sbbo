{
 "cells": [
  {
   "cell_type": "code",
   "execution_count": 1,
   "id": "94b95637",
   "metadata": {},
   "outputs": [],
   "source": [
    "import numpy as np\n",
    "import pandas as pd\n",
    "from src.latin_square import LatinSquare\n",
    "from src.sbbo import SBBO\n",
    "from src.sbbo_mh import MHSBBO\n",
    "from src.sbbo_gibbs import GibbsSBBO\n",
    "from ngboost import NGBRegressor\n",
    "\n",
    "from sklearn.model_selection import train_test_split\n",
    "from sklearn.metrics import mean_squared_error\n",
    "\n",
    "import copy"
   ]
  },
  {
   "cell_type": "code",
   "execution_count": 2,
   "id": "66237342",
   "metadata": {},
   "outputs": [
    {
     "name": "stdout",
     "output_type": "stream",
     "text": [
      "[iter 0] loss=-1.4630 val_loss=0.0000 scale=2.0000 norm=0.4139\n",
      "[iter 100] loss=-2.6370 val_loss=0.0000 scale=2.0000 norm=0.9372\n",
      "[iter 200] loss=-3.6784 val_loss=0.0000 scale=4.0000 norm=1.9859\n",
      "[iter 300] loss=-5.6785 val_loss=0.0000 scale=4.0000 norm=1.9998\n",
      "[iter 400] loss=-9.4585 val_loss=0.0000 scale=16.0000 norm=8.0000\n"
     ]
    },
    {
     "data": {
      "text/plain": [
       "0.6253621865386859"
      ]
     },
     "execution_count": 2,
     "metadata": {},
     "output_type": "execute_result"
    }
   ],
   "source": [
    "opt_prob = LatinSquare(n=5)\n",
    "params = {}\n",
    "params[\"model\"] = NGBRegressor()\n",
    "params[\"af\"] = 'EI'\n",
    "params[\"cooling_schedule\"] = np.arange(1, 1000, 20)\n",
    "params[\"burnin\"] = 0.1\n",
    "method = MHSBBO(opt_prob, params)\n",
    "method.co_problem.y.max()"
   ]
  },
  {
   "cell_type": "code",
   "execution_count": 3,
   "id": "65b56906",
   "metadata": {},
   "outputs": [],
   "source": [
    "sbbo = SBBO(opt_prob, method)"
   ]
  },
  {
   "cell_type": "code",
   "execution_count": 4,
   "id": "2615e8c0",
   "metadata": {},
   "outputs": [
    {
     "name": "stdout",
     "output_type": "stream",
     "text": [
      "0.5426567935261566\n",
      "0.5255805801117325\n",
      "0.5712322407341928\n",
      "0.5166448110769456\n",
      "0.5511538929173045\n",
      "[iter 0] loss=-1.2878 val_loss=0.0000 scale=2.0000 norm=0.6381\n",
      "[iter 100] loss=-2.4694 val_loss=0.0000 scale=2.0000 norm=0.9387\n",
      "[iter 200] loss=-3.5207 val_loss=0.0000 scale=4.0000 norm=1.9865\n",
      "[iter 300] loss=-5.5208 val_loss=0.0000 scale=4.0000 norm=1.9998\n",
      "[iter 400] loss=-9.2408 val_loss=0.0000 scale=16.0000 norm=8.0000\n",
      "Current value:  12.986485015578598\n",
      "Best value:  13.001006792294952\n",
      "Best X [0. 0. 0. 0. 1. 0. 0. 0. 1. 0. 0. 1. 0. 0. 0. 0. 0. 0. 1. 0. 0. 0. 0. 1.\n",
      " 0. 1. 0. 0. 0. 0. 1. 0. 0. 0. 0. 0. 0. 0. 1. 0. 0. 0. 1. 0. 0. 0. 0. 0.\n",
      " 0. 1. 0. 0. 0. 0. 1. 0. 0. 0. 0. 1. 1. 0. 0. 0. 0. 1. 0. 0. 0. 0. 0. 0.\n",
      " 0. 0. 1. 0. 0. 0. 1. 0. 1. 0. 0. 0. 0. 0. 1. 0. 0. 0. 0. 0. 1. 0. 0. 0.\n",
      " 0. 0. 0. 1. 0. 1. 0. 0. 0. 0. 0. 1. 0. 0. 0. 0. 0. 0. 1. 0. 0. 0. 1. 0.\n",
      " 1. 0. 0. 0. 0.]\n",
      "Dim X (6, 125)\n",
      "Dim y (6,)\n",
      "0.631986522136787\n",
      "0.5296049984928092\n",
      "0.5229761228199987\n",
      "0.6402144609811817\n",
      "0.521134283925825\n",
      "[iter 0] loss=-1.3646 val_loss=0.0000 scale=2.0000 norm=0.7695\n",
      "[iter 100] loss=-2.5611 val_loss=0.0000 scale=2.0000 norm=0.9432\n",
      "[iter 200] loss=-3.6524 val_loss=0.0000 scale=4.0000 norm=1.9886\n",
      "[iter 300] loss=-5.6524 val_loss=0.0000 scale=4.0000 norm=1.9998\n",
      "[iter 400] loss=-9.5724 val_loss=0.0000 scale=16.0000 norm=8.0000\n",
      "Current value:  17.00637554548206\n",
      "Best value:  12.998834243229734\n",
      "Best X [0. 0. 0. 0. 1. 0. 0. 0. 1. 0. 0. 1. 0. 0. 0. 0. 0. 0. 1. 0. 0. 0. 0. 1.\n",
      " 0. 1. 0. 0. 0. 0. 1. 0. 0. 0. 0. 0. 0. 0. 1. 0. 0. 0. 1. 0. 0. 0. 0. 0.\n",
      " 0. 1. 0. 0. 0. 0. 1. 0. 0. 0. 0. 1. 1. 0. 0. 0. 0. 1. 0. 0. 0. 0. 0. 0.\n",
      " 0. 0. 1. 0. 0. 0. 1. 0. 1. 0. 0. 0. 0. 0. 1. 0. 0. 0. 0. 0. 1. 0. 0. 0.\n",
      " 0. 0. 0. 1. 0. 1. 0. 0. 0. 0. 0. 1. 0. 0. 0. 0. 0. 0. 1. 0. 0. 0. 1. 0.\n",
      " 1. 0. 0. 0. 0.]\n",
      "Dim X (7, 125)\n",
      "Dim y (7,)\n",
      "0.5363253015015781\n",
      "0.5436642624988547\n",
      "0.5382347413759764\n",
      "0.5251498853006935\n",
      "0.5346192918639842\n",
      "[iter 0] loss=-1.4240 val_loss=0.0000 scale=2.0000 norm=0.8751\n",
      "[iter 100] loss=-2.6240 val_loss=0.0000 scale=2.0000 norm=0.9437\n",
      "[iter 200] loss=-3.7253 val_loss=0.0000 scale=4.0000 norm=1.9889\n",
      "[iter 300] loss=-5.7254 val_loss=0.0000 scale=4.0000 norm=1.9998\n",
      "[iter 400] loss=-9.6254 val_loss=0.0000 scale=16.0000 norm=8.0000\n",
      "Current value:  16.01805086295258\n",
      "Best value:  13.011079581726339\n",
      "Best X [0. 0. 0. 0. 1. 0. 0. 0. 1. 0. 0. 1. 0. 0. 0. 0. 0. 0. 1. 0. 0. 0. 0. 1.\n",
      " 0. 1. 0. 0. 0. 0. 1. 0. 0. 0. 0. 0. 0. 0. 1. 0. 0. 0. 1. 0. 0. 0. 0. 0.\n",
      " 0. 1. 0. 0. 0. 0. 1. 0. 0. 0. 0. 1. 1. 0. 0. 0. 0. 1. 0. 0. 0. 0. 0. 0.\n",
      " 0. 0. 1. 0. 0. 0. 1. 0. 1. 0. 0. 0. 0. 0. 1. 0. 0. 0. 0. 0. 1. 0. 0. 0.\n",
      " 0. 0. 0. 1. 0. 1. 0. 0. 0. 0. 0. 1. 0. 0. 0. 0. 0. 0. 1. 0. 0. 0. 1. 0.\n",
      " 1. 0. 0. 0. 0.]\n",
      "Dim X (8, 125)\n",
      "Dim y (8,)\n",
      "0.546247445523987\n",
      "0.5504828012763338\n",
      "0.5417806115839506\n",
      "0.5403369767196944\n",
      "0.5472572225447859\n",
      "[iter 0] loss=-1.4770 val_loss=0.0000 scale=2.0000 norm=0.9597\n",
      "[iter 100] loss=-2.6825 val_loss=0.0000 scale=2.0000 norm=0.9419\n",
      "[iter 200] loss=-3.7530 val_loss=0.0000 scale=4.0000 norm=1.9871\n",
      "[iter 300] loss=-5.7530 val_loss=0.0000 scale=4.0000 norm=1.9998\n",
      "[iter 400] loss=-9.3730 val_loss=0.0000 scale=8.0000 norm=4.0000\n",
      "Current value:  15.992602323860162\n",
      "Best value:  13.016122959098935\n",
      "Best X [0. 0. 0. 0. 1. 0. 0. 0. 1. 0. 0. 1. 0. 0. 0. 0. 0. 0. 1. 0. 0. 0. 0. 1.\n",
      " 0. 1. 0. 0. 0. 0. 1. 0. 0. 0. 0. 0. 0. 0. 1. 0. 0. 0. 1. 0. 0. 0. 0. 0.\n",
      " 0. 1. 0. 0. 0. 0. 1. 0. 0. 0. 0. 1. 1. 0. 0. 0. 0. 1. 0. 0. 0. 0. 0. 0.\n",
      " 0. 0. 1. 0. 0. 0. 1. 0. 1. 0. 0. 0. 0. 0. 1. 0. 0. 0. 0. 0. 1. 0. 0. 0.\n",
      " 0. 0. 0. 1. 0. 1. 0. 0. 0. 0. 0. 1. 0. 0. 0. 0. 0. 0. 1. 0. 0. 0. 1. 0.\n",
      " 1. 0. 0. 0. 0.]\n",
      "Dim X (9, 125)\n",
      "Dim y (9,)\n",
      "0.5828451807707897\n",
      "0.5987999009322175\n",
      "0.5014620918602192\n",
      "0.5698692685871576\n",
      "0.6372829124371149\n",
      "[iter 0] loss=-1.3449 val_loss=0.0000 scale=2.0000 norm=0.9919\n",
      "[iter 100] loss=-2.5329 val_loss=0.0000 scale=2.0000 norm=0.9285\n",
      "[iter 200] loss=-3.5321 val_loss=0.0000 scale=2.0000 norm=0.9899\n",
      "[iter 300] loss=-5.4217 val_loss=0.0000 scale=4.0000 norm=1.9994\n",
      "[iter 400] loss=-8.5617 val_loss=0.0000 scale=8.0000 norm=4.0000\n",
      "Current value:  11.99249871857432\n",
      "Best value:  11.996454430540446\n",
      "Best X [0. 0. 0. 1. 0. 0. 0. 1. 0. 0. 0. 0. 0. 0. 1. 1. 0. 0. 0. 0. 0. 0. 0. 1.\n",
      " 0. 0. 0. 1. 0. 0. 0. 0. 0. 1. 0. 0. 1. 0. 0. 0. 0. 0. 0. 0. 1. 0. 0. 0.\n",
      " 1. 0. 0. 0. 0. 0. 1. 1. 0. 0. 0. 0. 0. 0. 1. 0. 0. 0. 0. 0. 1. 0. 0. 0.\n",
      " 1. 0. 0. 0. 0. 1. 0. 0. 1. 0. 0. 0. 0. 0. 0. 0. 1. 0. 0. 1. 0. 0. 0. 1.\n",
      " 0. 0. 0. 0. 0. 1. 0. 0. 0. 0. 0. 0. 1. 0. 0. 0. 1. 0. 0. 0. 0. 1. 0. 0.\n",
      " 0. 0. 1. 0. 0.]\n",
      "Dim X (10, 125)\n",
      "Dim y (10,)\n",
      "0.5675507411387201\n",
      "0.602047584738447\n",
      "0.6147195387150289\n",
      "0.6110996766614131\n",
      "0.5005127219884233\n",
      "[iter 0] loss=-1.3824 val_loss=0.0000 scale=2.0000 norm=1.0304\n",
      "[iter 100] loss=-2.5782 val_loss=0.0000 scale=2.0000 norm=0.9334\n",
      "[iter 200] loss=-3.5779 val_loss=0.0000 scale=2.0000 norm=0.9908\n",
      "[iter 300] loss=-5.5377 val_loss=0.0000 scale=4.0000 norm=1.9996\n",
      "[iter 400] loss=-8.8577 val_loss=0.0000 scale=8.0000 norm=4.0000\n",
      "Current value:  14.993771243507123\n",
      "Best value:  11.99742425348521\n",
      "Best X [0. 0. 0. 1. 0. 0. 0. 1. 0. 0. 0. 0. 0. 0. 1. 1. 0. 0. 0. 0. 0. 0. 0. 1.\n",
      " 0. 0. 0. 1. 0. 0. 0. 0. 0. 1. 0. 0. 1. 0. 0. 0. 0. 0. 0. 0. 1. 0. 0. 0.\n",
      " 1. 0. 0. 0. 0. 0. 1. 1. 0. 0. 0. 0. 0. 0. 1. 0. 0. 0. 0. 0. 1. 0. 0. 0.\n",
      " 1. 0. 0. 0. 0. 1. 0. 0. 1. 0. 0. 0. 0. 0. 0. 0. 1. 0. 0. 1. 0. 0. 0. 1.\n",
      " 0. 0. 0. 0. 0. 1. 0. 0. 0. 0. 0. 0. 1. 0. 0. 0. 1. 0. 0. 0. 0. 1. 0. 0.\n",
      " 0. 0. 1. 0. 0.]\n",
      "Dim X (11, 125)\n",
      "Dim y (11,)\n",
      "0.5939605542754023\n",
      "0.5832725851753677\n",
      "0.6870274892722574\n",
      "0.5942120147014229\n",
      "0.6603473096264252\n",
      "[iter 0] loss=-1.4258 val_loss=0.0000 scale=2.0000 norm=1.0901\n",
      "[iter 100] loss=-2.6241 val_loss=0.0000 scale=2.0000 norm=0.9308\n",
      "[iter 200] loss=-3.6181 val_loss=0.0000 scale=2.0000 norm=0.9867\n",
      "[iter 300] loss=-5.4076 val_loss=0.0000 scale=4.0000 norm=1.9990\n",
      "[iter 400] loss=-8.1075 val_loss=0.0000 scale=8.0000 norm=4.0000\n",
      "Current value:  15.993430472978586\n",
      "Best value:  11.983040546580233\n",
      "Best X [0. 0. 0. 1. 0. 0. 0. 1. 0. 0. 0. 0. 0. 0. 1. 1. 0. 0. 0. 0. 0. 0. 0. 1.\n",
      " 0. 0. 0. 1. 0. 0. 0. 0. 0. 1. 0. 0. 1. 0. 0. 0. 0. 0. 0. 0. 1. 0. 0. 0.\n",
      " 1. 0. 0. 0. 0. 0. 1. 1. 0. 0. 0. 0. 0. 0. 1. 0. 0. 0. 0. 0. 1. 0. 0. 0.\n",
      " 1. 0. 0. 0. 0. 1. 0. 0. 1. 0. 0. 0. 0. 0. 0. 0. 1. 0. 0. 1. 0. 0. 0. 1.\n",
      " 0. 0. 0. 0. 0. 1. 0. 0. 0. 0. 0. 0. 1. 0. 0. 0. 1. 0. 0. 0. 0. 1. 0. 0.\n",
      " 0. 0. 1. 0. 0.]\n",
      "Dim X (12, 125)\n",
      "Dim y (12,)\n",
      "0.6566784961849729\n",
      "0.5948034556053999\n",
      "0.6050469087049445\n",
      "0.5926159850931704\n",
      "0.6176931598511114\n",
      "[iter 0] loss=-1.4658 val_loss=0.0000 scale=2.0000 norm=1.1408\n",
      "[iter 100] loss=-2.6067 val_loss=0.0000 scale=2.0000 norm=0.9188\n",
      "[iter 200] loss=-3.6050 val_loss=0.0000 scale=2.0000 norm=0.9883\n",
      "[iter 300] loss=-5.4446 val_loss=0.0000 scale=4.0000 norm=1.9993\n",
      "[iter 400] loss=-8.4045 val_loss=0.0000 scale=8.0000 norm=4.0000\n",
      "Current value:  15.98981965424652\n",
      "Best value:  12.000970348413468\n",
      "Best X [0. 0. 0. 1. 0. 0. 0. 1. 0. 0. 0. 0. 0. 0. 1. 1. 0. 0. 0. 0. 0. 0. 0. 1.\n",
      " 0. 0. 0. 1. 0. 0. 0. 0. 0. 1. 0. 0. 1. 0. 0. 0. 0. 0. 0. 0. 1. 0. 0. 0.\n",
      " 1. 0. 0. 0. 0. 0. 1. 1. 0. 0. 0. 0. 0. 0. 1. 0. 0. 0. 0. 0. 1. 0. 0. 0.\n",
      " 1. 0. 0. 0. 0. 1. 0. 0. 1. 0. 0. 0. 0. 0. 0. 0. 1. 0. 0. 1. 0. 0. 0. 1.\n",
      " 0. 0. 0. 0. 0. 1. 0. 0. 0. 0. 0. 0. 1. 0. 0. 0. 1. 0. 0. 0. 0. 1. 0. 0.\n",
      " 0. 0. 1. 0. 0.]\n",
      "Dim X (13, 125)\n",
      "Dim y (13,)\n",
      "0.6604215246252177\n",
      "0.6031501858674491\n",
      "0.611215198925501\n",
      "0.6616282124847757\n",
      "0.6172637223957433\n",
      "[iter 0] loss=-1.4777 val_loss=0.0000 scale=2.0000 norm=1.0955\n",
      "[iter 100] loss=-2.6024 val_loss=0.0000 scale=2.0000 norm=0.9167\n",
      "[iter 200] loss=-3.5964 val_loss=0.0000 scale=2.0000 norm=0.9842\n",
      "[iter 300] loss=-5.1526 val_loss=0.0000 scale=4.0000 norm=1.9952\n",
      "[iter 400] loss=-7.1516 val_loss=0.0000 scale=4.0000 norm=1.9995\n",
      "Current value:  17.998065522064135\n",
      "Best value:  11.99308091036233\n",
      "Best X [0. 0. 0. 1. 0. 0. 0. 1. 0. 0. 0. 0. 0. 0. 1. 1. 0. 0. 0. 0. 0. 0. 0. 1.\n",
      " 0. 0. 0. 1. 0. 0. 0. 0. 0. 1. 0. 0. 1. 0. 0. 0. 0. 0. 0. 0. 1. 0. 0. 0.\n",
      " 1. 0. 0. 0. 0. 0. 1. 1. 0. 0. 0. 0. 0. 0. 1. 0. 0. 0. 0. 0. 1. 0. 0. 0.\n",
      " 1. 0. 0. 0. 0. 1. 0. 0. 1. 0. 0. 0. 0. 0. 0. 0. 1. 0. 0. 1. 0. 0. 0. 1.\n",
      " 0. 0. 0. 0. 0. 1. 0. 0. 0. 0. 0. 0. 1. 0. 0. 0. 1. 0. 0. 0. 0. 1. 0. 0.\n",
      " 0. 0. 1. 0. 0.]\n",
      "Dim X (14, 125)\n",
      "Dim y (14,)\n",
      "0.6121606722384066\n",
      "0.6042319213830846\n",
      "0.5736999934217382\n",
      "0.6034048612128479\n",
      "0.5712543870360307\n"
     ]
    },
    {
     "name": "stdout",
     "output_type": "stream",
     "text": [
      "[iter 0] loss=-1.5118 val_loss=0.0000 scale=2.0000 norm=1.1322\n",
      "[iter 100] loss=-2.6480 val_loss=0.0000 scale=2.0000 norm=0.9052\n",
      "[iter 200] loss=-3.6320 val_loss=0.0000 scale=2.0000 norm=0.9747\n",
      "[iter 300] loss=-4.6218 val_loss=0.0000 scale=2.0000 norm=0.9891\n",
      "[iter 400] loss=-6.4471 val_loss=0.0000 scale=4.0000 norm=1.9964\n",
      "Current value:  16.010193114675342\n",
      "Best value:  12.003312367413704\n",
      "Best X [0. 0. 0. 1. 0. 0. 0. 1. 0. 0. 0. 0. 0. 0. 1. 1. 0. 0. 0. 0. 0. 0. 0. 1.\n",
      " 0. 0. 0. 1. 0. 0. 0. 0. 0. 1. 0. 0. 1. 0. 0. 0. 0. 0. 0. 0. 1. 0. 0. 0.\n",
      " 1. 0. 0. 0. 0. 0. 1. 1. 0. 0. 0. 0. 0. 0. 1. 0. 0. 0. 0. 0. 1. 0. 0. 0.\n",
      " 1. 0. 0. 0. 0. 1. 0. 0. 1. 0. 0. 0. 0. 0. 0. 0. 1. 0. 0. 1. 0. 0. 0. 1.\n",
      " 0. 0. 0. 0. 0. 1. 0. 0. 0. 0. 0. 0. 1. 0. 0. 0. 1. 0. 0. 0. 0. 1. 0. 0.\n",
      " 0. 0. 1. 0. 0.]\n",
      "Dim X (15, 125)\n",
      "Dim y (15,)\n"
     ]
    }
   ],
   "source": [
    "sbbo.iterate(10)"
   ]
  },
  {
   "cell_type": "code",
   "execution_count": 6,
   "id": "62e244ce",
   "metadata": {},
   "outputs": [
    {
     "data": {
      "text/plain": [
       "array([[0., 1., 0., ..., 0., 1., 0.],\n",
       "       [0., 0., 1., ..., 0., 0., 0.],\n",
       "       [0., 0., 0., ..., 0., 1., 0.],\n",
       "       ...,\n",
       "       [0., 0., 1., ..., 1., 0., 0.],\n",
       "       [0., 0., 0., ..., 1., 0., 0.],\n",
       "       [0., 1., 0., ..., 1., 0., 0.]])"
      ]
     },
     "execution_count": 6,
     "metadata": {},
     "output_type": "execute_result"
    }
   ],
   "source": [
    "sbbo.X"
   ]
  },
  {
   "cell_type": "code",
   "execution_count": 27,
   "id": "346f3d35",
   "metadata": {},
   "outputs": [
    {
     "name": "stdout",
     "output_type": "stream",
     "text": [
      "[iter 0] loss=-17.5561 val_loss=0.0000 scale=0.5000 norm=0.0001\n",
      "== Quitting at iteration / GRAD 1\n"
     ]
    }
   ],
   "source": [
    "model = params[\"model\"].fit(sbbo.X, sbbo.y)"
   ]
  },
  {
   "cell_type": "code",
   "execution_count": 20,
   "id": "b4a192cb",
   "metadata": {},
   "outputs": [
    {
     "name": "stdout",
     "output_type": "stream",
     "text": [
      "[iter 0] loss=-17.5561 val_loss=0.0000 scale=1.0000 norm=0.0002\n",
      "== Quitting at iteration / GRAD 0\n"
     ]
    },
    {
     "data": {
      "text/html": [
       "<style>#sk-container-id-12 {color: black;background-color: white;}#sk-container-id-12 pre{padding: 0;}#sk-container-id-12 div.sk-toggleable {background-color: white;}#sk-container-id-12 label.sk-toggleable__label {cursor: pointer;display: block;width: 100%;margin-bottom: 0;padding: 0.3em;box-sizing: border-box;text-align: center;}#sk-container-id-12 label.sk-toggleable__label-arrow:before {content: \"▸\";float: left;margin-right: 0.25em;color: #696969;}#sk-container-id-12 label.sk-toggleable__label-arrow:hover:before {color: black;}#sk-container-id-12 div.sk-estimator:hover label.sk-toggleable__label-arrow:before {color: black;}#sk-container-id-12 div.sk-toggleable__content {max-height: 0;max-width: 0;overflow: hidden;text-align: left;background-color: #f0f8ff;}#sk-container-id-12 div.sk-toggleable__content pre {margin: 0.2em;color: black;border-radius: 0.25em;background-color: #f0f8ff;}#sk-container-id-12 input.sk-toggleable__control:checked~div.sk-toggleable__content {max-height: 200px;max-width: 100%;overflow: auto;}#sk-container-id-12 input.sk-toggleable__control:checked~label.sk-toggleable__label-arrow:before {content: \"▾\";}#sk-container-id-12 div.sk-estimator input.sk-toggleable__control:checked~label.sk-toggleable__label {background-color: #d4ebff;}#sk-container-id-12 div.sk-label input.sk-toggleable__control:checked~label.sk-toggleable__label {background-color: #d4ebff;}#sk-container-id-12 input.sk-hidden--visually {border: 0;clip: rect(1px 1px 1px 1px);clip: rect(1px, 1px, 1px, 1px);height: 1px;margin: -1px;overflow: hidden;padding: 0;position: absolute;width: 1px;}#sk-container-id-12 div.sk-estimator {font-family: monospace;background-color: #f0f8ff;border: 1px dotted black;border-radius: 0.25em;box-sizing: border-box;margin-bottom: 0.5em;}#sk-container-id-12 div.sk-estimator:hover {background-color: #d4ebff;}#sk-container-id-12 div.sk-parallel-item::after {content: \"\";width: 100%;border-bottom: 1px solid gray;flex-grow: 1;}#sk-container-id-12 div.sk-label:hover label.sk-toggleable__label {background-color: #d4ebff;}#sk-container-id-12 div.sk-serial::before {content: \"\";position: absolute;border-left: 1px solid gray;box-sizing: border-box;top: 0;bottom: 0;left: 50%;z-index: 0;}#sk-container-id-12 div.sk-serial {display: flex;flex-direction: column;align-items: center;background-color: white;padding-right: 0.2em;padding-left: 0.2em;position: relative;}#sk-container-id-12 div.sk-item {position: relative;z-index: 1;}#sk-container-id-12 div.sk-parallel {display: flex;align-items: stretch;justify-content: center;background-color: white;position: relative;}#sk-container-id-12 div.sk-item::before, #sk-container-id-12 div.sk-parallel-item::before {content: \"\";position: absolute;border-left: 1px solid gray;box-sizing: border-box;top: 0;bottom: 0;left: 50%;z-index: -1;}#sk-container-id-12 div.sk-parallel-item {display: flex;flex-direction: column;z-index: 1;position: relative;background-color: white;}#sk-container-id-12 div.sk-parallel-item:first-child::after {align-self: flex-end;width: 50%;}#sk-container-id-12 div.sk-parallel-item:last-child::after {align-self: flex-start;width: 50%;}#sk-container-id-12 div.sk-parallel-item:only-child::after {width: 0;}#sk-container-id-12 div.sk-dashed-wrapped {border: 1px dashed gray;margin: 0 0.4em 0.5em 0.4em;box-sizing: border-box;padding-bottom: 0.4em;background-color: white;}#sk-container-id-12 div.sk-label label {font-family: monospace;font-weight: bold;display: inline-block;line-height: 1.2em;}#sk-container-id-12 div.sk-label-container {text-align: center;}#sk-container-id-12 div.sk-container {/* jupyter's `normalize.less` sets `[hidden] { display: none; }` but bootstrap.min.css set `[hidden] { display: none !important; }` so we also need the `!important` here to be able to override the default hidden behavior on the sphinx rendered scikit-learn.org. See: https://github.com/scikit-learn/scikit-learn/issues/21755 */display: inline-block !important;position: relative;}#sk-container-id-12 div.sk-text-repr-fallback {display: none;}</style><div id=\"sk-container-id-12\" class=\"sk-top-container\"><div class=\"sk-text-repr-fallback\"><pre>NGBRegressor(random_state=RandomState(MT19937) at 0x107F90140)</pre><b>In a Jupyter environment, please rerun this cell to show the HTML representation or trust the notebook. <br />On GitHub, the HTML representation is unable to render, please try loading this page with nbviewer.org.</b></div><div class=\"sk-container\" hidden><div class=\"sk-item sk-dashed-wrapped\"><div class=\"sk-label-container\"><div class=\"sk-label sk-toggleable\"><input class=\"sk-toggleable__control sk-hidden--visually\" id=\"sk-estimator-id-34\" type=\"checkbox\" ><label for=\"sk-estimator-id-34\" class=\"sk-toggleable__label sk-toggleable__label-arrow\">NGBRegressor</label><div class=\"sk-toggleable__content\"><pre>NGBRegressor(random_state=RandomState(MT19937) at 0x107F90140)</pre></div></div></div><div class=\"sk-parallel\"><div class=\"sk-parallel-item\"><div class=\"sk-item\"><div class=\"sk-label-container\"><div class=\"sk-label sk-toggleable\"><input class=\"sk-toggleable__control sk-hidden--visually\" id=\"sk-estimator-id-35\" type=\"checkbox\" ><label for=\"sk-estimator-id-35\" class=\"sk-toggleable__label sk-toggleable__label-arrow\">Base: DecisionTreeRegressor</label><div class=\"sk-toggleable__content\"><pre>DecisionTreeRegressor(criterion=&#x27;friedman_mse&#x27;, max_depth=3)</pre></div></div></div><div class=\"sk-serial\"><div class=\"sk-item\"><div class=\"sk-estimator sk-toggleable\"><input class=\"sk-toggleable__control sk-hidden--visually\" id=\"sk-estimator-id-36\" type=\"checkbox\" ><label for=\"sk-estimator-id-36\" class=\"sk-toggleable__label sk-toggleable__label-arrow\">DecisionTreeRegressor</label><div class=\"sk-toggleable__content\"><pre>DecisionTreeRegressor(criterion=&#x27;friedman_mse&#x27;, max_depth=3)</pre></div></div></div></div></div></div></div></div></div></div>"
      ],
      "text/plain": [
       "NGBRegressor(random_state=RandomState(MT19937) at 0x107F90140)"
      ]
     },
     "execution_count": 20,
     "metadata": {},
     "output_type": "execute_result"
    }
   ],
   "source": [
    "model.fit(sbbo.X, sbbo.y)"
   ]
  },
  {
   "cell_type": "code",
   "execution_count": 15,
   "id": "fbbf6014",
   "metadata": {},
   "outputs": [
    {
     "data": {
      "text/plain": [
       "array([0.55518062, 0.603892  , 0.52397206, 0.65089378, 0.57500767,\n",
       "       0.63175016, 0.52614195, 0.57845483, 0.50292991, 0.60012065,\n",
       "       0.55524207, 0.69965008, 0.65421114, 0.55285933, 0.577082  ,\n",
       "       0.65332501, 0.65250002, 0.48238781, 0.67728193, 0.5998226 ,\n",
       "       0.57919501, 0.55136466, 0.60309213, 0.52383914, 0.57748054,\n",
       "       0.65308382, 0.67377029, 0.67574173, 0.62661656, 0.53054934,\n",
       "       0.62682683, 0.65380771, 0.64922289, 0.62380479, 0.55456929,\n",
       "       0.65543392, 0.65331867, 0.52653128, 0.58059899, 0.59843334,\n",
       "       0.65265493, 0.58083008, 0.57899743, 0.57760744, 0.57691339,\n",
       "       0.50392458, 0.65214944])"
      ]
     },
     "execution_count": 15,
     "metadata": {},
     "output_type": "execute_result"
    }
   ],
   "source": [
    "sbbo.search_method.model.predict(sbbo.X)"
   ]
  }
 ],
 "metadata": {
  "kernelspec": {
   "display_name": "Python 3 (ipykernel)",
   "language": "python",
   "name": "python3"
  },
  "language_info": {
   "codemirror_mode": {
    "name": "ipython",
    "version": 3
   },
   "file_extension": ".py",
   "mimetype": "text/x-python",
   "name": "python",
   "nbconvert_exporter": "python",
   "pygments_lexer": "ipython3",
   "version": "3.11.0"
  }
 },
 "nbformat": 4,
 "nbformat_minor": 5
}
