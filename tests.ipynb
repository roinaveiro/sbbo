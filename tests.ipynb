{
 "cells": [
  {
   "cell_type": "code",
   "execution_count": 1,
   "id": "94b95637",
   "metadata": {},
   "outputs": [],
   "source": [
    "import numpy as np\n",
    "import pandas as pd\n",
    "from src.latin_square import LatinSquare\n",
    "\n",
    "from ngboost import NGBRegressor\n",
    "\n",
    "from sklearn.model_selection import train_test_split\n",
    "from sklearn.metrics import mean_squared_error\n",
    "\n",
    "def get_cost(x):\n",
    "    _, counts = np.unique(x, return_counts=True)\n",
    "    return np.sum(counts-1)"
   ]
  },
  {
   "cell_type": "code",
   "execution_count": 2,
   "id": "66237342",
   "metadata": {},
   "outputs": [],
   "source": [
    "data = LatinSquare()"
   ]
  },
  {
   "cell_type": "code",
   "execution_count": 3,
   "id": "bd173748",
   "metadata": {},
   "outputs": [
    {
     "data": {
      "text/plain": [
       "array([0.55158069, 0.65231258, 0.57633761, 0.55483215, 0.62616363,\n",
       "       0.57856432, 0.55021382, 0.70058265, 0.60785565, 0.5795674 ,\n",
       "       0.6524937 , 0.49936448, 0.57576296, 0.55500049, 0.60217323,\n",
       "       0.58068584, 0.47568209, 0.60244151, 0.58610834, 0.6053634 ,\n",
       "       0.5769773 , 0.65441721, 0.65416622, 0.56023097, 0.52844744,\n",
       "       0.68497204, 0.62742284, 0.52696375, 0.65304145, 0.55449567,\n",
       "       0.6261438 , 0.50556532, 0.55217003, 0.57841811, 0.55006951,\n",
       "       0.64897806, 0.65190225, 0.60517595, 0.65314514, 0.57791182,\n",
       "       0.58196642, 0.50219449, 0.57846481, 0.58047412, 0.65446757,\n",
       "       0.7314072 , 0.70121782, 0.60132676, 0.52904435, 0.60312942,\n",
       "       0.60560532, 0.6806323 , 0.60017217, 0.55387384, 0.50066067,\n",
       "       0.7744109 , 0.65160803, 0.60236705, 0.57431526, 0.62963641,\n",
       "       0.60459206, 0.60016802, 0.57935502, 0.55699379, 0.6755264 ,\n",
       "       0.58017849, 0.6261522 , 0.58129406, 0.57665686, 0.6276678 ,\n",
       "       0.60851562, 0.60361411, 0.62807726, 0.57772377, 0.52664092,\n",
       "       0.65372225, 0.57987395, 0.4804509 , 0.5531028 , 0.57787393,\n",
       "       0.55444444, 0.57767049, 0.45764698, 0.60445481, 0.52233462,\n",
       "       0.57979745, 0.60120742, 0.47523454, 0.62736306, 0.53037031,\n",
       "       0.60738782, 0.55600158, 0.55452274, 0.65603326, 0.47495609,\n",
       "       0.62990171, 0.60084453, 0.55297508, 0.55107059, 0.60083292])"
      ]
     },
     "execution_count": 3,
     "metadata": {},
     "output_type": "execute_result"
    }
   ],
   "source": [
    "data.y"
   ]
  },
  {
   "cell_type": "code",
   "execution_count": 11,
   "id": "dc29d959",
   "metadata": {},
   "outputs": [
    {
     "name": "stdout",
     "output_type": "stream",
     "text": [
      "[iter 0] loss=-1.4617 val_loss=0.0000 scale=1.0000 norm=0.5360\n",
      "[iter 100] loss=-1.8328 val_loss=0.0000 scale=1.0000 norm=0.3446\n",
      "[iter 200] loss=-2.0972 val_loss=0.0000 scale=1.0000 norm=0.3172\n",
      "[iter 300] loss=-2.3696 val_loss=0.0000 scale=1.0000 norm=0.3032\n",
      "[iter 400] loss=-2.6391 val_loss=0.0000 scale=1.0000 norm=0.2933\n"
     ]
    }
   ],
   "source": [
    "ngb = NGBRegressor().fit(data.X, data.y)\n",
    "Y_preds = ngb.predict(data.X)\n",
    "Y_dists = ngb.pred_dist(data.X)"
   ]
  },
  {
   "cell_type": "code",
   "execution_count": 4,
   "id": "227cb50b",
   "metadata": {},
   "outputs": [
    {
     "data": {
      "text/plain": [
       "array([[2., 1., 2., 4., 0., 3., 1., 3., 2., 4., 0., 1., 3., 0., 3., 2.,\n",
       "        1., 0., 4., 4., 2., 4., 4., 4., 2.]])"
      ]
     },
     "execution_count": 4,
     "metadata": {},
     "output_type": "execute_result"
    }
   ],
   "source": [
    "cand = data.generate_candidate()\n",
    "cand"
   ]
  },
  {
   "cell_type": "code",
   "execution_count": 7,
   "id": "4422c1e6",
   "metadata": {},
   "outputs": [],
   "source": [
    "cands = data.generate_candidates_idx(cand, 0)"
   ]
  },
  {
   "cell_type": "code",
   "execution_count": 9,
   "id": "dcd88c89",
   "metadata": {},
   "outputs": [],
   "source": [
    "cands_p = data.dummify( cands )"
   ]
  },
  {
   "cell_type": "code",
   "execution_count": 14,
   "id": "50681f8d",
   "metadata": {},
   "outputs": [],
   "source": [
    "preds = ngb.pred_dist(cands_p) "
   ]
  },
  {
   "cell_type": "code",
   "execution_count": 16,
   "id": "e06a8c3f",
   "metadata": {},
   "outputs": [],
   "source": [
    "a = preds[0]"
   ]
  },
  {
   "cell_type": "code",
   "execution_count": 21,
   "id": "d193cd8e",
   "metadata": {},
   "outputs": [
    {
     "data": {
      "text/plain": [
       "0.5744025463686706"
      ]
     },
     "execution_count": 21,
     "metadata": {},
     "output_type": "execute_result"
    }
   ],
   "source": [
    "a.loc"
   ]
  },
  {
   "cell_type": "code",
   "execution_count": 25,
   "id": "794a9b9b",
   "metadata": {},
   "outputs": [
    {
     "data": {
      "text/plain": [
       "2.891465648774309"
      ]
     },
     "execution_count": 25,
     "metadata": {},
     "output_type": "execute_result"
    }
   ],
   "source": [
    "a.dist.logpdf(0.58)"
   ]
  },
  {
   "cell_type": "code",
   "execution_count": 5,
   "id": "82a0cba8",
   "metadata": {},
   "outputs": [
    {
     "data": {
      "text/plain": [
       "array([0., 1., 2., 3., 4.])"
      ]
     },
     "execution_count": 5,
     "metadata": {},
     "output_type": "execute_result"
    }
   ],
   "source": [
    "np.arange(5).astype(float)"
   ]
  },
  {
   "cell_type": "code",
   "execution_count": 7,
   "id": "3c9993d9",
   "metadata": {},
   "outputs": [
    {
     "data": {
      "text/plain": [
       "0.7296409412924634"
      ]
     },
     "execution_count": 7,
     "metadata": {},
     "output_type": "execute_result"
    }
   ],
   "source": [
    "data.y.max()"
   ]
  },
  {
   "cell_type": "code",
   "execution_count": 6,
   "id": "dd095e16",
   "metadata": {},
   "outputs": [
    {
     "data": {
      "text/plain": [
       "0.006887078819275064"
      ]
     },
     "execution_count": 6,
     "metadata": {},
     "output_type": "execute_result"
    }
   ],
   "source": [
    "c = np.ones([1,25])\n",
    "data.compute_obj(data.dummify(c) )"
   ]
  },
  {
   "cell_type": "code",
   "execution_count": 1,
   "id": "4378744d",
   "metadata": {},
   "outputs": [
    {
     "ename": "NameError",
     "evalue": "name 'np' is not defined",
     "output_type": "error",
     "traceback": [
      "\u001b[0;31m---------------------------------------------------------------------------\u001b[0m",
      "\u001b[0;31mNameError\u001b[0m                                 Traceback (most recent call last)",
      "Cell \u001b[0;32mIn[1], line 1\u001b[0m\n\u001b[0;32m----> 1\u001b[0m rows \u001b[38;5;241m=\u001b[39m \u001b[43mnp\u001b[49m\u001b[38;5;241m.\u001b[39mapply_along_axis(get_cost, axis\u001b[38;5;241m=\u001b[39m\u001b[38;5;241m0\u001b[39m, arr\u001b[38;5;241m=\u001b[39mc\u001b[38;5;241m.\u001b[39mreshape(\u001b[38;5;241m5\u001b[39m,\u001b[38;5;241m5\u001b[39m))\n\u001b[1;32m      2\u001b[0m cols \u001b[38;5;241m=\u001b[39m np\u001b[38;5;241m.\u001b[39mapply_along_axis(get_cost, axis\u001b[38;5;241m=\u001b[39m\u001b[38;5;241m1\u001b[39m, arr\u001b[38;5;241m=\u001b[39mc\u001b[38;5;241m.\u001b[39mreshape(\u001b[38;5;241m5\u001b[39m,\u001b[38;5;241m5\u001b[39m))\n",
      "\u001b[0;31mNameError\u001b[0m: name 'np' is not defined"
     ]
    }
   ],
   "source": [
    "rows = np.apply_along_axis(get_cost, axis=0, arr=c.reshape(5,5))\n",
    "cols = np.apply_along_axis(get_cost, axis=1, arr=c.reshape(5,5))"
   ]
  },
  {
   "cell_type": "code",
   "execution_count": 25,
   "id": "53470000",
   "metadata": {},
   "outputs": [
    {
     "data": {
      "text/plain": [
       "40"
      ]
     },
     "execution_count": 25,
     "metadata": {},
     "output_type": "execute_result"
    }
   ],
   "source": [
    "np.sum(rows+cols)"
   ]
  },
  {
   "cell_type": "code",
   "execution_count": 10,
   "id": "a239ce3b",
   "metadata": {},
   "outputs": [],
   "source": [
    "init_pred = ngb.pred_dist(data.dummify(c))"
   ]
  },
  {
   "cell_type": "code",
   "execution_count": 12,
   "id": "b28a2698",
   "metadata": {},
   "outputs": [
    {
     "data": {
      "text/plain": [
       "array([18.66476613, 16.8692063 , 15.03678282, 17.61453354, 17.90825017,\n",
       "       17.0570301 , 16.73400635, 16.98311045, 14.87826865, 16.63414253,\n",
       "       18.87481653, 17.2118898 , 17.48403266, 17.12459367, 15.47154466,\n",
       "       16.68592651, 15.89629989, 16.1711064 , 15.76671527, 15.27805481,\n",
       "       17.32286997, 17.69221325, 16.47865965, 19.91290278, 16.83895255,\n",
       "       17.52782599, 15.48245609, 17.65565849, 18.74773747, 19.07701282,\n",
       "       15.36883774, 17.86093841, 15.99115732, 14.87432109, 16.26404577,\n",
       "       16.59911649, 16.19359452, 16.37985194, 16.97693123, 17.58872714,\n",
       "       16.38753629, 17.39341724, 17.11829535, 16.63588253, 15.14797235,\n",
       "       16.6075937 , 16.54349894, 17.06252946, 17.36573233, 19.01139697,\n",
       "       19.50447719, 16.34671367, 16.93053091, 16.65490384, 16.80868096,\n",
       "       16.00240061, 17.82682853, 15.76346621, 17.92598655, 15.86495944,\n",
       "       15.631008  , 16.21725503, 16.11512544, 16.49820096, 16.59503565,\n",
       "       16.28133074, 15.8648301 , 17.50784985, 16.4061561 , 17.05530137,\n",
       "       18.06160814, 15.46366492, 15.64268574, 16.64678365, 15.71823022,\n",
       "       17.52100748, 18.52288772, 16.17041977, 17.73260047, 17.61365585,\n",
       "       16.84163665, 17.01640534, 17.67231205, 19.28551289, 15.93004371,\n",
       "       17.57147573, 16.63170054, 17.93579908, 18.37915676, 16.72837055,\n",
       "       18.69933367, 16.2057533 , 14.02684536, 18.02770454, 17.21847233,\n",
       "       16.74732584, 17.73771277, 16.18802207, 16.95780339, 17.03712212])"
      ]
     },
     "execution_count": 12,
     "metadata": {},
     "output_type": "execute_result"
    }
   ],
   "source": [
    "init_pred.sample(100)"
   ]
  },
  {
   "cell_type": "code",
   "execution_count": 5,
   "id": "e36d2ee8",
   "metadata": {},
   "outputs": [
    {
     "data": {
      "text/plain": [
       "array([[0., 1., 0., 0., 0., 0., 0., 1., 0., 0., 1., 0., 0., 0., 0., 0.,\n",
       "        1., 0., 0., 0., 0., 1., 0., 0., 0., 0., 1., 0., 0., 0., 0., 0.,\n",
       "        0., 1., 0., 0., 0., 0., 0., 1., 0., 0., 1., 0., 0., 1., 0., 0.,\n",
       "        0., 0., 0., 0., 1., 0., 0., 0., 0., 0., 0., 1., 0., 0., 0., 1.,\n",
       "        0., 0., 1., 0., 0., 0., 1., 0., 0., 0., 0., 1., 0., 0., 0., 0.,\n",
       "        0., 0., 1., 0., 0., 0., 0., 1., 0., 0., 0., 0., 0., 0., 1., 1.,\n",
       "        0., 0., 0., 0., 0., 0., 1., 0., 0., 0., 0., 0., 0., 1., 0., 0.,\n",
       "        1., 0., 0., 0., 0., 0., 0., 1., 0., 0., 0., 1., 0.]])"
      ]
     },
     "execution_count": 5,
     "metadata": {},
     "output_type": "execute_result"
    }
   ],
   "source": [
    "data.dummify(data.generate_candidate(1), l=5)"
   ]
  },
  {
   "cell_type": "code",
   "execution_count": 13,
   "id": "b1c46557",
   "metadata": {},
   "outputs": [
    {
     "data": {
      "text/plain": [
       "<ngboost.distns.normal.Normal at 0x14468f590>"
      ]
     },
     "execution_count": 13,
     "metadata": {},
     "output_type": "execute_result"
    }
   ],
   "source": [
    "ngb.pred_dist(data.dummify(data.generate_candidate(1), l=5).reshape(1,-1))"
   ]
  },
  {
   "cell_type": "code",
   "execution_count": 12,
   "id": "ed6a6246",
   "metadata": {},
   "outputs": [
    {
     "data": {
      "text/plain": [
       "0.5126569590722849"
      ]
     },
     "execution_count": 12,
     "metadata": {},
     "output_type": "execute_result"
    }
   ],
   "source": [
    "mean_squared_error(data.y, Y_preds)"
   ]
  },
  {
   "cell_type": "code",
   "execution_count": 13,
   "id": "1497301f",
   "metadata": {},
   "outputs": [
    {
     "data": {
      "text/plain": [
       "-6.453736088453643"
      ]
     },
     "execution_count": 13,
     "metadata": {},
     "output_type": "execute_result"
    }
   ],
   "source": [
    "Y_dists[0].dist.logpdf(14.)"
   ]
  }
 ],
 "metadata": {
  "kernelspec": {
   "display_name": "Python 3 (ipykernel)",
   "language": "python",
   "name": "python3"
  },
  "language_info": {
   "codemirror_mode": {
    "name": "ipython",
    "version": 3
   },
   "file_extension": ".py",
   "mimetype": "text/x-python",
   "name": "python",
   "nbconvert_exporter": "python",
   "pygments_lexer": "ipython3",
   "version": "3.11.0"
  }
 },
 "nbformat": 4,
 "nbformat_minor": 5
}
