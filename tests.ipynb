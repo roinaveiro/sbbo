{
 "cells": [
  {
   "cell_type": "code",
   "execution_count": 9,
   "id": "94b95637",
   "metadata": {},
   "outputs": [],
   "source": [
    "import numpy as np\n",
    "import pandas as pd\n",
    "from src.latin_square import LatinSquare\n",
    "\n",
    "from ngboost import NGBRegressor\n",
    "\n",
    "from sklearn.model_selection import train_test_split\n",
    "from sklearn.metrics import mean_squared_error"
   ]
  },
  {
   "cell_type": "code",
   "execution_count": 10,
   "id": "66237342",
   "metadata": {},
   "outputs": [],
   "source": [
    "data = LatinSquare()"
   ]
  },
  {
   "cell_type": "code",
   "execution_count": 11,
   "id": "dc29d959",
   "metadata": {},
   "outputs": [
    {
     "name": "stdout",
     "output_type": "stream",
     "text": [
      "[iter 0] loss=2.3101 val_loss=0.0000 scale=1.0000 norm=2.0980\n",
      "[iter 100] loss=1.9138 val_loss=0.0000 scale=1.0000 norm=1.5102\n",
      "[iter 200] loss=1.6447 val_loss=0.0000 scale=1.0000 norm=1.2212\n",
      "[iter 300] loss=1.3920 val_loss=0.0000 scale=1.0000 norm=1.0095\n",
      "[iter 400] loss=1.1484 val_loss=0.0000 scale=1.0000 norm=0.8466\n"
     ]
    }
   ],
   "source": [
    "ngb = NGBRegressor().fit(data.X, data.y)\n",
    "Y_preds = ngb.predict(data.X)\n",
    "Y_dists = ngb.pred_dist(data.X)"
   ]
  },
  {
   "cell_type": "code",
   "execution_count": 12,
   "id": "ed6a6246",
   "metadata": {},
   "outputs": [
    {
     "data": {
      "text/plain": [
       "0.5126569590722849"
      ]
     },
     "execution_count": 12,
     "metadata": {},
     "output_type": "execute_result"
    }
   ],
   "source": [
    "mean_squared_error(data.y, Y_preds)"
   ]
  },
  {
   "cell_type": "code",
   "execution_count": 13,
   "id": "1497301f",
   "metadata": {},
   "outputs": [
    {
     "data": {
      "text/plain": [
       "-6.453736088453643"
      ]
     },
     "execution_count": 13,
     "metadata": {},
     "output_type": "execute_result"
    }
   ],
   "source": [
    "Y_dists[0].dist.logpdf(14.)"
   ]
  }
 ],
 "metadata": {
  "kernelspec": {
   "display_name": "Python 3 (ipykernel)",
   "language": "python",
   "name": "python3"
  },
  "language_info": {
   "codemirror_mode": {
    "name": "ipython",
    "version": 3
   },
   "file_extension": ".py",
   "mimetype": "text/x-python",
   "name": "python",
   "nbconvert_exporter": "python",
   "pygments_lexer": "ipython3",
   "version": "3.11.0"
  }
 },
 "nbformat": 4,
 "nbformat_minor": 5
}
